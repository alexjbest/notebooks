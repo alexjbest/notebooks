{
 "cells": [
  {
   "cell_type": "code",
   "execution_count": 87,
   "id": "7ccc980b",
   "metadata": {},
   "outputs": [],
   "source": [
    "class BelyiMap:\n",
    "    def __init__(self,f,check=True):\n",
    "        self._f = f\n",
    "        return\n",
    "    def __repr__(self):\n",
    "        return self._f.__repr__()"
   ]
  },
  {
   "cell_type": "code",
   "execution_count": 88,
   "id": "582afb5d",
   "metadata": {},
   "outputs": [
    {
     "data": {
      "text/plain": [
       "1"
      ]
     },
     "execution_count": 88,
     "metadata": {},
     "output_type": "execute_result"
    }
   ],
   "source": [
    "BelyiMap(1)"
   ]
  },
  {
   "cell_type": "code",
   "execution_count": 1,
   "id": "59138f4b",
   "metadata": {},
   "outputs": [],
   "source": [
    "def is_super_cyclotomic(f):\n",
    "    \"\"\"\n",
    "    This is quite close to `is_cyclotomic_product` but allows for leading coefficients and powers of x\n",
    "    \"\"\"\n",
    "    x = f.parent().gen()\n",
    "    return f.degree() > 0 and all(g.is_cyclotomic() or g == x for g,_ in f.factor())"
   ]
  },
  {
   "cell_type": "code",
   "execution_count": 2,
   "id": "1f0436df",
   "metadata": {},
   "outputs": [
    {
     "data": {
      "text/plain": [
       "True"
      ]
     },
     "execution_count": 2,
     "metadata": {},
     "output_type": "execute_result"
    }
   ],
   "source": [
    "x = polygen(QQ)\n",
    "is_super_cyclotomic(2*(x^2 + 1)*x)"
   ]
  },
  {
   "cell_type": "code",
   "execution_count": 34,
   "id": "5339d074",
   "metadata": {},
   "outputs": [],
   "source": [
    "class SuperCyclotomicPolynomial:\n",
    "    def __init__(self,f):\n",
    "        if isinstance(f, dict):\n",
    "            # Assume this is a list of exponents giving x^i_1 * Phi_1(x)^i_2 * ...\n",
    "            self._exponents = {i:e for i,e in f.items() if e != 0}\n",
    "            x = polygen(QQ)\n",
    "            self._poly = prod((x if i == 0 else cyclotomic_polynomial(i))^(e) for i,e in f.items())\n",
    "            return\n",
    "        if isinstance(f, list):\n",
    "            # Assume this is a list of exponents giving x^i_1 * Phi_1(x)^i_2 * ...\n",
    "            self.__init__(dict(enumerate(f)))\n",
    "            return\n",
    "        # assume it was a polynomial\n",
    "        assert is_super_cyclotomic(f) and f.is_monic()\n",
    "        self._poly = f\n",
    "        x = f.parent().gen()\n",
    "        self._exponents = {0 if g == x else g.is_cyclotomic(certificate=True): e for g,e in f.factor()}\n",
    "    def __hash__(self):\n",
    "        return hash(self.tuple())\n",
    "    def max(self):\n",
    "        return max(self._exponents.keys())\n",
    "    def tuple(self):\n",
    "        return tuple(self[i] for i in range(self.max() + 1))\n",
    "    def exponents(self):\n",
    "        return self._exponents\n",
    "    \n",
    "    def poly(self):\n",
    "        return self._poly\n",
    "    \n",
    "    def __getitem__(self,i):\n",
    "        return self._exponents.get(i,0)\n",
    "    \n",
    "    def __contains__(self,i):\n",
    "        return i in self._exponents\n",
    "    def __repr__(self):\n",
    "        # TODO use format strings\n",
    "        return \" * \".join(([\"x\" + (\"^\" + str(self[0]) if self._exponents[0] != 1 else \"\")] if 0 in self._exponents else []) + \n",
    "                          [\"Phi_%s%s\" % (i,\"^\" + str(e) if e != 1 else \"\") for i,e in self.exponents().items() if i != 0 and e != 0])\n",
    "        "
   ]
  },
  {
   "cell_type": "code",
   "execution_count": 4,
   "id": "cd73b87a",
   "metadata": {},
   "outputs": [
    {
     "data": {
      "text/plain": [
       "2358394570051540768"
      ]
     },
     "execution_count": 4,
     "metadata": {},
     "output_type": "execute_result"
    }
   ],
   "source": [
    "hash(SuperCyclotomicPolynomial(x*(x+1)*(x^2+x+1)^2))"
   ]
  },
  {
   "cell_type": "code",
   "execution_count": 157,
   "id": "23a34a72",
   "metadata": {},
   "outputs": [
    {
     "data": {
      "text/plain": [
       "2358394570051540768"
      ]
     },
     "execution_count": 157,
     "metadata": {},
     "output_type": "execute_result"
    }
   ],
   "source": [
    "hash(SuperCyclotomicPolynomial(x*(x+1)*(x^2+x+1)^2))"
   ]
  },
  {
   "cell_type": "code",
   "execution_count": 38,
   "id": "0bab8f00",
   "metadata": {},
   "outputs": [],
   "source": [
    "def SuperCyclotomics(n,m=None):\n",
    "    x = polygen(QQ)\n",
    "    for part in IntegerVectors(n=m)[0:n]:\n",
    "        if len(part) != 0:\n",
    "            if part[-1] == 0:\n",
    "                continue\n",
    "        yield prod((x if i == 0 else cyclotomic_polynomial(i))^(e) for i,e in enumerate(part))"
   ]
  },
  {
   "cell_type": "code",
   "execution_count": 26,
   "id": "19f4d5ee",
   "metadata": {},
   "outputs": [
    {
     "data": {
      "text/plain": [
       "True"
      ]
     },
     "execution_count": 26,
     "metadata": {},
     "output_type": "execute_result"
    }
   ],
   "source": [
    "all(is_super_cyclotomic(f) for f in SuperCyclotomics(90) if f != 1)"
   ]
  },
  {
   "cell_type": "code",
   "execution_count": 52,
   "id": "756b6f5d",
   "metadata": {
    "scrolled": true
   },
   "outputs": [
    {
     "name": "stdout",
     "output_type": "stream",
     "text": [
      "Phi_3  -  x  =  1 Phi_4\n",
      "Phi_3  -  Phi_2  =  1 x^2\n",
      "Phi_3  -  Phi_4  =  1 x\n",
      "Phi_3  -  Phi_6  =  2 x\n",
      "Phi_4  -  x  =  1 Phi_6\n",
      "Phi_4  -  Phi_2  =  1 x * Phi_1\n",
      "Phi_4  -  Phi_6  =  1 x\n",
      "Phi_5  -  Phi_2  =  1 x^2 * Phi_3\n",
      "Phi_5  -  Phi_3  =  1 x^3 * Phi_2\n",
      "Phi_5  -  Phi_8  =  1 x * Phi_3\n",
      "Phi_5  -  Phi_10  =  2 x * Phi_4\n",
      "Phi_5  -  Phi_12  =  1 x * Phi_2^2\n",
      "Phi_6  -  x  =  1 Phi_1^2\n",
      "Phi_7  -  Phi_2  =  1 x^2 * Phi_5\n",
      "Phi_7  -  Phi_3  =  1 x^3 * Phi_2 * Phi_4\n",
      "Phi_7  -  Phi_5  =  1 x^5 * Phi_2\n",
      "Phi_7  -  Phi_9  =  1 x * Phi_2^2 * Phi_6\n",
      "Phi_7  -  Phi_14  =  2 x * Phi_6 * Phi_3\n",
      "Phi_7  -  Phi_18  =  1 x * Phi_4 * Phi_3\n",
      "Phi_8  -  Phi_2  =  1 x * Phi_1 * Phi_3\n",
      "Phi_8  -  Phi_10  =  1 x * Phi_6\n",
      "Phi_9  -  Phi_14  =  1 x * Phi_6 * Phi_4\n",
      "Phi_10  -  Phi_6  =  1 x^3 * Phi_1\n",
      "Phi_11  -  Phi_2  =  1 x^2 * Phi_3 * Phi_9\n",
      "Phi_11  -  Phi_3  =  1 x^3 * Phi_2 * Phi_4 * Phi_8\n",
      "Phi_11  -  Phi_5  =  1 x^5 * Phi_2 * Phi_6 * Phi_3\n",
      "Phi_11  -  Phi_7  =  1 x^7 * Phi_2 * Phi_4\n",
      "Phi_11  -  Phi_22  =  2 x * Phi_10 * Phi_5\n",
      "Phi_12  -  Phi_10  =  1 x * Phi_1^2\n",
      "Phi_13  -  Phi_2  =  1 x^2 * Phi_11\n",
      "Phi_13  -  Phi_3  =  1 x^3 * Phi_2 * Phi_10 * Phi_5\n",
      "Phi_13  -  Phi_5  =  1 x^5 * Phi_2 * Phi_4 * Phi_8\n",
      "Phi_13  -  Phi_7  =  1 x^7 * Phi_2 * Phi_6 * Phi_3\n",
      "Phi_13  -  Phi_11  =  1 x^11 * Phi_2\n",
      "Phi_13  -  Phi_26  =  2 x * Phi_6 * Phi_4 * Phi_3 * Phi_12\n",
      "Phi_13  -  Phi_28  =  1 x * Phi_2^2 * Phi_6 * Phi_3 * Phi_12\n",
      "Phi_13  -  Phi_36  =  1 x * Phi_2^2 * Phi_6 * Phi_3 * Phi_10\n",
      "Phi_13  -  Phi_42  =  1 x^2 * Phi_2^2 * Phi_3 * Phi_10\n",
      "Phi_14  -  Phi_6  =  1 x^3 * Phi_1 * Phi_4\n",
      "Phi_14  -  Phi_10  =  1 x^5 * Phi_1\n",
      "Phi_16  -  Phi_2  =  1 x * Phi_1 * Phi_7\n",
      "Phi_17  -  Phi_2  =  1 x^2 * Phi_3 * Phi_5 * Phi_15\n",
      "Phi_17  -  Phi_3  =  1 x^3 * Phi_2 * Phi_14 * Phi_7\n",
      "Phi_17  -  Phi_5  =  1 x^5 * Phi_2 * Phi_6 * Phi_4 * Phi_3 * Phi_12\n",
      "Phi_17  -  Phi_7  =  1 x^7 * Phi_2 * Phi_10 * Phi_5\n",
      "Phi_17  -  Phi_11  =  1 x^11 * Phi_2 * Phi_6 * Phi_3\n",
      "Phi_17  -  Phi_13  =  1 x^13 * Phi_2 * Phi_4\n",
      "Phi_17  -  Phi_32  =  1 x * Phi_3 * Phi_5 * Phi_15\n",
      "Phi_17  -  Phi_34  =  2 x * Phi_4 * Phi_8 * Phi_16\n",
      "Phi_17  -  Phi_40  =  1 x * Phi_2^2 * Phi_6 * Phi_4 * Phi_16\n",
      "Phi_18  -  Phi_14  =  1 x * Phi_1^2 * Phi_3\n",
      "Phi_19  -  Phi_2  =  1 x^2 * Phi_17\n",
      "Phi_19  -  Phi_3  =  1 x^3 * Phi_2 * Phi_4 * Phi_8 * Phi_16\n",
      "Phi_19  -  Phi_5  =  1 x^5 * Phi_2 * Phi_14 * Phi_7\n",
      "Phi_19  -  Phi_7  =  1 x^7 * Phi_2 * Phi_6 * Phi_4 * Phi_3 * Phi_12\n",
      "Phi_19  -  Phi_11  =  1 x^11 * Phi_2 * Phi_4 * Phi_8\n",
      "Phi_19  -  Phi_13  =  1 x^13 * Phi_2 * Phi_6 * Phi_3\n",
      "Phi_19  -  Phi_17  =  1 x^17 * Phi_2\n",
      "Phi_19  -  Phi_27  =  1 x * Phi_2^2 * Phi_6 * Phi_4 * Phi_8 * Phi_18\n",
      "Phi_19  -  Phi_38  =  2 x * Phi_6 * Phi_3 * Phi_18 * Phi_9\n",
      "Phi_20  -  Phi_15  =  1 x * Phi_1^2 * Phi_2^2 * Phi_6\n",
      "Phi_22  -  Phi_6  =  1 x^3 * Phi_1 * Phi_4 * Phi_8\n",
      "Phi_22  -  Phi_10  =  1 x^5 * Phi_1 * Phi_6 * Phi_3\n",
      "Phi_22  -  Phi_14  =  1 x^7 * Phi_1 * Phi_4\n",
      "Phi_23  -  Phi_2  =  1 x^2 * Phi_3 * Phi_7 * Phi_21\n",
      "Phi_23  -  Phi_3  =  1 x^3 * Phi_2 * Phi_4 * Phi_10 * Phi_5 * Phi_20\n",
      "Phi_23  -  Phi_5  =  1 x^5 * Phi_2 * Phi_6 * Phi_3 * Phi_18 * Phi_9\n",
      "Phi_23  -  Phi_7  =  1 x^7 * Phi_2 * Phi_4 * Phi_8 * Phi_16\n",
      "Phi_23  -  Phi_11  =  1 x^11 * Phi_2 * Phi_6 * Phi_4 * Phi_3 * Phi_12\n",
      "Phi_23  -  Phi_13  =  1 x^13 * Phi_2 * Phi_10 * Phi_5\n",
      "Phi_23  -  Phi_17  =  1 x^17 * Phi_2 * Phi_6 * Phi_3\n",
      "Phi_23  -  Phi_19  =  1 x^19 * Phi_2 * Phi_4\n",
      "Phi_24  -  Phi_15  =  1 x * Phi_1^2 * Phi_2^2 * Phi_4\n",
      "Phi_26  -  Phi_6  =  1 x^3 * Phi_1 * Phi_10 * Phi_5\n",
      "Phi_26  -  Phi_10  =  1 x^5 * Phi_1 * Phi_4 * Phi_8\n",
      "Phi_26  -  Phi_14  =  1 x^7 * Phi_1 * Phi_6 * Phi_3\n",
      "Phi_26  -  Phi_21  =  1 x^2 * Phi_1^2 * Phi_6 * Phi_5\n",
      "Phi_26  -  Phi_22  =  1 x^11 * Phi_1\n",
      "Phi_27  -  Phi_38  =  1 x * Phi_6 * Phi_18 * Phi_16\n",
      "Phi_28  -  Phi_21  =  1 x * Phi_1^2 * Phi_2^2 * Phi_6 * Phi_8\n",
      "Phi_28  -  Phi_26  =  1 x * Phi_1^2 * Phi_6 * Phi_3 * Phi_12\n",
      "Phi_29  -  Phi_2  =  1 x^2 * Phi_3 * Phi_9 * Phi_27\n",
      "Phi_29  -  Phi_3  =  1 x^3 * Phi_2 * Phi_26 * Phi_13\n",
      "Phi_29  -  Phi_5  =  1 x^5 * Phi_2 * Phi_6 * Phi_4 * Phi_3 * Phi_12 * Phi_8 * Phi_24\n",
      "Phi_29  -  Phi_7  =  1 x^7 * Phi_2 * Phi_22 * Phi_11\n",
      "Phi_29  -  Phi_11  =  1 x^11 * Phi_2 * Phi_6 * Phi_3 * Phi_18 * Phi_9\n",
      "Phi_29  -  Phi_13  =  1 x^13 * Phi_2 * Phi_4 * Phi_8 * Phi_16\n",
      "Phi_29  -  Phi_17  =  1 x^17 * Phi_2 * Phi_6 * Phi_4 * Phi_3 * Phi_12\n",
      "Phi_29  -  Phi_19  =  1 x^19 * Phi_2 * Phi_10 * Phi_5\n",
      "Phi_29  -  Phi_23  =  1 x^23 * Phi_2 * Phi_6 * Phi_3\n",
      "Phi_30  -  Phi_15  =  2 x * Phi_1^2 * Phi_2^2 * Phi_4\n",
      "Phi_30  -  Phi_20  =  1 x * Phi_1^2 * Phi_2^2 * Phi_3\n",
      "Phi_30  -  Phi_24  =  1 x * Phi_1^2 * Phi_2^2 * Phi_4\n",
      "Phi_31  -  Phi_2  =  1 x^2 * Phi_29\n",
      "Phi_31  -  Phi_3  =  1 x^3 * Phi_2 * Phi_4 * Phi_14 * Phi_7 * Phi_28\n",
      "Phi_31  -  Phi_5  =  1 x^5 * Phi_2 * Phi_26 * Phi_13\n",
      "Phi_31  -  Phi_7  =  1 x^7 * Phi_2 * Phi_6 * Phi_4 * Phi_3 * Phi_12 * Phi_8 * Phi_24\n",
      "Phi_31  -  Phi_11  =  1 x^11 * Phi_2 * Phi_4 * Phi_10 * Phi_5 * Phi_20\n",
      "Phi_31  -  Phi_13  =  1 x^13 * Phi_2 * Phi_6 * Phi_3 * Phi_18 * Phi_9\n",
      "Phi_31  -  Phi_17  =  1 x^17 * Phi_2 * Phi_14 * Phi_7\n",
      "Phi_31  -  Phi_19  =  1 x^19 * Phi_2 * Phi_6 * Phi_4 * Phi_3 * Phi_12\n",
      "Phi_31  -  Phi_23  =  1 x^23 * Phi_2 * Phi_4 * Phi_8\n",
      "Phi_31  -  Phi_29  =  1 x^29 * Phi_2\n",
      "Phi_32  -  Phi_2  =  1 x * Phi_1 * Phi_3 * Phi_5 * Phi_15\n",
      "Phi_32  -  Phi_34  =  1 x * Phi_6 * Phi_10 * Phi_30\n",
      "Phi_34  -  Phi_6  =  1 x^3 * Phi_1 * Phi_14 * Phi_7\n",
      "Phi_34  -  Phi_10  =  1 x^5 * Phi_1 * Phi_6 * Phi_4 * Phi_3 * Phi_12\n",
      "Phi_34  -  Phi_14  =  1 x^7 * Phi_1 * Phi_10 * Phi_5\n",
      "Phi_34  -  Phi_22  =  1 x^11 * Phi_1 * Phi_6 * Phi_3\n",
      "Phi_34  -  Phi_26  =  1 x^13 * Phi_1 * Phi_4\n",
      "Phi_36  -  Phi_21  =  1 x * Phi_1^2 * Phi_2^2 * Phi_6 * Phi_5\n",
      "Phi_36  -  Phi_26  =  1 x * Phi_1^2 * Phi_6 * Phi_3 * Phi_5\n",
      "Phi_37  -  Phi_2  =  1 x^2 * Phi_5 * Phi_7 * Phi_35\n",
      "Phi_37  -  Phi_3  =  1 x^3 * Phi_2 * Phi_34 * Phi_17\n",
      "Phi_37  -  Phi_5  =  1 x^5 * Phi_2 * Phi_4 * Phi_8 * Phi_16 * Phi_32\n",
      "Phi_37  -  Phi_7  =  1 x^7 * Phi_2 * Phi_6 * Phi_3 * Phi_10 * Phi_5 * Phi_15 * Phi_30\n",
      "Phi_37  -  Phi_11  =  1 x^11 * Phi_2 * Phi_26 * Phi_13\n",
      "Phi_37  -  Phi_13  =  1 x^13 * Phi_2 * Phi_6 * Phi_4 * Phi_3 * Phi_12 * Phi_8 * Phi_24\n",
      "Phi_37  -  Phi_17  =  1 x^17 * Phi_2 * Phi_4 * Phi_10 * Phi_5 * Phi_20\n",
      "Phi_37  -  Phi_19  =  1 x^19 * Phi_2 * Phi_6 * Phi_3 * Phi_18 * Phi_9\n",
      "Phi_37  -  Phi_23  =  1 x^23 * Phi_2 * Phi_14 * Phi_7\n",
      "Phi_37  -  Phi_29  =  1 x^29 * Phi_2 * Phi_4 * Phi_8\n",
      "Phi_37  -  Phi_31  =  1 x^31 * Phi_2 * Phi_6 * Phi_3\n",
      "Phi_38  -  Phi_6  =  1 x^3 * Phi_1 * Phi_4 * Phi_8 * Phi_16\n",
      "Phi_38  -  Phi_10  =  1 x^5 * Phi_1 * Phi_14 * Phi_7\n",
      "Phi_38  -  Phi_14  =  1 x^7 * Phi_1 * Phi_6 * Phi_4 * Phi_3 * Phi_12\n",
      "Phi_38  -  Phi_22  =  1 x^11 * Phi_1 * Phi_4 * Phi_8\n",
      "Phi_38  -  Phi_26  =  1 x^13 * Phi_1 * Phi_6 * Phi_3\n",
      "Phi_38  -  Phi_34  =  1 x^17 * Phi_1\n",
      "Phi_40  -  Phi_34  =  1 x * Phi_1^2 * Phi_4 * Phi_3 * Phi_16\n",
      "Phi_41  -  Phi_2  =  1 x^2 * Phi_3 * Phi_13 * Phi_39\n",
      "Phi_41  -  Phi_3  =  1 x^3 * Phi_2 * Phi_38 * Phi_19\n",
      "Phi_41  -  Phi_5  =  1 x^5 * Phi_2 * Phi_6 * Phi_4 * Phi_3 * Phi_12 * Phi_18 * Phi_9 * Phi_36\n",
      "Phi_41  -  Phi_7  =  1 x^7 * Phi_2 * Phi_34 * Phi_17\n",
      "Phi_41  -  Phi_11  =  1 x^11 * Phi_2 * Phi_6 * Phi_3 * Phi_10 * Phi_5 * Phi_15 * Phi_30\n",
      "Phi_41  -  Phi_13  =  1 x^13 * Phi_2 * Phi_4 * Phi_14 * Phi_7 * Phi_28\n",
      "Phi_41  -  Phi_17  =  1 x^17 * Phi_2 * Phi_6 * Phi_4 * Phi_3 * Phi_12 * Phi_8 * Phi_24\n",
      "Phi_41  -  Phi_19  =  1 x^19 * Phi_2 * Phi_22 * Phi_11\n",
      "Phi_41  -  Phi_23  =  1 x^23 * Phi_2 * Phi_6 * Phi_3 * Phi_18 * Phi_9\n",
      "Phi_41  -  Phi_29  =  1 x^29 * Phi_2 * Phi_6 * Phi_4 * Phi_3 * Phi_12\n",
      "Phi_41  -  Phi_31  =  1 x^31 * Phi_2 * Phi_10 * Phi_5\n",
      "Phi_41  -  Phi_37  =  1 x^37 * Phi_2 * Phi_4\n",
      "Phi_42  -  Phi_21  =  2 x * Phi_1^2 * Phi_2^2 * Phi_4 * Phi_8\n",
      "Phi_42  -  Phi_28  =  1 x * Phi_1^2 * Phi_2^2 * Phi_3 * Phi_8\n",
      "Phi_42  -  Phi_36  =  1 x * Phi_1^2 * Phi_2^2 * Phi_3 * Phi_10\n",
      "Phi_43  -  Phi_2  =  1 x^2 * Phi_41\n",
      "Phi_43  -  Phi_3  =  1 x^3 * Phi_2 * Phi_4 * Phi_10 * Phi_8 * Phi_5 * Phi_20 * Phi_40\n",
      "Phi_43  -  Phi_5  =  1 x^5 * Phi_2 * Phi_38 * Phi_19\n",
      "Phi_43  -  Phi_7  =  1 x^7 * Phi_2 * Phi_6 * Phi_4 * Phi_3 * Phi_12 * Phi_18 * Phi_9 * Phi_36\n",
      "Phi_43  -  Phi_11  =  1 x^11 * Phi_2 * Phi_4 * Phi_8 * Phi_16 * Phi_32\n",
      "Phi_43  -  Phi_13  =  1 x^13 * Phi_2 * Phi_6 * Phi_3 * Phi_10 * Phi_5 * Phi_15 * Phi_30\n",
      "Phi_43  -  Phi_17  =  1 x^17 * Phi_2 * Phi_26 * Phi_13\n",
      "Phi_43  -  Phi_19  =  1 x^19 * Phi_2 * Phi_6 * Phi_4 * Phi_3 * Phi_12 * Phi_8 * Phi_24\n",
      "Phi_43  -  Phi_23  =  1 x^23 * Phi_2 * Phi_4 * Phi_10 * Phi_5 * Phi_20\n",
      "Phi_43  -  Phi_29  =  1 x^29 * Phi_2 * Phi_14 * Phi_7\n",
      "Phi_43  -  Phi_31  =  1 x^31 * Phi_2 * Phi_6 * Phi_4 * Phi_3 * Phi_12\n",
      "Phi_43  -  Phi_37  =  1 x^37 * Phi_2 * Phi_6 * Phi_3\n",
      "Phi_43  -  Phi_41  =  1 x^41 * Phi_2\n"
     ]
    },
    {
     "name": "stdout",
     "output_type": "stream",
     "text": [
      "Phi_2^2  -  Phi_1^2  =  4 x\n",
      "Phi_3^2  -  x^2  =  1 Phi_2^2 * Phi_4\n",
      "Phi_3^2  -  Phi_6^2  =  4 x * Phi_4\n",
      "x * Phi_4  -  Phi_1 * Phi_3  =  1 Phi_2\n",
      "x * Phi_4  -  Phi_2 * Phi_6  =  1 Phi_1\n",
      "Phi_4 * Phi_3  -  x^2  =  1 Phi_5\n",
      "Phi_4^2  -  x * Phi_3  =  1 Phi_10\n",
      "Phi_4 * Phi_5  -  Phi_3 * Phi_8  =  1 x^2 * Phi_2^2\n",
      "Phi_5^2  -  Phi_3 * Phi_7  =  1 x^3 * Phi_2^2\n",
      "Phi_5^2  -  Phi_3 * Phi_9  =  1 x * Phi_2^2 * Phi_4^2\n",
      "Phi_5^2  -  Phi_10^2  =  4 x * Phi_6 * Phi_4 * Phi_3\n",
      "Phi_5^2  -  x * Phi_14  =  1 Phi_3 * Phi_4^3\n",
      "Phi_6 * Phi_3  -  x * Phi_4  =  1 Phi_10\n",
      "Phi_6 * Phi_4  -  x^2  =  1 Phi_10\n",
      "Phi_6 * Phi_5  -  Phi_4 * Phi_8  =  1 x^3\n",
      "Phi_6 * Phi_5  -  Phi_3 * Phi_10  =  2 x^3\n",
      "Phi_6 * Phi_5  -  Phi_4 * Phi_12  =  1 x^2 * Phi_3\n",
      "Phi_6^2  -  x^2  =  1 Phi_1^2 * Phi_4\n",
      "Phi_3 * Phi_7  -  Phi_12 * Phi_5  =  1 x * Phi_2^4 * Phi_6\n",
      "Phi_4 * Phi_7  -  Phi_8 * Phi_5  =  1 x^2 * Phi_2^2 * Phi_6\n",
      "Phi_4 * Phi_7  -  Phi_3 * Phi_9  =  1 x^2 * Phi_5\n",
      "Phi_4 * Phi_7  -  Phi_10 * Phi_5  =  1 x * Phi_6 * Phi_3^2\n",
      "Phi_6 * Phi_7  -  Phi_4 * Phi_9  =  1 x^4\n",
      "Phi_6 * Phi_7  -  Phi_10 * Phi_5  =  1 x^3 * Phi_4\n",
      "Phi_6 * Phi_7  -  Phi_10 * Phi_12  =  1 x * Phi_3 * Phi_8\n",
      "Phi_6 * Phi_7  -  Phi_3 * Phi_14  =  2 x^3 * Phi_4\n",
      "Phi_7^2  -  Phi_3 * Phi_11  =  1 x^3 * Phi_2^2 * Phi_4^2\n",
      "Phi_7^2  -  Phi_14^2  =  4 x * Phi_6 * Phi_4 * Phi_3 * Phi_8\n",
      "x * Phi_8  -  Phi_1 * Phi_5  =  1 Phi_2\n",
      "x * Phi_8  -  Phi_2 * Phi_10  =  1 Phi_1\n",
      "Phi_3 * Phi_8  -  x * Phi_5  =  1 Phi_18\n",
      "Phi_3 * Phi_8  -  Phi_6 * Phi_5  =  1 x * Phi_12\n",
      "Phi_3 * Phi_8  -  x * Phi_12  =  1 Phi_6 * Phi_5\n",
      "Phi_3 * Phi_8  -  Phi_4 * Phi_12  =  1 x * Phi_2^2 * Phi_6\n",
      "Phi_4 * Phi_8  -  x * Phi_10  =  1 Phi_3 * Phi_6^2\n",
      "Phi_4 * Phi_8  -  Phi_3 * Phi_10  =  1 x^3\n",
      "Phi_8 * Phi_5  -  x * Phi_7  =  1 Phi_6 * Phi_3 * Phi_12\n",
      "Phi_8 * Phi_5  -  Phi_6 * Phi_7  =  1 x * Phi_9\n",
      "Phi_8 * Phi_5  -  x * Phi_9  =  1 Phi_6 * Phi_7\n",
      "Phi_8 * Phi_5  -  Phi_3 * Phi_9  =  1 x^4\n",
      "Phi_8 * Phi_5  -  Phi_4 * Phi_9  =  1 x * Phi_2^2 * Phi_6^2\n",
      "Phi_8 * Phi_5  -  x * Phi_14  =  1 Phi_6^2 * Phi_3^2\n",
      "Phi_8 * Phi_7  -  Phi_3 * Phi_16  =  1 x^3 * Phi_2^2 * Phi_4\n",
      "Phi_8^2  -  x * Phi_9  =  1 Phi_10 * Phi_12\n",
      "Phi_8^2  -  Phi_10 * Phi_12  =  1 x * Phi_9\n",
      "Phi_3 * Phi_9  -  Phi_2 * Phi_4  =  1 x^4 * Phi_5\n",
      "Phi_3 * Phi_9  -  x * Phi_7  =  1 Phi_16\n",
      "Phi_3 * Phi_9  -  Phi_6 * Phi_7  =  1 x * Phi_4 * Phi_12\n",
      "Phi_3 * Phi_9  -  Phi_10 * Phi_5  =  1 x * Phi_4 * Phi_8\n",
      "Phi_3 * Phi_9  -  Phi_12 * Phi_5  =  1 x^2 * Phi_2^2 * Phi_6\n",
      "Phi_3 * Phi_9  -  x * Phi_14  =  1 Phi_4^2 * Phi_8\n",
      "Phi_4 * Phi_9  -  Phi_10 * Phi_5  =  1 x^3 * Phi_6\n",
      "Phi_4 * Phi_9  -  x * Phi_14  =  1 Phi_6^2 * Phi_5\n",
      "Phi_5 * Phi_9  -  Phi_8 * Phi_7  =  1 x^3 * Phi_12\n",
      "Phi_5 * Phi_9  -  Phi_12 * Phi_7  =  1 x^2 * Phi_2^2 * Phi_8\n",
      "Phi_9 * Phi_7  -  Phi_5 * Phi_15  =  1 x * Phi_2^2 * Phi_6 * Phi_4 * Phi_8\n",
      "Phi_8 * Phi_9  -  Phi_12 * Phi_14  =  1 x * Phi_10 * Phi_5\n",
      "Phi_8 * Phi_9  -  Phi_4 * Phi_15  =  1 x * Phi_2^2 * Phi_6^3\n",
      "Phi_9^2  -  Phi_12 * Phi_15  =  1 x * Phi_2^2 * Phi_10 * Phi_8\n",
      "Phi_3 * Phi_10  -  x * Phi_8  =  1 Phi_14\n",
      "Phi_3 * Phi_10  -  Phi_6 * Phi_8  =  1 x * Phi_12\n",
      "Phi_3 * Phi_10  -  x * Phi_12  =  1 Phi_6 * Phi_8\n",
      "Phi_3 * Phi_10  -  Phi_4 * Phi_12  =  1 x^2 * Phi_6\n",
      "Phi_4 * Phi_10  -  x * Phi_8  =  1 Phi_1^2 * Phi_6 * Phi_3\n",
      "Phi_4 * Phi_10  -  Phi_6 * Phi_8  =  1 x^2 * Phi_1^2\n",
      "Phi_10 * Phi_5  -  x * Phi_9  =  1 Phi_6 * Phi_4 * Phi_12\n",
      "Phi_10 * Phi_5  -  x * Phi_14  =  1 Phi_6 * Phi_4 * Phi_8\n",
      "Phi_10 * Phi_5  -  Phi_3 * Phi_14  =  1 x^3 * Phi_4\n",
      "Phi_10 * Phi_5  -  Phi_4 * Phi_14  =  1 x * Phi_3 * Phi_6^2\n",
      "Phi_6 * Phi_10  -  x * Phi_12  =  1 Phi_1^4 * Phi_3\n",
      "Phi_10 * Phi_7  -  Phi_8 * Phi_9  =  1 x^2 * Phi_6 * Phi_12\n",
      "Phi_10 * Phi_7  -  Phi_5 * Phi_14  =  2 x^5\n",
      "Phi_10 * Phi_7  -  x * Phi_15  =  1 Phi_6 * Phi_4 * Phi_9\n",
      "Phi_10 * Phi_7  -  Phi_3 * Phi_15  =  1 x^2 * Phi_4 * Phi_8\n",
      "Phi_10 * Phi_7  -  Phi_4 * Phi_16  =  1 x^4 * Phi_3\n",
      "Phi_10 * Phi_9  -  Phi_8 * Phi_14  =  1 x^3 * Phi_6^2\n",
      "Phi_10 * Phi_9  -  Phi_4 * Phi_15  =  1 x^4 * Phi_6\n",
      "Phi_10 * Phi_9  -  Phi_6 * Phi_16  =  1 x^5\n",
      "Phi_10^2  -  x * Phi_14  =  1 Phi_1^4 * Phi_4 * Phi_3\n",
      "Phi_4 * Phi_11  -  Phi_9 * Phi_7  =  1 x^2 * Phi_24\n",
      "Phi_4 * Phi_11  -  Phi_14 * Phi_7  =  1 x * Phi_3 * Phi_10 * Phi_5\n",
      "Phi_4 * Phi_11  -  Phi_5 * Phi_16  =  1 x^2 * Phi_2^2 * Phi_3 * Phi_6^2\n",
      "Phi_5 * Phi_11  -  Phi_3 * Phi_13  =  1 x^3 * Phi_2^2 * Phi_4 * Phi_8\n",
      "Phi_6 * Phi_11  -  Phi_14 * Phi_7  =  1 x^3 * Phi_4 * Phi_8\n",
      "Phi_6 * Phi_11  -  Phi_5 * Phi_15  =  1 x^2 * Phi_4 * Phi_9\n",
      "Phi_7 * Phi_11  -  Phi_5 * Phi_13  =  1 x^5 * Phi_2^2 * Phi_6 * Phi_3\n",
      "Phi_8 * Phi_11  -  Phi_7 * Phi_16  =  1 x^4 * Phi_2^2 * Phi_6 * Phi_4\n",
      "Phi_8 * Phi_11  -  Phi_9 * Phi_16  =  1 x * Phi_2^4 * Phi_6^2 * Phi_10\n",
      "Phi_10 * Phi_11  -  Phi_14 * Phi_16  =  1 x * Phi_6^2 * Phi_3^2 * Phi_12\n",
      "Phi_3 * Phi_12  -  x * Phi_8  =  1 Phi_18\n",
      "Phi_4 * Phi_12  -  x * Phi_8  =  1 Phi_1^2 * Phi_5\n",
      "Phi_4 * Phi_12  -  Phi_6 * Phi_8  =  1 x * Phi_1^2 * Phi_3\n",
      "Phi_4 * Phi_12  -  x * Phi_10  =  1 Phi_14\n",
      "Phi_4 * Phi_12  -  Phi_2 * Phi_10  =  1 x^5 * Phi_1\n",
      "Phi_12 * Phi_5  -  Phi_8^2  =  1 x * Phi_18\n",
      "Phi_12 * Phi_5  -  x * Phi_9  =  1 Phi_16\n",
      "Phi_12 * Phi_5  -  Phi_3 * Phi_14  =  1 x * Phi_6 * Phi_8\n",
      "Phi_6 * Phi_12  -  x * Phi_10  =  1 Phi_1^2 * Phi_8\n",
      "Phi_12 * Phi_7  -  Phi_8 * Phi_9  =  1 x * Phi_20\n",
      "Phi_12 * Phi_7  -  Phi_3 * Phi_15  =  1 x * Phi_2^2 * Phi_6 * Phi_10\n",
      "Phi_10 * Phi_12  -  x * Phi_14  =  1 Phi_1^2 * Phi_18\n",
      "Phi_10 * Phi_12  -  Phi_6 * Phi_14  =  1 x * Phi_1^4 * Phi_3\n",
      "Phi_4 * Phi_13  -  Phi_8 * Phi_11  =  1 x^2 * Phi_2^2 * Phi_6 * Phi_18\n",
      "Phi_4 * Phi_13  -  Phi_7 * Phi_16  =  1 x^2 * Phi_2^2 * Phi_6 * Phi_3 * Phi_10\n",
      "Phi_5 * Phi_13  -  Phi_9 * Phi_11  =  1 x * Phi_2^4 * Phi_6 * Phi_4 * Phi_14\n",
      "Phi_6 * Phi_13  -  Phi_10 * Phi_11  =  1 x^3 * Phi_16\n",
      "Phi_10 * Phi_13  -  Phi_14 * Phi_11  =  1 x^5 * Phi_4 * Phi_12\n",
      "Phi_2 * Phi_14  -  Phi_4 * Phi_12  =  1 x^6 * Phi_1\n",
      "Phi_3 * Phi_14  -  x * Phi_9  =  1 Phi_1^2 * Phi_4 * Phi_5\n",
      "Phi_3 * Phi_14  -  Phi_10 * Phi_8  =  1 x * Phi_18\n",
      "Phi_4 * Phi_14  -  Phi_10 * Phi_8  =  1 x^2 * Phi_1^2 * Phi_3\n",
      "Phi_5 * Phi_14  -  x * Phi_16  =  1 Phi_3 * Phi_6^2 * Phi_12\n",
      "Phi_5 * Phi_14  -  Phi_4 * Phi_16  =  1 x^4 * Phi_6\n",
      "Phi_6 * Phi_14  -  Phi_10^2  =  1 x^3 * Phi_1^2\n",
      "Phi_14 * Phi_7  -  Phi_5 * Phi_15  =  1 x^2 * Phi_6 * Phi_4 * Phi_12\n",
      "Phi_8 * Phi_14  -  x * Phi_15  =  1 Phi_6 * Phi_10 * Phi_12\n",
      "Phi_8 * Phi_14  -  x * Phi_16  =  1 Phi_1^4 * Phi_3 * Phi_5\n",
      "Phi_14 * Phi_9  -  Phi_8 * Phi_15  =  1 x^2 * Phi_10 * Phi_12\n",
      "Phi_14 * Phi_9  -  Phi_10 * Phi_16  =  1 x^3 * Phi_6 * Phi_12\n",
      "Phi_10 * Phi_14  -  x * Phi_15  =  1 Phi_1^2 * Phi_6 * Phi_18\n",
      "Phi_10 * Phi_14  -  Phi_6 * Phi_15  =  1 x^2 * Phi_1^4 * Phi_4\n",
      "Phi_12 * Phi_14  -  x * Phi_15  =  1 Phi_1^2 * Phi_16\n",
      "Phi_3 * Phi_15  -  Phi_10 * Phi_9  =  1 x * Phi_1^2 * Phi_7\n",
      "Phi_3 * Phi_15  -  Phi_12 * Phi_9  =  1 x^2 * Phi_1^2 * Phi_2^2 * Phi_6\n",
      "Phi_3 * Phi_15  -  Phi_6 * Phi_16  =  1 x * Phi_10 * Phi_12\n",
      "Phi_4 * Phi_15  -  Phi_8 * Phi_14  =  1 x^3 * Phi_1^2 * Phi_6\n",
      "Phi_4 * Phi_15  -  x * Phi_16  =  1 Phi_1^2 * Phi_24\n",
      "Phi_5 * Phi_15  -  Phi_14 * Phi_9  =  1 x * Phi_6 * Phi_16\n",
      "Phi_5 * Phi_15  -  Phi_8 * Phi_16  =  1 x^3 * Phi_6 * Phi_12\n",
      "Phi_7 * Phi_15  -  Phi_9 * Phi_16  =  1 x^5 * Phi_12\n",
      "Phi_12 * Phi_15  -  Phi_14^2  =  1 x * Phi_1^4 * Phi_18\n",
      "Phi_3 * Phi_16  -  Phi_8 * Phi_9  =  1 x * Phi_1^2 * Phi_2^2 * Phi_5\n",
      "Phi_4 * Phi_16  -  Phi_10 * Phi_9  =  1 x * Phi_24\n",
      "Phi_4 * Phi_16  -  Phi_3 * Phi_15  =  1 x^2 * Phi_18\n",
      "Phi_6 * Phi_16  -  Phi_8 * Phi_14  =  1 x^3 * Phi_1^2 * Phi_4\n",
      "Phi_6 * Phi_16  -  Phi_4 * Phi_15  =  1 x^4 * Phi_1^2\n",
      "Phi_7 * Phi_16  -  Phi_10 * Phi_11  =  1 x * Phi_6 * Phi_3 * Phi_24\n",
      "Phi_7 * Phi_16  -  x * Phi_13  =  1 Phi_6 * Phi_42\n",
      "Phi_7 * Phi_16  -  Phi_6 * Phi_13  =  1 x * Phi_36\n",
      "Phi_8 * Phi_16  -  Phi_14 * Phi_9  =  1 x * Phi_6 * Phi_20\n",
      "Phi_10 * Phi_16  -  Phi_8 * Phi_15  =  1 x^2 * Phi_1^2 * Phi_4 * Phi_12\n",
      "Phi_12 * Phi_16  -  Phi_8 * Phi_15  =  1 x * Phi_1^2 * Phi_2^2 * Phi_14\n",
      "Phi_2^2 * Phi_3  -  Phi_1^2 * Phi_6  =  6 x * Phi_4\n",
      "Phi_4^3  -  Phi_3 * Phi_6^2  =  1 x * Phi_5\n",
      "Phi_4^3  -  Phi_1^2 * Phi_8  =  2 x * Phi_2^2 * Phi_6\n",
      "Phi_2^2 * Phi_5  -  Phi_4 * Phi_3^2  =  1 x * Phi_8\n",
      "Phi_2^2 * Phi_6  -  x * Phi_1^2  =  1 Phi_4^2\n",
      "Phi_2^2 * Phi_6  -  Phi_1^2 * Phi_3  =  2 x * Phi_4\n",
      "Phi_6 * Phi_3^2  -  x^2 * Phi_4  =  1 Phi_7\n",
      "Phi_6 * Phi_3^2  -  Phi_4^3  =  1 x * Phi_10\n",
      "Phi_3 * Phi_6^2  -  x^3  =  1 Phi_4 * Phi_10\n",
      "Phi_3 * Phi_6^2  -  x^2 * Phi_4  =  1 Phi_14\n"
     ]
    },
    {
     "name": "stdout",
     "output_type": "stream",
     "text": [
      "Phi_4 * Phi_6^2  -  Phi_1^2 * Phi_10  =  1 x * Phi_8\n",
      "Phi_6 * Phi_5^2  -  x * Phi_3 * Phi_7  =  1 Phi_4 * Phi_12 * Phi_8\n",
      "Phi_2^2 * Phi_7  -  x * Phi_4 * Phi_5  =  1 Phi_3^2 * Phi_8\n",
      "Phi_2^2 * Phi_7  -  Phi_3^2 * Phi_8  =  1 x * Phi_4 * Phi_5\n",
      "Phi_6 * Phi_3 * Phi_7  -  Phi_4 * Phi_8 * Phi_5  =  1 x^5\n",
      "Phi_4^2 * Phi_7  -  Phi_6 * Phi_5^2  =  1 x^2 * Phi_9\n",
      "Phi_4^2 * Phi_7  -  x^2 * Phi_9  =  1 Phi_6 * Phi_5^2\n",
      "Phi_2^2 * Phi_8  -  Phi_4^3  =  2 x * Phi_1^2 * Phi_3\n",
      "Phi_3 * Phi_8 * Phi_5  -  Phi_4^2 * Phi_7  =  1 x * Phi_16\n",
      "Phi_3 * Phi_8^2  -  Phi_4^2 * Phi_9  =  1 x * Phi_1^2 * Phi_2^2 * Phi_10\n",
      "Phi_4^2 * Phi_8  -  x^2 * Phi_5  =  1 Phi_3 * Phi_14\n",
      "Phi_4^2 * Phi_8  -  Phi_6^2 * Phi_5  =  1 x * Phi_9\n",
      "Phi_4^2 * Phi_8  -  x^2 * Phi_10  =  1 Phi_6 * Phi_7\n",
      "Phi_4 * Phi_8 * Phi_7  -  Phi_10 * Phi_5^2  =  1 x^5 * Phi_3\n",
      "Phi_4 * Phi_8^2  -  x * Phi_6 * Phi_7  =  1 Phi_22\n",
      "Phi_4 * Phi_8^2  -  Phi_6^2 * Phi_7  =  1 x * Phi_15\n",
      "Phi_6 * Phi_8 * Phi_5  -  x * Phi_3 * Phi_9  =  1 Phi_12 * Phi_14\n",
      "Phi_6^2 * Phi_8  -  x * Phi_4 * Phi_10  =  1 Phi_1^2 * Phi_14\n",
      "Phi_2^2 * Phi_9  -  Phi_4 * Phi_3 * Phi_8  =  1 x * Phi_1^2 * Phi_5\n",
      "Phi_3^2 * Phi_9  -  x * Phi_5^2  =  1 Phi_4 * Phi_30\n",
      "Phi_3^2 * Phi_9  -  x^2 * Phi_7  =  1 Phi_2^2 * Phi_10 * Phi_5\n",
      "Phi_4 * Phi_3 * Phi_9  -  x^2 * Phi_7  =  1 Phi_11\n",
      "Phi_6 * Phi_3 * Phi_9  -  x^2 * Phi_7  =  1 Phi_4 * Phi_20\n",
      "Phi_6 * Phi_3 * Phi_9  -  Phi_4 * Phi_8^2  =  1 x^3 * Phi_10\n",
      "Phi_4^2 * Phi_9  -  Phi_6^2 * Phi_7  =  1 x * Phi_10 * Phi_5\n",
      "Phi_4^2 * Phi_9  -  x * Phi_8 * Phi_5  =  1 Phi_6 * Phi_16\n",
      "Phi_4^2 * Phi_9  -  x * Phi_10 * Phi_5  =  1 Phi_6^2 * Phi_7\n",
      "Phi_2^2 * Phi_10  -  x^3  =  1 Phi_3 * Phi_12\n",
      "Phi_2^2 * Phi_10  -  x * Phi_4^2  =  1 Phi_1^2 * Phi_3^2\n",
      "Phi_2^2 * Phi_10  -  Phi_1^2 * Phi_5  =  2 x * Phi_8\n",
      "Phi_2^2 * Phi_10  -  x * Phi_6 * Phi_3  =  1 Phi_18\n",
      "Phi_3^2 * Phi_10  -  Phi_6^2 * Phi_5  =  2 x * Phi_4 * Phi_12\n",
      "Phi_3^2 * Phi_10  -  Phi_4^2 * Phi_8  =  1 x * Phi_18\n",
      "Phi_3 * Phi_10 * Phi_5  -  x * Phi_6 * Phi_7  =  1 Phi_4^3 * Phi_12\n",
      "Phi_3 * Phi_10 * Phi_5  -  Phi_6 * Phi_4 * Phi_7  =  1 x * Phi_24\n",
      "Phi_3 * Phi_10 * Phi_7  -  Phi_5 * Phi_8^2  =  1 x^2 * Phi_20\n",
      "Phi_4 * Phi_10 * Phi_5  -  x^2 * Phi_7  =  1 Phi_6 * Phi_3 * Phi_18\n",
      "Phi_4 * Phi_10 * Phi_5  -  x * Phi_3 * Phi_9  =  1 Phi_22\n",
      "Phi_4 * Phi_10 * Phi_5  -  Phi_6 * Phi_3 * Phi_9  =  1 x^2 * Phi_14\n",
      "Phi_10 * Phi_5^2  -  Phi_6 * Phi_8 * Phi_7  =  1 x * Phi_11\n",
      "Phi_6 * Phi_10 * Phi_5  -  x^2 * Phi_9  =  1 Phi_8 * Phi_14\n",
      "Phi_2^4  -  Phi_1^4  =  8 x * Phi_4\n",
      "Phi_6 * Phi_4 * Phi_3 * Phi_5  -  x * Phi_2^2 * Phi_7  =  1 Phi_8 * Phi_18\n",
      "Phi_3 * Phi_6^2 * Phi_7  -  x * Phi_4 * Phi_8 * Phi_5  =  1 Phi_26\n",
      "Phi_6 * Phi_3^4  -  Phi_2^2 * Phi_4^2 * Phi_5  =  1 x^2 * Phi_18\n"
     ]
    }
   ],
   "source": [
    "ans = set()\n",
    "for m1,m2 in cartesian_product((range(6), range(5))):\n",
    "    for f in SuperCyclotomics(1000, m=m1):\n",
    "        for g in SuperCyclotomics(1000,m=m1):\n",
    "            if f == g:\n",
    "                continue\n",
    "            if gcd(f,g) != 1:\n",
    "                continue\n",
    "            # tbh these still could be interesting?\n",
    "            if f == 1 or g == 1:\n",
    "                continue\n",
    "            if gcd(gcd(f.exponents()),gcd(g.exponents())) != 1:\n",
    "                continue\n",
    "            if is_super_cyclotomic(f - g):\n",
    "                c = (f-g).leading_coefficient()\n",
    "                if c > 0:\n",
    "                    if not (f,g) in ans:\n",
    "                        ans.add((f,g))\n",
    "                        print(SuperCyclotomicPolynomial(f),\" - \", SuperCyclotomicPolynomial(g),\" = \",c, SuperCyclotomicPolynomial((f-g)//c))"
   ]
  },
  {
   "cell_type": "markdown",
   "id": "7f1f23a1",
   "metadata": {},
   "source": [
    "Some observations:\n",
    "------------------\n",
    "\n",
    "If we have an identity with all odd indices and even powers of x, then $x\\mapsto -x$ has the effect of sending\n",
    "$$\\Phi_d \\mapsto \\Phi_{2d}$$\n",
    "and fixes the $x^{2n}$ terms so we get an identity again with $x$ negated.\n",
    "\n",
    "If we begin with a supercyclotomic polynomial of the form $$F_n = \\prod_{d|n,d\\ne 1} \\Phi_d = 1 + x + \\cdots + x^{n-1}$$\n",
    "we get the relation\n",
    "$$F_n - F_m = x^m F_{n-m}$$\n",
    "and the version with the term on the right swapped with $F_m$"
   ]
  },
  {
   "cell_type": "code",
   "execution_count": null,
   "id": "cf3facc8",
   "metadata": {
    "scrolled": true
   },
   "outputs": [],
   "source": [
    "\n",
    "print(factor(x^8 + x^7 + 4*x^6 + 3*x^5 + 6*x^4 + 3*x^3 + 4*x^2 + x + 1))\n",
    "print(factor(x^8 + 2*x^7 + 3*x^6 + 4*x^5 + 5*x^4 + 4*x^3 + 3*x^2 + 2*x + 1))\n",
    "\n",
    "factor(-x^7 + x^6 - x^5 + x^4 - x^3 + x^2 - x)"
   ]
  },
  {
   "cell_type": "code",
   "execution_count": 179,
   "id": "4e1507ba",
   "metadata": {},
   "outputs": [
    {
     "name": "stdout",
     "output_type": "stream",
     "text": [
      "Phi_3^1 * Phi_4^3\n",
      "Phi_5^2\n"
     ]
    },
    {
     "data": {
      "text/plain": [
       "x^1 * Phi_14^1"
      ]
     },
     "execution_count": 179,
     "metadata": {},
     "output_type": "execute_result"
    }
   ],
   "source": [
    "F = SuperCyclotomicPolynomial(x^8 + x^7 + 4*x^6 + 3*x^5 + 6*x^4 + 3*x^3 + 4*x^2 + x + 1)\n",
    "print(F)\n",
    "G = SuperCyclotomicPolynomial(x^8 + 2*x^7 + 3*x^6 + 4*x^5 + 5*x^4 + 4*x^3 + 3*x^2 + 2*x + 1)\n",
    "print(G)\n",
    "SuperCyclotomicPolynomial(G.poly() - F.poly())"
   ]
  },
  {
   "cell_type": "code",
   "execution_count": 109,
   "id": "54d97f9c",
   "metadata": {},
   "outputs": [
    {
     "data": {
      "text/plain": [
       "8733642403180"
      ]
     },
     "execution_count": 109,
     "metadata": {},
     "output_type": "execute_result"
    }
   ],
   "source": [
    "hash(SuperCyclotomicPolynomial([2,2]))"
   ]
  },
  {
   "cell_type": "code",
   "execution_count": 110,
   "id": "af95ba99",
   "metadata": {},
   "outputs": [
    {
     "data": {
      "text/plain": [
       "8733642390015"
      ]
     },
     "execution_count": 110,
     "metadata": {},
     "output_type": "execute_result"
    }
   ],
   "source": [
    "hash(SuperCyclotomicPolynomial([2,2]))"
   ]
  },
  {
   "cell_type": "code",
   "execution_count": 36,
   "id": "404c4af6",
   "metadata": {},
   "outputs": [],
   "source": [
    "f=SuperCyclotomicPolynomial({2:4,5:1}).poly()/(10*x*SuperCyclotomicPolynomial({4:3}).poly())"
   ]
  },
  {
   "cell_type": "code",
   "execution_count": 17,
   "id": "68b29f85",
   "metadata": {},
   "outputs": [],
   "source": [
    "x = polygen(QQ)"
   ]
  },
  {
   "cell_type": "code",
   "execution_count": 37,
   "id": "24094c38",
   "metadata": {},
   "outputs": [
    {
     "data": {
      "text/plain": [
       "(1/10) * x^-2 * (x - 1)^3 * (x + 1)^3 * (x^2 + 1)^-4 * (x^4 - x^2 + 1)"
      ]
     },
     "execution_count": 37,
     "metadata": {},
     "output_type": "execute_result"
    }
   ],
   "source": [
    "f.derivative().factor()"
   ]
  },
  {
   "cell_type": "code",
   "execution_count": 24,
   "id": "4f687a34",
   "metadata": {},
   "outputs": [
    {
     "data": {
      "text/plain": [
       "(21) * (x^2 - x + 1)^3 * (x^6 + x^5 + x^4 + x^3 + x^2 + x + 1)^-2 * (x^8 + 5/3*x^7 + 1/3*x^5 + 2/3*x^4 + x^3 + 4/3*x^2 - 5/3*x + 1/3)"
      ]
     },
     "execution_count": 24,
     "metadata": {},
     "output_type": "execute_result"
    }
   ],
   "source": [
    "(1/((cyclotomic_polynomial(7)/(7*x*cyclotomic_polynomial(6)^4)))).derivative().factor()"
   ]
  },
  {
   "cell_type": "code",
   "execution_count": 33,
   "id": "102c68ae",
   "metadata": {},
   "outputs": [
    {
     "data": {
      "text/plain": [
       "x^3 + 3*x^2 + 3*x + 1"
      ]
     },
     "execution_count": 33,
     "metadata": {},
     "output_type": "execute_result"
    }
   ],
   "source": [
    "SuperCyclotomicPolynomial({2:4,5:1}).poly()"
   ]
  },
  {
   "cell_type": "code",
   "execution_count": 50,
   "id": "83102845",
   "metadata": {},
   "outputs": [
    {
     "data": {
      "text/plain": [
       "False"
      ]
     },
     "execution_count": 50,
     "metadata": {},
     "output_type": "execute_result"
    }
   ],
   "source": [
    "(1,2) in set((1,2))"
   ]
  },
  {
   "cell_type": "code",
   "execution_count": null,
   "id": "9e1c94c3",
   "metadata": {},
   "outputs": [],
   "source": []
  }
 ],
 "metadata": {
  "kernelspec": {
   "display_name": "SageMath 9.5",
   "language": "sage",
   "name": "sagemath"
  },
  "language_info": {
   "codemirror_mode": {
    "name": "ipython",
    "version": 3
   },
   "file_extension": ".py",
   "mimetype": "text/x-python",
   "name": "python",
   "nbconvert_exporter": "python",
   "pygments_lexer": "ipython3",
   "version": "3.10.6"
  }
 },
 "nbformat": 4,
 "nbformat_minor": 5
}
