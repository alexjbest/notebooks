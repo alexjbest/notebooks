{
 "cells": [
  {
   "cell_type": "code",
   "execution_count": 1,
   "id": "cfb577f4",
   "metadata": {},
   "outputs": [
    {
     "data": {
      "text/plain": [
       "Number Field in zeta13_2 with defining polynomial x^3 + x^2 - 4*x + 1 with zeta13_2 = 0.2738905549642176?"
      ]
     },
     "execution_count": 1,
     "metadata": {},
     "output_type": "execute_result"
    }
   ],
   "source": [
    "K.<zeta13_2> = CyclotomicField(13).subfields()[2][0]\n",
    "K"
   ]
  },
  {
   "cell_type": "code",
   "execution_count": 2,
   "id": "859187b5",
   "metadata": {},
   "outputs": [],
   "source": [
    "R.<x,y,c> = K[]"
   ]
  },
  {
   "cell_type": "code",
   "execution_count": 3,
   "id": "99f00d03",
   "metadata": {},
   "outputs": [],
   "source": [
    "(F1,_),(F2,_),(F3,_) = ((x^13 + y^13)/(x+y)).factor()"
   ]
  },
  {
   "cell_type": "code",
   "execution_count": 11,
   "id": "fb48c80f",
   "metadata": {},
   "outputs": [
    {
     "data": {
      "text/plain": [
       "(1/8*zeta13_2^2 + 3/16*zeta13_2 - 1/2, 1/4*zeta13_2^2 - 1/2*zeta13_2 + 1/4)"
      ]
     },
     "execution_count": 11,
     "metadata": {},
     "output_type": "execute_result"
    }
   ],
   "source": [
    "P.<X> = K[]\n",
    "(c1,_),(c2,_)=((F1+c*(x+y)^4).discriminant(x)).substitute(x=0,y=1,c=X).roots()\n",
    "c1,c2"
   ]
  },
  {
   "cell_type": "code",
   "execution_count": 12,
   "id": "1428b35b",
   "metadata": {},
   "outputs": [
    {
     "data": {
      "text/plain": [
       "(1/4*zeta13_2^2 - 1/2*zeta13_2 + 5/4)*x^4 + (-4*zeta13_2 + 3)*x^3*y + (3/2*zeta13_2^2 - 2*zeta13_2 + 7/2)*x^2*y^2 + (-4*zeta13_2 + 3)*x*y^3 + (1/4*zeta13_2^2 - 1/2*zeta13_2 + 5/4)*y^4"
      ]
     },
     "execution_count": 12,
     "metadata": {},
     "output_type": "execute_result"
    }
   ],
   "source": [
    "((H2,_),) = (F1+c2*(x+y)^4).factor()\n",
    "d = K((F1+c2*(x+y)^4)//H2^2)\n",
    "assert (F1+c2*(x+y)^4) == d*H2^2\n",
    "(F1+c2*(x+y)^4)"
   ]
  },
  {
   "cell_type": "code",
   "execution_count": 6,
   "id": "14a65798",
   "metadata": {},
   "outputs": [
    {
     "data": {
      "text/plain": [
       "1/4*zeta13_2^2 - 1/2*zeta13_2 + 5/4"
      ]
     },
     "execution_count": 6,
     "metadata": {},
     "output_type": "execute_result"
    }
   ],
   "source": [
    "d"
   ]
  },
  {
   "cell_type": "code",
   "execution_count": 13,
   "id": "2eb1ce79",
   "metadata": {},
   "outputs": [
    {
     "data": {
      "text/plain": [
       "x^3 - 13078784/126953125*x^2 + 50200576/21455078125*x - 16777216/3625908203125"
      ]
     },
     "execution_count": 13,
     "metadata": {},
     "output_type": "execute_result"
    }
   ],
   "source": [
    "(c2/(d^5)).minpoly()"
   ]
  },
  {
   "cell_type": "code",
   "execution_count": 17,
   "id": "490595a1",
   "metadata": {},
   "outputs": [
    {
     "name": "stdout",
     "output_type": "stream",
     "text": [
      "[\n",
      "<s + 1, 1>,\n",
      "<s^4 + a*s^3 + (a^2 + a - 1)*s^2 + a*s + 1, 1>,\n",
      "<s^4 + (-a^2 - 2*a + 2)*s^3 + (a + 2)*s^2 + (-a^2 - 2*a + 2)*s + 1, 1>,\n",
      "<s^4 + (a^2 + a - 3)*s^3 + (-a^2 - 2*a + 4)*s^2 + (a^2 + a - 3)*s + 1, 1>\n",
      "]\n",
      "{@ (1 : 0 : 0), (1/325*(28*a^2 + 80*a - 92) : 1/105625*(-6416*a^2 - 10960*a - 976) : 1), (1/325*(28*a^2 + 80*a - 92) : 1/105625*(6416*a^2 + 10960*a + 976) : 1) @}\n",
      "{@ (1 : 0 : 0) @}\n",
      "Abelian Group of order 1\n",
      "Mapping from: Abelian Group of order 1 to JacHyp: Jb given by a rule [no inverse]\n"
     ]
    }
   ],
   "source": [
    "%%magma\n",
    "\n",
    "//AttachSpec(\"~/CHIMP/CHIMP.spec\");\n",
    "C13<z>:=CyclotomicField(13);\n",
    "m4:=ChangeRing(MinimalPolynomial(z+1/z+z^5+1/(z^5)), Rationals());\n",
    "K3<a>:=NumberField(m4);\n",
    "_<s>:=PolynomialRing(K3);\n",
    "Fac:=Factorization(s^13+1);\n",
    "print Fac;\n",
    "F:=Fac[2,1];\n",
    "\n",
    "assert F eq s^4 + a*s^3 + (a^2 + a - 1)*s^2 + a*s + 1;\n",
    "c:=1/4*(-4*a^2 - 5*a + 15);\n",
    "G:=c*(s+1)^4;\n",
    "d:=1/4*(-4*a^2 - 5*a + 19);\n",
    "H:=d*(s^2 + 1/5*(-2*a^2 + 8)*s + 1)^2;\n",
    "\n",
    "assert H eq F+G;\n",
    "\n",
    "C:=HyperellipticCurve(s^5+c/d^5);\n",
    "R:=RationalPoints(C:Bound:=100);R;\n",
    "\n",
    "    \n",
    "// Curve for pseudo solution (1,1,*) etc.\n",
    "e:=Evaluate(F,1);\n",
    "Cb:=HyperellipticCurve(e*s^5+c/d^5);\n",
    "Rb:=RationalPoints(Cb:Bound:=100);Rb; // Found only point at infinity\n",
    "Jb:=Jacobian(Cb);\n",
    "// TwoSelmerGroup without GRH takes a bit more than a couple of minutes..\n",
    "//time S2b:=TwoSelmerGroup(Jb);#S2b; // rank 1\n",
    "TwoTorsionSubgroup(Jb);\n",
    "// so rank Jb = 0 or 1\n",
    "\n",
    "    "
   ]
  },
  {
   "cell_type": "code",
   "execution_count": 18,
   "id": "13356a1a",
   "metadata": {},
   "outputs": [
    {
     "name": "stdout",
     "output_type": "stream",
     "text": [
      "$.1^3 - 13078784/126953125*$.1^2 + 50200576/21455078125*$.1 - 16777216/3625908203125\n"
     ]
    }
   ],
   "source": [
    "%%magma\n",
    "MinimalPolynomial(c/d^5);"
   ]
  },
  {
   "cell_type": "code",
   "execution_count": 10,
   "id": "c19ac831",
   "metadata": {},
   "outputs": [
    {
     "name": "stdout",
     "output_type": "stream",
     "text": [
      "\n"
     ]
    }
   ],
   "source": [
    "%%magma\n",
    "zeta13_2 := Roots(MinimalPolynomial(a),K3)[2][1];"
   ]
  },
  {
   "cell_type": "code",
   "execution_count": 11,
   "id": "9093e89c",
   "metadata": {},
   "outputs": [
    {
     "name": "stdout",
     "output_type": "stream",
     "text": [
      "Hyperelliptic Curve defined by y^2 = 4*x^5 + 1677*a^2 - 2769*a + 637 over K3\n",
      "{@ (1 : 0 : 0), (a - 1 : 11*a^2 - 18*a + 6 : 1), (a - 1 : -11*a^2 + 18*a - 6 : 1), (a^2 - a + 1 : -65*a^2 + 104*a - 26 : 1), (a^2 - a + 1 : 65*a^2 - 104*a + 26 : 1) @}\n"
     ]
    }
   ],
   "source": [
    "%%magma\n",
    "f:=4*s^5 + 1677*a^2 - 2769*a + 637;\n",
    "f:=2^2*s^5 + (zeta13_2)^(-10)*(zeta13_2^2 + zeta13_2 - 3)^(-10)*(-zeta13_2^2 + 3)^(10)*(-zeta13_2^2 - zeta13_2 + 2)^10*(c/d^5)/(2^8);\n",
    "C:= HyperellipticCurve(f);\n",
    "C;\n",
    "R:=RationalPoints(C:Bound:=10);R;\n",
    "//J:=Jacobian(C);\n",
    "//SetClassGroupBounds(\"GRH\");\n"
   ]
  },
  {
   "cell_type": "markdown",
   "id": "d824b828",
   "metadata": {},
   "source": [
    "# Pseudo"
   ]
  },
  {
   "cell_type": "code",
   "execution_count": 12,
   "id": "0bf4c696",
   "metadata": {},
   "outputs": [
    {
     "name": "stdout",
     "output_type": "stream",
     "text": [
      "Hyperelliptic Curve defined by y^2 = (4*a^2 + 12*a + 4)*x^5 + 1677*a^2 - 2769*a + 637 over K3\n",
      "{@ (1 : 0 : 0) @}\n"
     ]
    }
   ],
   "source": [
    "%%magma\n",
    "f:=4*s^5 + 1677*a^2 - 2769*a + 637;\n",
    "f:=e*2^2*s^5 + (zeta13_2)^(-10)*(zeta13_2^2 + zeta13_2 - 3)^(-10)*(-zeta13_2^2 + 3)^(10)*(-zeta13_2^2 - zeta13_2 + 2)^10*(c/d^5)/(2^8);\n",
    "C:= HyperellipticCurve(f);\n",
    "C;\n",
    "R:=RationalPoints(C:Bound:=10);R;\n",
    "//J:=Jacobian(C);\n",
    "//SetClassGroupBounds(\"GRH\");\n"
   ]
  },
  {
   "cell_type": "code",
   "execution_count": 107,
   "id": "db9d6cf3",
   "metadata": {},
   "outputs": [
    {
     "name": "stdout",
     "output_type": "stream",
     "text": [
      "[\n",
      "<s^5 + 1/4*(22360*a^2 - 36920*a + 8437), 1>\n",
      "]\n"
     ]
    }
   ],
   "source": [
    "%%magma\n",
    "Factorization(f);"
   ]
  },
  {
   "cell_type": "code",
   "execution_count": 109,
   "id": "75ca20b5",
   "metadata": {},
   "outputs": [
    {
     "name": "stdout",
     "output_type": "stream",
     "text": [
      "Number Field with defining polynomial x^3 + x^2 - 4*x + 1 over the Rational Field\n"
     ]
    }
   ],
   "source": [
    "%%magma\n",
    "K3"
   ]
  },
  {
   "cell_type": "code",
   "execution_count": 17,
   "id": "bfade9e2",
   "metadata": {},
   "outputs": [
    {
     "name": "stdout",
     "output_type": "stream",
     "text": [
      "{@ (1 : 0 : 0) @}\n"
     ]
    }
   ],
   "source": [
    "%%magma\n",
    "_<xx>:=PolynomialRing(K3);\n",
    "K4:=NumberField(xx^2 - 5);\n",
    "RationalPoints(HyperellipticCurve(ChangeRing(f, K4)):Bound:=5);"
   ]
  },
  {
   "cell_type": "code",
   "execution_count": 22,
   "id": "8f68dc47",
   "metadata": {},
   "outputs": [
    {
     "ename": "RuntimeError",
     "evalue": "Error evaluating Magma code.\nIN:HeuristicJacobianFactors(HyperellipticCurve(f), K3);\nOUT:\n>> HeuristicJacobianFactors(HyperellipticCurve(f), K3);\n                           ^\nRuntime error in 'HeuristicJacobianFactors': Bad argument types\nArgument types given: CrvHyp[FldNum[FldRat]], FldNum[FldRat]\n",
     "output_type": "error",
     "traceback": [
      "\u001b[1;31m---------------------------------------------------------------------------\u001b[0m",
      "\u001b[1;31mRuntimeError\u001b[0m                              Traceback (most recent call last)",
      "\u001b[1;32m<ipython-input-22-b56c499a6aa2>\u001b[0m in \u001b[0;36m<module>\u001b[1;34m\u001b[0m\n\u001b[1;32m----> 1\u001b[1;33m \u001b[0mget_ipython\u001b[0m\u001b[1;33m(\u001b[0m\u001b[1;33m)\u001b[0m\u001b[1;33m.\u001b[0m\u001b[0mrun_cell_magic\u001b[0m\u001b[1;33m(\u001b[0m\u001b[1;34m'magma'\u001b[0m\u001b[1;33m,\u001b[0m \u001b[1;34m''\u001b[0m\u001b[1;33m,\u001b[0m \u001b[1;34m'HeuristicJacobianFactors(HyperellipticCurve(f), K3);\\n'\u001b[0m\u001b[1;33m)\u001b[0m\u001b[1;33m\u001b[0m\u001b[1;33m\u001b[0m\u001b[0m\n\u001b[0m",
      "\u001b[1;32m/usr/local/Caskroom/miniconda/base/envs/sage/lib/python3.8/site-packages/IPython/core/interactiveshell.py\u001b[0m in \u001b[0;36mrun_cell_magic\u001b[1;34m(self, magic_name, line, cell)\u001b[0m\n\u001b[0;32m   2401\u001b[0m             \u001b[1;32mwith\u001b[0m \u001b[0mself\u001b[0m\u001b[1;33m.\u001b[0m\u001b[0mbuiltin_trap\u001b[0m\u001b[1;33m:\u001b[0m\u001b[1;33m\u001b[0m\u001b[1;33m\u001b[0m\u001b[0m\n\u001b[0;32m   2402\u001b[0m                 \u001b[0margs\u001b[0m \u001b[1;33m=\u001b[0m \u001b[1;33m(\u001b[0m\u001b[0mmagic_arg_s\u001b[0m\u001b[1;33m,\u001b[0m \u001b[0mcell\u001b[0m\u001b[1;33m)\u001b[0m\u001b[1;33m\u001b[0m\u001b[1;33m\u001b[0m\u001b[0m\n\u001b[1;32m-> 2403\u001b[1;33m                 \u001b[0mresult\u001b[0m \u001b[1;33m=\u001b[0m \u001b[0mfn\u001b[0m\u001b[1;33m(\u001b[0m\u001b[1;33m*\u001b[0m\u001b[0margs\u001b[0m\u001b[1;33m,\u001b[0m \u001b[1;33m**\u001b[0m\u001b[0mkwargs\u001b[0m\u001b[1;33m)\u001b[0m\u001b[1;33m\u001b[0m\u001b[1;33m\u001b[0m\u001b[0m\n\u001b[0m\u001b[0;32m   2404\u001b[0m             \u001b[1;32mreturn\u001b[0m \u001b[0mresult\u001b[0m\u001b[1;33m\u001b[0m\u001b[1;33m\u001b[0m\u001b[0m\n\u001b[0;32m   2405\u001b[0m \u001b[1;33m\u001b[0m\u001b[0m\n",
      "\u001b[1;32m/usr/local/Caskroom/miniconda/base/envs/sage/lib/python3.8/site-packages/sage/repl/interface_magic.py\u001b[0m in \u001b[0;36mcell_magic\u001b[1;34m(line, cell)\u001b[0m\n\u001b[0;32m    294\u001b[0m             \u001b[1;32mif\u001b[0m \u001b[0mline\u001b[0m\u001b[1;33m:\u001b[0m\u001b[1;33m\u001b[0m\u001b[1;33m\u001b[0m\u001b[0m\n\u001b[0;32m    295\u001b[0m                 \u001b[1;32mraise\u001b[0m \u001b[0mSyntaxError\u001b[0m\u001b[1;33m(\u001b[0m\u001b[1;34m'Interface magics have no options, got \"{0}\"'\u001b[0m\u001b[1;33m.\u001b[0m\u001b[0mformat\u001b[0m\u001b[1;33m(\u001b[0m\u001b[0mline\u001b[0m\u001b[1;33m)\u001b[0m\u001b[1;33m)\u001b[0m\u001b[1;33m\u001b[0m\u001b[1;33m\u001b[0m\u001b[0m\n\u001b[1;32m--> 296\u001b[1;33m             \u001b[0moutput\u001b[0m \u001b[1;33m=\u001b[0m \u001b[0mself\u001b[0m\u001b[1;33m.\u001b[0m\u001b[0m_interface\u001b[0m\u001b[1;33m.\u001b[0m\u001b[0meval\u001b[0m\u001b[1;33m(\u001b[0m\u001b[0mcell\u001b[0m\u001b[1;33m)\u001b[0m\u001b[1;33m\u001b[0m\u001b[1;33m\u001b[0m\u001b[0m\n\u001b[0m\u001b[0;32m    297\u001b[0m             \u001b[0mprint\u001b[0m\u001b[1;33m(\u001b[0m\u001b[0moutput\u001b[0m\u001b[1;33m)\u001b[0m\u001b[1;33m\u001b[0m\u001b[1;33m\u001b[0m\u001b[0m\n\u001b[0;32m    298\u001b[0m         \u001b[0mcell_magic\u001b[0m\u001b[1;33m.\u001b[0m\u001b[0m__doc__\u001b[0m \u001b[1;33m=\u001b[0m \u001b[0mCELL_DOCSTRING\u001b[0m\u001b[1;33m.\u001b[0m\u001b[0mformat\u001b[0m\u001b[1;33m(\u001b[0m\u001b[0mname\u001b[0m\u001b[1;33m=\u001b[0m\u001b[0mself\u001b[0m\u001b[1;33m.\u001b[0m\u001b[0m_name\u001b[0m\u001b[1;33m)\u001b[0m\u001b[1;33m\u001b[0m\u001b[1;33m\u001b[0m\u001b[0m\n",
      "\u001b[1;32m/usr/local/Caskroom/miniconda/base/envs/sage/lib/python3.8/site-packages/sage/interfaces/magma.py\u001b[0m in \u001b[0;36meval\u001b[1;34m(self, x, strip, **kwds)\u001b[0m\n\u001b[0;32m    560\u001b[0m         \u001b[0mans\u001b[0m \u001b[1;33m=\u001b[0m \u001b[0mExpect\u001b[0m\u001b[1;33m.\u001b[0m\u001b[0meval\u001b[0m\u001b[1;33m(\u001b[0m\u001b[0mself\u001b[0m\u001b[1;33m,\u001b[0m \u001b[0mx\u001b[0m\u001b[1;33m,\u001b[0m \u001b[1;33m**\u001b[0m\u001b[0mkwds\u001b[0m\u001b[1;33m)\u001b[0m\u001b[1;33m.\u001b[0m\u001b[0mreplace\u001b[0m\u001b[1;33m(\u001b[0m\u001b[1;34m'\\\\\\n'\u001b[0m\u001b[1;33m,\u001b[0m \u001b[1;34m''\u001b[0m\u001b[1;33m)\u001b[0m\u001b[1;33m\u001b[0m\u001b[1;33m\u001b[0m\u001b[0m\n\u001b[0;32m    561\u001b[0m         \u001b[1;32mif\u001b[0m \u001b[1;34m'Runtime error'\u001b[0m \u001b[1;32min\u001b[0m \u001b[0mans\u001b[0m \u001b[1;32mor\u001b[0m \u001b[1;34m'User error'\u001b[0m \u001b[1;32min\u001b[0m \u001b[0mans\u001b[0m\u001b[1;33m:\u001b[0m\u001b[1;33m\u001b[0m\u001b[1;33m\u001b[0m\u001b[0m\n\u001b[1;32m--> 562\u001b[1;33m             \u001b[1;32mraise\u001b[0m \u001b[0mRuntimeError\u001b[0m\u001b[1;33m(\u001b[0m\u001b[1;34m\"Error evaluating Magma code.\\nIN:%s\\nOUT:%s\"\u001b[0m \u001b[1;33m%\u001b[0m \u001b[1;33m(\u001b[0m\u001b[0mx\u001b[0m\u001b[1;33m,\u001b[0m \u001b[0mans\u001b[0m\u001b[1;33m)\u001b[0m\u001b[1;33m)\u001b[0m\u001b[1;33m\u001b[0m\u001b[1;33m\u001b[0m\u001b[0m\n\u001b[0m\u001b[0;32m    563\u001b[0m         \u001b[1;32mreturn\u001b[0m \u001b[0mans\u001b[0m\u001b[1;33m\u001b[0m\u001b[1;33m\u001b[0m\u001b[0m\n\u001b[0;32m    564\u001b[0m \u001b[1;33m\u001b[0m\u001b[0m\n",
      "\u001b[1;31mRuntimeError\u001b[0m: Error evaluating Magma code.\nIN:HeuristicJacobianFactors(HyperellipticCurve(f), K3);\nOUT:\n>> HeuristicJacobianFactors(HyperellipticCurve(f), K3);\n                           ^\nRuntime error in 'HeuristicJacobianFactors': Bad argument types\nArgument types given: CrvHyp[FldNum[FldRat]], FldNum[FldRat]\n"
     ]
    }
   ],
   "source": [
    "%%magma\n",
    "HeuristicJacobianFactors(HyperellipticCurve(f), K3);"
   ]
  },
  {
   "cell_type": "code",
   "execution_count": 16,
   "id": "11074aa6",
   "metadata": {},
   "outputs": [
    {
     "ename": "RuntimeError",
     "evalue": "Error evaluating Magma code.\nIN:_<xx>:=PolynomialRing(K3);\nK6:=NumberField(xx^6 - xx^5 - 12*xx^4 + 13*xx^3 + 19*xx^2 - 10*xx - 5);\nRationalPoints(HyperellipticCurve(ChangeRing(f, K6)):Bound:=1);\nOUT:\nIn file \"/Users/alex/.sage/temp/Alexs-MacBook-Pro.local/89702/interface/tmp89801\", line 2, column 16:\n>> K6:=NumberField(xx^6 - xx^5 - 12*xx^4 + 13*xx^3 + 19*xx^2 - 10*xx - 5);\n                  ^\nRuntime error in 'NumberField': Argument 1 is not irreducible\n",
     "output_type": "error",
     "traceback": [
      "\u001b[1;31m---------------------------------------------------------------------------\u001b[0m",
      "\u001b[1;31mRuntimeError\u001b[0m                              Traceback (most recent call last)",
      "\u001b[1;32m<ipython-input-16-214451446f3f>\u001b[0m in \u001b[0;36m<module>\u001b[1;34m\u001b[0m\n\u001b[1;32m----> 1\u001b[1;33m \u001b[0mget_ipython\u001b[0m\u001b[1;33m(\u001b[0m\u001b[1;33m)\u001b[0m\u001b[1;33m.\u001b[0m\u001b[0mrun_cell_magic\u001b[0m\u001b[1;33m(\u001b[0m\u001b[1;34m'magma'\u001b[0m\u001b[1;33m,\u001b[0m \u001b[1;34m''\u001b[0m\u001b[1;33m,\u001b[0m \u001b[1;34m'_<xx>:=PolynomialRing(K3);\\nK6:=NumberField(xx^6 - xx^5 - 12*xx^4 + 13*xx^3 + 19*xx^2 - 10*xx - 5);\\nRationalPoints(HyperellipticCurve(ChangeRing(f, K6)):Bound:=1);\\n'\u001b[0m\u001b[1;33m)\u001b[0m\u001b[1;33m\u001b[0m\u001b[1;33m\u001b[0m\u001b[0m\n\u001b[0m",
      "\u001b[1;32m/usr/local/Caskroom/miniconda/base/envs/sage/lib/python3.8/site-packages/IPython/core/interactiveshell.py\u001b[0m in \u001b[0;36mrun_cell_magic\u001b[1;34m(self, magic_name, line, cell)\u001b[0m\n\u001b[0;32m   2401\u001b[0m             \u001b[1;32mwith\u001b[0m \u001b[0mself\u001b[0m\u001b[1;33m.\u001b[0m\u001b[0mbuiltin_trap\u001b[0m\u001b[1;33m:\u001b[0m\u001b[1;33m\u001b[0m\u001b[1;33m\u001b[0m\u001b[0m\n\u001b[0;32m   2402\u001b[0m                 \u001b[0margs\u001b[0m \u001b[1;33m=\u001b[0m \u001b[1;33m(\u001b[0m\u001b[0mmagic_arg_s\u001b[0m\u001b[1;33m,\u001b[0m \u001b[0mcell\u001b[0m\u001b[1;33m)\u001b[0m\u001b[1;33m\u001b[0m\u001b[1;33m\u001b[0m\u001b[0m\n\u001b[1;32m-> 2403\u001b[1;33m                 \u001b[0mresult\u001b[0m \u001b[1;33m=\u001b[0m \u001b[0mfn\u001b[0m\u001b[1;33m(\u001b[0m\u001b[1;33m*\u001b[0m\u001b[0margs\u001b[0m\u001b[1;33m,\u001b[0m \u001b[1;33m**\u001b[0m\u001b[0mkwargs\u001b[0m\u001b[1;33m)\u001b[0m\u001b[1;33m\u001b[0m\u001b[1;33m\u001b[0m\u001b[0m\n\u001b[0m\u001b[0;32m   2404\u001b[0m             \u001b[1;32mreturn\u001b[0m \u001b[0mresult\u001b[0m\u001b[1;33m\u001b[0m\u001b[1;33m\u001b[0m\u001b[0m\n\u001b[0;32m   2405\u001b[0m \u001b[1;33m\u001b[0m\u001b[0m\n",
      "\u001b[1;32m/usr/local/Caskroom/miniconda/base/envs/sage/lib/python3.8/site-packages/sage/repl/interface_magic.py\u001b[0m in \u001b[0;36mcell_magic\u001b[1;34m(line, cell)\u001b[0m\n\u001b[0;32m    294\u001b[0m             \u001b[1;32mif\u001b[0m \u001b[0mline\u001b[0m\u001b[1;33m:\u001b[0m\u001b[1;33m\u001b[0m\u001b[1;33m\u001b[0m\u001b[0m\n\u001b[0;32m    295\u001b[0m                 \u001b[1;32mraise\u001b[0m \u001b[0mSyntaxError\u001b[0m\u001b[1;33m(\u001b[0m\u001b[1;34m'Interface magics have no options, got \"{0}\"'\u001b[0m\u001b[1;33m.\u001b[0m\u001b[0mformat\u001b[0m\u001b[1;33m(\u001b[0m\u001b[0mline\u001b[0m\u001b[1;33m)\u001b[0m\u001b[1;33m)\u001b[0m\u001b[1;33m\u001b[0m\u001b[1;33m\u001b[0m\u001b[0m\n\u001b[1;32m--> 296\u001b[1;33m             \u001b[0moutput\u001b[0m \u001b[1;33m=\u001b[0m \u001b[0mself\u001b[0m\u001b[1;33m.\u001b[0m\u001b[0m_interface\u001b[0m\u001b[1;33m.\u001b[0m\u001b[0meval\u001b[0m\u001b[1;33m(\u001b[0m\u001b[0mcell\u001b[0m\u001b[1;33m)\u001b[0m\u001b[1;33m\u001b[0m\u001b[1;33m\u001b[0m\u001b[0m\n\u001b[0m\u001b[0;32m    297\u001b[0m             \u001b[0mprint\u001b[0m\u001b[1;33m(\u001b[0m\u001b[0moutput\u001b[0m\u001b[1;33m)\u001b[0m\u001b[1;33m\u001b[0m\u001b[1;33m\u001b[0m\u001b[0m\n\u001b[0;32m    298\u001b[0m         \u001b[0mcell_magic\u001b[0m\u001b[1;33m.\u001b[0m\u001b[0m__doc__\u001b[0m \u001b[1;33m=\u001b[0m \u001b[0mCELL_DOCSTRING\u001b[0m\u001b[1;33m.\u001b[0m\u001b[0mformat\u001b[0m\u001b[1;33m(\u001b[0m\u001b[0mname\u001b[0m\u001b[1;33m=\u001b[0m\u001b[0mself\u001b[0m\u001b[1;33m.\u001b[0m\u001b[0m_name\u001b[0m\u001b[1;33m)\u001b[0m\u001b[1;33m\u001b[0m\u001b[1;33m\u001b[0m\u001b[0m\n",
      "\u001b[1;32m/usr/local/Caskroom/miniconda/base/envs/sage/lib/python3.8/site-packages/sage/interfaces/magma.py\u001b[0m in \u001b[0;36meval\u001b[1;34m(self, x, strip, **kwds)\u001b[0m\n\u001b[0;32m    560\u001b[0m         \u001b[0mans\u001b[0m \u001b[1;33m=\u001b[0m \u001b[0mExpect\u001b[0m\u001b[1;33m.\u001b[0m\u001b[0meval\u001b[0m\u001b[1;33m(\u001b[0m\u001b[0mself\u001b[0m\u001b[1;33m,\u001b[0m \u001b[0mx\u001b[0m\u001b[1;33m,\u001b[0m \u001b[1;33m**\u001b[0m\u001b[0mkwds\u001b[0m\u001b[1;33m)\u001b[0m\u001b[1;33m.\u001b[0m\u001b[0mreplace\u001b[0m\u001b[1;33m(\u001b[0m\u001b[1;34m'\\\\\\n'\u001b[0m\u001b[1;33m,\u001b[0m \u001b[1;34m''\u001b[0m\u001b[1;33m)\u001b[0m\u001b[1;33m\u001b[0m\u001b[1;33m\u001b[0m\u001b[0m\n\u001b[0;32m    561\u001b[0m         \u001b[1;32mif\u001b[0m \u001b[1;34m'Runtime error'\u001b[0m \u001b[1;32min\u001b[0m \u001b[0mans\u001b[0m \u001b[1;32mor\u001b[0m \u001b[1;34m'User error'\u001b[0m \u001b[1;32min\u001b[0m \u001b[0mans\u001b[0m\u001b[1;33m:\u001b[0m\u001b[1;33m\u001b[0m\u001b[1;33m\u001b[0m\u001b[0m\n\u001b[1;32m--> 562\u001b[1;33m             \u001b[1;32mraise\u001b[0m \u001b[0mRuntimeError\u001b[0m\u001b[1;33m(\u001b[0m\u001b[1;34m\"Error evaluating Magma code.\\nIN:%s\\nOUT:%s\"\u001b[0m \u001b[1;33m%\u001b[0m \u001b[1;33m(\u001b[0m\u001b[0mx\u001b[0m\u001b[1;33m,\u001b[0m \u001b[0mans\u001b[0m\u001b[1;33m)\u001b[0m\u001b[1;33m)\u001b[0m\u001b[1;33m\u001b[0m\u001b[1;33m\u001b[0m\u001b[0m\n\u001b[0m\u001b[0;32m    563\u001b[0m         \u001b[1;32mreturn\u001b[0m \u001b[0mans\u001b[0m\u001b[1;33m\u001b[0m\u001b[1;33m\u001b[0m\u001b[0m\n\u001b[0;32m    564\u001b[0m \u001b[1;33m\u001b[0m\u001b[0m\n",
      "\u001b[1;31mRuntimeError\u001b[0m: Error evaluating Magma code.\nIN:_<xx>:=PolynomialRing(K3);\nK6:=NumberField(xx^6 - xx^5 - 12*xx^4 + 13*xx^3 + 19*xx^2 - 10*xx - 5);\nRationalPoints(HyperellipticCurve(ChangeRing(f, K6)):Bound:=1);\nOUT:\nIn file \"/Users/alex/.sage/temp/Alexs-MacBook-Pro.local/89702/interface/tmp89801\", line 2, column 16:\n>> K6:=NumberField(xx^6 - xx^5 - 12*xx^4 + 13*xx^3 + 19*xx^2 - 10*xx - 5);\n                  ^\nRuntime error in 'NumberField': Argument 1 is not irreducible\n"
     ]
    }
   ],
   "source": [
    "%%magma\n",
    "_<xx>:=PolynomialRing(K3);\n",
    "K6:=NumberField(xx^6 - xx^5 - 12*xx^4 + 13*xx^3 + 19*xx^2 - 10*xx - 5);\n",
    "RationalPoints(HyperellipticCurve(ChangeRing(f, K6)):Bound:=1);"
   ]
  },
  {
   "cell_type": "code",
   "execution_count": 13,
   "id": "3ad2ead3",
   "metadata": {},
   "outputs": [
    {
     "name": "stdout",
     "output_type": "stream",
     "text": [
      "\n"
     ]
    }
   ],
   "source": [
    "%%magma\n",
    "fs:=Subfields(SplittingField(f)); "
   ]
  },
  {
   "cell_type": "code",
   "execution_count": 14,
   "id": "d9a4984d",
   "metadata": {},
   "outputs": [
    {
     "name": "stdout",
     "output_type": "stream",
     "text": [
      "[\n",
      "<Number Field with defining polynomial 16777216*$.1^60 + 45492093286481920000*$.1^50 + 986829077084219813965414400000*$.1^40 + 221583934123176476827352000000000*$.1^30 + 3340661108068865131612945000000000*$.1^20 + 5371874495248625773041699218750000*$.1^10 + 579985466762719709436065673828125 over the Rational Field, Mapping from: Number Field with defining polynomial 16777216*$.1^60 + 45492093286481920000*$.1^50 + 986829077084219813965414400000*$.1^40 + 221583934123176476827352000000000*$.1^30 + 3340661108068865131612945000000000*$.1^20 + 5371874495248625773041699218750000*$.1^10 + 579985466762719709436065673828125 over the Rational Field to Number Field with defining polynomial 16777216*$.1^60 + 45492093286481920000*$.1^50 + 986829077084219813965414400000*$.1^40 + 221583934123176476827352000000000*$.1^30 + 3340661108068865131612945000000000*$.1^20 + 5371874495248625773041699218750000*$.1^10 + 579985466762719709436065673828125 over the Rational Field>,\n",
      "<Number Field with defining polynomial $.1^2 - 8611192834855936000000000*$.1 + 39856297790418818304680394752000000000000000 over the Rational Field, Mapping from: Number Field with defining polynomial $.1^2 - 8611192834855936000000000*$.1 + 39856297790418818304680394752000000000000000 over the Rational Field to Number Field with defining polynomial 16777216*$.1^60 + 45492093286481920000*$.1^50 + 986829077084219813965414400000*$.1^40 + 221583934123176476827352000000000*$.1^30 + 3340661108068865131612945000000000*$.1^20 + 5371874495248625773041699218750000*$.1^10 + 579985466762719709436065673828125 over the Rational Field>,\n",
      "<Number Field with defining polynomial $.1^3 - 61676816679335227008038400000*$.1^2 + 22950086018138164321452523520000000000*$.1 - 39856297790418818304680394752000000000000000 over the Rational Field, Mapping from: Number Field with defining polynomial $.1^3 - 61676816679335227008038400000*$.1^2 + 22950086018138164321452523520000000000*$.1 - 39856297790418818304680394752000000000000000 over the Rational Field to Number Field with defining polynomial 16777216*$.1^60 + 45492093286481920000*$.1^50 + 986829077084219813965414400000*$.1^40 + 221583934123176476827352000000000*$.1^30 + 3340661108068865131612945000000000*$.1^20 + 5371874495248625773041699218750000*$.1^10 + 579985466762719709436065673828125 over the Rational Field>,\n",
      "<Number Field with defining polynomial $.1^4 + 8611192834855936000000000*$.1^2 + 39856297790418818304680394752000000000000000 over the Rational Field, Mapping from: Number Field with defining polynomial $.1^4 + 8611192834855936000000000*$.1^2 + 39856297790418818304680394752000000000000000 over the Rational Field to Number Field with defining polynomial 16777216*$.1^60 + 45492093286481920000*$.1^50 + 986829077084219813965414400000*$.1^40 + 221583934123176476827352000000000*$.1^30 + 3340661108068865131612945000000000*$.1^20 + 5371874495248625773041699218750000*$.1^10 + 579985466762719709436065673828125 over the Rational Field>,\n",
      "<Number Field with defining polynomial $.1^6 - 2776617021880000*$.1^5 + 61676817317763738372838400000*$.1^4 - 14181371783883294516950528000000000*$.1^3 + 218933566378401145265385963520000000000*$.1^2 - 360500394926708673189950259200000000000000*$.1 + 39856297790418818304680394752000000000000000 over the Rational Field, Mapping from: Number Field with defining polynomial $.1^6 - 2776617021880000*$.1^5 + 61676817317763738372838400000*$.1^4 - 14181371783883294516950528000000000*$.1^3 + 218933566378401145265385963520000000000*$.1^2 - 360500394926708673189950259200000000000000*$.1 + 39856297790418818304680394752000000000000000 over the Rational Field to Number Field with defining polynomial 16777216*$.1^60 + 45492093286481920000*$.1^50 + 986829077084219813965414400000*$.1^40 + 221583934123176476827352000000000*$.1^30 + 3340661108068865131612945000000000*$.1^20 + 5371874495248625773041699218750000*$.1^10 + 579985466762719709436065673828125 over the Rational Field>,\n",
      "<Number Field with defining polynomial $.1^12 + 2776617021880000*$.1^10 + 61676817317763738372838400000*$.1^8 + 14181371783883294516950528000000000*$.1^6 + 218933566378401145265385963520000000000*$.1^4 + 360500394926708673189950259200000000000000*$.1^2 + 39856297790418818304680394752000000000000000 over the Rational Field, Mapping from: Number Field with defining polynomial $.1^12 + 2776617021880000*$.1^10 + 61676817317763738372838400000*$.1^8 + 14181371783883294516950528000000000*$.1^6 + 218933566378401145265385963520000000000*$.1^4 + 360500394926708673189950259200000000000000*$.1^2 + 39856297790418818304680394752000000000000000 over the Rational Field to Number Field with defining polynomial 16777216*$.1^60 + 45492093286481920000*$.1^50 + 986829077084219813965414400000*$.1^40 + 221583934123176476827352000000000*$.1^30 + 3340661108068865131612945000000000*$.1^20 + 5371874495248625773041699218750000*$.1^10 + 579985466762719709436065673828125 over the Rational Field>,\n",
      "<Number Field with defining polynomial $.1^15 - 61676816679335227008038400000*$.1^10 + 22950086018138164321452523520000000000*$.1^5 - 39856297790418818304680394752000000000000000 over the Rational Field, Mapping from: Number Field with defining polynomial $.1^15 - 61676816679335227008038400000*$.1^10 + 22950086018138164321452523520000000000*$.1^5 - 39856297790418818304680394752000000000000000 over the Rational Field to Number Field with defining polynomial 16777216*$.1^60 + 45492093286481920000*$.1^50 + 986829077084219813965414400000*$.1^40 + 221583934123176476827352000000000*$.1^30 + 3340661108068865131612945000000000*$.1^20 + 5371874495248625773041699218750000*$.1^10 + 579985466762719709436065673828125 over the Rational Field>,\n",
      "<Number Field with defining polynomial $.1^15 - 61676816679335227008038400000*$.1^10 + 22950086018138164321452523520000000000*$.1^5 - 39856297790418818304680394752000000000000000 over the Rational Field, Mapping from: Number Field with defining polynomial $.1^15 - 61676816679335227008038400000*$.1^10 + 22950086018138164321452523520000000000*$.1^5 - 39856297790418818304680394752000000000000000 over the Rational Field to Number Field with defining polynomial 16777216*$.1^60 + 45492093286481920000*$.1^50 + 986829077084219813965414400000*$.1^40 + 221583934123176476827352000000000*$.1^30 + 3340661108068865131612945000000000*$.1^20 + 5371874495248625773041699218750000*$.1^10 + 579985466762719709436065673828125 over the Rational Field>,\n",
      "<Number Field with defining polynomial $.1^15 - 61676816679335227008038400000*$.1^10 + 22950086018138164321452523520000000000*$.1^5 - 39856297790418818304680394752000000000000000 over the Rational Field, Mapping from: Number Field with defining polynomial $.1^15 - 61676816679335227008038400000*$.1^10 + 22950086018138164321452523520000000000*$.1^5 - 39856297790418818304680394752000000000000000 over the Rational Field to Number Field with defining polynomial 16777216*$.1^60 + 45492093286481920000*$.1^50 + 986829077084219813965414400000*$.1^40 + 221583934123176476827352000000000*$.1^30 + 3340661108068865131612945000000000*$.1^20 + 5371874495248625773041699218750000*$.1^10 + 579985466762719709436065673828125 over the Rational Field>,\n",
      "<Number Field with defining polynomial $.1^15 - 61676816679335227008038400000*$.1^10 + 22950086018138164321452523520000000000*$.1^5 - 39856297790418818304680394752000000000000000 over the Rational Field, Mapping from: Number Field with defining polynomial $.1^15 - 61676816679335227008038400000*$.1^10 + 22950086018138164321452523520000000000*$.1^5 - 39856297790418818304680394752000000000000000 over the Rational Field to Number Field with defining polynomial 16777216*$.1^60 + 45492093286481920000*$.1^50 + 986829077084219813965414400000*$.1^40 + 221583934123176476827352000000000*$.1^30 + 3340661108068865131612945000000000*$.1^20 + 5371874495248625773041699218750000*$.1^10 + 579985466762719709436065673828125 over the Rational Field>,\n",
      "<Number Field with defining polynomial $.1^15 - 61676816679335227008038400000*$.1^10 + 22950086018138164321452523520000000000*$.1^5 - 39856297790418818304680394752000000000000000 over the Rational Field, Mapping from: Number Field with defining polynomial $.1^15 - 61676816679335227008038400000*$.1^10 + 22950086018138164321452523520000000000*$.1^5 - 39856297790418818304680394752000000000000000 over the Rational Field to Number Field with defining polynomial 16777216*$.1^60 + 45492093286481920000*$.1^50 + 986829077084219813965414400000*$.1^40 + 221583934123176476827352000000000*$.1^30 + 3340661108068865131612945000000000*$.1^20 + 5371874495248625773041699218750000*$.1^10 + 579985466762719709436065673828125 over the Rational Field>,\n",
      "<Number Field with defining polynomial $.1^30 - 2776617021880000*$.1^25 + 61676817317763738372838400000*$.1^20 - 14181371783883294516950528000000000*$.1^15 + 218933566378401145265385963520000000000*$.1^10 - 360500394926708673189950259200000000000000*$.1^5 + 39856297790418818304680394752000000000000000 over the Rational Field, Mapping from: Number Field with defining polynomial $.1^30 - 2776617021880000*$.1^25 + 61676817317763738372838400000*$.1^20 - 14181371783883294516950528000000000*$.1^15 + 218933566378401145265385963520000000000*$.1^10 - 360500394926708673189950259200000000000000*$.1^5 + 39856297790418818304680394752000000000000000 over the Rational Field to Number Field with defining polynomial 16777216*$.1^60 + 45492093286481920000*$.1^50 + 986829077084219813965414400000*$.1^40 + 221583934123176476827352000000000*$.1^30 + 3340661108068865131612945000000000*$.1^20 + 5371874495248625773041699218750000*$.1^10 + 579985466762719709436065673828125 over the Rational Field>,\n",
      "<Number Field with defining polynomial $.1^30 - 2776617021880000*$.1^25 + 61676817317763738372838400000*$.1^20 - 14181371783883294516950528000000000*$.1^15 + 218933566378401145265385963520000000000*$.1^10 - 360500394926708673189950259200000000000000*$.1^5 + 39856297790418818304680394752000000000000000 over the Rational Field, Mapping from: Number Field with defining polynomial $.1^30 - 2776617021880000*$.1^25 + 61676817317763738372838400000*$.1^20 - 14181371783883294516950528000000000*$.1^15 + 218933566378401145265385963520000000000*$.1^10 - 360500394926708673189950259200000000000000*$.1^5 + 39856297790418818304680394752000000000000000 over the Rational Field to Number Field with defining polynomial 16777216*$.1^60 + 45492093286481920000*$.1^50 + 986829077084219813965414400000*$.1^40 + 221583934123176476827352000000000*$.1^30 + 3340661108068865131612945000000000*$.1^20 + 5371874495248625773041699218750000*$.1^10 + 579985466762719709436065673828125 over the Rational Field>,\n",
      "<Number Field with defining polynomial $.1^30 - 2776617021880000*$.1^25 + 61676817317763738372838400000*$.1^20 - 14181371783883294516950528000000000*$.1^15 + 218933566378401145265385963520000000000*$.1^10 - 360500394926708673189950259200000000000000*$.1^5 + 39856297790418818304680394752000000000000000 over the Rational Field, Mapping from: Number Field with defining polynomial $.1^30 - 2776617021880000*$.1^25 + 61676817317763738372838400000*$.1^20 - 14181371783883294516950528000000000*$.1^15 + 218933566378401145265385963520000000000*$.1^10 - 360500394926708673189950259200000000000000*$.1^5 + 39856297790418818304680394752000000000000000 over the Rational Field to Number Field with defining polynomial 16777216*$.1^60 + 45492093286481920000*$.1^50 + 986829077084219813965414400000*$.1^40 + 221583934123176476827352000000000*$.1^30 + 3340661108068865131612945000000000*$.1^20 + 5371874495248625773041699218750000*$.1^10 + 579985466762719709436065673828125 over the Rational Field>,\n",
      "<Number Field with defining polynomial $.1^30 - 2776617021880000*$.1^25 + 61676817317763738372838400000*$.1^20 - 14181371783883294516950528000000000*$.1^15 + 218933566378401145265385963520000000000*$.1^10 - 360500394926708673189950259200000000000000*$.1^5 + 39856297790418818304680394752000000000000000 over the Rational Field, Mapping from: Number Field with defining polynomial $.1^30 - 2776617021880000*$.1^25 + 61676817317763738372838400000*$.1^20 - 14181371783883294516950528000000000*$.1^15 + 218933566378401145265385963520000000000*$.1^10 - 360500394926708673189950259200000000000000*$.1^5 + 39856297790418818304680394752000000000000000 over the Rational Field to Number Field with defining polynomial 16777216*$.1^60 + 45492093286481920000*$.1^50 + 986829077084219813965414400000*$.1^40 + 221583934123176476827352000000000*$.1^30 + 3340661108068865131612945000000000*$.1^20 + 5371874495248625773041699218750000*$.1^10 + 579985466762719709436065673828125 over the Rational Field>,\n",
      "<Number Field with defining polynomial $.1^30 - 2776617021880000*$.1^25 + 61676817317763738372838400000*$.1^20 - 14181371783883294516950528000000000*$.1^15 + 218933566378401145265385963520000000000*$.1^10 - 360500394926708673189950259200000000000000*$.1^5 + 39856297790418818304680394752000000000000000 over the Rational Field, Mapping from: Number Field with defining polynomial $.1^30 - 2776617021880000*$.1^25 + 61676817317763738372838400000*$.1^20 - 14181371783883294516950528000000000*$.1^15 + 218933566378401145265385963520000000000*$.1^10 - 360500394926708673189950259200000000000000*$.1^5 + 39856297790418818304680394752000000000000000 over the Rational Field to Number Field with defining polynomial 16777216*$.1^60 + 45492093286481920000*$.1^50 + 986829077084219813965414400000*$.1^40 + 221583934123176476827352000000000*$.1^30 + 3340661108068865131612945000000000*$.1^20 + 5371874495248625773041699218750000*$.1^10 + 579985466762719709436065673828125 over the Rational Field>\n",
      "]\n"
     ]
    }
   ],
   "source": [
    "%%magma\n",
    "fs;"
   ]
  },
  {
   "cell_type": "code",
   "execution_count": null,
   "id": "ab2798a0",
   "metadata": {},
   "outputs": [],
   "source": [
    "%%magma\n",
    "RationalPoints(HyperellipticCurve(ChangeRing(f, fs[6][1])):Bound:=5);"
   ]
  },
  {
   "cell_type": "code",
   "execution_count": 36,
   "id": "f9b87899",
   "metadata": {},
   "outputs": [
    {
     "name": "stdout",
     "output_type": "stream",
     "text": [
      "\n",
      "[\n",
      "<Principal Prime Ideal of OK\n",
      "Generator:\n",
      "[2, 0, 0], 2>\n",
      "]\n",
      "true\n"
     ]
    }
   ],
   "source": [
    "%%magma\n",
    "OK := RingOfIntegers(K3);\n",
    "Factorization(OK*(4*a^2 + 12*a + 4));\n",
    "IsUnit(e);"
   ]
  },
  {
   "cell_type": "code",
   "execution_count": 96,
   "id": "c38ed163",
   "metadata": {},
   "outputs": [
    {
     "name": "stdout",
     "output_type": "stream",
     "text": [
      "\n",
      "a^2 + 3*a - 1\n"
     ]
    }
   ],
   "source": [
    "%%magma\n",
    "G, f := UnitGroup(OK);\n",
    "K3!(f([-1,2,-1]));"
   ]
  },
  {
   "cell_type": "code",
   "execution_count": 63,
   "id": "e2f5372c",
   "metadata": {},
   "outputs": [
    {
     "name": "stdout",
     "output_type": "stream",
     "text": [
      "a^2 + 3*a + 1\n"
     ]
    }
   ],
   "source": [
    "%%magma\n",
    "e"
   ]
  },
  {
   "cell_type": "code",
   "execution_count": 35,
   "id": "ff8e641f",
   "metadata": {},
   "outputs": [
    {
     "ename": "RuntimeError",
     "evalue": "Error evaluating Magma code.\nIN:HeuristicEndomorphismAlgebra(C : Geometric := true, CC:=true);\nHeuristicEndomorphismRepresentation(C);\nOUT:\nHeuristicEndomorphismAlgebra(\nX: X\n)\nGeometricEndomorphismRepresentationCC(\nX: X\n)\nPeriodMatrix(\nX: X\n)\nIn file \"/Users/alex/CHIMP/endomorphisms/endomorphisms/magma/heuristic/Periods.m\", line 84, column 20:\n>>     X := ChangeRing(X, F);\n                      ^\nRuntime error in 'ChangeRing': Argument 1 can not be coerced to scheme over argument 2.\n",
     "output_type": "error",
     "traceback": [
      "\u001b[1;31m---------------------------------------------------------------------------\u001b[0m",
      "\u001b[1;31mRuntimeError\u001b[0m                              Traceback (most recent call last)",
      "\u001b[1;32m<ipython-input-35-ee09648de5c1>\u001b[0m in \u001b[0;36m<module>\u001b[1;34m\u001b[0m\n\u001b[1;32m----> 1\u001b[1;33m \u001b[0mget_ipython\u001b[0m\u001b[1;33m(\u001b[0m\u001b[1;33m)\u001b[0m\u001b[1;33m.\u001b[0m\u001b[0mrun_cell_magic\u001b[0m\u001b[1;33m(\u001b[0m\u001b[1;34m'magma'\u001b[0m\u001b[1;33m,\u001b[0m \u001b[1;34m''\u001b[0m\u001b[1;33m,\u001b[0m \u001b[1;34m'HeuristicEndomorphismAlgebra(C : Geometric := true, CC:=true);\\nHeuristicEndomorphismRepresentation(C);\\n'\u001b[0m\u001b[1;33m)\u001b[0m\u001b[1;33m\u001b[0m\u001b[1;33m\u001b[0m\u001b[0m\n\u001b[0m",
      "\u001b[1;32m/usr/local/Caskroom/miniconda/base/envs/sage/lib/python3.8/site-packages/IPython/core/interactiveshell.py\u001b[0m in \u001b[0;36mrun_cell_magic\u001b[1;34m(self, magic_name, line, cell)\u001b[0m\n\u001b[0;32m   2401\u001b[0m             \u001b[1;32mwith\u001b[0m \u001b[0mself\u001b[0m\u001b[1;33m.\u001b[0m\u001b[0mbuiltin_trap\u001b[0m\u001b[1;33m:\u001b[0m\u001b[1;33m\u001b[0m\u001b[1;33m\u001b[0m\u001b[0m\n\u001b[0;32m   2402\u001b[0m                 \u001b[0margs\u001b[0m \u001b[1;33m=\u001b[0m \u001b[1;33m(\u001b[0m\u001b[0mmagic_arg_s\u001b[0m\u001b[1;33m,\u001b[0m \u001b[0mcell\u001b[0m\u001b[1;33m)\u001b[0m\u001b[1;33m\u001b[0m\u001b[1;33m\u001b[0m\u001b[0m\n\u001b[1;32m-> 2403\u001b[1;33m                 \u001b[0mresult\u001b[0m \u001b[1;33m=\u001b[0m \u001b[0mfn\u001b[0m\u001b[1;33m(\u001b[0m\u001b[1;33m*\u001b[0m\u001b[0margs\u001b[0m\u001b[1;33m,\u001b[0m \u001b[1;33m**\u001b[0m\u001b[0mkwargs\u001b[0m\u001b[1;33m)\u001b[0m\u001b[1;33m\u001b[0m\u001b[1;33m\u001b[0m\u001b[0m\n\u001b[0m\u001b[0;32m   2404\u001b[0m             \u001b[1;32mreturn\u001b[0m \u001b[0mresult\u001b[0m\u001b[1;33m\u001b[0m\u001b[1;33m\u001b[0m\u001b[0m\n\u001b[0;32m   2405\u001b[0m \u001b[1;33m\u001b[0m\u001b[0m\n",
      "\u001b[1;32m/usr/local/Caskroom/miniconda/base/envs/sage/lib/python3.8/site-packages/sage/repl/interface_magic.py\u001b[0m in \u001b[0;36mcell_magic\u001b[1;34m(line, cell)\u001b[0m\n\u001b[0;32m    294\u001b[0m             \u001b[1;32mif\u001b[0m \u001b[0mline\u001b[0m\u001b[1;33m:\u001b[0m\u001b[1;33m\u001b[0m\u001b[1;33m\u001b[0m\u001b[0m\n\u001b[0;32m    295\u001b[0m                 \u001b[1;32mraise\u001b[0m \u001b[0mSyntaxError\u001b[0m\u001b[1;33m(\u001b[0m\u001b[1;34m'Interface magics have no options, got \"{0}\"'\u001b[0m\u001b[1;33m.\u001b[0m\u001b[0mformat\u001b[0m\u001b[1;33m(\u001b[0m\u001b[0mline\u001b[0m\u001b[1;33m)\u001b[0m\u001b[1;33m)\u001b[0m\u001b[1;33m\u001b[0m\u001b[1;33m\u001b[0m\u001b[0m\n\u001b[1;32m--> 296\u001b[1;33m             \u001b[0moutput\u001b[0m \u001b[1;33m=\u001b[0m \u001b[0mself\u001b[0m\u001b[1;33m.\u001b[0m\u001b[0m_interface\u001b[0m\u001b[1;33m.\u001b[0m\u001b[0meval\u001b[0m\u001b[1;33m(\u001b[0m\u001b[0mcell\u001b[0m\u001b[1;33m)\u001b[0m\u001b[1;33m\u001b[0m\u001b[1;33m\u001b[0m\u001b[0m\n\u001b[0m\u001b[0;32m    297\u001b[0m             \u001b[0mprint\u001b[0m\u001b[1;33m(\u001b[0m\u001b[0moutput\u001b[0m\u001b[1;33m)\u001b[0m\u001b[1;33m\u001b[0m\u001b[1;33m\u001b[0m\u001b[0m\n\u001b[0;32m    298\u001b[0m         \u001b[0mcell_magic\u001b[0m\u001b[1;33m.\u001b[0m\u001b[0m__doc__\u001b[0m \u001b[1;33m=\u001b[0m \u001b[0mCELL_DOCSTRING\u001b[0m\u001b[1;33m.\u001b[0m\u001b[0mformat\u001b[0m\u001b[1;33m(\u001b[0m\u001b[0mname\u001b[0m\u001b[1;33m=\u001b[0m\u001b[0mself\u001b[0m\u001b[1;33m.\u001b[0m\u001b[0m_name\u001b[0m\u001b[1;33m)\u001b[0m\u001b[1;33m\u001b[0m\u001b[1;33m\u001b[0m\u001b[0m\n",
      "\u001b[1;32m/usr/local/Caskroom/miniconda/base/envs/sage/lib/python3.8/site-packages/sage/interfaces/magma.py\u001b[0m in \u001b[0;36meval\u001b[1;34m(self, x, strip, **kwds)\u001b[0m\n\u001b[0;32m    560\u001b[0m         \u001b[0mans\u001b[0m \u001b[1;33m=\u001b[0m \u001b[0mExpect\u001b[0m\u001b[1;33m.\u001b[0m\u001b[0meval\u001b[0m\u001b[1;33m(\u001b[0m\u001b[0mself\u001b[0m\u001b[1;33m,\u001b[0m \u001b[0mx\u001b[0m\u001b[1;33m,\u001b[0m \u001b[1;33m**\u001b[0m\u001b[0mkwds\u001b[0m\u001b[1;33m)\u001b[0m\u001b[1;33m.\u001b[0m\u001b[0mreplace\u001b[0m\u001b[1;33m(\u001b[0m\u001b[1;34m'\\\\\\n'\u001b[0m\u001b[1;33m,\u001b[0m \u001b[1;34m''\u001b[0m\u001b[1;33m)\u001b[0m\u001b[1;33m\u001b[0m\u001b[1;33m\u001b[0m\u001b[0m\n\u001b[0;32m    561\u001b[0m         \u001b[1;32mif\u001b[0m \u001b[1;34m'Runtime error'\u001b[0m \u001b[1;32min\u001b[0m \u001b[0mans\u001b[0m \u001b[1;32mor\u001b[0m \u001b[1;34m'User error'\u001b[0m \u001b[1;32min\u001b[0m \u001b[0mans\u001b[0m\u001b[1;33m:\u001b[0m\u001b[1;33m\u001b[0m\u001b[1;33m\u001b[0m\u001b[0m\n\u001b[1;32m--> 562\u001b[1;33m             \u001b[1;32mraise\u001b[0m \u001b[0mRuntimeError\u001b[0m\u001b[1;33m(\u001b[0m\u001b[1;34m\"Error evaluating Magma code.\\nIN:%s\\nOUT:%s\"\u001b[0m \u001b[1;33m%\u001b[0m \u001b[1;33m(\u001b[0m\u001b[0mx\u001b[0m\u001b[1;33m,\u001b[0m \u001b[0mans\u001b[0m\u001b[1;33m)\u001b[0m\u001b[1;33m)\u001b[0m\u001b[1;33m\u001b[0m\u001b[1;33m\u001b[0m\u001b[0m\n\u001b[0m\u001b[0;32m    563\u001b[0m         \u001b[1;32mreturn\u001b[0m \u001b[0mans\u001b[0m\u001b[1;33m\u001b[0m\u001b[1;33m\u001b[0m\u001b[0m\n\u001b[0;32m    564\u001b[0m \u001b[1;33m\u001b[0m\u001b[0m\n",
      "\u001b[1;31mRuntimeError\u001b[0m: Error evaluating Magma code.\nIN:HeuristicEndomorphismAlgebra(C : Geometric := true, CC:=true);\nHeuristicEndomorphismRepresentation(C);\nOUT:\nHeuristicEndomorphismAlgebra(\nX: X\n)\nGeometricEndomorphismRepresentationCC(\nX: X\n)\nPeriodMatrix(\nX: X\n)\nIn file \"/Users/alex/CHIMP/endomorphisms/endomorphisms/magma/heuristic/Periods.m\", line 84, column 20:\n>>     X := ChangeRing(X, F);\n                      ^\nRuntime error in 'ChangeRing': Argument 1 can not be coerced to scheme over argument 2.\n"
     ]
    }
   ],
   "source": [
    "%%magma\n",
    "HeuristicEndomorphismAlgebra(C : Geometric := true, CC:=true);\n",
    "HeuristicEndomorphismRepresentation(C);"
   ]
  },
  {
   "cell_type": "code",
   "execution_count": null,
   "id": "626488ba",
   "metadata": {
    "scrolled": false
   },
   "outputs": [],
   "source": [
    "%%magma\n",
    "F := BaseRing(C);\n",
    "if not assigned F`iota then \n",
    "    F := BaseNumberFieldExtra(DefiningPolynomial(F), 100);\n",
    "    X := ChangeRing(C, F);\n",
    "        end if;"
   ]
  },
  {
   "cell_type": "code",
   "execution_count": 13,
   "id": "eee9719c",
   "metadata": {},
   "outputs": [
    {
     "name": "stdout",
     "output_type": "stream",
     "text": [
      "Number Field with defining polynomial x^3 + x^2 - 4*x + 1 over the Rational Field\n"
     ]
    }
   ],
   "source": [
    "%%magma\n",
    "K3"
   ]
  },
  {
   "cell_type": "code",
   "execution_count": 14,
   "id": "90088970",
   "metadata": {},
   "outputs": [
    {
     "ename": "RuntimeError",
     "evalue": "Error evaluating Magma code.\nIN:TwoTorsionSubgroup(J);\nD1:=R[2]-R[1];\nD2:=R[4]-R[1];\nOUT:\n>> TwoTorsionSubgroup(J);\n                      ^\nUser error: Identifier 'J' has not been declared or assigned\n\n",
     "output_type": "error",
     "traceback": [
      "\u001b[1;31m---------------------------------------------------------------------------\u001b[0m",
      "\u001b[1;31mRuntimeError\u001b[0m                              Traceback (most recent call last)",
      "\u001b[1;32m<ipython-input-14-0727445a0527>\u001b[0m in \u001b[0;36m<module>\u001b[1;34m\u001b[0m\n\u001b[1;32m----> 1\u001b[1;33m \u001b[0mget_ipython\u001b[0m\u001b[1;33m(\u001b[0m\u001b[1;33m)\u001b[0m\u001b[1;33m.\u001b[0m\u001b[0mrun_cell_magic\u001b[0m\u001b[1;33m(\u001b[0m\u001b[1;34m'magma'\u001b[0m\u001b[1;33m,\u001b[0m \u001b[1;34m''\u001b[0m\u001b[1;33m,\u001b[0m \u001b[1;34m'TwoTorsionSubgroup(J);\\nD1:=R[2]-R[1];\\nD2:=R[4]-R[1];\\n'\u001b[0m\u001b[1;33m)\u001b[0m\u001b[1;33m\u001b[0m\u001b[1;33m\u001b[0m\u001b[0m\n\u001b[0m",
      "\u001b[1;32m/usr/local/Caskroom/miniconda/base/envs/sage/lib/python3.8/site-packages/IPython/core/interactiveshell.py\u001b[0m in \u001b[0;36mrun_cell_magic\u001b[1;34m(self, magic_name, line, cell)\u001b[0m\n\u001b[0;32m   2401\u001b[0m             \u001b[1;32mwith\u001b[0m \u001b[0mself\u001b[0m\u001b[1;33m.\u001b[0m\u001b[0mbuiltin_trap\u001b[0m\u001b[1;33m:\u001b[0m\u001b[1;33m\u001b[0m\u001b[1;33m\u001b[0m\u001b[0m\n\u001b[0;32m   2402\u001b[0m                 \u001b[0margs\u001b[0m \u001b[1;33m=\u001b[0m \u001b[1;33m(\u001b[0m\u001b[0mmagic_arg_s\u001b[0m\u001b[1;33m,\u001b[0m \u001b[0mcell\u001b[0m\u001b[1;33m)\u001b[0m\u001b[1;33m\u001b[0m\u001b[1;33m\u001b[0m\u001b[0m\n\u001b[1;32m-> 2403\u001b[1;33m                 \u001b[0mresult\u001b[0m \u001b[1;33m=\u001b[0m \u001b[0mfn\u001b[0m\u001b[1;33m(\u001b[0m\u001b[1;33m*\u001b[0m\u001b[0margs\u001b[0m\u001b[1;33m,\u001b[0m \u001b[1;33m**\u001b[0m\u001b[0mkwargs\u001b[0m\u001b[1;33m)\u001b[0m\u001b[1;33m\u001b[0m\u001b[1;33m\u001b[0m\u001b[0m\n\u001b[0m\u001b[0;32m   2404\u001b[0m             \u001b[1;32mreturn\u001b[0m \u001b[0mresult\u001b[0m\u001b[1;33m\u001b[0m\u001b[1;33m\u001b[0m\u001b[0m\n\u001b[0;32m   2405\u001b[0m \u001b[1;33m\u001b[0m\u001b[0m\n",
      "\u001b[1;32m/usr/local/Caskroom/miniconda/base/envs/sage/lib/python3.8/site-packages/sage/repl/interface_magic.py\u001b[0m in \u001b[0;36mcell_magic\u001b[1;34m(line, cell)\u001b[0m\n\u001b[0;32m    294\u001b[0m             \u001b[1;32mif\u001b[0m \u001b[0mline\u001b[0m\u001b[1;33m:\u001b[0m\u001b[1;33m\u001b[0m\u001b[1;33m\u001b[0m\u001b[0m\n\u001b[0;32m    295\u001b[0m                 \u001b[1;32mraise\u001b[0m \u001b[0mSyntaxError\u001b[0m\u001b[1;33m(\u001b[0m\u001b[1;34m'Interface magics have no options, got \"{0}\"'\u001b[0m\u001b[1;33m.\u001b[0m\u001b[0mformat\u001b[0m\u001b[1;33m(\u001b[0m\u001b[0mline\u001b[0m\u001b[1;33m)\u001b[0m\u001b[1;33m)\u001b[0m\u001b[1;33m\u001b[0m\u001b[1;33m\u001b[0m\u001b[0m\n\u001b[1;32m--> 296\u001b[1;33m             \u001b[0moutput\u001b[0m \u001b[1;33m=\u001b[0m \u001b[0mself\u001b[0m\u001b[1;33m.\u001b[0m\u001b[0m_interface\u001b[0m\u001b[1;33m.\u001b[0m\u001b[0meval\u001b[0m\u001b[1;33m(\u001b[0m\u001b[0mcell\u001b[0m\u001b[1;33m)\u001b[0m\u001b[1;33m\u001b[0m\u001b[1;33m\u001b[0m\u001b[0m\n\u001b[0m\u001b[0;32m    297\u001b[0m             \u001b[0mprint\u001b[0m\u001b[1;33m(\u001b[0m\u001b[0moutput\u001b[0m\u001b[1;33m)\u001b[0m\u001b[1;33m\u001b[0m\u001b[1;33m\u001b[0m\u001b[0m\n\u001b[0;32m    298\u001b[0m         \u001b[0mcell_magic\u001b[0m\u001b[1;33m.\u001b[0m\u001b[0m__doc__\u001b[0m \u001b[1;33m=\u001b[0m \u001b[0mCELL_DOCSTRING\u001b[0m\u001b[1;33m.\u001b[0m\u001b[0mformat\u001b[0m\u001b[1;33m(\u001b[0m\u001b[0mname\u001b[0m\u001b[1;33m=\u001b[0m\u001b[0mself\u001b[0m\u001b[1;33m.\u001b[0m\u001b[0m_name\u001b[0m\u001b[1;33m)\u001b[0m\u001b[1;33m\u001b[0m\u001b[1;33m\u001b[0m\u001b[0m\n",
      "\u001b[1;32m/usr/local/Caskroom/miniconda/base/envs/sage/lib/python3.8/site-packages/sage/interfaces/magma.py\u001b[0m in \u001b[0;36meval\u001b[1;34m(self, x, strip, **kwds)\u001b[0m\n\u001b[0;32m    560\u001b[0m         \u001b[0mans\u001b[0m \u001b[1;33m=\u001b[0m \u001b[0mExpect\u001b[0m\u001b[1;33m.\u001b[0m\u001b[0meval\u001b[0m\u001b[1;33m(\u001b[0m\u001b[0mself\u001b[0m\u001b[1;33m,\u001b[0m \u001b[0mx\u001b[0m\u001b[1;33m,\u001b[0m \u001b[1;33m**\u001b[0m\u001b[0mkwds\u001b[0m\u001b[1;33m)\u001b[0m\u001b[1;33m.\u001b[0m\u001b[0mreplace\u001b[0m\u001b[1;33m(\u001b[0m\u001b[1;34m'\\\\\\n'\u001b[0m\u001b[1;33m,\u001b[0m \u001b[1;34m''\u001b[0m\u001b[1;33m)\u001b[0m\u001b[1;33m\u001b[0m\u001b[1;33m\u001b[0m\u001b[0m\n\u001b[0;32m    561\u001b[0m         \u001b[1;32mif\u001b[0m \u001b[1;34m'Runtime error'\u001b[0m \u001b[1;32min\u001b[0m \u001b[0mans\u001b[0m \u001b[1;32mor\u001b[0m \u001b[1;34m'User error'\u001b[0m \u001b[1;32min\u001b[0m \u001b[0mans\u001b[0m\u001b[1;33m:\u001b[0m\u001b[1;33m\u001b[0m\u001b[1;33m\u001b[0m\u001b[0m\n\u001b[1;32m--> 562\u001b[1;33m             \u001b[1;32mraise\u001b[0m \u001b[0mRuntimeError\u001b[0m\u001b[1;33m(\u001b[0m\u001b[1;34m\"Error evaluating Magma code.\\nIN:%s\\nOUT:%s\"\u001b[0m \u001b[1;33m%\u001b[0m \u001b[1;33m(\u001b[0m\u001b[0mx\u001b[0m\u001b[1;33m,\u001b[0m \u001b[0mans\u001b[0m\u001b[1;33m)\u001b[0m\u001b[1;33m)\u001b[0m\u001b[1;33m\u001b[0m\u001b[1;33m\u001b[0m\u001b[0m\n\u001b[0m\u001b[0;32m    563\u001b[0m         \u001b[1;32mreturn\u001b[0m \u001b[0mans\u001b[0m\u001b[1;33m\u001b[0m\u001b[1;33m\u001b[0m\u001b[0m\n\u001b[0;32m    564\u001b[0m \u001b[1;33m\u001b[0m\u001b[0m\n",
      "\u001b[1;31mRuntimeError\u001b[0m: Error evaluating Magma code.\nIN:TwoTorsionSubgroup(J);\nD1:=R[2]-R[1];\nD2:=R[4]-R[1];\nOUT:\n>> TwoTorsionSubgroup(J);\n                      ^\nUser error: Identifier 'J' has not been declared or assigned\n\n"
     ]
    }
   ],
   "source": [
    "%%magma\n",
    "TwoTorsionSubgroup(J);\n",
    "D1:=R[2]-R[1];\n",
    "D2:=R[4]-R[1];"
   ]
  },
  {
   "cell_type": "code",
   "execution_count": 15,
   "id": "645a541e",
   "metadata": {},
   "outputs": [
    {
     "ename": "RuntimeError",
     "evalue": "Error evaluating Magma code.\nIN:\n// TwoSelmerGroup can also be computed without GRH in couple of minutes\ntime S2:=TwoSelmerGroup(J);#S2;\nOUT:\nIn file \"/Users/alex/.sage/temp/Alexs-MacBook-Pro.local/64482/interface/tmp64505\", line 2, column 25:\n>> time S2:=TwoSelmerGroup(J);#S2;\n                           ^\nUser error: Identifier 'J' has not been declared or assigned\n\nIn file \"/Users/alex/.sage/temp/Alexs-MacBook-Pro.local/64482/interface/tmp64505\", line 2, column 28:\n>> time S2:=TwoSelmerGroup(J);#S2;\n                              ^\nRuntime error in '#': Bad argument types\nArgument types given: Intrinsic\n",
     "output_type": "error",
     "traceback": [
      "\u001b[1;31m---------------------------------------------------------------------------\u001b[0m",
      "\u001b[1;31mRuntimeError\u001b[0m                              Traceback (most recent call last)",
      "\u001b[1;32m<ipython-input-15-0d5add879ca2>\u001b[0m in \u001b[0;36m<module>\u001b[1;34m\u001b[0m\n\u001b[1;32m----> 1\u001b[1;33m \u001b[0mget_ipython\u001b[0m\u001b[1;33m(\u001b[0m\u001b[1;33m)\u001b[0m\u001b[1;33m.\u001b[0m\u001b[0mrun_cell_magic\u001b[0m\u001b[1;33m(\u001b[0m\u001b[1;34m'magma'\u001b[0m\u001b[1;33m,\u001b[0m \u001b[1;34m''\u001b[0m\u001b[1;33m,\u001b[0m \u001b[1;34m'\\n// TwoSelmerGroup can also be computed without GRH in couple of minutes\\ntime S2:=TwoSelmerGroup(J);#S2;\\n'\u001b[0m\u001b[1;33m)\u001b[0m\u001b[1;33m\u001b[0m\u001b[1;33m\u001b[0m\u001b[0m\n\u001b[0m",
      "\u001b[1;32m/usr/local/Caskroom/miniconda/base/envs/sage/lib/python3.8/site-packages/IPython/core/interactiveshell.py\u001b[0m in \u001b[0;36mrun_cell_magic\u001b[1;34m(self, magic_name, line, cell)\u001b[0m\n\u001b[0;32m   2401\u001b[0m             \u001b[1;32mwith\u001b[0m \u001b[0mself\u001b[0m\u001b[1;33m.\u001b[0m\u001b[0mbuiltin_trap\u001b[0m\u001b[1;33m:\u001b[0m\u001b[1;33m\u001b[0m\u001b[1;33m\u001b[0m\u001b[0m\n\u001b[0;32m   2402\u001b[0m                 \u001b[0margs\u001b[0m \u001b[1;33m=\u001b[0m \u001b[1;33m(\u001b[0m\u001b[0mmagic_arg_s\u001b[0m\u001b[1;33m,\u001b[0m \u001b[0mcell\u001b[0m\u001b[1;33m)\u001b[0m\u001b[1;33m\u001b[0m\u001b[1;33m\u001b[0m\u001b[0m\n\u001b[1;32m-> 2403\u001b[1;33m                 \u001b[0mresult\u001b[0m \u001b[1;33m=\u001b[0m \u001b[0mfn\u001b[0m\u001b[1;33m(\u001b[0m\u001b[1;33m*\u001b[0m\u001b[0margs\u001b[0m\u001b[1;33m,\u001b[0m \u001b[1;33m**\u001b[0m\u001b[0mkwargs\u001b[0m\u001b[1;33m)\u001b[0m\u001b[1;33m\u001b[0m\u001b[1;33m\u001b[0m\u001b[0m\n\u001b[0m\u001b[0;32m   2404\u001b[0m             \u001b[1;32mreturn\u001b[0m \u001b[0mresult\u001b[0m\u001b[1;33m\u001b[0m\u001b[1;33m\u001b[0m\u001b[0m\n\u001b[0;32m   2405\u001b[0m \u001b[1;33m\u001b[0m\u001b[0m\n",
      "\u001b[1;32m/usr/local/Caskroom/miniconda/base/envs/sage/lib/python3.8/site-packages/sage/repl/interface_magic.py\u001b[0m in \u001b[0;36mcell_magic\u001b[1;34m(line, cell)\u001b[0m\n\u001b[0;32m    294\u001b[0m             \u001b[1;32mif\u001b[0m \u001b[0mline\u001b[0m\u001b[1;33m:\u001b[0m\u001b[1;33m\u001b[0m\u001b[1;33m\u001b[0m\u001b[0m\n\u001b[0;32m    295\u001b[0m                 \u001b[1;32mraise\u001b[0m \u001b[0mSyntaxError\u001b[0m\u001b[1;33m(\u001b[0m\u001b[1;34m'Interface magics have no options, got \"{0}\"'\u001b[0m\u001b[1;33m.\u001b[0m\u001b[0mformat\u001b[0m\u001b[1;33m(\u001b[0m\u001b[0mline\u001b[0m\u001b[1;33m)\u001b[0m\u001b[1;33m)\u001b[0m\u001b[1;33m\u001b[0m\u001b[1;33m\u001b[0m\u001b[0m\n\u001b[1;32m--> 296\u001b[1;33m             \u001b[0moutput\u001b[0m \u001b[1;33m=\u001b[0m \u001b[0mself\u001b[0m\u001b[1;33m.\u001b[0m\u001b[0m_interface\u001b[0m\u001b[1;33m.\u001b[0m\u001b[0meval\u001b[0m\u001b[1;33m(\u001b[0m\u001b[0mcell\u001b[0m\u001b[1;33m)\u001b[0m\u001b[1;33m\u001b[0m\u001b[1;33m\u001b[0m\u001b[0m\n\u001b[0m\u001b[0;32m    297\u001b[0m             \u001b[0mprint\u001b[0m\u001b[1;33m(\u001b[0m\u001b[0moutput\u001b[0m\u001b[1;33m)\u001b[0m\u001b[1;33m\u001b[0m\u001b[1;33m\u001b[0m\u001b[0m\n\u001b[0;32m    298\u001b[0m         \u001b[0mcell_magic\u001b[0m\u001b[1;33m.\u001b[0m\u001b[0m__doc__\u001b[0m \u001b[1;33m=\u001b[0m \u001b[0mCELL_DOCSTRING\u001b[0m\u001b[1;33m.\u001b[0m\u001b[0mformat\u001b[0m\u001b[1;33m(\u001b[0m\u001b[0mname\u001b[0m\u001b[1;33m=\u001b[0m\u001b[0mself\u001b[0m\u001b[1;33m.\u001b[0m\u001b[0m_name\u001b[0m\u001b[1;33m)\u001b[0m\u001b[1;33m\u001b[0m\u001b[1;33m\u001b[0m\u001b[0m\n",
      "\u001b[1;32m/usr/local/Caskroom/miniconda/base/envs/sage/lib/python3.8/site-packages/sage/interfaces/magma.py\u001b[0m in \u001b[0;36meval\u001b[1;34m(self, x, strip, **kwds)\u001b[0m\n\u001b[0;32m    560\u001b[0m         \u001b[0mans\u001b[0m \u001b[1;33m=\u001b[0m \u001b[0mExpect\u001b[0m\u001b[1;33m.\u001b[0m\u001b[0meval\u001b[0m\u001b[1;33m(\u001b[0m\u001b[0mself\u001b[0m\u001b[1;33m,\u001b[0m \u001b[0mx\u001b[0m\u001b[1;33m,\u001b[0m \u001b[1;33m**\u001b[0m\u001b[0mkwds\u001b[0m\u001b[1;33m)\u001b[0m\u001b[1;33m.\u001b[0m\u001b[0mreplace\u001b[0m\u001b[1;33m(\u001b[0m\u001b[1;34m'\\\\\\n'\u001b[0m\u001b[1;33m,\u001b[0m \u001b[1;34m''\u001b[0m\u001b[1;33m)\u001b[0m\u001b[1;33m\u001b[0m\u001b[1;33m\u001b[0m\u001b[0m\n\u001b[0;32m    561\u001b[0m         \u001b[1;32mif\u001b[0m \u001b[1;34m'Runtime error'\u001b[0m \u001b[1;32min\u001b[0m \u001b[0mans\u001b[0m \u001b[1;32mor\u001b[0m \u001b[1;34m'User error'\u001b[0m \u001b[1;32min\u001b[0m \u001b[0mans\u001b[0m\u001b[1;33m:\u001b[0m\u001b[1;33m\u001b[0m\u001b[1;33m\u001b[0m\u001b[0m\n\u001b[1;32m--> 562\u001b[1;33m             \u001b[1;32mraise\u001b[0m \u001b[0mRuntimeError\u001b[0m\u001b[1;33m(\u001b[0m\u001b[1;34m\"Error evaluating Magma code.\\nIN:%s\\nOUT:%s\"\u001b[0m \u001b[1;33m%\u001b[0m \u001b[1;33m(\u001b[0m\u001b[0mx\u001b[0m\u001b[1;33m,\u001b[0m \u001b[0mans\u001b[0m\u001b[1;33m)\u001b[0m\u001b[1;33m)\u001b[0m\u001b[1;33m\u001b[0m\u001b[1;33m\u001b[0m\u001b[0m\n\u001b[0m\u001b[0;32m    563\u001b[0m         \u001b[1;32mreturn\u001b[0m \u001b[0mans\u001b[0m\u001b[1;33m\u001b[0m\u001b[1;33m\u001b[0m\u001b[0m\n\u001b[0;32m    564\u001b[0m \u001b[1;33m\u001b[0m\u001b[0m\n",
      "\u001b[1;31mRuntimeError\u001b[0m: Error evaluating Magma code.\nIN:\n// TwoSelmerGroup can also be computed without GRH in couple of minutes\ntime S2:=TwoSelmerGroup(J);#S2;\nOUT:\nIn file \"/Users/alex/.sage/temp/Alexs-MacBook-Pro.local/64482/interface/tmp64505\", line 2, column 25:\n>> time S2:=TwoSelmerGroup(J);#S2;\n                           ^\nUser error: Identifier 'J' has not been declared or assigned\n\nIn file \"/Users/alex/.sage/temp/Alexs-MacBook-Pro.local/64482/interface/tmp64505\", line 2, column 28:\n>> time S2:=TwoSelmerGroup(J);#S2;\n                              ^\nRuntime error in '#': Bad argument types\nArgument types given: Intrinsic\n"
     ]
    }
   ],
   "source": [
    "%%magma\n",
    "\n",
    "// TwoSelmerGroup can also be computed without GRH in couple of minutes\n",
    "time S2:=TwoSelmerGroup(J);#S2;"
   ]
  },
  {
   "cell_type": "code",
   "execution_count": 16,
   "id": "6738aaf5",
   "metadata": {},
   "outputs": [
    {
     "name": "stdout",
     "output_type": "stream",
     "text": [
      "Intrinsic 'S2'\n",
      "\n",
      "Signatures:\n",
      "\n",
      "(S::RngSLPol) -> RngSLPolElt\n",
      "\n",
      "The sums of the products of the variables of the ring S with no squares.\n",
      "\n",
      "\n"
     ]
    }
   ],
   "source": [
    "%%magma\n",
    "S2"
   ]
  },
  {
   "cell_type": "code",
   "execution_count": 17,
   "id": "cc64af82",
   "metadata": {},
   "outputs": [
    {
     "ename": "RuntimeError",
     "evalue": "Error evaluating Magma code.\nIN:Height(D1);\nOUT:Runtime error: Fibre blowups over number fields not yet implemented",
     "output_type": "error",
     "traceback": [
      "\u001b[1;31m---------------------------------------------------------------------------\u001b[0m",
      "\u001b[1;31mRuntimeError\u001b[0m                              Traceback (most recent call last)",
      "\u001b[1;32m<ipython-input-17-beb15300a379>\u001b[0m in \u001b[0;36m<module>\u001b[1;34m\u001b[0m\n\u001b[1;32m----> 1\u001b[1;33m \u001b[0mget_ipython\u001b[0m\u001b[1;33m(\u001b[0m\u001b[1;33m)\u001b[0m\u001b[1;33m.\u001b[0m\u001b[0mrun_cell_magic\u001b[0m\u001b[1;33m(\u001b[0m\u001b[1;34m'magma'\u001b[0m\u001b[1;33m,\u001b[0m \u001b[1;34m''\u001b[0m\u001b[1;33m,\u001b[0m \u001b[1;34m'Height(D1);\\n'\u001b[0m\u001b[1;33m)\u001b[0m\u001b[1;33m\u001b[0m\u001b[1;33m\u001b[0m\u001b[0m\n\u001b[0m",
      "\u001b[1;32m/usr/local/Caskroom/miniconda/base/envs/sage/lib/python3.8/site-packages/IPython/core/interactiveshell.py\u001b[0m in \u001b[0;36mrun_cell_magic\u001b[1;34m(self, magic_name, line, cell)\u001b[0m\n\u001b[0;32m   2401\u001b[0m             \u001b[1;32mwith\u001b[0m \u001b[0mself\u001b[0m\u001b[1;33m.\u001b[0m\u001b[0mbuiltin_trap\u001b[0m\u001b[1;33m:\u001b[0m\u001b[1;33m\u001b[0m\u001b[1;33m\u001b[0m\u001b[0m\n\u001b[0;32m   2402\u001b[0m                 \u001b[0margs\u001b[0m \u001b[1;33m=\u001b[0m \u001b[1;33m(\u001b[0m\u001b[0mmagic_arg_s\u001b[0m\u001b[1;33m,\u001b[0m \u001b[0mcell\u001b[0m\u001b[1;33m)\u001b[0m\u001b[1;33m\u001b[0m\u001b[1;33m\u001b[0m\u001b[0m\n\u001b[1;32m-> 2403\u001b[1;33m                 \u001b[0mresult\u001b[0m \u001b[1;33m=\u001b[0m \u001b[0mfn\u001b[0m\u001b[1;33m(\u001b[0m\u001b[1;33m*\u001b[0m\u001b[0margs\u001b[0m\u001b[1;33m,\u001b[0m \u001b[1;33m**\u001b[0m\u001b[0mkwargs\u001b[0m\u001b[1;33m)\u001b[0m\u001b[1;33m\u001b[0m\u001b[1;33m\u001b[0m\u001b[0m\n\u001b[0m\u001b[0;32m   2404\u001b[0m             \u001b[1;32mreturn\u001b[0m \u001b[0mresult\u001b[0m\u001b[1;33m\u001b[0m\u001b[1;33m\u001b[0m\u001b[0m\n\u001b[0;32m   2405\u001b[0m \u001b[1;33m\u001b[0m\u001b[0m\n",
      "\u001b[1;32m/usr/local/Caskroom/miniconda/base/envs/sage/lib/python3.8/site-packages/sage/repl/interface_magic.py\u001b[0m in \u001b[0;36mcell_magic\u001b[1;34m(line, cell)\u001b[0m\n\u001b[0;32m    294\u001b[0m             \u001b[1;32mif\u001b[0m \u001b[0mline\u001b[0m\u001b[1;33m:\u001b[0m\u001b[1;33m\u001b[0m\u001b[1;33m\u001b[0m\u001b[0m\n\u001b[0;32m    295\u001b[0m                 \u001b[1;32mraise\u001b[0m \u001b[0mSyntaxError\u001b[0m\u001b[1;33m(\u001b[0m\u001b[1;34m'Interface magics have no options, got \"{0}\"'\u001b[0m\u001b[1;33m.\u001b[0m\u001b[0mformat\u001b[0m\u001b[1;33m(\u001b[0m\u001b[0mline\u001b[0m\u001b[1;33m)\u001b[0m\u001b[1;33m)\u001b[0m\u001b[1;33m\u001b[0m\u001b[1;33m\u001b[0m\u001b[0m\n\u001b[1;32m--> 296\u001b[1;33m             \u001b[0moutput\u001b[0m \u001b[1;33m=\u001b[0m \u001b[0mself\u001b[0m\u001b[1;33m.\u001b[0m\u001b[0m_interface\u001b[0m\u001b[1;33m.\u001b[0m\u001b[0meval\u001b[0m\u001b[1;33m(\u001b[0m\u001b[0mcell\u001b[0m\u001b[1;33m)\u001b[0m\u001b[1;33m\u001b[0m\u001b[1;33m\u001b[0m\u001b[0m\n\u001b[0m\u001b[0;32m    297\u001b[0m             \u001b[0mprint\u001b[0m\u001b[1;33m(\u001b[0m\u001b[0moutput\u001b[0m\u001b[1;33m)\u001b[0m\u001b[1;33m\u001b[0m\u001b[1;33m\u001b[0m\u001b[0m\n\u001b[0;32m    298\u001b[0m         \u001b[0mcell_magic\u001b[0m\u001b[1;33m.\u001b[0m\u001b[0m__doc__\u001b[0m \u001b[1;33m=\u001b[0m \u001b[0mCELL_DOCSTRING\u001b[0m\u001b[1;33m.\u001b[0m\u001b[0mformat\u001b[0m\u001b[1;33m(\u001b[0m\u001b[0mname\u001b[0m\u001b[1;33m=\u001b[0m\u001b[0mself\u001b[0m\u001b[1;33m.\u001b[0m\u001b[0m_name\u001b[0m\u001b[1;33m)\u001b[0m\u001b[1;33m\u001b[0m\u001b[1;33m\u001b[0m\u001b[0m\n",
      "\u001b[1;32m/usr/local/Caskroom/miniconda/base/envs/sage/lib/python3.8/site-packages/sage/interfaces/magma.py\u001b[0m in \u001b[0;36meval\u001b[1;34m(self, x, strip, **kwds)\u001b[0m\n\u001b[0;32m    560\u001b[0m         \u001b[0mans\u001b[0m \u001b[1;33m=\u001b[0m \u001b[0mExpect\u001b[0m\u001b[1;33m.\u001b[0m\u001b[0meval\u001b[0m\u001b[1;33m(\u001b[0m\u001b[0mself\u001b[0m\u001b[1;33m,\u001b[0m \u001b[0mx\u001b[0m\u001b[1;33m,\u001b[0m \u001b[1;33m**\u001b[0m\u001b[0mkwds\u001b[0m\u001b[1;33m)\u001b[0m\u001b[1;33m.\u001b[0m\u001b[0mreplace\u001b[0m\u001b[1;33m(\u001b[0m\u001b[1;34m'\\\\\\n'\u001b[0m\u001b[1;33m,\u001b[0m \u001b[1;34m''\u001b[0m\u001b[1;33m)\u001b[0m\u001b[1;33m\u001b[0m\u001b[1;33m\u001b[0m\u001b[0m\n\u001b[0;32m    561\u001b[0m         \u001b[1;32mif\u001b[0m \u001b[1;34m'Runtime error'\u001b[0m \u001b[1;32min\u001b[0m \u001b[0mans\u001b[0m \u001b[1;32mor\u001b[0m \u001b[1;34m'User error'\u001b[0m \u001b[1;32min\u001b[0m \u001b[0mans\u001b[0m\u001b[1;33m:\u001b[0m\u001b[1;33m\u001b[0m\u001b[1;33m\u001b[0m\u001b[0m\n\u001b[1;32m--> 562\u001b[1;33m             \u001b[1;32mraise\u001b[0m \u001b[0mRuntimeError\u001b[0m\u001b[1;33m(\u001b[0m\u001b[1;34m\"Error evaluating Magma code.\\nIN:%s\\nOUT:%s\"\u001b[0m \u001b[1;33m%\u001b[0m \u001b[1;33m(\u001b[0m\u001b[0mx\u001b[0m\u001b[1;33m,\u001b[0m \u001b[0mans\u001b[0m\u001b[1;33m)\u001b[0m\u001b[1;33m)\u001b[0m\u001b[1;33m\u001b[0m\u001b[1;33m\u001b[0m\u001b[0m\n\u001b[0m\u001b[0;32m    563\u001b[0m         \u001b[1;32mreturn\u001b[0m \u001b[0mans\u001b[0m\u001b[1;33m\u001b[0m\u001b[1;33m\u001b[0m\u001b[0m\n\u001b[0;32m    564\u001b[0m \u001b[1;33m\u001b[0m\u001b[0m\n",
      "\u001b[1;31mRuntimeError\u001b[0m: Error evaluating Magma code.\nIN:Height(D1);\nOUT:Runtime error: Fibre blowups over number fields not yet implemented"
     ]
    }
   ],
   "source": [
    "%%magma\n",
    "Height(D1);"
   ]
  },
  {
   "cell_type": "code",
   "execution_count": 1,
   "id": "7b6e44b7",
   "metadata": {},
   "outputs": [
    {
     "ename": "RuntimeError",
     "evalue": "Error evaluating Magma code.\nIN:OK:= RingOfIntegers(K3);\nFactorization(OK*((zeta13_2)^(-10)*(zeta13_2^2 + zeta13_2 - 3)^(-10)*(-zeta13_2^2 + 3)^(10)*(-zeta13_2^2 - zeta13_2 + 2)^10*(c/d^5)/(2^8) - 1));\nOUT:\nIn file \"/Users/alex/.sage/temp/Alexs-MacBook-Pro.local/46575/interface/tmp4803\", line 1, column 21:\n>> OK:= RingOfIntegers(K3);\n                       ^\nUser error: Identifier 'K3' has not been declared or assigned\n\nIn file \"/Users/alex/.sage/temp/Alexs-MacBook-Pro.local/46575/interface/tmp4803\", line 2, column 15:\n>> Factorization(OK*((zeta13_2)^(-10)*(zeta13_2^2 + zeta13_2 - 3)^(-10)*(-zeta\n                 ^\nUser error: Identifier 'OK' has not been declared or assigned",
     "output_type": "error",
     "traceback": [
      "\u001b[1;31m---------------------------------------------------------------------------\u001b[0m",
      "\u001b[1;31mRuntimeError\u001b[0m                              Traceback (most recent call last)",
      "\u001b[1;32m<ipython-input-1-4508f980572b>\u001b[0m in \u001b[0;36m<module>\u001b[1;34m\u001b[0m\n\u001b[1;32m----> 1\u001b[1;33m \u001b[0mget_ipython\u001b[0m\u001b[1;33m(\u001b[0m\u001b[1;33m)\u001b[0m\u001b[1;33m.\u001b[0m\u001b[0mrun_cell_magic\u001b[0m\u001b[1;33m(\u001b[0m\u001b[1;34m'magma'\u001b[0m\u001b[1;33m,\u001b[0m \u001b[1;34m''\u001b[0m\u001b[1;33m,\u001b[0m \u001b[1;34m'OK:= RingOfIntegers(K3);\\nFactorization(OK*((zeta13_2)^(-10)*(zeta13_2^2 + zeta13_2 - 3)^(-10)*(-zeta13_2^2 + 3)^(10)*(-zeta13_2^2 - zeta13_2 + 2)^10*(c/d^5)/(2^8) - 1))\\n'\u001b[0m\u001b[1;33m)\u001b[0m\u001b[1;33m\u001b[0m\u001b[1;33m\u001b[0m\u001b[0m\n\u001b[0m",
      "\u001b[1;32m/usr/local/Caskroom/miniconda/base/envs/sage/lib/python3.8/site-packages/IPython/core/interactiveshell.py\u001b[0m in \u001b[0;36mrun_cell_magic\u001b[1;34m(self, magic_name, line, cell)\u001b[0m\n\u001b[0;32m   2401\u001b[0m             \u001b[1;32mwith\u001b[0m \u001b[0mself\u001b[0m\u001b[1;33m.\u001b[0m\u001b[0mbuiltin_trap\u001b[0m\u001b[1;33m:\u001b[0m\u001b[1;33m\u001b[0m\u001b[1;33m\u001b[0m\u001b[0m\n\u001b[0;32m   2402\u001b[0m                 \u001b[0margs\u001b[0m \u001b[1;33m=\u001b[0m \u001b[1;33m(\u001b[0m\u001b[0mmagic_arg_s\u001b[0m\u001b[1;33m,\u001b[0m \u001b[0mcell\u001b[0m\u001b[1;33m)\u001b[0m\u001b[1;33m\u001b[0m\u001b[1;33m\u001b[0m\u001b[0m\n\u001b[1;32m-> 2403\u001b[1;33m                 \u001b[0mresult\u001b[0m \u001b[1;33m=\u001b[0m \u001b[0mfn\u001b[0m\u001b[1;33m(\u001b[0m\u001b[1;33m*\u001b[0m\u001b[0margs\u001b[0m\u001b[1;33m,\u001b[0m \u001b[1;33m**\u001b[0m\u001b[0mkwargs\u001b[0m\u001b[1;33m)\u001b[0m\u001b[1;33m\u001b[0m\u001b[1;33m\u001b[0m\u001b[0m\n\u001b[0m\u001b[0;32m   2404\u001b[0m             \u001b[1;32mreturn\u001b[0m \u001b[0mresult\u001b[0m\u001b[1;33m\u001b[0m\u001b[1;33m\u001b[0m\u001b[0m\n\u001b[0;32m   2405\u001b[0m \u001b[1;33m\u001b[0m\u001b[0m\n",
      "\u001b[1;32m/usr/local/Caskroom/miniconda/base/envs/sage/lib/python3.8/site-packages/sage/repl/interface_magic.py\u001b[0m in \u001b[0;36mcell_magic\u001b[1;34m(line, cell)\u001b[0m\n\u001b[0;32m    294\u001b[0m             \u001b[1;32mif\u001b[0m \u001b[0mline\u001b[0m\u001b[1;33m:\u001b[0m\u001b[1;33m\u001b[0m\u001b[1;33m\u001b[0m\u001b[0m\n\u001b[0;32m    295\u001b[0m                 \u001b[1;32mraise\u001b[0m \u001b[0mSyntaxError\u001b[0m\u001b[1;33m(\u001b[0m\u001b[1;34m'Interface magics have no options, got \"{0}\"'\u001b[0m\u001b[1;33m.\u001b[0m\u001b[0mformat\u001b[0m\u001b[1;33m(\u001b[0m\u001b[0mline\u001b[0m\u001b[1;33m)\u001b[0m\u001b[1;33m)\u001b[0m\u001b[1;33m\u001b[0m\u001b[1;33m\u001b[0m\u001b[0m\n\u001b[1;32m--> 296\u001b[1;33m             \u001b[0moutput\u001b[0m \u001b[1;33m=\u001b[0m \u001b[0mself\u001b[0m\u001b[1;33m.\u001b[0m\u001b[0m_interface\u001b[0m\u001b[1;33m.\u001b[0m\u001b[0meval\u001b[0m\u001b[1;33m(\u001b[0m\u001b[0mcell\u001b[0m\u001b[1;33m)\u001b[0m\u001b[1;33m\u001b[0m\u001b[1;33m\u001b[0m\u001b[0m\n\u001b[0m\u001b[0;32m    297\u001b[0m             \u001b[0mprint\u001b[0m\u001b[1;33m(\u001b[0m\u001b[0moutput\u001b[0m\u001b[1;33m)\u001b[0m\u001b[1;33m\u001b[0m\u001b[1;33m\u001b[0m\u001b[0m\n\u001b[0;32m    298\u001b[0m         \u001b[0mcell_magic\u001b[0m\u001b[1;33m.\u001b[0m\u001b[0m__doc__\u001b[0m \u001b[1;33m=\u001b[0m \u001b[0mCELL_DOCSTRING\u001b[0m\u001b[1;33m.\u001b[0m\u001b[0mformat\u001b[0m\u001b[1;33m(\u001b[0m\u001b[0mname\u001b[0m\u001b[1;33m=\u001b[0m\u001b[0mself\u001b[0m\u001b[1;33m.\u001b[0m\u001b[0m_name\u001b[0m\u001b[1;33m)\u001b[0m\u001b[1;33m\u001b[0m\u001b[1;33m\u001b[0m\u001b[0m\n",
      "\u001b[1;32m/usr/local/Caskroom/miniconda/base/envs/sage/lib/python3.8/site-packages/sage/interfaces/magma.py\u001b[0m in \u001b[0;36meval\u001b[1;34m(self, x, strip, **kwds)\u001b[0m\n\u001b[0;32m    560\u001b[0m         \u001b[0mans\u001b[0m \u001b[1;33m=\u001b[0m \u001b[0mExpect\u001b[0m\u001b[1;33m.\u001b[0m\u001b[0meval\u001b[0m\u001b[1;33m(\u001b[0m\u001b[0mself\u001b[0m\u001b[1;33m,\u001b[0m \u001b[0mx\u001b[0m\u001b[1;33m,\u001b[0m \u001b[1;33m**\u001b[0m\u001b[0mkwds\u001b[0m\u001b[1;33m)\u001b[0m\u001b[1;33m.\u001b[0m\u001b[0mreplace\u001b[0m\u001b[1;33m(\u001b[0m\u001b[1;34m'\\\\\\n'\u001b[0m\u001b[1;33m,\u001b[0m \u001b[1;34m''\u001b[0m\u001b[1;33m)\u001b[0m\u001b[1;33m\u001b[0m\u001b[1;33m\u001b[0m\u001b[0m\n\u001b[0;32m    561\u001b[0m         \u001b[1;32mif\u001b[0m \u001b[1;34m'Runtime error'\u001b[0m \u001b[1;32min\u001b[0m \u001b[0mans\u001b[0m \u001b[1;32mor\u001b[0m \u001b[1;34m'User error'\u001b[0m \u001b[1;32min\u001b[0m \u001b[0mans\u001b[0m\u001b[1;33m:\u001b[0m\u001b[1;33m\u001b[0m\u001b[1;33m\u001b[0m\u001b[0m\n\u001b[1;32m--> 562\u001b[1;33m             \u001b[1;32mraise\u001b[0m \u001b[0mRuntimeError\u001b[0m\u001b[1;33m(\u001b[0m\u001b[1;34m\"Error evaluating Magma code.\\nIN:%s\\nOUT:%s\"\u001b[0m \u001b[1;33m%\u001b[0m \u001b[1;33m(\u001b[0m\u001b[0mx\u001b[0m\u001b[1;33m,\u001b[0m \u001b[0mans\u001b[0m\u001b[1;33m)\u001b[0m\u001b[1;33m)\u001b[0m\u001b[1;33m\u001b[0m\u001b[1;33m\u001b[0m\u001b[0m\n\u001b[0m\u001b[0;32m    563\u001b[0m         \u001b[1;32mreturn\u001b[0m \u001b[0mans\u001b[0m\u001b[1;33m\u001b[0m\u001b[1;33m\u001b[0m\u001b[0m\n\u001b[0;32m    564\u001b[0m \u001b[1;33m\u001b[0m\u001b[0m\n",
      "\u001b[1;31mRuntimeError\u001b[0m: Error evaluating Magma code.\nIN:OK:= RingOfIntegers(K3);\nFactorization(OK*((zeta13_2)^(-10)*(zeta13_2^2 + zeta13_2 - 3)^(-10)*(-zeta13_2^2 + 3)^(10)*(-zeta13_2^2 - zeta13_2 + 2)^10*(c/d^5)/(2^8) - 1));\nOUT:\nIn file \"/Users/alex/.sage/temp/Alexs-MacBook-Pro.local/46575/interface/tmp4803\", line 1, column 21:\n>> OK:= RingOfIntegers(K3);\n                       ^\nUser error: Identifier 'K3' has not been declared or assigned\n\nIn file \"/Users/alex/.sage/temp/Alexs-MacBook-Pro.local/46575/interface/tmp4803\", line 2, column 15:\n>> Factorization(OK*((zeta13_2)^(-10)*(zeta13_2^2 + zeta13_2 - 3)^(-10)*(-zeta\n                 ^\nUser error: Identifier 'OK' has not been declared or assigned"
     ]
    }
   ],
   "source": [
    "%%magma\n",
    "OK:= RingOfIntegers(K3);\n",
    "Factorization(OK*((zeta13_2)^(-10)*(zeta13_2^2 + zeta13_2 - 3)^(-10)*(-zeta13_2^2 + 3)^(10)*(-zeta13_2^2 - zeta13_2 + 2)^10*(c/d^5)/(2^8) - 1))"
   ]
  },
  {
   "cell_type": "code",
   "execution_count": 8,
   "id": "ccf90a48",
   "metadata": {},
   "outputs": [
    {
     "data": {
      "text/plain": [
       "Hyperelliptic Curve over Number Field in zeta13_2 with defining polynomial x^3 + x^2 - 4*x + 1 with zeta13_2 = 0.2738905549642176? defined by y^2 = 4*x^5 - 141985150736/9765625*zeta13_2^2 - 180727950468/9765625*zeta13_2 + 518788308753/9765625"
      ]
     },
     "execution_count": 8,
     "metadata": {},
     "output_type": "execute_result"
    }
   ],
   "source": [
    "C  = HyperellipticCurve(2^2*X^5 + ((zeta13_2)^(-10)*(zeta13_2^2 + zeta13_2 - 3)^(-10)*(-zeta13_2^2 + 3)^(10)*(-zeta13_2^2 - zeta13_2 + 2)^10*(c2/d^5))/(2^8))\n",
    "C"
   ]
  },
  {
   "cell_type": "code",
   "execution_count": 178,
   "id": "c032ab90",
   "metadata": {},
   "outputs": [
    {
     "data": {
      "text/plain": [
       "(-22502795*zeta13_2^2 - 28666085*zeta13_2 + 82159841) * 2^52 * (-zeta13_2 - 1)^5 * (-zeta13_2^2 - zeta13_2 + 2)^5 * (zeta13_2^2 + 2*zeta13_2 - 3)^5 * (-zeta13_2^2 + 3)^20"
      ]
     },
     "execution_count": 178,
     "metadata": {},
     "output_type": "execute_result"
    }
   ],
   "source": [
    "C.igusa_clebsch_invariants()[3].factor()"
   ]
  },
  {
   "cell_type": "code",
   "execution_count": 162,
   "id": "c89f7f77",
   "metadata": {},
   "outputs": [
    {
     "data": {
      "text/plain": [
       "zeta13_2"
      ]
     },
     "execution_count": 162,
     "metadata": {},
     "output_type": "execute_result"
    }
   ],
   "source": [
    "zeta13_2"
   ]
  },
  {
   "cell_type": "code",
   "execution_count": 163,
   "id": "837dbf1b",
   "metadata": {},
   "outputs": [
    {
     "data": {
      "text/plain": [
       "(0,\n",
       " 0,\n",
       " 0,\n",
       " -665451297307454765867703730176000000*zeta13_2^2 - 847712122428651963033266946048000000*zeta13_2 + 2429624845567945836905506852044800000)"
      ]
     },
     "execution_count": 163,
     "metadata": {},
     "output_type": "execute_result"
    }
   ],
   "source": [
    "C.igusa_clebsch_invariants()"
   ]
  },
  {
   "cell_type": "markdown",
   "id": "3b6092e2",
   "metadata": {},
   "source": [
    "Attempt to use stoll-cremona"
   ]
  },
  {
   "cell_type": "code",
   "execution_count": 132,
   "id": "1e15b624",
   "metadata": {},
   "outputs": [
    {
     "name": "stderr",
     "output_type": "stream",
     "text": [
      "<string>:773: DeprecationWarning: invalid escape sequence \\Q\n",
      "<string>:830: DeprecationWarning: invalid escape sequence \\Q\n",
      "<string>:348: DeprecationWarning: invalid escape sequence \\s\n"
     ]
    }
   ],
   "source": [
    "load(\"https://bitbucket.org/alexjbest2/reduce/raw/master/load_table.sage\")\n",
    "load(\"https://bitbucket.org/alexjbest2/reduce/raw/master/mestre.sage\")\n",
    "load(\"https://bitbucket.org/alexjbest2/reduce/raw/master/reduction.sage\")\n",
    "load(\"https://bitbucket.org/alexjbest2/reduce/raw/master/stoll_cremona.sage\")\n",
    "load(\"https://bitbucket.org/alexjbest2/reduce/raw/master/ideals.sage\")\n",
    "cm_curve_table_base_url = \"https://bitbucket.org/alexjbest2/reduce/raw/master/data/\""
   ]
  },
  {
   "cell_type": "code",
   "execution_count": 185,
   "id": "a249cfea",
   "metadata": {},
   "outputs": [
    {
     "ename": "ValueError",
     "evalue": "inverse is not defined modulo the zero ideal",
     "output_type": "error",
     "traceback": [
      "\u001b[1;31m--------------------------------------------------------------------------\u001b[0m",
      "\u001b[1;31mValueError\u001b[0m                               Traceback (most recent call last)",
      "\u001b[1;32m<ipython-input-185-e1aef92981bd>\u001b[0m in \u001b[0;36m<module>\u001b[1;34m\u001b[0m\n\u001b[1;32m----> 1\u001b[1;33m \u001b[0mstoll_cremona_reduction\u001b[0m\u001b[1;33m(\u001b[0m\u001b[0mC\u001b[0m\u001b[1;33m.\u001b[0m\u001b[0mhyperelliptic_polynomials\u001b[0m\u001b[1;33m(\u001b[0m\u001b[1;33m)\u001b[0m\u001b[1;33m[\u001b[0m\u001b[0mInteger\u001b[0m\u001b[1;33m(\u001b[0m\u001b[1;36m0\u001b[0m\u001b[1;33m)\u001b[0m\u001b[1;33m]\u001b[0m\u001b[1;33m,\u001b[0m\u001b[0malgorithm\u001b[0m\u001b[1;33m=\u001b[0m\u001b[1;34m\"magma\"\u001b[0m\u001b[1;33m)\u001b[0m\u001b[1;33m\u001b[0m\u001b[1;33m\u001b[0m\u001b[0m\n\u001b[0m",
      "\u001b[1;32m<string>\u001b[0m in \u001b[0;36mstoll_cremona_reduction\u001b[1;34m(f, degree, algorithm, precision, group, transformation)\u001b[0m\n",
      "\u001b[1;32m<string>\u001b[0m in \u001b[0;36mstep\u001b[1;34m(self, z, bound_on_c)\u001b[0m\n",
      "\u001b[1;32m<string>\u001b[0m in \u001b[0;36mup\u001b[1;34m(self, z, bound_on_c)\u001b[0m\n",
      "\u001b[1;32m/usr/local/Caskroom/miniconda/base/envs/sage/lib/python3.8/site-packages/sage/rings/number_field/number_field_element.pyx\u001b[0m in \u001b[0;36msage.rings.number_field.number_field_element.OrderElement_absolute.inverse_mod (build/cythonized/sage/rings/number_field/number_field_element.cpp:42275)\u001b[1;34m()\u001b[0m\n\u001b[0;32m   5121\u001b[0m         \"\"\"\n\u001b[0;32m   5122\u001b[0m         \u001b[0mR\u001b[0m \u001b[1;33m=\u001b[0m \u001b[0mself\u001b[0m\u001b[1;33m.\u001b[0m\u001b[0mparent\u001b[0m\u001b[1;33m(\u001b[0m\u001b[1;33m)\u001b[0m\u001b[1;33m\u001b[0m\u001b[1;33m\u001b[0m\u001b[0m\n\u001b[1;32m-> 5123\u001b[1;33m         \u001b[1;32mreturn\u001b[0m \u001b[0mR\u001b[0m\u001b[1;33m(\u001b[0m\u001b[0m_inverse_mod_generic\u001b[0m\u001b[1;33m(\u001b[0m\u001b[0mself\u001b[0m\u001b[1;33m,\u001b[0m \u001b[0mI\u001b[0m\u001b[1;33m)\u001b[0m\u001b[1;33m)\u001b[0m\u001b[1;33m\u001b[0m\u001b[1;33m\u001b[0m\u001b[0m\n\u001b[0m\u001b[0;32m   5124\u001b[0m \u001b[1;33m\u001b[0m\u001b[0m\n\u001b[0;32m   5125\u001b[0m     \u001b[1;32mdef\u001b[0m \u001b[0m__invert__\u001b[0m\u001b[1;33m(\u001b[0m\u001b[0mself\u001b[0m\u001b[1;33m)\u001b[0m\u001b[1;33m:\u001b[0m\u001b[1;33m\u001b[0m\u001b[1;33m\u001b[0m\u001b[0m\n",
      "\u001b[1;32m/usr/local/Caskroom/miniconda/base/envs/sage/lib/python3.8/site-packages/sage/rings/number_field/number_field_element.pyx\u001b[0m in \u001b[0;36msage.rings.number_field.number_field_element._inverse_mod_generic (build/cythonized/sage/rings/number_field/number_field_element.cpp:6248)\u001b[1;34m()\u001b[0m\n\u001b[0;32m    169\u001b[0m         \u001b[1;32mraise\u001b[0m \u001b[0mValueError\u001b[0m\u001b[1;33m(\u001b[0m\u001b[1;34m\"inverse is only defined modulo integral ideals\"\u001b[0m\u001b[1;33m)\u001b[0m\u001b[1;33m\u001b[0m\u001b[1;33m\u001b[0m\u001b[0m\n\u001b[0;32m    170\u001b[0m     \u001b[1;32mif\u001b[0m \u001b[0mI\u001b[0m \u001b[1;33m==\u001b[0m \u001b[1;36m0\u001b[0m\u001b[1;33m:\u001b[0m\u001b[1;33m\u001b[0m\u001b[1;33m\u001b[0m\u001b[0m\n\u001b[1;32m--> 171\u001b[1;33m         \u001b[1;32mraise\u001b[0m \u001b[0mValueError\u001b[0m\u001b[1;33m(\u001b[0m\u001b[1;34m\"inverse is not defined modulo the zero ideal\"\u001b[0m\u001b[1;33m)\u001b[0m\u001b[1;33m\u001b[0m\u001b[1;33m\u001b[0m\u001b[0m\n\u001b[0m\u001b[0;32m    172\u001b[0m     \u001b[0mn\u001b[0m \u001b[1;33m=\u001b[0m \u001b[0mR\u001b[0m\u001b[1;33m.\u001b[0m\u001b[0mabsolute_degree\u001b[0m\u001b[1;33m(\u001b[0m\u001b[1;33m)\u001b[0m\u001b[1;33m\u001b[0m\u001b[1;33m\u001b[0m\u001b[0m\n\u001b[0;32m    173\u001b[0m     \u001b[0mB\u001b[0m \u001b[1;33m=\u001b[0m \u001b[0mR\u001b[0m\u001b[1;33m.\u001b[0m\u001b[0mbasis\u001b[0m\u001b[1;33m(\u001b[0m\u001b[1;33m)\u001b[0m\u001b[1;33m\u001b[0m\u001b[1;33m\u001b[0m\u001b[0m\n",
      "\u001b[1;31mValueError\u001b[0m: inverse is not defined modulo the zero ideal"
     ]
    }
   ],
   "source": [
    "stoll_cremona_reduction(C.hyperelliptic_polynomials()[0],algorithm=\"magma\")"
   ]
  },
  {
   "cell_type": "code",
   "execution_count": 135,
   "id": "238eae9f",
   "metadata": {},
   "outputs": [
    {
     "data": {
      "text/plain": [
       "X^5 + 38994176*zeta13_2^2 - 64569856*zeta13_2 + 14966016"
      ]
     },
     "execution_count": 135,
     "metadata": {},
     "output_type": "execute_result"
    }
   ],
   "source": [
    "C.hyperelliptic_polynomials()[0].factor()"
   ]
  },
  {
   "cell_type": "code",
   "execution_count": 138,
   "id": "41fa3f6a",
   "metadata": {},
   "outputs": [
    {
     "data": {
      "text/plain": [
       "[-1, zeta13_2, zeta13_2^2 + zeta13_2 - 3]"
      ]
     },
     "execution_count": 138,
     "metadata": {},
     "output_type": "execute_result"
    }
   ],
   "source": [
    "[K(u) for u in K.unit_group().gens()]"
   ]
  },
  {
   "cell_type": "code",
   "execution_count": 236,
   "id": "b1832b2b",
   "metadata": {},
   "outputs": [
    {
     "name": "stdout",
     "output_type": "stream",
     "text": [
      "\n",
      "Loading \"coleman.m\"\n",
      "Loading \"auxpolys.m\"\n",
      "Loading \"coho.m\"\n",
      "Loading \"froblift.m\"\n",
      "Loading \"reductions.m\"\n",
      "Loading \"singleintegrals.m\"\n",
      "Loading \"applications.m\"\n"
     ]
    }
   ],
   "source": [
    "%%magma\n",
    "ChangeDirectory(\"Coleman\");\n",
    "load \"coleman.m\""
   ]
  },
  {
   "cell_type": "code",
   "execution_count": null,
   "id": "1c161787",
   "metadata": {},
   "outputs": [],
   "source": [
    "%%magma\n",
    "Q:=y^2 - Evaluate(f,x);\n",
    "p:=7;\n",
    "N:=15;\n",
    "data:=coleman_data(Q,p,N);\n",
    "Qpoints:=Q_points(data,10^4);"
   ]
  },
  {
   "cell_type": "code",
   "execution_count": null,
   "id": "45a11e25",
   "metadata": {},
   "outputs": [],
   "source": [
    "from juliacall import Main as jl\n",
    "jl.seval(\"1+1\")"
   ]
  },
  {
   "cell_type": "code",
   "execution_count": null,
   "id": "17cd302d",
   "metadata": {},
   "outputs": [],
   "source": []
  },
  {
   "cell_type": "code",
   "execution_count": null,
   "id": "9f07bb3c",
   "metadata": {},
   "outputs": [],
   "source": []
  }
 ],
 "metadata": {
  "kernelspec": {
   "display_name": "SageMath 9.4",
   "language": "sage",
   "name": "sagemath"
  },
  "language_info": {
   "codemirror_mode": {
    "name": "ipython",
    "version": 3
   },
   "file_extension": ".py",
   "mimetype": "text/x-python",
   "name": "python",
   "nbconvert_exporter": "python",
   "pygments_lexer": "ipython3",
   "version": "3.9.7"
  },
  "varInspector": {
   "cols": {
    "lenName": 16,
    "lenType": 16,
    "lenVar": 40
   },
   "kernels_config": {
    "python": {
     "delete_cmd_postfix": "",
     "delete_cmd_prefix": "del ",
     "library": "var_list.py",
     "varRefreshCmd": "print(var_dic_list())"
    },
    "r": {
     "delete_cmd_postfix": ") ",
     "delete_cmd_prefix": "rm(",
     "library": "var_list.r",
     "varRefreshCmd": "cat(var_dic_list()) "
    }
   },
   "types_to_exclude": [
    "module",
    "function",
    "builtin_function_or_method",
    "instance",
    "_Feature"
   ],
   "window_display": false
  }
 },
 "nbformat": 4,
 "nbformat_minor": 5
}
