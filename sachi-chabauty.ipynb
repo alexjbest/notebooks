{
 "cells": [
  {
   "cell_type": "code",
   "execution_count": 16,
   "metadata": {},
   "outputs": [],
   "source": [
    "x = polygen(QQ)\n",
    "H = HyperellipticCurve((4*x^5 + x^4 + 256*x^3 + 192*x^2 + 48*x + 4)/4)\n",
    "P= H(0,1)\n"
   ]
  },
  {
   "cell_type": "code",
   "execution_count": 17,
   "metadata": {},
   "outputs": [
    {
     "data": {
      "text/plain": [
       "(0 : 1 : 1)"
      ]
     },
     "execution_count": 17,
     "metadata": {},
     "output_type": "execute_result"
    }
   ],
   "source": [
    "P"
   ]
  },
  {
   "cell_type": "code",
   "execution_count": 18,
   "metadata": {},
   "outputs": [],
   "source": [
    "K = Qp(next_prime(43))"
   ]
  },
  {
   "cell_type": "code",
   "execution_count": 19,
   "metadata": {},
   "outputs": [],
   "source": [
    "HK = H.change_ring(K)"
   ]
  },
  {
   "cell_type": "code",
   "execution_count": 20,
   "metadata": {},
   "outputs": [],
   "source": [
    "PK = HK(P)"
   ]
  },
  {
   "cell_type": "code",
   "execution_count": 21,
   "metadata": {},
   "outputs": [
    {
     "data": {
      "text/plain": [
       "(43*47 + 5*47^2 + 32*47^3 + 35*47^4 + 34*47^5 + 37*47^6 + 33*47^7 + 47^8 + 17*47^9 + 28*47^10 + 6*47^11 + 8*47^12 + 41*47^13 + 33*47^14 + 31*47^15 + 17*47^16 + 36*47^17 + 6*47^18 + 5*47^19 + O(47^20), 2*47 + 44*47^2 + 30*47^3 + 5*47^4 + 6*47^5 + 28*47^6 + 6*47^7 + 46*47^8 + 14*47^9 + 9*47^10 + 20*47^11 + 19*47^12 + 26*47^13 + 6*47^14 + 31*47^15 + 14*47^16 + 5*47^17 + 20*47^18 + 44*47^19 + O(47^20), 30 + 4*47 + 21*47^2 + 17*47^3 + 2*47^4 + 17*47^5 + 38*47^6 + 2*47^7 + 23*47^8 + 38*47^9 + 40*47^10 + 10*47^11 + 42*47^12 + 23*47^13 + 18*47^14 + 20*47^15 + 29*47^16 + 19*47^17 + 21*47^18 + 4*47^19 + O(47^20), 12 + 9*47 + 20*47^2 + 27*47^3 + 17*47^4 + 2*47^5 + 46*47^6 + 30*47^7 + 36*47^8 + 21*47^9 + 3*47^10 + 2*47^11 + 5*47^12 + 4*47^13 + 13*47^14 + 47^15 + 11*47^16 + 26*47^17 + 32*47^18 + 26*47^19 + O(47^20))"
      ]
     },
     "execution_count": 21,
     "metadata": {},
     "output_type": "execute_result"
    }
   ],
   "source": [
    "HK.coleman_integrals_on_basis(HK(0,1,0), PK)"
   ]
  },
  {
   "cell_type": "code",
   "execution_count": 22,
   "metadata": {},
   "outputs": [],
   "source": [
    "L = _"
   ]
  },
  {
   "cell_type": "code",
   "execution_count": 26,
   "metadata": {},
   "outputs": [],
   "source": [
    "a,b = L[0:2]"
   ]
  },
  {
   "cell_type": "code",
   "execution_count": 29,
   "metadata": {},
   "outputs": [
    {
     "data": {
      "text/plain": [
       "O(47^20)"
      ]
     },
     "execution_count": 29,
     "metadata": {},
     "output_type": "execute_result"
    }
   ],
   "source": [
    "a + 2*b"
   ]
  },
  {
   "cell_type": "code",
   "execution_count": null,
   "metadata": {},
   "outputs": [],
   "source": []
  },
  {
   "cell_type": "code",
   "execution_count": 19,
   "metadata": {},
   "outputs": [
    {
     "name": "stdout",
     "output_type": "stream",
     "text": []
    }
   ],
   "source": [
    "\n",
    "K := pAdicField(43);\n",
    "R<x> := PolynomialRing(Rationals());\n",
    "H := HyperellipticCurve((4*x^5 + x^4 + 256*x^3 + 192*x^2 + 48*x + 4)/4);\n",
    "P:= H![0,1];"
   ]
  },
  {
   "cell_type": "code",
   "execution_count": 20,
   "metadata": {},
   "outputs": [
    {
     "name": "stdout",
     "output_type": "stream",
     "text": [
      "\r\n",
      "Chabauty(\r\n",
      "ptJ: (x, 1, 1)\r\n",
      ")\r\n",
      "In file \"/Applications/Magma/package/Geometry/CrvG2/chabauty-MWS.m\", line 1262, column 20:\r\n",
      ">>       pts := Points(C : Bound := 2^n);\r\n",
      "                      ^\r\n",
      "Runtime error in 'Points': Defining polynomial of curve must be integral\r\n",
      "\r\n"
     ]
    }
   ],
   "source": [
    "J := Jacobian(H);\n",
    "D := P - H![1,0,0];\n",
    "Chabauty(D);"
   ]
  },
  {
   "cell_type": "code",
   "execution_count": 22,
   "metadata": {},
   "outputs": [
    {
     "name": "stdout",
     "output_type": "stream",
     "text": [
      "Intrinsic 'Chabauty'\r\n",
      "\r\n",
      "Signatures:\r\n",
      "\r\n",
      "(ptJ::JacHypPt) -> SetEnum, SetEnum, SeqEnum\r\n",
      "[\r\n",
      "ptC,\r\n",
      "PrimeBound,\r\n",
      "SmoothBound,\r\n",
      "Epsilon,\r\n",
      "CheckBound,\r\n",
      "GiveUpBound,\r\n",
      "Saturate\r\n",
      "]\r\n",
      "\r\n",
      "For a curve C of genus 2 over Q, this returns the full set of rational points, using Chabauty's method combined with a Mordell-Weil sieve. There are two conditions: (i) the Jacobian of C has rank 1 and the given point ptJ has infinite order, and (ii) the set of rational points on C is non-empty. The optional argument ptC, if given, should be a rational point on C. If Saturate is set to false, then it is assumed that ptJ generates the free part of the Mordell-Weil group and the computation is faster. If the assumption does not hold, then the result may be incorrect in this case.\r\n",
      "\r\n",
      "(ptJ::JacHypPt, p::RngIntElt) -> SetIndx\r\n",
      "[\r\n",
      "Precision\r\n",
      "]\r\n",
      "\r\n",
      "Given a point on the Jacobian of a hyperelliptic curve C, returns an indexed set of triples <x,z,v,k> such that there are at most k pairs of rational points (X:Y:Z) on C with (X:Z) congruent to (x:z) mod p^v, and such that there are no other rational points on C except the hyperelliptic points. J(Q) must have rank 1, and ptJ must have infinite order in J(Q). C must be in the simplified form y^2 = f(x).\r\n",
      "\r\n",
      "(MWmap::Map, Ecov::MapSch) -> SetEnum, RngIntElt\r\n",
      "[\r\n",
      "InertiaDegreeBound,\r\n",
      "SmoothBound,\r\n",
      "PrimeBound,\r\n",
      "IndexBound,\r\n",
      "InitialPrimes\r\n",
      "]\r\n",
      "\r\n",
      "Computes the points in the image of MWmap that map to a rational point under Ecov. using a combination of Mordell-Weil sieving and method of Chabauty. Several parameters are available to influence the performance. InertiaDegreeBound: The routine considers many reductions of the elliptic curve. The size of the residue field is an important factor in the cost. No primes with an inertia degree exceeding this bound will be considered. SmoothBound: Only primes at which the elliptic curve has a smooth group order are considered PrimeBound: In the Mordell-Weil sieving stage, only prime factors below this bound will be added to the group order. IndexBound: The routine finds all points in the Mordell-Weil group with rational image provided the image of MWmap is saturated at certain primes. Setting this bound ensures that the routine will only use information that depends on the image being p-saturated for p dividing IndexBound. Setting this bound can make it impossible for the routine to complete. InitialPrimes: Information at all good primes below this bound will be used initially.\r\n",
      "\r\n",
      "(MWmap::Map, Ecov::MapSch, p::RngIntElt) -> SetEnum, RngIntElt\r\n",
      "[\r\n",
      "Cosets,\r\n",
      "Aux,\r\n",
      "Precision,\r\n",
      "Bound\r\n",
      "]\r\n",
      "\r\n",
      "Straightforward attempt for determining the set of points in the image of MWmap that have a rational image under Ecov.\r\n",
      "\r\n",
      "\r\n"
     ]
    }
   ],
   "source": [
    "Chabauty;"
   ]
  },
  {
   "cell_type": "code",
   "execution_count": null,
   "metadata": {},
   "outputs": [],
   "source": []
  }
 ],
 "metadata": {
  "kernelspec": {
   "display_name": "Magma",
   "language": "magma",
   "name": "magma"
  },
  "language_info": {
   "codemirror_mode": "magma",
   "file_extension": ".mgm",
   "mimetype": "text/x-sh",
   "name": "magma"
  }
 },
 "nbformat": 4,
 "nbformat_minor": 2
}
