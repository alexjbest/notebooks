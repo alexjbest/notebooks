{
 "cells": [
  {
   "cell_type": "code",
   "execution_count": 1,
   "metadata": {},
   "outputs": [],
   "source": [
    "ring R = Q,(x), dp;"
   ]
  },
  {
   "cell_type": "code",
   "execution_count": 2,
   "metadata": {},
   "outputs": [],
   "source": [
    "R;"
   ]
  },
  {
   "cell_type": "code",
   "execution_count": 19,
   "metadata": {},
   "outputs": [],
   "source": [
    "ring R = QQ,(a_1,a_2,a_3,a_4,a_6,X_1,Y_1,Z_1,X_2,Y_2,Z_2),dp;\n",
    "ideal i = Z_1*Y_1^2 + a_1*X_1*Y_1*Z_1 + a_3 *Y_1*Z_1^2 - X_1^3 - a_2 * X_1^2 * Z_1 - a_4 * X_1 * Z_1^2 - a_6 * Z_1^3, Z_2*Y_2^2 + a_1*X_2*Y_2*Z_2 + a_3 *Y_2*Z_2^2 - X_2^3 - a_2 * X_2^2 * Z_2 - a_4 * X_2 * Z_2^2 - a_6 * Z_2^3, -Z_1^5*X_2^3*Z_2^2 + 3*X_1*Z_1^4*X_2^2*Z_2^3 - 3*X_1^2*Z_1^3*X_2*Z_2^4 + X_1^3*Z_1^2*Z_2^5;"
   ]
  },
  {
   "cell_type": "code",
   "execution_count": 20,
   "metadata": {},
   "outputs": [],
   "source": [
    "qring r = std(i);"
   ]
  },
  {
   "cell_type": "code",
   "execution_count": 22,
   "metadata": {},
   "outputs": [
    {
     "data": {
      "text/plain": [
       "_[1,1]=-3*Z_1^4*X_2^4*Z_2^3+3*X_1*Z_1^3*X_2^3*Z_2^4-X_1^2*Z_1^2*X_2^2*Z_2^5+X_1^3*Z_1*X_2*Z_2^6\n",
       "_[2,1]=X_1*Z_1^6*X_2^3*Z_2-X_1^2*Z_1^5*X_2^2*Z_2^2+3*X_1^3*Z_1^4*X_2*Z_2^3-3*X_1^4*Z_1^3*Z_2^4\n",
       "_[3,1]=-a_2*X_1*Z_1*X_2^2+a_1*Y_1*Z_1*X_2^2-a_4*Z_1^2*X_2^2+a_3*Z_1^2*X_2*Y_2+a_2*X_1^2*X_2*Z_2+2*a_3*Y_1*Z_1*X_2*Z_2-3*a_6*Z_1^2*X_2*Z_2-a_1*X_1^2*Y_2*Z_2-2*a_3*X_1*Z_1*Y_2*Z_2+a_4*X_1^2*Z_2^2-a_3*X_1*Y_1*Z_2^2+3*a_6*X_1*Z_1*Z_2^2+2*Y_1*Z_1*X_2*Y_2-X_1*Z_1*Y_2^2+Y_1^2*X_2*Z_2-2*X_1*Y_1*Y_2*Z_2\n"
      ]
     },
     "execution_count": 22,
     "metadata": {},
     "output_type": "execute_result"
    }
   ],
   "source": [
    "poly aa = -a_1*Y_1*Z_1^6*X_2^5*Z_2^2 + a_4*Z_1^7*X_2^5*Z_2^2 + a_1*X_1*Z_1^6*X_2^4*Y_2*Z_2^2 - a_3*Z_1^7*X_2^4*Y_2*Z_2^2 - a_4*X_1*Z_1^6*X_2^4*Z_2^3 - 5*a_3*Y_1*Z_1^6*X_2^4*Z_2^3 + 6*a_6*Z_1^7*X_2^4*Z_2^3 + 6*a_3*X_1*Z_1^6*X_2^3*Y_2*Z_2^3 + 10*a_3*X_1*Y_1*Z_1^5*X_2^3*Z_2^4 - 16*a_6*X_1*Z_1^6*X_2^3*Z_2^4 - 10*a_3*X_1^2*Z_1^5*X_2^2*Y_2*Z_2^4 - 10*a_3*X_1^2*Y_1*Z_1^4*X_2^2*Z_2^5 + 20*a_6*X_1^2*Z_1^5*X_2^2*Z_2^5 + 10*a_3*X_1^3*Z_1^4*X_2*Y_2*Z_2^5 + a_1*X_1^4*Y_1*Z_1^2*X_2*Z_2^6 - a_4*X_1^4*Z_1^3*X_2*Z_2^6 + 6*a_3*X_1^3*Y_1*Z_1^3*X_2*Z_2^6 - 16*a_6*X_1^3*Z_1^4*X_2*Z_2^6 - a_1*X_1^5*Z_1^2*Y_2*Z_2^6 - 5*a_3*X_1^4*Z_1^3*Y_2*Z_2^6 + a_4*X_1^5*Z_1^2*Z_2^7 - a_3*X_1^4*Y_1*Z_1^2*Z_2^7 + 6*a_6*X_1^4*Z_1^3*Z_2^7 - X_1*Z_1^6*X_2^6*Z_2 + X_1^2*Z_1^5*X_2^5*Z_2^2 - 2*Y_1*Z_1^6*X_2^4*Y_2*Z_2^2 + 2*X_1*Z_1^6*X_2^3*Y_2^2*Z_2^2 - 4*Y_1^2*Z_1^5*X_2^4*Z_2^3 + 8*X_1*Y_1*Z_1^5*X_2^3*Y_2*Z_2^3 - 4*X_1^2*Z_1^5*X_2^2*Y_2^2*Z_2^3 + 6*X_1*Y_1^2*Z_1^4*X_2^3*Z_2^4 - 12*X_1^2*Y_1*Z_1^4*X_2^2*Y_2*Z_2^4 + 6*X_1^3*Z_1^4*X_2*Y_2^2*Z_2^4 + X_1^5*Z_1^2*X_2^2*Z_2^5 - 4*X_1^2*Y_1^2*Z_1^3*X_2^2*Z_2^5 + 8*X_1^3*Y_1*Z_1^3*X_2*Y_2*Z_2^5 - 4*X_1^4*Z_1^3*Y_2^2*Z_2^5 - X_1^6*Z_1*X_2*Z_2^6 + 2*X_1^3*Y_1^2*Z_1^2*X_2*Z_2^6 - 2*X_1^4*Y_1*Z_1^2*Y_2*Z_2^6;\n",
    "\n",
    "\n"
   ]
  },
  {
   "cell_type": "code",
   "execution_count": 21,
   "metadata": {},
   "outputs": [],
   "source": [
    "poly z0 = (X_1*Z_2 - Z_1*X_2)^3;"
   ]
  },
  {
   "cell_type": "code",
   "execution_count": 22,
   "metadata": {},
   "outputs": [
    {
     "data": {
      "text/plain": [
       "-Z_1^3*X_2^3+3*X_1*Z_1^2*X_2^2*Z_2-3*X_1^2*Z_1*X_2*Z_2^2+X_1^3*Z_2^3\n"
      ]
     },
     "execution_count": 22,
     "metadata": {},
     "output_type": "execute_result"
    }
   ],
   "source": [
    "z0;"
   ]
  },
  {
   "cell_type": "code",
   "execution_count": 24,
   "metadata": {},
   "outputs": [],
   "source": [
    "reduce(z0,std(i));"
   ]
  },
  {
   "cell_type": "code",
   "execution_count": 9,
   "metadata": {},
   "outputs": [],
   "source": [
    "Z_0;"
   ]
  },
  {
   "cell_type": "code",
   "execution_count": null,
   "metadata": {},
   "outputs": [],
   "source": [
    "\n",
    "\n",
    "lift(i,aa);"
   ]
  },
  {
   "cell_type": "code",
   "execution_count": 26,
   "metadata": {},
   "outputs": [
    {
     "data": {
      "text/plain": [
       "0\n"
      ]
     },
     "execution_count": 26,
     "metadata": {},
     "output_type": "execute_result"
    }
   ],
   "source": [
    "reduce(aa,std(i));"
   ]
  },
  {
   "cell_type": "code",
   "execution_count": 23,
   "metadata": {},
   "outputs": [
    {
     "data": {
      "text/plain": [
       "-2*a_2*X_1*Z_1*X_2^2+2*a_1*Y_1*Z_1*X_2^2-2*a_4*Z_1^2*X_2^2+2*a_3*Z_1^2*X_2*Y_2+2*a_2*X_1^2*X_2*Z_2+4*a_3*Y_1*Z_1*X_2*Z_2-6*a_6*Z_1^2*X_2*Z_2-2*a_1*X_1^2*Y_2*Z_2-4*a_3*X_1*Z_1*Y_2*Z_2+2*a_4*X_1^2*Z_2^2-2*a_3*X_1*Y_1*Z_2^2+6*a_6*X_1*Z_1*Z_2^2+4*Y_1*Z_1*X_2*Y_2-2*X_1*Z_1*Y_2^2+2*Y_1^2*X_2*Z_2-4*X_1*Y_1*Y_2*Z_2\n"
      ]
     },
     "execution_count": 23,
     "metadata": {},
     "output_type": "execute_result"
    }
   ],
   "source": [
    "reduce(-2*a_2*X_1*Z_1*X_2^2 + 2*a_1*Y_1*Z_1*X_2^2 - 2*a_4*Z_1^2*X_2^2 + 2*a_3*Z_1^2*X_2*Y_2 + 2*a_2*X_1^2*X_2*Z_2 + 4*a_3*Y_1*Z_1*X_2*Z_2 - 6*a_6*Z_1^2*X_2*Z_2 - 2*a_1*X_1^2*Y_2*Z_2 - 4*a_3*X_1*Z_1*Y_2*Z_2 + 2*a_4*X_1^2*Z_2^2 - 2*a_3*X_1*Y_1*Z_2^2 + 6*a_6*X_1*Z_1*Z_2^2 + 4*Y_1*Z_1*X_2*Y_2 - 2*X_1*Z_1*Y_2^2 + 2*Y_1^2*X_2*Z_2 - 4*X_1*Y_1*Y_2*Z_2,std(i));"
   ]
  },
  {
   "cell_type": "code",
   "execution_count": 3,
   "metadata": {},
   "outputs": [
    {
     "data": {
      "text/plain": [
       "// coefficients: QQ\n",
       "// number of vars : 11\n",
       "//        block   1 : ordering dp\n",
       "//                  : names    a_1 a_2 a_3 a_4 a_6 X_1 Y_1 Z_1 X_2 Y_2 Z_2\n",
       "//        block   2 : ordering C\n",
       "// quotient ring from ideal\n",
       "_[1]=a_2*X_2^2*Z_2-a_1*X_2*Y_2*Z_2+a_4*X_2*Z_2^2-a_3*Y_2*Z_2^2+a_6*Z_2^3+X_2^3-Y_2^2*Z_2\n",
       "_[2]=a_2*X_1^2*Z_1-a_1*X_1*Y_1*Z_1+a_4*X_1*Z_1^2-a_3*Y_1*Z_1^2+a_6*Z_1^3+X_1^3-Y_1^2*Z_1\n",
       "_[3]=a_1*X_1*Y_1*Z_1*X_2^2*Z_2-a_4*X_1*Z_1^2*X_2^2*Z_2+a_3*Y_1*Z_1^2*X_2^2*Z_2-a_6*Z_1^3*X_2^2*Z_2-a_1*X_1^2*Z_1*X_2*Y_2*Z_2+a_4*X_1^2*Z_1*X_2*Z_2^2-a_3*X_1^2*Z_1*Y_2*Z_2^2+a_6*X_1^2*Z_1*Z_2^3+X_1^2*Z_1*X_2^3-X_1^3*X_2^2*Z_2+Y_1^2*Z_1*X_2^2*Z_2-X_1^2*Z_1*Y_2^2*Z_2\n"
      ]
     },
     "execution_count": 3,
     "metadata": {},
     "output_type": "execute_result"
    }
   ],
   "source": [
    "r;"
   ]
  },
  {
   "cell_type": "code",
   "execution_count": 4,
   "metadata": {},
   "outputs": [
    {
     "data": {
      "text/plain": [
       "3*X_1*Z_1*X_2^2-3*X_1^2*X_2*Z_2\n"
      ]
     },
     "execution_count": 4,
     "metadata": {},
     "output_type": "execute_result"
    }
   ],
   "source": [
    "(X_1 * Z_2 - Z_1 * X_2)^3/ (Z_1 * Z_2);"
   ]
  },
  {
   "cell_type": "code",
   "execution_count": 5,
   "metadata": {},
   "outputs": [],
   "source": [
    "ring R3 = r,x,dp;\n",
    "setring R3;"
   ]
  },
  {
   "cell_type": "code",
   "execution_count": 8,
   "metadata": {},
   "outputs": [
    {
     "data": {
      "text/plain": [
       "(-a_2*X_1^2*Z_1+a_1*X_1*Y_1*Z_1-a_4*X_1*Z_1^2+a_3*Y_1*Z_1^2-a_6*Z_1^3-X_1^3+Y_1^2*Z_1)\n"
      ]
     },
     "execution_count": 8,
     "metadata": {},
     "output_type": "execute_result"
    }
   ],
   "source": [
    "number l = (Z_1*Y_1^2 + a_1*X_1*Y_1*Z_1 + a_3 *Y_1*Z_1^2 - X_1^3 - a_2 * X_1^2 * Z_1 - a_4 * X_1 * Z_1^2 - a_6 * Z_1^3);\n",
    "l;"
   ]
  },
  {
   "cell_type": "code",
   "execution_count": 10,
   "metadata": {},
   "outputs": [
    {
     "data": {
      "text/plain": [
       "(-a_2*X_1^2*Z_1+a_1*X_1*Y_1*Z_1-a_4*X_1*Z_1^2+a_3*Y_1*Z_1^2-a_6*Z_1^3-X_1^3+Y_1^2*Z_1)\n"
      ]
     },
     "execution_count": 10,
     "metadata": {},
     "output_type": "execute_result"
    }
   ],
   "source": [
    "reduce(l, std(0));"
   ]
  },
  {
   "cell_type": "code",
   "execution_count": null,
   "metadata": {},
   "outputs": [],
   "source": []
  }
 ],
 "metadata": {
  "kernelspec": {
   "display_name": "Singular",
   "language": "singular",
   "name": "singular"
  },
  "language_info": {
   "codemirror_mode": "singular",
   "file_extension": ".singular",
   "mimetype": "text/x-singular",
   "name": "Singular"
  },
  "varInspector": {
   "cols": {
    "lenName": 16,
    "lenType": 16,
    "lenVar": 40
   },
   "kernels_config": {
    "python": {
     "delete_cmd_postfix": "",
     "delete_cmd_prefix": "del ",
     "library": "var_list.py",
     "varRefreshCmd": "print(var_dic_list())"
    },
    "r": {
     "delete_cmd_postfix": ") ",
     "delete_cmd_prefix": "rm(",
     "library": "var_list.r",
     "varRefreshCmd": "cat(var_dic_list()) "
    }
   },
   "types_to_exclude": [
    "module",
    "function",
    "builtin_function_or_method",
    "instance",
    "_Feature"
   ],
   "window_display": false
  }
 },
 "nbformat": 4,
 "nbformat_minor": 4
}
