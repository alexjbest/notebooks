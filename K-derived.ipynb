{
 "cells": [
  {
   "cell_type": "code",
   "execution_count": 1,
   "metadata": {},
   "outputs": [
    {
     "name": "stdout",
     "output_type": "stream",
     "text": []
    }
   ],
   "source": [
    "R<x>:=PolynomialRing(Rationals());\n",
    "H:=HyperellipticCurve((x^2 + 15)*(x^2 + 45)*(x^2 + 135));"
   ]
  },
  {
   "cell_type": "code",
   "execution_count": 27,
   "metadata": {},
   "outputs": [
    {
     "name": "stdout",
     "output_type": "stream",
     "text": []
    }
   ],
   "source": [
    "IsNice := function(f)\n",
    "    while Degree(f) ne 0 do\n",
    "        if (&+Append(Roots(f), <0,0>))[2] ne Degree(f) then\n",
    "            return false;\n",
    "        end if;\n",
    "        f := Derivative(f);\n",
    "    end while;\n",
    "    return true;\n",
    "end function;"
   ]
  },
  {
   "cell_type": "code",
   "execution_count": 30,
   "metadata": {},
   "outputs": [
    {
     "name": "stdout",
     "output_type": "stream",
     "text": [
      "true\r\n",
      "true\r\n"
     ]
    }
   ],
   "source": [
    "Q<t> := PolynomialRing(Rationals());\n",
    "IsNice(t^2 - 1);\n",
    "IsNice(t^2 - 1);"
   ]
  },
  {
   "cell_type": "code",
   "execution_count": 141,
   "metadata": {},
   "outputs": [
    {
     "name": "stdout",
     "output_type": "stream",
     "text": []
    }
   ],
   "source": [
    "//for D in [1,2,3,5,6,7,10,11,13,14,15,17,19] do\n",
    "//for D in [21,22,23,26,29,30] do\n",
    "//for D in [31,33,34,35,37,38,39] do\n",
    "//for D in [43,67,163] do\n",
    "//for D in [41,42,43,45,46,47] do\n",
    "//for D in [-2,-3,-5,-6,-7,-10,-11,-13,-14,-15] do\n",
    "//for D in [-17,-19,-21,-22,-23,-26,-29,-30] do\n",
    "//for D in [-31,-33,-34,-35,-37,-38,-39] do\n",
    "//for D in [-41,-42,-43,-45,-46,-47] do\n",
    "//for D in [51,52,53,54,55,56,57,58,59] do\n",
    "//for D in [61,62,63,64,65,66,67,68,69] do\n",
    "for D in [70,71,72,73,74,75,76,77,78,79] do\n",
    "    K<f>:=QuadraticField(-D);\n",
    "    Q<t>:=PolynomialRing(K);\n",
    "    for P in RationalPoints(ChangeRing(H,K):Bound:=800) do\n",
    "        if P[1] + 3 eq 0 then continue; end if;\n",
    "        if P[1] - 3 eq 0 then continue; end if;\n",
    "        a := (P[1] - 3)/(P[1] + 3);\n",
    "        pol := t^3 * (t-1) * (t- a);\n",
    "        if IsNice(pol) then\n",
    "            print K;\n",
    "            print a;\n",
    "            print pol;\n",
    "        end if;\n",
    "    end for;\n",
    "end for;\n"
   ]
  },
  {
   "cell_type": "code",
   "execution_count": 186,
   "metadata": {},
   "outputs": [
    {
     "name": "stdout",
     "output_type": "stream",
     "text": [
      "[ <0, 2>, <1/2, 1>, <9/10, 1> ]\r\n",
      "0\r\n",
      "1\r\n",
      "[ <0, 2>, <1/2, 1> ]\r\n",
      "[ <9/10, 3> ]\r\n",
      "(5312/3125*t^5 - 9296/3125*t^4 + 3984/3125*t^3)/(t^5 - 7/4*t^4 + 3/4*t^3 + 2187/200000)\r\n"
     ]
    }
   ],
   "source": [
    "K<f>:=QuadraticField(-19);\n",
    "Q<t>:=PolynomialRing(K);\n",
    "fgo := t^5 - 7/4*t^4 + 3/4*t^3;\n",
    "Roots(Derivative(fgo));\n",
    "l1:=Evaluate(fgo,0);\n",
    "l2:=Evaluate(fgo,1/2);\n",
    "l3:=Evaluate(fgo,9/10);\n",
    "fgo3:= Evaluate( (t - l1)*(l2-l3)/((t - l3)*(l2 - l1)), fgo);\n",
    "Evaluate(fgo3,0);\n",
    "Evaluate(fgo3,1/2);\n",
    "//Evaluate(fgo3,9/10);\n",
    "Roots(Numerator(Derivative(fgo3)));\n",
    "Roots(Denominator(Derivative(fgo3)));\n",
    "fgo3;"
   ]
  },
  {
   "cell_type": "code",
   "execution_count": 131,
   "metadata": {},
   "outputs": [
    {
     "name": "stdout",
     "output_type": "stream",
     "text": [
      "[\r\n",
      "<t, 3>,\r\n",
      "<t - 1, 1>,\r\n",
      "<t - 3/4, 1>\r\n",
      "]\r\n",
      "[\r\n",
      "<t - 1/2, 2>,\r\n",
      "<t^3 - 3/4*t^2 - 1/4*t - 1/16, 1>\r\n",
      "]\r\n",
      "[\r\n",
      "<t - 9/10, 2>,\r\n",
      "<t^3 + 1/20*t^2 + 3/100*t + 27/2000, 1>\r\n",
      "]\r\n",
      "[\r\n",
      "<t, 2>,\r\n",
      "<t - 9/10, 1>,\r\n",
      "<t - 1/2, 1>\r\n",
      "]\r\n"
     ]
    }
   ],
   "source": [
    "Factorisation(Numerator(fgo3));\n",
    "Factorisation(Numerator(fgo3 - 1));\n",
    "Factorisation(Denominator(fgo3));\n",
    "Factorisation(Derivative(Denominator(fgo3)));"
   ]
  },
  {
   "cell_type": "code",
   "execution_count": 119,
   "metadata": {},
   "outputs": [
    {
     "name": "stdout",
     "output_type": "stream",
     "text": [
      "Intrinsic 'Normalise'\r\n",
      "\r\n",
      "Signatures:\r\n",
      "\r\n",
      "(f::FldFunRatElt) -> FldFunRatElt\r\n",
      "\r\n",
      "The normalized form of f (obtained by multiplying by a scalar in base field so that both numerator and denominator are normalized [as in polynomial normalization]).\r\n",
      "\r\n",
      "(~x::GrpLieElt)\r\n",
      "(x::GrpLieElt) -> GrpLieElt\r\n",
      "\r\n",
      "Normalise x.\r\n",
      "\r\n",
      "(v::LatElt) -> LatElt\r\n",
      "\r\n",
      "The normalized form of v.\r\n",
      "\r\n",
      "(f::ModMPolElt) -> ModMPolElt\r\n",
      "\r\n",
      "The normalized form of f (make monic over fields and positive over Z, etc.).\r\n",
      "\r\n",
      "(v::ModMatRngElt) -> ModMatRngElt\r\n",
      "(v::ModRngElt) -> ModRngElt\r\n",
      "(v::ModTupRngElt) -> ModTupRngElt\r\n",
      "\r\n",
      "The normalized form of v.\r\n",
      "\r\n",
      "(g::Mtrx) -> Mtrx\r\n",
      "\r\n",
      "Multiply g by the scalar which makes the first non-zero entry 1.\r\n",
      "\r\n",
      "(P::ProjLine, e::Any) -> ModTupRngElt, RngElt\r\n",
      "\r\n",
      "Returns the canonical representative f of e in P and a scalar s such that e=s*f.\r\n",
      "\r\n",
      "(x::RngIntResElt) -> RngIntResElt, RngIntResElt\r\n",
      "\r\n",
      "The unique normalized form y (canonical associate) of x and a unit u such that u*x = y.\r\n",
      "\r\n",
      "(f::RngMPolElt) -> RngMPolElt\r\n",
      "\r\n",
      "The normalized form of f (make monic over fields and positive over Z, etc.).\r\n",
      "\r\n",
      "(f::RngSerLaurElt) -> RngSerPowElt\r\n",
      "\r\n",
      "Given a Laurent series ring element (over an inexact ring), remove the lower coefficients that are weakly zero.\r\n",
      "\r\n",
      "(f::RngSerPowElt) -> RngSerPowElt\r\n",
      "\r\n",
      "Given a power series ring element (over an inexact ring), remove the lower coefficients that are weakly zero.\r\n",
      "\r\n",
      "(f::RngUPolElt) -> RngUPolElt\r\n",
      "\r\n",
      "The normalized form of f (make monic over fields and positive over Z, etc.).\r\n",
      "\r\n",
      "\r\n"
     ]
    }
   ],
   "source": [
    "Normalise;"
   ]
  },
  {
   "cell_type": "code",
   "execution_count": 113,
   "metadata": {},
   "outputs": [
    {
     "name": "stdout",
     "output_type": "stream",
     "text": [
      "[\r\n",
      "<t, 3>,\r\n",
      "<t - 1, 1>,\r\n",
      "<t - 3/4, 1>\r\n",
      "]\r\n"
     ]
    }
   ],
   "source": [
    "Factorization(Numerator(fgo3))"
   ]
  },
  {
   "cell_type": "code",
   "execution_count": 112,
   "metadata": {},
   "outputs": [
    {
     "name": "stdout",
     "output_type": "stream",
     "text": [
      "(2187/3125*t^5 - 15309/12500*t^4 + 6561/12500*t^3 - 2187/200000)/(t^5 - 7/4*t^4 + 3/4*t^3 + 2187/200000)\r\n"
     ]
    }
   ],
   "source": [
    "fgo3 - 1"
   ]
  },
  {
   "cell_type": "code",
   "execution_count": null,
   "metadata": {},
   "outputs": [],
   "source": [
    "ax b    \n",
    "----  = \n",
    "cx d\n",
    "b/d = 0 => b = 0\n",
    "a / c + d = 1 => a = c + d\n",
    "9(c+d) / (9c + 5d) = oo\n",
    "\n",
    "-4 0\n",
    "5  -9\n",
    "\n",
    "\n",
    "-4 x "
   ]
  },
  {
   "cell_type": "code",
   "execution_count": 63,
   "metadata": {},
   "outputs": [
    {
     "name": "stdout",
     "output_type": "stream",
     "text": [
      "0\r\n"
     ]
    }
   ],
   "source": [
    "-4*(0) /(5*(0) - 9)"
   ]
  },
  {
   "cell_type": "code",
   "execution_count": 138,
   "metadata": {},
   "outputs": [
    {
     "name": "stdout",
     "output_type": "stream",
     "text": [
      "[\r\n",
      "Place at (1 : 0),\r\n",
      "Place at (9/10 : 1),\r\n",
      "Place at (1/2 : 1),\r\n",
      "Place at (0 : 1)\r\n",
      "]\r\n",
      "[ -6, 1, 1, 2 ]\r\n"
     ]
    }
   ],
   "source": [
    "PP1 := ProjectiveSpace(Rationals(),1);\n",
    "C := Curve(PP1);\n",
    "KC<t> := FunctionField(C);\n",
    "phi := t^5 - 7/4*t^4 + 3/4*t^3;\n",
    "Support(Divisor(Differential(phi)));\n"
   ]
  },
  {
   "cell_type": "code",
   "execution_count": 159,
   "metadata": {},
   "outputs": [
    {
     "name": "stdout",
     "output_type": "stream",
     "text": [
      "[ <0, 2>, <1/2, 1>, <9/10, 1> ]\r\n"
     ]
    }
   ],
   "source": [
    "R := Roots(Derivative(fgo));\n",
    "R;"
   ]
  },
  {
   "cell_type": "code",
   "execution_count": 160,
   "metadata": {},
   "outputs": [
    {
     "name": "stdout",
     "output_type": "stream",
     "text": [
      "<0, 2>\r\n"
     ]
    }
   ],
   "source": [
    "R[1]"
   ]
  },
  {
   "cell_type": "code",
   "execution_count": 188,
   "metadata": {},
   "outputs": [
    {
     "name": "stdout",
     "output_type": "stream",
     "text": [
      "1/32*t^5 - 7/64*t^4 + 3/32*t^3\r\n",
      "[ <0, 2>, <1, 1>, <9/5, 1> ]\r\n"
     ]
    }
   ],
   "source": [
    "fgo2:=Evaluate(fgo,1/2*t);\n",
    "fgo2;\n",
    "R := Roots(Derivative(fgo2));\n",
    "R;"
   ]
  },
  {
   "cell_type": "code",
   "execution_count": 199,
   "metadata": {},
   "outputs": [
    {
     "name": "stdout",
     "output_type": "stream",
     "text": [
      "0\r\n",
      "0\r\n",
      "21/25\r\n",
      "-9/625\r\n",
      "605787/781250\r\n"
     ]
    }
   ],
   "source": [
    "Evaluate(fgo, R[1][1]);\n",
    "Evaluate(fgo, R[2][1]);\n",
    "Evaluate(fgo, R[3][1])/(R[3][1]^3);\n",
    "Evaluate(fgo, $1)/($1^3);\n",
    "Evaluate(fgo, $1)/($1^3);"
   ]
  },
  {
   "cell_type": "code",
   "execution_count": 183,
   "metadata": {},
   "outputs": [
    {
     "name": "stdout",
     "output_type": "stream",
     "text": [
      "1/4\r\n",
      "3/512\r\n",
      "5236083/35184372088832\r\n",
      "133284696949173964573099850052758751458298120483/53919893334301279589334030174039261347274288845081144962207220498432\r\n"
     ]
    }
   ],
   "source": [
    "Evaluate(fgo, R[2][1])/(R[2][1]^4);\n",
    "Evaluate(fgo, $1);\n",
    "Evaluate(fgo, $1);\n",
    "Evaluate(fgo, $1);"
   ]
  },
  {
   "cell_type": "code",
   "execution_count": 184,
   "metadata": {},
   "outputs": [
    {
     "name": "stdout",
     "output_type": "stream",
     "text": [
      "-3/200\r\n",
      "3451\r\n",
      "978440752934472975/2\r\n",
      "1793505287861298052566964157449569761933410836429276072023035421341576974615170255092640625/64\r\n"
     ]
    }
   ],
   "source": [
    "Evaluate(fgo, R[3][1])/(R[3][1]^3);\n",
    "Evaluate(fgo, $1)/($1^5);\n",
    "Evaluate(fgo, $1);\n",
    "Evaluate(fgo, $1);"
   ]
  },
  {
   "cell_type": "code",
   "execution_count": 211,
   "metadata": {},
   "outputs": [
    {
     "name": "stdout",
     "output_type": "stream",
     "text": [
      "[\r\n",
      "<t, 4>,\r\n",
      "<t^2 - 21/10*t + 9/8, 1>\r\n",
      "]\r\n"
     ]
    }
   ],
   "source": [
    "Factorization(Integral(fgo))"
   ]
  },
  {
   "cell_type": "code",
   "execution_count": 212,
   "metadata": {},
   "outputs": [
    {
     "name": "stdout",
     "output_type": "stream",
     "text": [
      "1/6*t^6 - 7/20*t^5 + 3/16*t^4\r\n"
     ]
    }
   ],
   "source": [
    "Integral(fgo)"
   ]
  },
  {
   "cell_type": "code",
   "execution_count": null,
   "metadata": {},
   "outputs": [],
   "source": []
  }
 ],
 "metadata": {
  "kernelspec": {
   "display_name": "Magma",
   "language": "magma",
   "name": "magma"
  },
  "language_info": {
   "codemirror_mode": "magma",
   "file_extension": ".mgm",
   "mimetype": "text/x-sh",
   "name": "magma"
  },
  "varInspector": {
   "cols": {
    "lenName": 16,
    "lenType": 16,
    "lenVar": 40
   },
   "kernels_config": {
    "python": {
     "delete_cmd_postfix": "",
     "delete_cmd_prefix": "del ",
     "library": "var_list.py",
     "varRefreshCmd": "print(var_dic_list())"
    },
    "r": {
     "delete_cmd_postfix": ") ",
     "delete_cmd_prefix": "rm(",
     "library": "var_list.r",
     "varRefreshCmd": "cat(var_dic_list()) "
    }
   },
   "types_to_exclude": [
    "module",
    "function",
    "builtin_function_or_method",
    "instance",
    "_Feature"
   ],
   "window_display": false
  }
 },
 "nbformat": 4,
 "nbformat_minor": 4
}
