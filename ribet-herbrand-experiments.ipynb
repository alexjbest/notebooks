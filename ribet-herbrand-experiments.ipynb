{
 "cells": [
  {
   "cell_type": "markdown",
   "metadata": {},
   "source": [
    "# Ribet-Herbrand experiments\n",
    "\n",
    "First lets experiment with the density of irregular primes.\n",
    "\n",
    "Finding irregular primes, and proving FLT for small values of $p$ was an important early use of computers in number theory."
   ]
  },
  {
   "cell_type": "code",
   "execution_count": 1,
   "metadata": {
    "code_folding": [],
    "collapsed": true,
    "hide_input": false,
    "scrolled": true
   },
   "outputs": [],
   "source": [
    "from IPython.display import clear_output\n",
    "import numpy as np\n",
    "from matplotlib import pyplot as plt\n",
    "import collections\n",
    "%matplotlib inline\n",
    "\n",
    "def live_plot(data_dict, figsize=(10,7), title=''):\n",
    "    clear_output(wait=True)\n",
    "    plt.figure(figsize=figsize)\n",
    "    for label,data in data_dict.items():\n",
    "        plt.plot(data, label=label)\n",
    "    plt.title(title)\n",
    "    plt.grid(True)\n",
    "    plt.xlabel('π')\n",
    "    plt.legend(loc='center left') # the plot evolves to the right\n",
    "    plt.show();"
   ]
  },
  {
   "cell_type": "code",
   "execution_count": 2,
   "metadata": {
    "scrolled": false
   },
   "outputs": [
    {
     "data": {
      "image/png": "[encoded data removed]",
      "text/plain": [
       "<Figure size 720x504 with 1 Axes>"
      ]
     },
     "metadata": {
      "needs_background": "light"
     },
     "output_type": "display_data"
    }
   ],
   "source": [
    "data = collections.defaultdict(list)\n",
    "tot = 0\n",
    "irreg = 0\n",
    "for p in prime_range(3,6000):\n",
    "    tot += 1\n",
    "    if 0 in bernoulli_mod_p(p):\n",
    "        irreg += 1\n",
    "    data['% irregs'].append(irreg/tot)\n",
    "    live_plot(data)"
   ]
  },
  {
   "cell_type": "markdown",
   "metadata": {},
   "source": [
    "If the numerators of the Bernoulli numbers are uniformly random modulo odd primes, then the index\n",
    "of irregularity should satisfy a Poisson distribution with mean 1/2; as a special\n",
    "case, noted by Lehmer and Siegel, the density of the irregular primes should\n",
    "be $1-e^{-1/2}$."
   ]
  },
  {
   "cell_type": "code",
   "execution_count": 3,
   "metadata": {
    "scrolled": true
   },
   "outputs": [
    {
     "data": {
      "text/plain": [
       "0.606138107416880"
      ]
     },
     "execution_count": 3,
     "metadata": {},
     "output_type": "execute_result"
    }
   ],
   "source": [
    "1- data[\"% irregs\"][-1].n()"
   ]
  },
  {
   "cell_type": "code",
   "execution_count": 6,
   "metadata": {
    "scrolled": true
   },
   "outputs": [
    {
     "data": {
      "text/plain": [
       "0.606530659712633"
      ]
     },
     "execution_count": 6,
     "metadata": {},
     "output_type": "execute_result"
    }
   ],
   "source": [
    "e^(-1/2).n()"
   ]
  },
  {
   "cell_type": "markdown",
   "metadata": {},
   "source": [
    "Question:\n",
    "----------\n",
    "Some primes have the property that there are multiple $3\\le k\\le p - 3$ for which $p|B_{k}$  i.e. there are two distinct bernoulli numbers $B_k$ whose numerator is divisible by $p$, giving a larger class group?\n",
    "The number of such $p$ is called the index of irregularity,  check experimentally that the density of primes with index 2 matches this probability distribution."
   ]
  },
  {
   "cell_type": "markdown",
   "metadata": {},
   "source": [
    "Question:\n",
    "------------\n",
    "Does there exist a prime $p$ such that $p|B_{p-3}$ the extreme case of Ribet-Herbrand."
   ]
  },
  {
   "cell_type": "markdown",
   "metadata": {},
   "source": [
    "## Finding modular forms\n",
    "\n",
    "The first irregular prime is 37 as\n",
    "https://www.lmfdb.org/NumberField/36.0.7710105884424969623139759010953858981831553019262380893.1\n",
    "has class number 37\n",
    "and $v_{37}( B_{32})\\ge 1$.\n",
    "\n",
    "See https://oeis.org/A000928"
   ]
  },
  {
   "cell_type": "code",
   "execution_count": 7,
   "metadata": {
    "scrolled": true
   },
   "outputs": [
    {
     "name": "stdout",
     "output_type": "stream",
     "text": [
      "Class group of order 37 with structure C37 of Cyclotomic Field of order 37 and degree 36\n"
     ]
    }
   ],
   "source": [
    "%display latex\n",
    "K.<zeta37> = CyclotomicField(37)\n",
    "print(K.class_group(proof=False))"
   ]
  },
  {
   "cell_type": "markdown",
   "metadata": {},
   "source": [
    "But what is the character through which Galois acts?"
   ]
  },
  {
   "cell_type": "code",
   "execution_count": 8,
   "metadata": {
    "scrolled": true
   },
   "outputs": [
    {
     "data": {
      "text/html": [
       "<html><script type=\"math/tex; mode=display\">\\newcommand{\\Bold}[1]{\\mathbf{#1}}\\verb|Fractional|\\phantom{\\verb!x!}\\verb|ideal|\\phantom{\\verb!x!}\\verb|class|\\phantom{\\verb!x!}\\verb|(149,|\\phantom{\\verb!x!}\\verb|zeta37|\\phantom{\\verb!x!}\\verb|-|\\phantom{\\verb!x!}\\verb|73)|</script></html>"
      ],
      "text/latex": [
       "\\begin{math}\n",
       "\\newcommand{\\Bold}[1]{\\mathbf{#1}}\\verb|Fractional|\\phantom{\\verb!x!}\\verb|ideal|\\phantom{\\verb!x!}\\verb|class|\\phantom{\\verb!x!}\\verb|(149,|\\phantom{\\verb!x!}\\verb|zeta37|\\phantom{\\verb!x!}\\verb|-|\\phantom{\\verb!x!}\\verb|73)|\n",
       "\\end{math}"
      ],
      "text/plain": [
       "Fractional ideal class (149, zeta37 - 73)"
      ]
     },
     "execution_count": 8,
     "metadata": {},
     "output_type": "execute_result"
    }
   ],
   "source": [
    "I = K.class_group(proof=False).gen(); I"
   ]
  },
  {
   "cell_type": "code",
   "execution_count": 9,
   "metadata": {
    "scrolled": true
   },
   "outputs": [
    {
     "data": {
      "text/html": [
       "<html><script type=\"math/tex; mode=display\">\\newcommand{\\Bold}[1]{\\mathbf{#1}}\\zeta_{37}^{2}</script></html>"
      ],
      "text/latex": [
       "\\begin{math}\n",
       "\\newcommand{\\Bold}[1]{\\mathbf{#1}}\\zeta_{37}^{2}\n",
       "\\end{math}"
      ],
      "text/plain": [
       "zeta37^2"
      ]
     },
     "execution_count": 9,
     "metadata": {},
     "output_type": "execute_result"
    }
   ],
   "source": [
    "G = K.galois_group()\n",
    "s = G.gen()\n",
    "s(zeta37)"
   ]
  },
  {
   "cell_type": "markdown",
   "metadata": {},
   "source": [
    "So\n",
    "$$\\chi(s) = 2$$\n",
    "let us now compute $I^\\sigma$"
   ]
  },
  {
   "cell_type": "code",
   "execution_count": 10,
   "metadata": {
    "scrolled": true
   },
   "outputs": [
    {
     "data": {
      "text/html": [
       "<html><script type=\"math/tex; mode=display\">\\newcommand{\\Bold}[1]{\\mathbf{#1}}\\left(149, \\zeta_{37} - 73\\right)</script></html>"
      ],
      "text/latex": [
       "\\begin{math}\n",
       "\\newcommand{\\Bold}[1]{\\mathbf{#1}}\\left(149, \\zeta_{37} - 73\\right)\n",
       "\\end{math}"
      ],
      "text/plain": [
       "(149, zeta37 - 73)"
      ]
     },
     "execution_count": 10,
     "metadata": {},
     "output_type": "execute_result"
    }
   ],
   "source": [
    "I.ideal().gens_two()"
   ]
  },
  {
   "cell_type": "code",
   "execution_count": 11,
   "metadata": {
    "scrolled": false
   },
   "outputs": [
    {
     "data": {
      "text/html": [
       "<html><script type=\"math/tex; mode=display\">\\newcommand{\\Bold}[1]{\\mathbf{#1}}\\verb|Fractional|\\phantom{\\verb!x!}\\verb|ideal|\\phantom{\\verb!x!}\\verb|class|\\phantom{\\verb!x!}\\verb|(149,|\\phantom{\\verb!x!}\\verb|zeta37|\\phantom{\\verb!x!}\\verb|+|\\phantom{\\verb!x!}\\verb|64)|</script></html>"
      ],
      "text/latex": [
       "\\begin{math}\n",
       "\\newcommand{\\Bold}[1]{\\mathbf{#1}}\\verb|Fractional|\\phantom{\\verb!x!}\\verb|ideal|\\phantom{\\verb!x!}\\verb|class|\\phantom{\\verb!x!}\\verb|(149,|\\phantom{\\verb!x!}\\verb|zeta37|\\phantom{\\verb!x!}\\verb|+|\\phantom{\\verb!x!}\\verb|64)|\n",
       "\\end{math}"
      ],
      "text/plain": [
       "Fractional ideal class (149, zeta37 + 64)"
      ]
     },
     "execution_count": 11,
     "metadata": {},
     "output_type": "execute_result"
    }
   ],
   "source": [
    "Is = I.parent()([s(t) for t in I.ideal().gens_two()]); Is"
   ]
  },
  {
   "cell_type": "code",
   "execution_count": 12,
   "metadata": {
    "scrolled": true
   },
   "outputs": [
    {
     "name": "stdout",
     "output_type": "stream",
     "text": [
      "32\n"
     ]
    }
   ],
   "source": [
    "for i in range(36): # takes a minute\n",
    "    if (Is/(I^i)).is_principal():\n",
    "        print(i)"
   ]
  },
  {
   "cell_type": "markdown",
   "metadata": {},
   "source": [
    "indeed\n",
    "$$I^\\sigma = I^{32} = I^{ \\chi(\\sigma)^5}$$\n",
    "so the ideal class of \n",
    "$I$ lies in\n",
    "$$C(\\chi^{5}) = C(\\chi^{37-32})$$\n",
    "where $C = \\operatorname{Cl}(K)/ \\operatorname{Cl}(K)^{37}$\n",
    "and the cusp form constructed by Ribet is in:"
   ]
  },
  {
   "cell_type": "code",
   "execution_count": null,
   "metadata": {
    "scrolled": true
   },
   "outputs": [],
   "source": [
    "CuspForms(Gamma1(37))"
   ]
  },
  {
   "cell_type": "code",
   "execution_count": 14,
   "metadata": {
    "scrolled": true
   },
   "outputs": [
    {
     "name": "stdout",
     "output_type": "stream",
     "text": [
      "6 11\n",
      "Cuspidal subspace of dimension 2 of Modular Forms space of dimension 4, character [-zeta6 + 1] and weight 2 over Cyclotomic Field of order 6 and degree 2\n"
     ]
    },
    {
     "data": {
      "text/html": [
       "<html><script type=\"math/tex; mode=display\">\\newcommand{\\Bold}[1]{\\mathbf{#1}}q + a_{0}q^{2} + \\left(\\left(\\zeta_{6} - 2\\right) a_{0} - \\zeta_{6} + 1\\right)q^{3} + \\left(\\zeta_{6} - 1\\right)q^{4} + \\left(-2 \\zeta_{6} a_{0} - \\zeta_{6} - 1\\right)q^{5} + O(q^{6})</script></html>"
      ],
      "text/latex": [
       "\\begin{math}\n",
       "\\newcommand{\\Bold}[1]{\\mathbf{#1}}q + a_{0}q^{2} + \\left(\\left(\\zeta_{6} - 2\\right) a_{0} - \\zeta_{6} + 1\\right)q^{3} + \\left(\\zeta_{6} - 1\\right)q^{4} + \\left(-2 \\zeta_{6} a_{0} - \\zeta_{6} - 1\\right)q^{5} + O(q^{6})\n",
       "\\end{math}"
      ],
      "text/plain": [
       "q + a0*q^2 + ((zeta6 - 2)*a0 - zeta6 + 1)*q^3 + (zeta6 - 1)*q^4 + (-2*zeta6*a0 - zeta6 - 1)*q^5 + O(q^6)"
      ]
     },
     "execution_count": 14,
     "metadata": {},
     "output_type": "execute_result"
    }
   ],
   "source": [
    "def find_ribet(N,k):\n",
    "    D = DirichletGroup(N)\n",
    "    pp = D.base_ring().prime_above(N)\n",
    "    Rp = pp.residue_field()\n",
    "    for om in DirichletGroup(N):\n",
    "        if all(Rp(om(i)) == i for i in range(N)):\n",
    "            break\n",
    "    omk = om^(k-2)\n",
    "    omk2 = omk.minimize_base_ring()\n",
    "    print (omk2.order(), omk2.conrey_number())\n",
    "    S = CuspForms(omk2)\n",
    "    print(S)\n",
    "    for f in S.newforms('a'):\n",
    "        H = f.hecke_eigenvalue_field()\n",
    "        if H is QQ:\n",
    "            ps = [N]\n",
    "            HNs = [GF(N)]\n",
    "        else:\n",
    "            ps = H.primes_above(N)\n",
    "            HNs = [p.residue_field() for p in ps]\n",
    "        for p,HN in zip(ps, HNs):\n",
    "            for l in prime_range(100):\n",
    "                if l == N:\n",
    "                    continue\n",
    "                if HN(f[l]) != 1 + l^(k-1):\n",
    "                    break\n",
    "            else:\n",
    "                return (p,f)\n",
    "p,f = find_ribet(37, 32)\n",
    "f"
   ]
  },
  {
   "cell_type": "code",
   "execution_count": 15,
   "metadata": {
    "scrolled": true
   },
   "outputs": [
    {
     "data": {
      "text/html": [
       "<html><script type=\"math/tex; mode=display\">\\newcommand{\\Bold}[1]{\\mathbf{#1}}\\left(\\left(-\\zeta_{6} - 1\\right) a_{0} + 2 \\zeta_{6} - 2\\right)</script></html>"
      ],
      "text/latex": [
       "\\begin{math}\n",
       "\\newcommand{\\Bold}[1]{\\mathbf{#1}}\\left(\\left(-\\zeta_{6} - 1\\right) a_{0} + 2 \\zeta_{6} - 2\\right)\n",
       "\\end{math}"
      ],
      "text/plain": [
       "Fractional ideal ((-zeta6 - 1)*a0 + 2*zeta6 - 2)"
      ]
     },
     "execution_count": 15,
     "metadata": {},
     "output_type": "execute_result"
    }
   ],
   "source": [
    "p"
   ]
  },
  {
   "cell_type": "markdown",
   "metadata": {},
   "source": [
    "We can try and find this form on the lmbfdb now by looking at traces and comparing with\n",
    "https://www.lmfdb.org/ModularForm/GL2/Q/holomorphic/?level=37&weight=2&search_type=List"
   ]
  },
  {
   "cell_type": "code",
   "execution_count": 16,
   "metadata": {
    "scrolled": true
   },
   "outputs": [
    {
     "name": "stdout",
     "output_type": "stream",
     "text": [
      "0\n",
      "2\n",
      "-6\n",
      "0\n"
     ]
    }
   ],
   "source": [
    "print(f[2].trace())\n",
    "print(f[3].trace())\n",
    "print(f[5].trace())\n",
    "print(f[7].trace())"
   ]
  },
  {
   "cell_type": "markdown",
   "metadata": {},
   "source": [
    "So this is\n",
    "https://www.lmfdb.org/ModularForm/GL2/Q/holomorphic/37/2/e/a/"
   ]
  },
  {
   "cell_type": "markdown",
   "metadata": {},
   "source": [
    "Actually we  can tell this just from the character alone.\n",
    "Just from searching for the right character orbit https://www.lmfdb.org/ModularForm/GL2/Q/holomorphic/?count=None&hst=List&weight=2&char_label=37.11&search_type=List"
   ]
  },
  {
   "cell_type": "code",
   "execution_count": 17,
   "metadata": {
    "scrolled": true
   },
   "outputs": [
    {
     "data": {
      "text/html": [
       "<html><script type=\"math/tex; mode=display\">\\newcommand{\\Bold}[1]{\\mathbf{#1}}( \\Bold{Q}(\\zeta_{6}) )[a_{0}]/(a_{0}^{2} + \\zeta_{6} - 1)</script></html>"
      ],
      "text/latex": [
       "\\begin{math}\n",
       "\\newcommand{\\Bold}[1]{\\mathbf{#1}}( \\Bold{Q}(\\zeta_{6}) )[a_{0}]/(a_{0}^{2} + \\zeta_{6} - 1)\n",
       "\\end{math}"
      ],
      "text/plain": [
       "Number Field in a0 with defining polynomial x^2 + zeta6 - 1 over its base field"
      ]
     },
     "execution_count": 17,
     "metadata": {},
     "output_type": "execute_result"
    }
   ],
   "source": [
    "f.hecke_eigenvalue_field()"
   ]
  },
  {
   "cell_type": "markdown",
   "metadata": {},
   "source": [
    "Question:\n",
    "---------\n",
    "\n",
    "Can one find any other examples in this way? Seems hard!"
   ]
  },
  {
   "cell_type": "markdown",
   "metadata": {},
   "source": [
    "Here is some other random code:"
   ]
  },
  {
   "cell_type": "code",
   "execution_count": 27,
   "metadata": {
    "scrolled": false
   },
   "outputs": [
    {
     "name": "stdout",
     "output_type": "stream",
     "text": [
      "691 12\n",
      "0\n",
      "3617 16\n",
      "4\n",
      "43867 18\n",
      "10\n",
      "283 20\n",
      "12\n",
      "617 20\n",
      "4\n",
      "131 22\n",
      "10\n",
      "593 22\n",
      "12\n",
      "103 24\n",
      "14\n",
      "2294797 24\n",
      "20\n",
      "657931 26\n",
      "18\n",
      "9349 28\n",
      "14\n",
      "362903 28\n",
      "20\n",
      "1721 30\n",
      "12\n",
      "1001259881 30\n",
      "12\n",
      "37 32\n",
      "6\n",
      "683 32\n",
      "22\n",
      "305065927 32\n",
      "6\n",
      "151628697551 34\n",
      "14\n",
      "26315271553053477373 36\n",
      "0\n",
      "154210205991661 38\n",
      "24\n",
      "137616929 40\n",
      "4\n",
      "1897170067619 40\n",
      "8\n",
      "1520097643918070802691 42\n",
      "10\n",
      "59 44\n",
      "16\n",
      "8089 44\n",
      "24\n",
      "2947939 44\n",
      "0\n",
      "1798482437 44\n",
      "16\n",
      "383799511 46\n",
      "6\n",
      "67568238839737 46\n",
      "8\n",
      "653 48\n",
      "8\n",
      "56039 48\n",
      "10\n",
      "153289748932447906241 48\n",
      "6\n",
      "417202699 50\n",
      "42\n",
      "47464429777438199 50\n",
      "22\n",
      "577 52\n",
      "26\n",
      "58741 52\n",
      "40\n",
      "401029177 52\n",
      "26\n",
      "4534045619429 52\n",
      "28\n",
      "39409 54\n",
      "44\n",
      "660183281 54\n",
      "16\n",
      "1120412849144121779 54\n",
      "50\n",
      "113161 56\n",
      "30\n",
      "163979 56\n",
      "34\n",
      "19088082706840550550313 56\n",
      "42\n",
      "67 58\n",
      "10\n",
      "186707 58\n",
      "2\n",
      "6235242049 58\n",
      "0\n",
      "37349583369104129 58\n",
      "24\n",
      "2003 60\n",
      "30\n",
      "5549927 60\n",
      "22\n",
      "109317926249509865753025015237911 60\n",
      "46\n",
      "157 62\n",
      "36\n",
      "266689 62\n",
      "48\n",
      "329447317 62\n",
      "36\n",
      "28765594733083851481 62\n",
      "0\n",
      "1226592271 64\n",
      "18\n",
      "87057315354522179184989699791727 64\n",
      "28\n",
      "839 66\n",
      "6\n",
      "159562251828620181390358590156239282938769 66\n",
      "16\n",
      "101 68\n",
      "34\n",
      "123143 68\n",
      "52\n",
      "1822329343 68\n",
      "42\n",
      "5525473366510930028227481 68\n",
      "64\n",
      "688531 70\n",
      "30\n",
      "20210499584198062453 70\n",
      "24\n",
      "3090850068576441179447 70\n",
      "30\n",
      "3112655297839 72\n",
      "58\n",
      "1872341908760688976794226499636304357567811 72\n",
      "0\n",
      "923038305114085622008920911661422572613197507651 74\n",
      "42\n",
      "58231 76\n",
      "66\n",
      "22284285930116236430122855560372707885169924709 76\n",
      "20\n",
      "787388008575397 78\n",
      "60\n",
      "33364652939596337 78\n",
      "8\n",
      "1214698595111676682009391 78\n",
      "26\n",
      "631 80\n",
      "6\n",
      "10589 80\n",
      "58\n",
      "5009593 80\n",
      "42\n",
      "141795949 80\n",
      "60\n",
      "969983603247099340617362338794263364709 80\n",
      "0\n",
      "4003 82\n",
      "2\n",
      "38189 82\n",
      "28\n",
      "267564809427749238542649199594159701256952090203379 82\n",
      "18\n",
      "233 84\n",
      "68\n",
      "271 84\n",
      "24\n",
      "68767 84\n",
      "50\n",
      "167304204004064919523 84\n",
      "30\n",
      "2786903827245650053311240128451928279 84\n",
      "42\n",
      "541 86\n",
      "36\n",
      "21563 86\n",
      "58\n",
      "1317161453956258384019814501134446230216181176462038507 86\n",
      "82\n",
      "307 88\n",
      "48\n",
      "2682679 88\n",
      "80\n",
      "144758535645314601051245367593097770353888766846233719346409 88\n",
      "46\n",
      "587 90\n",
      "58\n",
      "1758317910439 90\n",
      "78\n",
      "228470113952790571815807754364820900071198161742204795399 90\n",
      "62\n",
      "587 92\n",
      "46\n",
      "108023 92\n",
      "22\n",
      "888349899411924520646963716970410934405926688658379816136849989 92\n",
      "48\n",
      "467 94\n",
      "6\n",
      "1499 94\n",
      "26\n",
      "2459153 94\n",
      "84\n",
      "4217126617741589575995641 94\n",
      "36\n",
      "3577922013827274976860631840900289 94\n",
      "4\n",
      "7823741903 96\n",
      "78\n",
      "4155593423131 96\n",
      "56\n",
      "10017952436526113 96\n",
      "30\n",
      "96454277809515481 96\n",
      "80\n",
      "6735480167773644873691271 96\n",
      "10\n",
      "2857 98\n",
      "72\n",
      "3221 98\n",
      "52\n",
      "1671211 98\n",
      "42\n",
      "9215789693276607167 98\n",
      "94\n",
      "9778263152874996218584617307180549616435599 98\n",
      "78\n"
     ]
    }
   ],
   "source": [
    "N = 100\n",
    "for k in range(2,N,2):\n",
    "    for p,_ in bernoulli(k).numerator().factor():\n",
    "        if k > p - 3:\n",
    "            continue\n",
    "        print(p,k)\n",
    "        print((p-1)%(k-2))"
   ]
  },
  {
   "cell_type": "code",
   "execution_count": 25,
   "metadata": {
    "scrolled": false
   },
   "outputs": [
    {
     "name": "stdout",
     "output_type": "stream",
     "text": [
      "8849 6638\n"
     ]
    }
   ],
   "source": [
    "for p in prime_range(3,10000):\n",
    "    for (k,i) in enumerate(bernoulli_mod_p(p)):\n",
    "        if i != 0:\n",
    "            continue\n",
    "        #print(p, 2*k)\n",
    "        if (p-1)/gcd(p-1, 2*k-2) <= 4:\n",
    "            print(p,2*k)"
   ]
  }
 ],
 "metadata": {
  "kernelspec": {
   "display_name": "SageMath 9.2.rc3",
   "language": "sage",
   "name": "sagemath"
  },
  "language_info": {
   "codemirror_mode": {
    "name": "ipython",
    "version": 3
   },
   "file_extension": ".py",
   "mimetype": "text/x-python",
   "name": "python",
   "nbconvert_exporter": "python",
   "pygments_lexer": "ipython3",
   "version": "3.8.6"
  },
  "varInspector": {
   "cols": {
    "lenName": 16,
    "lenType": 16,
    "lenVar": 40
   },
   "kernels_config": {
    "python": {
     "delete_cmd_postfix": "",
     "delete_cmd_prefix": "del ",
     "library": "var_list.py",
     "varRefreshCmd": "print(var_dic_list())"
    },
    "r": {
     "delete_cmd_postfix": ") ",
     "delete_cmd_prefix": "rm(",
     "library": "var_list.r",
     "varRefreshCmd": "cat(var_dic_list()) "
    }
   },
   "types_to_exclude": [
    "module",
    "function",
    "builtin_function_or_method",
    "instance",
    "_Feature"
   ],
   "window_display": false
  }
 },
 "nbformat": 4,
 "nbformat_minor": 2
}
