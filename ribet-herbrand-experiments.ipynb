{
 "cells": [
  {
   "cell_type": "markdown",
   "metadata": {},
   "source": [
    "# Ribet-Hebrand experiments\n",
    "\n",
    "The first irregular prime is 37 as\n",
    "https://www.lmfdb.org/NumberField/36.0.7710105884424969623139759010953858981831553019262380893.1\n",
    "has class number 37\n",
    "and $v_{37}( B_{32})\\ge 1$"
   ]
  },
  {
   "cell_type": "code",
   "execution_count": 43,
   "metadata": {},
   "outputs": [
    {
     "name": "stdout",
     "output_type": "stream",
     "text": [
      "Class group of order 37 with structure C37 of Cyclotomic Field of order 37 and degree 36\n"
     ]
    }
   ],
   "source": [
    "K.<zeta37> = CyclotomicField(37)\n",
    "print(K.class_group(proof=False))"
   ]
  },
  {
   "cell_type": "code",
   "execution_count": 41,
   "metadata": {},
   "outputs": [
    {
     "data": {
      "text/html": [
       "<html><script type=\"math/tex; mode=display\">\\newcommand{\\Bold}[1]{\\mathbf{#1}}\\zeta_{37}</script></html>"
      ],
      "text/plain": [
       "zeta37"
      ]
     },
     "execution_count": 41,
     "metadata": {},
     "output_type": "execute_result"
    }
   ],
   "source": [
    "%display latex\n",
    "zeta37"
   ]
  },
  {
   "cell_type": "markdown",
   "metadata": {},
   "source": [
    "But what is the character through which Galois acts?"
   ]
  },
  {
   "cell_type": "code",
   "execution_count": 44,
   "metadata": {},
   "outputs": [
    {
     "data": {
      "text/html": [
       "<html><script type=\"math/tex; mode=display\">\\newcommand{\\Bold}[1]{\\mathbf{#1}}\\verb|Fractional|\\phantom{\\verb!x!}\\verb|ideal|\\phantom{\\verb!x!}\\verb|class|\\phantom{\\verb!x!}\\verb|(149,|\\phantom{\\verb!x!}\\verb|zeta37|\\phantom{\\verb!x!}\\verb|-|\\phantom{\\verb!x!}\\verb|73)|</script></html>"
      ],
      "text/plain": [
       "Fractional ideal class (149, zeta37 - 73)"
      ]
     },
     "execution_count": 44,
     "metadata": {},
     "output_type": "execute_result"
    }
   ],
   "source": [
    "I = K.class_group(proof=False).gen(); I"
   ]
  },
  {
   "cell_type": "code",
   "execution_count": 48,
   "metadata": {},
   "outputs": [
    {
     "data": {
      "text/html": [
       "<html><script type=\"math/tex; mode=display\">\\newcommand{\\Bold}[1]{\\mathbf{#1}}\\zeta_{37}^{2}</script></html>"
      ],
      "text/plain": [
       "zeta37^2"
      ]
     },
     "execution_count": 48,
     "metadata": {},
     "output_type": "execute_result"
    }
   ],
   "source": [
    "G = K.galois_group()\n",
    "s = G.gen()\n",
    "s(zeta37)"
   ]
  },
  {
   "cell_type": "code",
   "execution_count": 78,
   "metadata": {},
   "outputs": [
    {
     "name": "stdout",
     "output_type": "stream",
     "text": [
      "Multiplicative Abelian group isomorphic to C36\n"
     ]
    }
   ],
   "source": [
    "print(Integers(37).unit_group())"
   ]
  },
  {
   "cell_type": "code",
   "execution_count": 70,
   "metadata": {},
   "outputs": [
    {
     "data": {
      "text/html": [
       "<html><script type=\"math/tex; mode=display\">\\newcommand{\\Bold}[1]{\\mathbf{#1}}\\left(149, \\zeta_{37} - 73\\right)</script></html>"
      ],
      "text/plain": [
       "(149, zeta37 - 73)"
      ]
     },
     "execution_count": 70,
     "metadata": {},
     "output_type": "execute_result"
    }
   ],
   "source": [
    "_.gens_two()"
   ]
  },
  {
   "cell_type": "code",
   "execution_count": 69,
   "metadata": {},
   "outputs": [
    {
     "data": {
      "text/html": [
       "<html><script type=\"math/tex; mode=display\">\\newcommand{\\Bold}[1]{\\mathbf{#1}}\\left(149, \\zeta_{37} - 73\\right)</script></html>"
      ],
      "text/plain": [
       "Fractional ideal (149, zeta37 - 73)"
      ]
     },
     "execution_count": 69,
     "metadata": {},
     "output_type": "execute_result"
    }
   ],
   "source": [
    "I.ideal()"
   ]
  },
  {
   "cell_type": "code",
   "execution_count": 67,
   "metadata": {},
   "outputs": [
    {
     "data": {
      "text/html": [
       "<html><script type=\"math/tex; mode=display\">\\newcommand{\\Bold}[1]{\\mathbf{#1}}$\\mathrm{AbelianGroup}( 1, (37,) )$</script></html>"
      ],
      "text/plain": [
       "Class group of order 37 with structure C37 of Cyclotomic Field of order 37 and degree 36"
      ]
     },
     "execution_count": 67,
     "metadata": {},
     "output_type": "execute_result"
    }
   ],
   "source": [
    "I.parent()"
   ]
  },
  {
   "cell_type": "code",
   "execution_count": 64,
   "metadata": {},
   "outputs": [
    {
     "data": {
      "text/html": [
       "<html><script type=\"math/tex; mode=display\">\\newcommand{\\Bold}[1]{\\mathbf{#1}}\\left[149, \\zeta_{37}^{2} + 76, \\zeta_{37}^{4} + 35, \\zeta_{37}^{6} + 22, \\zeta_{37}^{8} + 116, \\zeta_{37}^{10} + 124, \\zeta_{37}^{12} + 112, \\zeta_{37}^{14} + 130, \\zeta_{37}^{16} + 103, \\zeta_{37}^{18} + 69, \\zeta_{37}^{20} + 120, \\zeta_{37}^{22} + 118, \\zeta_{37}^{24} + 121, \\zeta_{37}^{26} + 42, \\zeta_{37}^{28} + 86, \\zeta_{37}^{30} + 20, \\zeta_{37}^{32} + 119, \\zeta_{37}^{34} + 45, -\\zeta_{37}^{35} - \\zeta_{37}^{34} - \\zeta_{37}^{33} - \\zeta_{37}^{32} - \\zeta_{37}^{31} - \\zeta_{37}^{30} - \\zeta_{37}^{29} - \\zeta_{37}^{28} - \\zeta_{37}^{27} - \\zeta_{37}^{26} - \\zeta_{37}^{25} - \\zeta_{37}^{24} - \\zeta_{37}^{23} - \\zeta_{37}^{22} - \\zeta_{37}^{21} - \\zeta_{37}^{20} - \\zeta_{37}^{19} - \\zeta_{37}^{18} - \\zeta_{37}^{17} - \\zeta_{37}^{16} - \\zeta_{37}^{15} - \\zeta_{37}^{14} - \\zeta_{37}^{13} - \\zeta_{37}^{12} - \\zeta_{37}^{11} - \\zeta_{37}^{10} - \\zeta_{37}^{9} - \\zeta_{37}^{8} - \\zeta_{37}^{7} - \\zeta_{37}^{6} - \\zeta_{37}^{5} - \\zeta_{37}^{4} - \\zeta_{37}^{3} - \\zeta_{37}^{2} - \\zeta_{37} + 6, \\zeta_{37} + 64, \\zeta_{37}^{3} + 53, \\zeta_{37}^{5} + 144, \\zeta_{37}^{7} + 82, \\zeta_{37}^{9} + 26, \\zeta_{37}^{11} + 110, \\zeta_{37}^{13} + 133, \\zeta_{37}^{15} + 24, \\zeta_{37}^{17} + 113, \\zeta_{37}^{19} + 54, \\zeta_{37}^{21} + 68, \\zeta_{37}^{23} + 47, \\zeta_{37}^{25} + 4, \\zeta_{37}^{27} + 143, \\zeta_{37}^{29} + 9, \\zeta_{37}^{31} + 61, \\zeta_{37}^{33} + 132\\right]</script></html>"
      ],
      "text/plain": [
       "[149,\n",
       " zeta37^2 + 76,\n",
       " zeta37^4 + 35,\n",
       " zeta37^6 + 22,\n",
       " zeta37^8 + 116,\n",
       " zeta37^10 + 124,\n",
       " zeta37^12 + 112,\n",
       " zeta37^14 + 130,\n",
       " zeta37^16 + 103,\n",
       " zeta37^18 + 69,\n",
       " zeta37^20 + 120,\n",
       " zeta37^22 + 118,\n",
       " zeta37^24 + 121,\n",
       " zeta37^26 + 42,\n",
       " zeta37^28 + 86,\n",
       " zeta37^30 + 20,\n",
       " zeta37^32 + 119,\n",
       " zeta37^34 + 45,\n",
       " -zeta37^35 - zeta37^34 - zeta37^33 - zeta37^32 - zeta37^31 - zeta37^30 - zeta37^29 - zeta37^28 - zeta37^27 - zeta37^26 - zeta37^25 - zeta37^24 - zeta37^23 - zeta37^22 - zeta37^21 - zeta37^20 - zeta37^19 - zeta37^18 - zeta37^17 - zeta37^16 - zeta37^15 - zeta37^14 - zeta37^13 - zeta37^12 - zeta37^11 - zeta37^10 - zeta37^9 - zeta37^8 - zeta37^7 - zeta37^6 - zeta37^5 - zeta37^4 - zeta37^3 - zeta37^2 - zeta37 + 6,\n",
       " zeta37 + 64,\n",
       " zeta37^3 + 53,\n",
       " zeta37^5 + 144,\n",
       " zeta37^7 + 82,\n",
       " zeta37^9 + 26,\n",
       " zeta37^11 + 110,\n",
       " zeta37^13 + 133,\n",
       " zeta37^15 + 24,\n",
       " zeta37^17 + 113,\n",
       " zeta37^19 + 54,\n",
       " zeta37^21 + 68,\n",
       " zeta37^23 + 47,\n",
       " zeta37^25 + 4,\n",
       " zeta37^27 + 143,\n",
       " zeta37^29 + 9,\n",
       " zeta37^31 + 61,\n",
       " zeta37^33 + 132]"
      ]
     },
     "execution_count": 64,
     "metadata": {},
     "output_type": "execute_result"
    }
   ],
   "source": [
    "[s(t) for t in I.gens_()]"
   ]
  },
  {
   "cell_type": "code",
   "execution_count": 72,
   "metadata": {
    "scrolled": true
   },
   "outputs": [
    {
     "data": {
      "text/html": [
       "<html><script type=\"math/tex; mode=display\">\\newcommand{\\Bold}[1]{\\mathbf{#1}}\\verb|Fractional|\\phantom{\\verb!x!}\\verb|ideal|\\phantom{\\verb!x!}\\verb|class|\\phantom{\\verb!x!}\\verb|(149,|\\phantom{\\verb!x!}\\verb|zeta37|\\phantom{\\verb!x!}\\verb|+|\\phantom{\\verb!x!}\\verb|64)|</script></html>"
      ],
      "text/plain": [
       "Fractional ideal class (149, zeta37 + 64)"
      ]
     },
     "execution_count": 72,
     "metadata": {},
     "output_type": "execute_result"
    }
   ],
   "source": [
    "Is = I.parent()([s(t) for t in I.ideal().gens_two()]); Is"
   ]
  },
  {
   "cell_type": "code",
   "execution_count": 74,
   "metadata": {},
   "outputs": [
    {
     "name": "stdout",
     "output_type": "stream",
     "text": [
      "32\n"
     ]
    }
   ],
   "source": [
    "for i in range(36): # takes a minute\n",
    "    if (Is/(I^i)).is_principal():\n",
    "        print(i)"
   ]
  },
  {
   "cell_type": "markdown",
   "metadata": {},
   "source": [
    "indeed\n",
    "$$I^\\sigma = I^{32} = I^{ \\chi(\\sigma)^5}$$\n",
    "so\n",
    "this lies in\n",
    "$$C(\\chi^{5}) = C(\\chi^{37-32})$$"
   ]
  },
  {
   "cell_type": "code",
   "execution_count": 96,
   "metadata": {},
   "outputs": [],
   "source": [
    "S = CuspForms(Gamma1(37))\n",
    "k = 32"
   ]
  },
  {
   "cell_type": "code",
   "execution_count": 114,
   "metadata": {},
   "outputs": [
    {
     "name": "stdout",
     "output_type": "stream",
     "text": [
      "Fractional ideal (a4^3 - 2*a4^2 - 2*a4) q + a4*q^2 + (-a4^3 + a4^2 - a4)*q^3 - a4^2*q^4 + (2*a4^3 + a4^2 - 2*a4 - 2)*q^5 + O(q^6)\n"
     ]
    }
   ],
   "source": [
    "foundp = 0\n",
    "foundf = 0\n",
    "for f in S.newforms('a'):\n",
    "    H = f.hecke_eigenvalue_field()\n",
    "    if H is QQ:\n",
    "        ps = [37]\n",
    "        H37s = [GF(37)]\n",
    "    else:\n",
    "        ps = H.primes_above(37)\n",
    "        H37s = [p.residue_field() for p in ps]\n",
    "    for p,H37 in zip(ps, H37s):\n",
    "        for l in prime_range(100):\n",
    "            if l == 37:\n",
    "                continue\n",
    "            if H37(f[l]) != 1 + l^(k-1):\n",
    "                break\n",
    "        else:\n",
    "            print(p,f)\n",
    "            foundp = p\n",
    "            foundf = f"
   ]
  },
  {
   "cell_type": "markdown",
   "metadata": {},
   "source": [
    "We can try and find this form on the lmbfdb now by looking at traces and comparing with\n",
    "https://www.lmfdb.org/ModularForm/GL2/Q/holomorphic/?level=37&weight=2&search_type=List"
   ]
  },
  {
   "cell_type": "code",
   "execution_count": 121,
   "metadata": {},
   "outputs": [
    {
     "name": "stdout",
     "output_type": "stream",
     "text": [
      "0\n",
      "2\n",
      "-6\n",
      "0\n"
     ]
    }
   ],
   "source": [
    "print(foundf[2].trace())\n",
    "print(foundf[3].trace())\n",
    "print(foundf[5].trace())\n",
    "print(foundf[7].trace())"
   ]
  },
  {
   "cell_type": "markdown",
   "metadata": {},
   "source": [
    "So this is\n",
    "https://www.lmfdb.org/ModularForm/GL2/Q/holomorphic/37/2/e/a/"
   ]
  },
  {
   "cell_type": "code",
   "execution_count": 122,
   "metadata": {},
   "outputs": [
    {
     "data": {
      "text/html": [
       "<html><script type=\"math/tex; mode=display\">\\newcommand{\\Bold}[1]{\\mathbf{#1}}\\Bold{Q}[a_{4}]/(a_{4}^{4} - a_{4}^{2} + 1)</script></html>"
      ],
      "text/plain": [
       "Number Field in a4 with defining polynomial x^4 - x^2 + 1"
      ]
     },
     "execution_count": 122,
     "metadata": {},
     "output_type": "execute_result"
    }
   ],
   "source": [
    "foundf.hecke_eigenvalue_field()"
   ]
  },
  {
   "cell_type": "code",
   "execution_count": null,
   "metadata": {},
   "outputs": [],
   "source": []
  }
 ],
 "metadata": {
  "kernelspec": {
   "display_name": "SageMath 9.1",
   "language": "sage",
   "name": "sagemath"
  },
  "language_info": {
   "codemirror_mode": {
    "name": "ipython",
    "version": 3
   },
   "file_extension": ".py",
   "mimetype": "text/x-python",
   "name": "python",
   "nbconvert_exporter": "python",
   "pygments_lexer": "ipython3",
   "version": "3.7.3"
  }
 },
 "nbformat": 4,
 "nbformat_minor": 2
}
