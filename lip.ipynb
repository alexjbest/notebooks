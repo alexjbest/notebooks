{
 "cells": [
  {
   "cell_type": "markdown",
   "metadata": {},
   "source": [
    "$$24 \\log ^{p}(2) \\zeta^{p}(3) \\mathrm{Li}_{4}^{p}(z)+\\frac{8}{7}\\left(\\log ^{p}(2)^{4}+24 \\mathrm{Li}_{4}^{p}\\left(\\frac{1}{2}\\right)\\right) \\log ^{p}(z) \\mathrm{Li}_{3}^{p}(z)$$\n",
    "$$+\\left(\\frac{4}{21} \\log ^{p}(2)^{4}+\\frac{32}{7} \\mathrm{L}_{4}^{p}\\left(\\frac{1}{2}\\right)+\\log ^{p}(2) \\zeta^{p}(3)\\right) \\log ^{p}(z)^{3} \\log ^{p}(1-z)$$"
   ]
  },
  {
   "cell_type": "code",
   "execution_count": 8,
   "metadata": {},
   "outputs": [
    {
     "data": {
      "text/plain": [
       "O(7^24)"
      ]
     },
     "execution_count": 8,
     "metadata": {},
     "output_type": "execute_result"
    }
   ],
   "source": [
    "p = 7\n",
    "K = Qp(p, 20)\n",
    "z  =  -1\n",
    "def zeta(K, n):\n",
    "    p = K.prime()\n",
    "    return (K(1 + p^(K.precision_cap() - 1))).polylog(n, p)\n",
    "24*K(2).log(p)*zeta(K,3)*K(z).polylog(4, p)+8/7*(K(2).log(p)^4+24*K(1/2).polylog(4,p))*K(z).log(p)*K(z).polylog(3,p)\\\n",
    "+(4/21*K(2).log(p)^4+32/7*K(1/2).polylog(4, p)+K(2).log(p)*zeta(K,3))*K(z).log(p)^3*K(1-z).log(p)"
   ]
  },
  {
   "cell_type": "code",
   "execution_count": 9,
   "metadata": {},
   "outputs": [
    {
     "data": {
      "text/plain": [
       "(O(7^24), O(7^26))"
      ]
     },
     "execution_count": 9,
     "metadata": {},
     "output_type": "execute_result"
    }
   ],
   "source": [
    "24*K(2).log(p)*zeta(K,3)*K(z).polylog(4, p),8/7*(K(2).log(p)^4+24*K(1/2).polylog(4,p))*K(z).log(p)*K(z).polylog(3,p)\\"
   ]
  },
  {
   "cell_type": "code",
   "execution_count": 10,
   "metadata": {},
   "outputs": [
    {
     "data": {
      "text/plain": [
       "O(7^64)"
      ]
     },
     "execution_count": 10,
     "metadata": {},
     "output_type": "execute_result"
    }
   ],
   "source": [
    "(4/21*K(2).log(p)^4+32/7*K(1/2).polylog(4, p)+K(2).log(p)*zeta(K,3))*K(z).log(p)^3*K(1-z).log(p)"
   ]
  },
  {
   "cell_type": "code",
   "execution_count": 11,
   "metadata": {},
   "outputs": [
    {
     "data": {
      "text/plain": [
       "20"
      ]
     },
     "execution_count": 11,
     "metadata": {},
     "output_type": "execute_result"
    }
   ],
   "source": [
    "K.precision_cap()"
   ]
  },
  {
   "cell_type": "code",
   "execution_count": 12,
   "metadata": {},
   "outputs": [
    {
     "name": "stdout",
     "output_type": "stream",
     "text": [
      "6*7^13 + 3*7^14 + 7^15 + 7^16 + 2*7^17 + O(7^18)\n",
      "6*7^14 + 3*7^15 + 7^16 + 7^17 + O(7^18)\n",
      "6*7^15 + 3*7^16 + 7^17 + O(7^18)\n",
      "6*7^18 + O(7^19)\n"
     ]
    }
   ],
   "source": [
    "print(K(1 + 7^10).polylog(4))\n",
    "print(K(1 + 7^11).polylog(4))\n",
    "print(K(1 + 7^12).polylog(4))\n",
    "print(K(1 + 7^15).polylog(4))"
   ]
  },
  {
   "cell_type": "code",
   "execution_count": 13,
   "metadata": {},
   "outputs": [
    {
     "name": "stdout",
     "output_type": "stream",
     "text": [
      "6*7^3 + 3*7^4 + 7^5 + 7^6 + 2*7^7 + 7^8 + 6*7^9 + 7^10 + 6*7^11 + 7^12 + 4*7^14 + 3*7^15 + 6*7^16 + 6*7^17 + O(7^18)\n",
      "6*7^3 + 3*7^4 + 7^5 + 7^6 + 2*7^7 + 7^8 + 6*7^9 + 7^10 + 6*7^11 + 7^12 + 4*7^14 + 3*7^15 + 6*7^16 + 6*7^17 + 3*7^18 + O(7^19)\n",
      "6*7^3 + 3*7^4 + 7^5 + 7^6 + 2*7^7 + 7^8 + 6*7^9 + 7^10 + 6*7^11 + 7^12 + 4*7^14 + 3*7^15 + 6*7^16 + 6*7^17 + 3*7^18 + O(7^19)\n",
      "6*7^3 + 3*7^4 + 7^5 + 7^6 + 2*7^7 + 7^8 + 6*7^9 + 7^10 + 6*7^11 + 7^12 + 4*7^14 + 3*7^15 + 6*7^16 + 6*7^17 + 3*7^18 + O(7^19)\n",
      "6*7^3 + 3*7^4 + 7^5 + 7^6 + 2*7^7 + 7^8 + 6*7^9 + 7^10 + 6*7^11 + 7^12 + 4*7^14 + 3*7^15 + 6*7^16 + 6*7^17 + 3*7^18 + O(7^19)\n"
     ]
    }
   ],
   "source": [
    "print(K(1 + 7^10).polylog(3))\n",
    "print(K(1 + 7^11).polylog(3))\n",
    "print(K(1 + 7^12).polylog(3))\n",
    "print(K(1 + 7^13).polylog(3))\n",
    "print(K(1 + 7^19).polylog(3))"
   ]
  },
  {
   "cell_type": "code",
   "execution_count": 14,
   "metadata": {},
   "outputs": [
    {
     "name": "stdout",
     "output_type": "stream",
     "text": [
      "2*7 + 4*7^2 + 7^3 + 3*7^4 + 2*7^5 + 4*7^6 + 2*7^7 + 7^8 + 4*7^9 + 3*7^10 + 3*7^11 + 4*7^12 + 6*7^13 + 2*7^14 + 6*7^15 + 2*7^16 + 5*7^17 + 4*7^18 + 7^19 + O(7^20)\n",
      "7 + 4*7^2 + 7^3 + 3*7^4 + 2*7^5 + 4*7^6 + 2*7^7 + 7^8 + 4*7^9 + 3*7^10 + 3*7^11 + 4*7^12 + 6*7^13 + 2*7^14 + 6*7^15 + 2*7^16 + 5*7^17 + 4*7^18 + 7^19 + O(7^20)\n"
     ]
    }
   ],
   "source": [
    "print(K(1/7).polylog(1, 7))\n",
    "print(K(1/7).polylog(1))"
   ]
  },
  {
   "cell_type": "code",
   "execution_count": 15,
   "metadata": {},
   "outputs": [
    {
     "data": {
      "text/plain": [
       "7 + O(7^20)"
      ]
     },
     "execution_count": 15,
     "metadata": {},
     "output_type": "execute_result"
    }
   ],
   "source": [
    "(K(1/7).polylog(1, 7)-K(1/7).polylog(1)) "
   ]
  },
  {
   "cell_type": "code",
   "execution_count": 16,
   "metadata": {},
   "outputs": [
    {
     "name": "stdout",
     "output_type": "stream",
     "text": [
      "6*7 + 5*7^2 + 7^3 + 7^4 + 3*7^5 + 5*7^6 + 4*7^7 + 2*7^10 + 3*7^11 + 5*7^13 + 6*7^14 + 6*7^15 + O(7^16)\n",
      "6*7 + 5*7^2 + 7^3 + 7^4 + 3*7^5 + 5*7^6 + 4*7^7 + 2*7^10 + 3*7^11 + 5*7^13 + 6*7^14 + 6*7^15 + O(7^16)\n"
     ]
    }
   ],
   "source": [
    "print(K(1 - 7).polylog(2, 7))\n",
    "print(K(1 - 7).polylog(2) - K(1-7).log(p)*K(7).log(p))"
   ]
  },
  {
   "cell_type": "code",
   "execution_count": 17,
   "metadata": {},
   "outputs": [
    {
     "data": {
      "text/html": [
       "<html><script type=\"math/tex; mode=display\">\\newcommand{\\Bold}[1]{\\mathbf{#1}}7^{2} + 4 \\cdot 7^{3} + 7^{4} + 3 \\cdot 7^{5} + 2 \\cdot 7^{6} + 4 \\cdot 7^{7} + 2 \\cdot 7^{8} + 7^{9} + 4 \\cdot 7^{10} + 3 \\cdot 7^{11} + 3 \\cdot 7^{12} + 4 \\cdot 7^{13} + 6 \\cdot 7^{14} + 2 \\cdot 7^{15} + O(7^{16})</script></html>"
      ],
      "text/plain": [
       "7^2 + 4*7^3 + 7^4 + 3*7^5 + 2*7^6 + 4*7^7 + 2*7^8 + 7^9 + 4*7^10 + 3*7^11 + 3*7^12 + 4*7^13 + 6*7^14 + 2*7^15 + O(7^16)"
      ]
     },
     "metadata": {},
     "output_type": "display_data"
    }
   ],
   "source": [
    "show(K(1 - 7).polylog(2, 7)-K(1 - 7).polylog(2))"
   ]
  },
  {
   "cell_type": "markdown",
   "metadata": {},
   "source": [
    "Let $x$ be the coordinate on $\\mathbf P ^1$ we want to compute\n",
    "$$\n",
    "Li_n(z)\n",
    "$$\n",
    "as a function of $z$ locally around $z_0$, we will use local parameter $t = x - z_0$, so $x = t + z_0$\n",
    "$$\\int_{P}^{Q} \\xi_{1} \\cdots \\xi_{n}\n",
    "= \\sum_{i=0}^{n} \\int_{P^{\\prime}}^{Q} \\xi_{1} \\cdots \\xi_{i} \\cdot \n",
    "              \\int_{P}^{P^{\\prime}} \\xi_{i+1} \\cdots \\xi_{n}$$\n",
    "hence as\n",
    "$$\n",
    "Li_n(z) = \\int_0^z dx/x dx/x ... dx/(1-x)\n",
    "$$\n",
    "we have\n",
    "$$\n",
    "Li_n(z) = \\sum_{i=0}^{n} \\int_{x=z0}^{z} dx/x ... ? \\cdot \n",
    "              Li_{n-i}(z0)\n",
    "              $$\n",
    "              $$ =\n",
    "          \\sum_{i=0}^{n} \\int_{t = 0}^{z - z_0} dt/(t + z_0) ... ? dt/ (1 - (t + z0)) \\cdot \n",
    "              Li_{n-i}(z0)\n",
    "              $$"
   ]
  },
  {
   "cell_type": "markdown",
   "metadata": {},
   "source": [
    "We want to write\n",
    "$$2Li_2(z) + \\log(z)\\log(1-z)$$\n",
    "in a power series around $z_0$, i.e. in terms of parameter $t = z - z_0$, $t + z_0 = z$.\n",
    "$$2Li_2(t + z_0) + \\log(-t - z_0)\\log(1-t -z_0)$$\n",
    "$$=2Li_2(t + z_0) + Li_1((1 +z_0)+t)Li_1(t + z_0)$$"
   ]
  },
  {
   "cell_type": "code",
   "execution_count": 18,
   "metadata": {},
   "outputs": [
    {
     "data": {
      "text/html": [
       "<html><script type=\"math/tex; mode=display\">\\newcommand{\\Bold}[1]{\\mathbf{#1}}-\\frac{9}{4}t^{2} + \\frac{9}{2}t^{3} - \\frac{135}{16}t^{4} + \\frac{81}{5}t^{5} - \\frac{162}{5}t^{6} + \\frac{9477}{140}t^{7} - \\frac{330237}{2240}t^{8} + \\frac{11664}{35}t^{9} - \\frac{544563}{700}t^{10} + \\frac{1436859}{770}t^{11} - \\frac{28205739}{6160}t^{12} + \\frac{114614109}{10010}t^{13} - \\frac{8152836381}{280280}t^{14} + \\frac{14992482051}{200200}t^{15} - \\frac{49967677143}{256256}t^{16} + \\frac{8724135456}{17017}t^{17} - \\frac{92526535305}{68068}t^{18} + \\frac{2347897303503}{646646}t^{19} - \\frac{50499873320661}{5173168}t^{20} + \\frac{298731803237631}{11316305}t^{21} - \\frac{2552176249802757}{35565530}t^{22} + \\frac{29148809775126597}{148728580}t^{23} + O(t^{24})</script></html>"
      ],
      "text/plain": [
       "-9/4*t^2 + 9/2*t^3 - 135/16*t^4 + 81/5*t^5 - 162/5*t^6 + 9477/140*t^7 - 330237/2240*t^8 + 11664/35*t^9 - 544563/700*t^10 + 1436859/770*t^11 - 28205739/6160*t^12 + 114614109/10010*t^13 - 8152836381/280280*t^14 + 14992482051/200200*t^15 - 49967677143/256256*t^16 + 8724135456/17017*t^17 - 92526535305/68068*t^18 + 2347897303503/646646*t^19 - 50499873320661/5173168*t^20 + 298731803237631/11316305*t^21 - 2552176249802757/35565530*t^22 + 29148809775126597/148728580*t^23 + O(t^24)"
      ]
     },
     "metadata": {},
     "output_type": "display_data"
    }
   ],
   "source": [
    "p = 3\n",
    "K = Qp(p, prec = 40)\n",
    "K= QQ\n",
    "T.<log2, Li2n1> = PolynomialRing(K)#, latex_names=[r\"\\log(2)\",\"Li_2(-1)\"])\n",
    "def pl(x,n): # Li_n(x)\n",
    "    if x == 2:\n",
    "        # Li_2(2) = 0\n",
    "        return 0\n",
    "        # Li_1(2) = 0\n",
    "    if x != -1:\n",
    "        raise ValueError\n",
    "    if n == 1:\n",
    "        return -log2\n",
    "    if n == 2:\n",
    "        return Li2n1\n",
    "def Liz(n, z0, prec = 20, p_branch = 0):\n",
    "    assert n >= 1\n",
    "    # use local parameter t = x - z0, so x = t + z0\n",
    "    K = z0.parent()\n",
    "    R.<t> = PowerSeriesRing(T, prec + 3)\n",
    "    F = sum(\n",
    "            reduce(lambda x, y : (x * y).integral(),\n",
    "                # the sequence of integrands first to be integrated to last\n",
    "                [1 / (t+z0) if j != 0 else 1/(1 - t - z0) for j in range(n - i, n)]\n",
    "                , QQ(1)) # such fancy, wow\n",
    "            * (pl(z0, n - i) if n != i else QQ(1))\n",
    "            for i in range(n + 1))\n",
    "    \n",
    "    return F\n",
    "\n",
    "\n",
    "D = Liz(2,K(2))\n",
    "t = D.parent().gen()\n",
    "show(D(p*t))"
   ]
  },
  {
   "cell_type": "code",
   "execution_count": 19,
   "metadata": {},
   "outputs": [
    {
     "name": "stdout",
     "output_type": "stream",
     "text": [
      "1 + 2*5 + 5^4 + 4*5^5 + 4*5^6 + 4*5^7 + 2*5^11 + 3*5^12 + 2*5^13 + 2*5^14 + 3*5^15 + 4*5^16 + 4*5^17 + 2*5^18 + 3*5^19 + O(5^20)\n",
      "O(5^20)\n"
     ]
    },
    {
     "data": {
      "text/plain": [
       "Power Series Ring in t over 5-adic Field with capped relative precision 20"
      ]
     },
     "execution_count": 19,
     "metadata": {},
     "output_type": "execute_result"
    }
   ],
   "source": [
    "print(-1/4 - Qp(5)(-1).polylog(1)/2)\n",
    "print(Qp(5)(-1).polylog(2))\n",
    "PS.<t> = PowerSeriesRing(Qp(5))\n",
    "Dp = PS([ x(Qp(5)(-1).polylog(1),Qp(5)(-1).polylog(2)) for x in D.coefficients()])\n",
    "Dp.parent()\n",
    "#Dp.newton_polygon().plot()"
   ]
  },
  {
   "cell_type": "code",
   "execution_count": 20,
   "metadata": {
    "scrolled": true
   },
   "outputs": [
    {
     "ename": "RecursionError",
     "evalue": "maximum recursion depth exceeded while calling a Python object",
     "output_type": "error",
     "traceback": [
      "\u001b[1;31m-----------------------------------------------------------\u001b[0m",
      "\u001b[1;31mRecursionError\u001b[0m            Traceback (most recent call last)",
      "\u001b[1;32m<ipython-input-20-3532b61cdc11>\u001b[0m in \u001b[0;36m<module>\u001b[1;34m()\u001b[0m\n\u001b[1;32m----> 1\u001b[1;33m \u001b[0mDpt\u001b[0m \u001b[1;33m=\u001b[0m \u001b[0mDp\u001b[0m\u001b[1;33m(\u001b[0m\u001b[0mp\u001b[0m\u001b[1;33m*\u001b[0m\u001b[0mt\u001b[0m\u001b[1;33m)\u001b[0m\u001b[1;33m.\u001b[0m\u001b[0mtruncate\u001b[0m\u001b[1;33m(\u001b[0m\u001b[1;33m)\u001b[0m\u001b[1;33m.\u001b[0m\u001b[0mchange_ring\u001b[0m\u001b[1;33m(\u001b[0m\u001b[0mZp\u001b[0m\u001b[1;33m(\u001b[0m\u001b[0mp\u001b[0m\u001b[1;33m)\u001b[0m\u001b[1;33m)\u001b[0m\u001b[1;33m\u001b[0m\u001b[1;33m\u001b[0m\u001b[0m\n\u001b[0m\u001b[0;32m      2\u001b[0m print(\n\u001b[0;32m      3\u001b[0m [r for r,e in Dpt.roots()])\n\u001b[0;32m      4\u001b[0m \u001b[0mDpt\u001b[0m\u001b[1;33m.\u001b[0m\u001b[0mnewton_polygon\u001b[0m\u001b[1;33m(\u001b[0m\u001b[1;33m)\u001b[0m\u001b[1;33m.\u001b[0m\u001b[0mplot\u001b[0m\u001b[1;33m(\u001b[0m\u001b[1;33m)\u001b[0m\u001b[1;33m\u001b[0m\u001b[1;33m\u001b[0m\u001b[0m\n",
      "\u001b[1;32m/Users/alex/sage/local/lib/python3.7/site-packages/sage/rings/polynomial/polynomial_element.pyx\u001b[0m in \u001b[0;36msage.rings.polynomial.polynomial_element.Polynomial.change_ring (build/cythonized/sage/rings/polynomial/polynomial_element.c:31320)\u001b[1;34m()\u001b[0m\n\u001b[0;32m   3269\u001b[0m             \u001b[1;32mreturn\u001b[0m \u001b[0mself\u001b[0m\u001b[1;33m.\u001b[0m\u001b[0mmap_coefficients\u001b[0m\u001b[1;33m(\u001b[0m\u001b[0mR\u001b[0m\u001b[1;33m)\u001b[0m\u001b[1;33m\u001b[0m\u001b[1;33m\u001b[0m\u001b[0m\n\u001b[0;32m   3270\u001b[0m         \u001b[1;32melse\u001b[0m\u001b[1;33m:\u001b[0m\u001b[1;33m\u001b[0m\u001b[1;33m\u001b[0m\u001b[0m\n\u001b[1;32m-> 3271\u001b[1;33m             \u001b[1;32mreturn\u001b[0m \u001b[0mself\u001b[0m\u001b[1;33m.\u001b[0m\u001b[0m_parent\u001b[0m\u001b[1;33m.\u001b[0m\u001b[0mchange_ring\u001b[0m\u001b[1;33m(\u001b[0m\u001b[0mR\u001b[0m\u001b[1;33m)\u001b[0m\u001b[1;33m(\u001b[0m\u001b[0mself\u001b[0m\u001b[1;33m.\u001b[0m\u001b[0mlist\u001b[0m\u001b[1;33m(\u001b[0m\u001b[0mcopy\u001b[0m\u001b[1;33m=\u001b[0m\u001b[1;32mFalse\u001b[0m\u001b[1;33m)\u001b[0m\u001b[1;33m)\u001b[0m\u001b[1;33m\u001b[0m\u001b[1;33m\u001b[0m\u001b[0m\n\u001b[0m\u001b[0;32m   3272\u001b[0m \u001b[1;33m\u001b[0m\u001b[0m\n\u001b[0;32m   3273\u001b[0m     \u001b[0mcpdef\u001b[0m \u001b[0mdict\u001b[0m \u001b[0m_mpoly_dict_recursive\u001b[0m\u001b[1;33m(\u001b[0m\u001b[0mself\u001b[0m\u001b[1;33m,\u001b[0m \u001b[0mtuple\u001b[0m \u001b[0mvariables\u001b[0m\u001b[1;33m=\u001b[0m\u001b[1;32mNone\u001b[0m\u001b[1;33m,\u001b[0m \u001b[0mbase_ring\u001b[0m\u001b[1;33m=\u001b[0m\u001b[1;32mNone\u001b[0m\u001b[1;33m)\u001b[0m\u001b[1;33m:\u001b[0m\u001b[1;33m\u001b[0m\u001b[1;33m\u001b[0m\u001b[0m\n",
      "\u001b[1;32m/Users/alex/sage/local/lib/python3.7/site-packages/sage/structure/parent.pyx\u001b[0m in \u001b[0;36msage.structure.parent.Parent.__call__ (build/cythonized/sage/structure/parent.c:9218)\u001b[1;34m()\u001b[0m\n\u001b[0;32m    898\u001b[0m         \u001b[1;32mif\u001b[0m \u001b[0mmor\u001b[0m \u001b[1;32mis\u001b[0m \u001b[1;32mnot\u001b[0m \u001b[1;32mNone\u001b[0m\u001b[1;33m:\u001b[0m\u001b[1;33m\u001b[0m\u001b[1;33m\u001b[0m\u001b[0m\n\u001b[0;32m    899\u001b[0m             \u001b[1;32mif\u001b[0m \u001b[0mno_extra_args\u001b[0m\u001b[1;33m:\u001b[0m\u001b[1;33m\u001b[0m\u001b[1;33m\u001b[0m\u001b[0m\n\u001b[1;32m--> 900\u001b[1;33m                 \u001b[1;32mreturn\u001b[0m \u001b[0mmor\u001b[0m\u001b[1;33m.\u001b[0m\u001b[0m_call_\u001b[0m\u001b[1;33m(\u001b[0m\u001b[0mx\u001b[0m\u001b[1;33m)\u001b[0m\u001b[1;33m\u001b[0m\u001b[1;33m\u001b[0m\u001b[0m\n\u001b[0m\u001b[0;32m    901\u001b[0m             \u001b[1;32melse\u001b[0m\u001b[1;33m:\u001b[0m\u001b[1;33m\u001b[0m\u001b[1;33m\u001b[0m\u001b[0m\n\u001b[0;32m    902\u001b[0m                 \u001b[1;32mreturn\u001b[0m \u001b[0mmor\u001b[0m\u001b[1;33m.\u001b[0m\u001b[0m_call_with_args\u001b[0m\u001b[1;33m(\u001b[0m\u001b[0mx\u001b[0m\u001b[1;33m,\u001b[0m \u001b[0margs\u001b[0m\u001b[1;33m,\u001b[0m \u001b[0mkwds\u001b[0m\u001b[1;33m)\u001b[0m\u001b[1;33m\u001b[0m\u001b[1;33m\u001b[0m\u001b[0m\n",
      "\u001b[1;32m/Users/alex/sage/local/lib/python3.7/site-packages/sage/structure/coerce_maps.pyx\u001b[0m in \u001b[0;36msage.structure.coerce_maps.DefaultConvertMap_unique._call_ (build/cythonized/sage/structure/coerce_maps.c:4556)\u001b[1;34m()\u001b[0m\n\u001b[0;32m    159\u001b[0m                 \u001b[0mprint\u001b[0m\u001b[1;33m(\u001b[0m\u001b[0mtype\u001b[0m\u001b[1;33m(\u001b[0m\u001b[0mC\u001b[0m\u001b[1;33m)\u001b[0m\u001b[1;33m,\u001b[0m \u001b[0mC\u001b[0m\u001b[1;33m)\u001b[0m\u001b[1;33m\u001b[0m\u001b[1;33m\u001b[0m\u001b[0m\n\u001b[0;32m    160\u001b[0m                 \u001b[0mprint\u001b[0m\u001b[1;33m(\u001b[0m\u001b[0mtype\u001b[0m\u001b[1;33m(\u001b[0m\u001b[0mC\u001b[0m\u001b[1;33m.\u001b[0m\u001b[0m_element_constructor\u001b[0m\u001b[1;33m)\u001b[0m\u001b[1;33m,\u001b[0m \u001b[0mC\u001b[0m\u001b[1;33m.\u001b[0m\u001b[0m_element_constructor\u001b[0m\u001b[1;33m)\u001b[0m\u001b[1;33m\u001b[0m\u001b[1;33m\u001b[0m\u001b[0m\n\u001b[1;32m--> 161\u001b[1;33m             \u001b[1;32mraise\u001b[0m\u001b[1;33m\u001b[0m\u001b[1;33m\u001b[0m\u001b[0m\n\u001b[0m\u001b[0;32m    162\u001b[0m \u001b[1;33m\u001b[0m\u001b[0m\n\u001b[0;32m    163\u001b[0m     \u001b[0mcpdef\u001b[0m \u001b[0mElement\u001b[0m \u001b[0m_call_with_args\u001b[0m\u001b[1;33m(\u001b[0m\u001b[0mself\u001b[0m\u001b[1;33m,\u001b[0m \u001b[0mx\u001b[0m\u001b[1;33m,\u001b[0m \u001b[0margs\u001b[0m\u001b[1;33m=\u001b[0m\u001b[1;33m(\u001b[0m\u001b[1;33m)\u001b[0m\u001b[1;33m,\u001b[0m \u001b[0mkwds\u001b[0m\u001b[1;33m=\u001b[0m\u001b[1;33m{\u001b[0m\u001b[1;33m}\u001b[0m\u001b[1;33m)\u001b[0m\u001b[1;33m:\u001b[0m\u001b[1;33m\u001b[0m\u001b[1;33m\u001b[0m\u001b[0m\n",
      "\u001b[1;32m/Users/alex/sage/local/lib/python3.7/site-packages/sage/structure/coerce_maps.pyx\u001b[0m in \u001b[0;36msage.structure.coerce_maps.DefaultConvertMap_unique._call_ (build/cythonized/sage/structure/coerce_maps.c:4448)\u001b[1;34m()\u001b[0m\n\u001b[0;32m    154\u001b[0m         \u001b[0mcdef\u001b[0m \u001b[0mParent\u001b[0m \u001b[0mC\u001b[0m \u001b[1;33m=\u001b[0m \u001b[0mself\u001b[0m\u001b[1;33m.\u001b[0m\u001b[0m_codomain\u001b[0m\u001b[1;33m\u001b[0m\u001b[1;33m\u001b[0m\u001b[0m\n\u001b[0;32m    155\u001b[0m         \u001b[1;32mtry\u001b[0m\u001b[1;33m:\u001b[0m\u001b[1;33m\u001b[0m\u001b[1;33m\u001b[0m\u001b[0m\n\u001b[1;32m--> 156\u001b[1;33m             \u001b[1;32mreturn\u001b[0m \u001b[0mC\u001b[0m\u001b[1;33m.\u001b[0m\u001b[0m_element_constructor\u001b[0m\u001b[1;33m(\u001b[0m\u001b[0mx\u001b[0m\u001b[1;33m)\u001b[0m\u001b[1;33m\u001b[0m\u001b[1;33m\u001b[0m\u001b[0m\n\u001b[0m\u001b[0;32m    157\u001b[0m         \u001b[1;32mexcept\u001b[0m \u001b[0mException\u001b[0m\u001b[1;33m:\u001b[0m\u001b[1;33m\u001b[0m\u001b[1;33m\u001b[0m\u001b[0m\n\u001b[0;32m    158\u001b[0m             \u001b[1;32mif\u001b[0m \u001b[0mprint_warnings\u001b[0m\u001b[1;33m:\u001b[0m\u001b[1;33m\u001b[0m\u001b[1;33m\u001b[0m\u001b[0m\n",
      "\u001b[1;32m/Users/alex/sage/local/lib/python3.7/site-packages/sage/rings/polynomial/polynomial_ring.py\u001b[0m in \u001b[0;36m_element_constructor_\u001b[1;34m(self, x, check, is_gen, construct, **kwds)\u001b[0m\n\u001b[0;32m    422\u001b[0m         \u001b[0mC\u001b[0m \u001b[1;33m=\u001b[0m \u001b[0mself\u001b[0m\u001b[1;33m.\u001b[0m\u001b[0melement_class\u001b[0m\u001b[1;33m\u001b[0m\u001b[1;33m\u001b[0m\u001b[0m\n\u001b[0;32m    423\u001b[0m         \u001b[1;32mif\u001b[0m \u001b[0misinstance\u001b[0m\u001b[1;33m(\u001b[0m\u001b[0mx\u001b[0m\u001b[1;33m,\u001b[0m \u001b[1;33m(\u001b[0m\u001b[0mlist\u001b[0m\u001b[1;33m,\u001b[0m \u001b[0mtuple\u001b[0m\u001b[1;33m)\u001b[0m\u001b[1;33m)\u001b[0m\u001b[1;33m:\u001b[0m\u001b[1;33m\u001b[0m\u001b[1;33m\u001b[0m\u001b[0m\n\u001b[1;32m--> 424\u001b[1;33m             \u001b[1;32mreturn\u001b[0m \u001b[0mC\u001b[0m\u001b[1;33m(\u001b[0m\u001b[0mself\u001b[0m\u001b[1;33m,\u001b[0m \u001b[0mx\u001b[0m\u001b[1;33m,\u001b[0m \u001b[0mcheck\u001b[0m\u001b[1;33m=\u001b[0m\u001b[0mcheck\u001b[0m\u001b[1;33m,\u001b[0m \u001b[0mis_gen\u001b[0m\u001b[1;33m=\u001b[0m\u001b[1;32mFalse\u001b[0m\u001b[1;33m,\u001b[0m \u001b[0mconstruct\u001b[0m\u001b[1;33m=\u001b[0m\u001b[0mconstruct\u001b[0m\u001b[1;33m)\u001b[0m\u001b[1;33m\u001b[0m\u001b[1;33m\u001b[0m\u001b[0m\n\u001b[0m\u001b[0;32m    425\u001b[0m         \u001b[1;32mif\u001b[0m \u001b[0misinstance\u001b[0m\u001b[1;33m(\u001b[0m\u001b[0mx\u001b[0m\u001b[1;33m,\u001b[0m \u001b[0mrange\u001b[0m\u001b[1;33m)\u001b[0m\u001b[1;33m:\u001b[0m\u001b[1;33m\u001b[0m\u001b[1;33m\u001b[0m\u001b[0m\n\u001b[0;32m    426\u001b[0m             return C(self, list(x), check=check, is_gen=False,\n",
      "\u001b[1;32m/Users/alex/sage/local/lib/python3.7/site-packages/sage/rings/polynomial/padics/polynomial_padic_capped_relative_dense.py\u001b[0m in \u001b[0;36m__init__\u001b[1;34m(self, parent, x, check, is_gen, construct, absprec, relprec)\u001b[0m\n\u001b[0;32m    129\u001b[0m             \u001b[0mx\u001b[0m \u001b[1;33m=\u001b[0m \u001b[1;33m[\u001b[0m\u001b[0mparentbr\u001b[0m\u001b[1;33m.\u001b[0m\u001b[0mzero\u001b[0m\u001b[1;33m(\u001b[0m\u001b[1;33m)\u001b[0m\u001b[1;33m]\u001b[0m\u001b[1;33m\u001b[0m\u001b[1;33m\u001b[0m\u001b[0m\n\u001b[0;32m    130\u001b[0m         \u001b[1;32mif\u001b[0m \u001b[0mcheck\u001b[0m\u001b[1;33m:\u001b[0m\u001b[1;33m\u001b[0m\u001b[1;33m\u001b[0m\u001b[0m\n\u001b[1;32m--> 131\u001b[1;33m             \u001b[0mx\u001b[0m \u001b[1;33m=\u001b[0m \u001b[1;33m[\u001b[0m\u001b[0mparentbr\u001b[0m\u001b[1;33m(\u001b[0m\u001b[0mz\u001b[0m\u001b[1;33m)\u001b[0m \u001b[1;32mfor\u001b[0m \u001b[0mz\u001b[0m \u001b[1;32min\u001b[0m \u001b[0mx\u001b[0m\u001b[1;33m]\u001b[0m\u001b[1;33m\u001b[0m\u001b[1;33m\u001b[0m\u001b[0m\n\u001b[0m\u001b[0;32m    132\u001b[0m \u001b[1;33m\u001b[0m\u001b[0m\n\u001b[0;32m    133\u001b[0m         \u001b[1;31m# Remove this -- for p-adics this is terrible, since it kills any non exact zero.\u001b[0m\u001b[1;33m\u001b[0m\u001b[1;33m\u001b[0m\u001b[1;33m\u001b[0m\u001b[0m\n",
      "\u001b[1;32m/Users/alex/sage/local/lib/python3.7/site-packages/sage/rings/polynomial/padics/polynomial_padic_capped_relative_dense.py\u001b[0m in \u001b[0;36m<listcomp>\u001b[1;34m(.0)\u001b[0m\n\u001b[0;32m    129\u001b[0m             \u001b[0mx\u001b[0m \u001b[1;33m=\u001b[0m \u001b[1;33m[\u001b[0m\u001b[0mparentbr\u001b[0m\u001b[1;33m.\u001b[0m\u001b[0mzero\u001b[0m\u001b[1;33m(\u001b[0m\u001b[1;33m)\u001b[0m\u001b[1;33m]\u001b[0m\u001b[1;33m\u001b[0m\u001b[1;33m\u001b[0m\u001b[0m\n\u001b[0;32m    130\u001b[0m         \u001b[1;32mif\u001b[0m \u001b[0mcheck\u001b[0m\u001b[1;33m:\u001b[0m\u001b[1;33m\u001b[0m\u001b[1;33m\u001b[0m\u001b[0m\n\u001b[1;32m--> 131\u001b[1;33m             \u001b[0mx\u001b[0m \u001b[1;33m=\u001b[0m \u001b[1;33m[\u001b[0m\u001b[0mparentbr\u001b[0m\u001b[1;33m(\u001b[0m\u001b[0mz\u001b[0m\u001b[1;33m)\u001b[0m \u001b[1;32mfor\u001b[0m \u001b[0mz\u001b[0m \u001b[1;32min\u001b[0m \u001b[0mx\u001b[0m\u001b[1;33m]\u001b[0m\u001b[1;33m\u001b[0m\u001b[1;33m\u001b[0m\u001b[0m\n\u001b[0m\u001b[0;32m    132\u001b[0m \u001b[1;33m\u001b[0m\u001b[0m\n\u001b[0;32m    133\u001b[0m         \u001b[1;31m# Remove this -- for p-adics this is terrible, since it kills any non exact zero.\u001b[0m\u001b[1;33m\u001b[0m\u001b[1;33m\u001b[0m\u001b[1;33m\u001b[0m\u001b[0m\n",
      "\u001b[1;32m/Users/alex/sage/local/lib/python3.7/site-packages/sage/structure/parent.pyx\u001b[0m in \u001b[0;36msage.structure.parent.Parent.__call__ (build/cythonized/sage/structure/parent.c:9218)\u001b[1;34m()\u001b[0m\n\u001b[0;32m    898\u001b[0m         \u001b[1;32mif\u001b[0m \u001b[0mmor\u001b[0m \u001b[1;32mis\u001b[0m \u001b[1;32mnot\u001b[0m \u001b[1;32mNone\u001b[0m\u001b[1;33m:\u001b[0m\u001b[1;33m\u001b[0m\u001b[1;33m\u001b[0m\u001b[0m\n\u001b[0;32m    899\u001b[0m             \u001b[1;32mif\u001b[0m \u001b[0mno_extra_args\u001b[0m\u001b[1;33m:\u001b[0m\u001b[1;33m\u001b[0m\u001b[1;33m\u001b[0m\u001b[0m\n\u001b[1;32m--> 900\u001b[1;33m                 \u001b[1;32mreturn\u001b[0m \u001b[0mmor\u001b[0m\u001b[1;33m.\u001b[0m\u001b[0m_call_\u001b[0m\u001b[1;33m(\u001b[0m\u001b[0mx\u001b[0m\u001b[1;33m)\u001b[0m\u001b[1;33m\u001b[0m\u001b[1;33m\u001b[0m\u001b[0m\n\u001b[0m\u001b[0;32m    901\u001b[0m             \u001b[1;32melse\u001b[0m\u001b[1;33m:\u001b[0m\u001b[1;33m\u001b[0m\u001b[1;33m\u001b[0m\u001b[0m\n\u001b[0;32m    902\u001b[0m                 \u001b[1;32mreturn\u001b[0m \u001b[0mmor\u001b[0m\u001b[1;33m.\u001b[0m\u001b[0m_call_with_args\u001b[0m\u001b[1;33m(\u001b[0m\u001b[0mx\u001b[0m\u001b[1;33m,\u001b[0m \u001b[0margs\u001b[0m\u001b[1;33m,\u001b[0m \u001b[0mkwds\u001b[0m\u001b[1;33m)\u001b[0m\u001b[1;33m\u001b[0m\u001b[1;33m\u001b[0m\u001b[0m\n",
      "\u001b[1;32m/Users/alex/sage/local/lib/python3.7/site-packages/sage/structure/coerce_maps.pyx\u001b[0m in \u001b[0;36msage.structure.coerce_maps.DefaultConvertMap_unique._call_ (build/cythonized/sage/structure/coerce_maps.c:4556)\u001b[1;34m()\u001b[0m\n\u001b[0;32m    159\u001b[0m                 \u001b[0mprint\u001b[0m\u001b[1;33m(\u001b[0m\u001b[0mtype\u001b[0m\u001b[1;33m(\u001b[0m\u001b[0mC\u001b[0m\u001b[1;33m)\u001b[0m\u001b[1;33m,\u001b[0m \u001b[0mC\u001b[0m\u001b[1;33m)\u001b[0m\u001b[1;33m\u001b[0m\u001b[1;33m\u001b[0m\u001b[0m\n\u001b[0;32m    160\u001b[0m                 \u001b[0mprint\u001b[0m\u001b[1;33m(\u001b[0m\u001b[0mtype\u001b[0m\u001b[1;33m(\u001b[0m\u001b[0mC\u001b[0m\u001b[1;33m.\u001b[0m\u001b[0m_element_constructor\u001b[0m\u001b[1;33m)\u001b[0m\u001b[1;33m,\u001b[0m \u001b[0mC\u001b[0m\u001b[1;33m.\u001b[0m\u001b[0m_element_constructor\u001b[0m\u001b[1;33m)\u001b[0m\u001b[1;33m\u001b[0m\u001b[1;33m\u001b[0m\u001b[0m\n\u001b[1;32m--> 161\u001b[1;33m             \u001b[1;32mraise\u001b[0m\u001b[1;33m\u001b[0m\u001b[1;33m\u001b[0m\u001b[0m\n\u001b[0m\u001b[0;32m    162\u001b[0m \u001b[1;33m\u001b[0m\u001b[0m\n\u001b[0;32m    163\u001b[0m     \u001b[0mcpdef\u001b[0m \u001b[0mElement\u001b[0m \u001b[0m_call_with_args\u001b[0m\u001b[1;33m(\u001b[0m\u001b[0mself\u001b[0m\u001b[1;33m,\u001b[0m \u001b[0mx\u001b[0m\u001b[1;33m,\u001b[0m \u001b[0margs\u001b[0m\u001b[1;33m=\u001b[0m\u001b[1;33m(\u001b[0m\u001b[1;33m)\u001b[0m\u001b[1;33m,\u001b[0m \u001b[0mkwds\u001b[0m\u001b[1;33m=\u001b[0m\u001b[1;33m{\u001b[0m\u001b[1;33m}\u001b[0m\u001b[1;33m)\u001b[0m\u001b[1;33m:\u001b[0m\u001b[1;33m\u001b[0m\u001b[1;33m\u001b[0m\u001b[0m\n",
      "\u001b[1;32m/Users/alex/sage/local/lib/python3.7/site-packages/sage/structure/coerce_maps.pyx\u001b[0m in \u001b[0;36msage.structure.coerce_maps.DefaultConvertMap_unique._call_ (build/cythonized/sage/structure/coerce_maps.c:4448)\u001b[1;34m()\u001b[0m\n\u001b[0;32m    154\u001b[0m         \u001b[0mcdef\u001b[0m \u001b[0mParent\u001b[0m \u001b[0mC\u001b[0m \u001b[1;33m=\u001b[0m \u001b[0mself\u001b[0m\u001b[1;33m.\u001b[0m\u001b[0m_codomain\u001b[0m\u001b[1;33m\u001b[0m\u001b[1;33m\u001b[0m\u001b[0m\n\u001b[0;32m    155\u001b[0m         \u001b[1;32mtry\u001b[0m\u001b[1;33m:\u001b[0m\u001b[1;33m\u001b[0m\u001b[1;33m\u001b[0m\u001b[0m\n\u001b[1;32m--> 156\u001b[1;33m             \u001b[1;32mreturn\u001b[0m \u001b[0mC\u001b[0m\u001b[1;33m.\u001b[0m\u001b[0m_element_constructor\u001b[0m\u001b[1;33m(\u001b[0m\u001b[0mx\u001b[0m\u001b[1;33m)\u001b[0m\u001b[1;33m\u001b[0m\u001b[1;33m\u001b[0m\u001b[0m\n\u001b[0m\u001b[0;32m    157\u001b[0m         \u001b[1;32mexcept\u001b[0m \u001b[0mException\u001b[0m\u001b[1;33m:\u001b[0m\u001b[1;33m\u001b[0m\u001b[1;33m\u001b[0m\u001b[0m\n\u001b[0;32m    158\u001b[0m             \u001b[1;32mif\u001b[0m \u001b[0mprint_warnings\u001b[0m\u001b[1;33m:\u001b[0m\u001b[1;33m\u001b[0m\u001b[1;33m\u001b[0m\u001b[0m\n",
      "\u001b[1;32m/Users/alex/sage/local/lib/python3.7/site-packages/sage/categories/sets_cat.py\u001b[0m in \u001b[0;36m_element_constructor_from_element_class\u001b[1;34m(self, *args, **keywords)\u001b[0m\n\u001b[0;32m    992\u001b[0m                 \u001b[1;33m<\u001b[0m\u001b[1;32mclass\u001b[0m \u001b[1;34m'sage.categories.examples.sets_cat.PrimeNumbers_Inherits_with_category.element_class'\u001b[0m\u001b[1;33m>\u001b[0m\u001b[1;33m\u001b[0m\u001b[1;33m\u001b[0m\u001b[0m\n\u001b[0;32m    993\u001b[0m             \"\"\"\n\u001b[1;32m--> 994\u001b[1;33m             \u001b[1;32mreturn\u001b[0m \u001b[0mself\u001b[0m\u001b[1;33m.\u001b[0m\u001b[0melement_class\u001b[0m\u001b[1;33m(\u001b[0m\u001b[0mself\u001b[0m\u001b[1;33m,\u001b[0m \u001b[1;33m*\u001b[0m\u001b[0margs\u001b[0m\u001b[1;33m,\u001b[0m \u001b[1;33m**\u001b[0m\u001b[0mkeywords\u001b[0m\u001b[1;33m)\u001b[0m\u001b[1;33m\u001b[0m\u001b[1;33m\u001b[0m\u001b[0m\n\u001b[0m\u001b[0;32m    995\u001b[0m \u001b[1;33m\u001b[0m\u001b[0m\n\u001b[0;32m    996\u001b[0m         \u001b[1;32mdef\u001b[0m \u001b[0mis_parent_of\u001b[0m\u001b[1;33m(\u001b[0m\u001b[0mself\u001b[0m\u001b[1;33m,\u001b[0m \u001b[0melement\u001b[0m\u001b[1;33m)\u001b[0m\u001b[1;33m:\u001b[0m\u001b[1;33m\u001b[0m\u001b[1;33m\u001b[0m\u001b[0m\n",
      "\u001b[1;32m/Users/alex/sage/local/lib/python3.7/site-packages/sage/rings/padics/padic_template_element.pxi\u001b[0m in \u001b[0;36msage.rings.padics.padic_capped_relative_element.pAdicTemplateElement.__init__ (build/cythonized/sage/rings/padics/padic_capped_relative_element.c:8077)\u001b[1;34m()\u001b[0m\n\u001b[0;32m    124\u001b[0m         \u001b[1;32melif\u001b[0m \u001b[0misinstance\u001b[0m\u001b[1;33m(\u001b[0m\u001b[0mx\u001b[0m\u001b[1;33m,\u001b[0m \u001b[0mpAdicGenericElement\u001b[0m\u001b[1;33m)\u001b[0m\u001b[1;33m:\u001b[0m\u001b[1;33m\u001b[0m\u001b[1;33m\u001b[0m\u001b[0m\n\u001b[0;32m    125\u001b[0m             \u001b[1;32mif\u001b[0m \u001b[1;32mnot\u001b[0m \u001b[1;33m(\u001b[0m\u001b[1;33m(\u001b[0m\u001b[1;33m<\u001b[0m\u001b[0mpAdicGenericElement\u001b[0m\u001b[1;33m>\u001b[0m\u001b[0mx\u001b[0m\u001b[1;33m)\u001b[0m\u001b[1;33m.\u001b[0m\u001b[0m_is_base_elt\u001b[0m\u001b[1;33m(\u001b[0m\u001b[0mself\u001b[0m\u001b[1;33m.\u001b[0m\u001b[0mprime_pow\u001b[0m\u001b[1;33m.\u001b[0m\u001b[0mprime\u001b[0m\u001b[1;33m)\u001b[0m \u001b[1;32mor\u001b[0m \u001b[0mx\u001b[0m\u001b[1;33m.\u001b[0m\u001b[0mparent\u001b[0m\u001b[1;33m(\u001b[0m\u001b[1;33m)\u001b[0m \u001b[1;32mis\u001b[0m \u001b[0mself\u001b[0m\u001b[1;33m.\u001b[0m\u001b[0mparent\u001b[0m\u001b[1;33m(\u001b[0m\u001b[1;33m)\u001b[0m\u001b[1;33m)\u001b[0m\u001b[1;33m:\u001b[0m\u001b[1;33m\u001b[0m\u001b[1;33m\u001b[0m\u001b[0m\n\u001b[1;32m--> 126\u001b[1;33m                 \u001b[1;32mif\u001b[0m \u001b[0mx\u001b[0m\u001b[1;33m.\u001b[0m\u001b[0mparent\u001b[0m\u001b[1;33m(\u001b[0m\u001b[1;33m)\u001b[0m\u001b[1;33m.\u001b[0m\u001b[0mmodulus\u001b[0m\u001b[1;33m(\u001b[0m\u001b[1;33m)\u001b[0m\u001b[1;33m.\u001b[0m\u001b[0mchange_ring\u001b[0m\u001b[1;33m(\u001b[0m\u001b[0mself\u001b[0m\u001b[1;33m.\u001b[0m\u001b[0mbase_ring\u001b[0m\u001b[1;33m(\u001b[0m\u001b[1;33m)\u001b[0m\u001b[1;33m)\u001b[0m \u001b[1;33m==\u001b[0m \u001b[0mself\u001b[0m\u001b[1;33m.\u001b[0m\u001b[0mparent\u001b[0m\u001b[1;33m(\u001b[0m\u001b[1;33m)\u001b[0m\u001b[1;33m.\u001b[0m\u001b[0mmodulus\u001b[0m\u001b[1;33m(\u001b[0m\u001b[1;33m)\u001b[0m\u001b[1;33m:\u001b[0m\u001b[1;33m\u001b[0m\u001b[1;33m\u001b[0m\u001b[0m\n\u001b[0m\u001b[0;32m    127\u001b[0m                     \u001b[0mx\u001b[0m \u001b[1;33m=\u001b[0m \u001b[0mx\u001b[0m\u001b[1;33m.\u001b[0m\u001b[0mpolynomial\u001b[0m\u001b[1;33m(\u001b[0m\u001b[1;33m)\u001b[0m\u001b[1;33m.\u001b[0m\u001b[0mchange_ring\u001b[0m\u001b[1;33m(\u001b[0m\u001b[0mself\u001b[0m\u001b[1;33m.\u001b[0m\u001b[0mbase_ring\u001b[0m\u001b[1;33m(\u001b[0m\u001b[1;33m)\u001b[0m\u001b[1;33m)\u001b[0m\u001b[1;33m.\u001b[0m\u001b[0mlist\u001b[0m\u001b[1;33m(\u001b[0m\u001b[1;33m)\u001b[0m\u001b[1;33m\u001b[0m\u001b[1;33m\u001b[0m\u001b[0m\n\u001b[0;32m    128\u001b[0m                 \u001b[1;32melse\u001b[0m\u001b[1;33m:\u001b[0m\u001b[1;33m\u001b[0m\u001b[1;33m\u001b[0m\u001b[0m\n",
      "... last 12 frames repeated, from the frame below ...\n",
      "\u001b[1;32m/Users/alex/sage/local/lib/python3.7/site-packages/sage/rings/polynomial/polynomial_element.pyx\u001b[0m in \u001b[0;36msage.rings.polynomial.polynomial_element.Polynomial.change_ring (build/cythonized/sage/rings/polynomial/polynomial_element.c:31320)\u001b[1;34m()\u001b[0m\n\u001b[0;32m   3269\u001b[0m             \u001b[1;32mreturn\u001b[0m \u001b[0mself\u001b[0m\u001b[1;33m.\u001b[0m\u001b[0mmap_coefficients\u001b[0m\u001b[1;33m(\u001b[0m\u001b[0mR\u001b[0m\u001b[1;33m)\u001b[0m\u001b[1;33m\u001b[0m\u001b[1;33m\u001b[0m\u001b[0m\n\u001b[0;32m   3270\u001b[0m         \u001b[1;32melse\u001b[0m\u001b[1;33m:\u001b[0m\u001b[1;33m\u001b[0m\u001b[1;33m\u001b[0m\u001b[0m\n\u001b[1;32m-> 3271\u001b[1;33m             \u001b[1;32mreturn\u001b[0m \u001b[0mself\u001b[0m\u001b[1;33m.\u001b[0m\u001b[0m_parent\u001b[0m\u001b[1;33m.\u001b[0m\u001b[0mchange_ring\u001b[0m\u001b[1;33m(\u001b[0m\u001b[0mR\u001b[0m\u001b[1;33m)\u001b[0m\u001b[1;33m(\u001b[0m\u001b[0mself\u001b[0m\u001b[1;33m.\u001b[0m\u001b[0mlist\u001b[0m\u001b[1;33m(\u001b[0m\u001b[0mcopy\u001b[0m\u001b[1;33m=\u001b[0m\u001b[1;32mFalse\u001b[0m\u001b[1;33m)\u001b[0m\u001b[1;33m)\u001b[0m\u001b[1;33m\u001b[0m\u001b[1;33m\u001b[0m\u001b[0m\n\u001b[0m\u001b[0;32m   3272\u001b[0m \u001b[1;33m\u001b[0m\u001b[0m\n\u001b[0;32m   3273\u001b[0m     \u001b[0mcpdef\u001b[0m \u001b[0mdict\u001b[0m \u001b[0m_mpoly_dict_recursive\u001b[0m\u001b[1;33m(\u001b[0m\u001b[0mself\u001b[0m\u001b[1;33m,\u001b[0m \u001b[0mtuple\u001b[0m \u001b[0mvariables\u001b[0m\u001b[1;33m=\u001b[0m\u001b[1;32mNone\u001b[0m\u001b[1;33m,\u001b[0m \u001b[0mbase_ring\u001b[0m\u001b[1;33m=\u001b[0m\u001b[1;32mNone\u001b[0m\u001b[1;33m)\u001b[0m\u001b[1;33m:\u001b[0m\u001b[1;33m\u001b[0m\u001b[1;33m\u001b[0m\u001b[0m\n",
      "\u001b[1;31mRecursionError\u001b[0m: maximum recursion depth exceeded while calling a Python object"
     ]
    }
   ],
   "source": [
    "Dpt = Dp(p*t).truncate().change_ring(Zp(p))\n",
    "print(\n",
    "[r for r,e in Dpt.roots()])\n",
    "Dpt.newton_polygon().plot()"
   ]
  },
  {
   "cell_type": "code",
   "execution_count": 105,
   "metadata": {},
   "outputs": [
    {
     "name": "stdout",
     "output_type": "stream",
     "text": [
      "roots [2 + 4*5 + 4*5^2 + 4*5^3 + 4*5^4 + 4*5^5 + 4*5^6 + 4*5^7 + 4*5^8 + 4*5^9 + 4*5^10 + 4*5^11 + 4*5^12 + 4*5^13 + 4*5^14 + 4*5^15 + 4*5^16 + 4*5^17 + 4*5^18 + 4*5^19 + 4*5^20 + 4*5^21 + 4*5^22 + 4*5^23 + 4*5^24 + 4*5^25 + 4*5^26 + 4*5^27 + 4*5^28 + 4*5^29 + 4*5^30 + 5^33 + 5^34 + 3*5^35 + 5^36 + 2*5^37 + 3*5^38 + 3*5^39 + 5^40 + 4*5^41 + 3*5^42 + 4*5^43 + O(5^44), 2 + 2*5^31 + 2*5^32 + 4*5^33 + 2*5^34 + 4*5^36 + 3*5^37 + 2*5^38 + 5^39 + 2*5^40 + 3*5^41 + 5^43 + O(5^44), 2*5^-1 + 1 + 5^2 + 5^5 + 5^6 + 5^8 + 5^9 + 3*5^11 + 3*5^12 + 4*5^13 + 4*5^14 + 2*5^15 + 4*5^16 + 3*5^17 + 4*5^18 + 2*5^19 + 3*5^20 + 4*5^22 + 3*5^23 + 3*5^24 + 3*5^25 + 4*5^26 + 4*5^27 + 2*5^30 + 3*5^31 + 5^32 + 4*5^36 + 4*5^38 + 5^39 + 3*5^40 + O(5^41)]\n",
      "roots [3 + 2*5^31 + 3*5^32 + 4*5^34 + 3*5^35 + 2*5^36 + 5^37 + 5^39 + 3*5^40 + 4*5^41 + 2*5^42 + O(5^43), 3 + 5^2 + 2*5^3 + 5^4 + 3*5^5 + 5^6 + 5^7 + 5^9 + 2*5^10 + 3*5^11 + 2*5^12 + 3*5^13 + 3*5^14 + 4*5^15 + 5^16 + 4*5^17 + 3*5^18 + 2*5^22 + 4*5^24 + 4*5^25 + 4*5^27 + 3*5^28 + 5^30 + 2*5^32 + 5^33 + 4*5^34 + 5^35 + 3*5^36 + 4*5^38 + 4*5^40 + 4*5^41 + 2*5^42 + O(5^43)]\n",
      "roots [4 + 4*5 + 4*5^2 + 4*5^3 + 4*5^4 + 4*5^5 + 4*5^6 + 4*5^7 + 4*5^8 + 4*5^9 + 4*5^10 + 4*5^11 + 4*5^12 + 4*5^13 + 4*5^14 + 4*5^15 + 4*5^16 + 4*5^17 + 4*5^18 + 4*5^19 + 4*5^20 + 4*5^21 + 4*5^22 + 4*5^23 + 4*5^24 + 4*5^25 + 4*5^26 + 4*5^27 + 4*5^28 + 4*5^29 + 4*5^30 + 4*5^31 + 4*5^32 + 4*5^33 + 4*5^34 + 4*5^35 + 4*5^36 + 4*5^37 + 4*5^38 + 4*5^39 + 4*5^40 + 4*5^41 + 4*5^42 + 4*5^43 + 4*5^44 + 4*5^45 + 4*5^46 + 4*5^47 + 4*5^48 + 4*5^49 + 4*5^50 + 4*5^51 + 4*5^52 + 4*5^53 + 4*5^54 + 4*5^55 + 4*5^56 + O(5^57), 4 + 5 + 5^31 + 3*5^32 + 3*5^33 + 5^34 + 2*5^35 + 5^37 + 5^39 + 3*5^40 + 5^41 + 2*5^42 + 5^43 + O(5^44)]\n",
      "[2 + 4*5 + 4*5^2 + 4*5^3 + 4*5^4 + 4*5^5 + 4*5^6 + 4*5^7 + 4*5^8 + 4*5^9 + 4*5^10 + 4*5^11 + 4*5^12 + 4*5^13 + 4*5^14 + 4*5^15 + 4*5^16 + 4*5^17 + 4*5^18 + 4*5^19 + 4*5^20 + 4*5^21 + 4*5^22 + 4*5^23 + 4*5^24 + 4*5^25 + 4*5^26 + 4*5^27 + 4*5^28 + 4*5^29 + 4*5^30 + 5^33 + 5^34 + 3*5^35 + 5^36 + 2*5^37 + 3*5^38 + 3*5^39 + 5^40 + 4*5^41 + 3*5^42 + 4*5^43 + O(5^44), 2 + 2*5^31 + 2*5^32 + 4*5^33 + 2*5^34 + 4*5^36 + 3*5^37 + 2*5^38 + 5^39 + 2*5^40 + 3*5^41 + 5^43 + O(5^44), 2*5^-1 + 1 + 5^2 + 5^5 + 5^6 + 5^8 + 5^9 + 3*5^11 + 3*5^12 + 4*5^13 + 4*5^14 + 2*5^15 + 4*5^16 + 3*5^17 + 4*5^18 + 2*5^19 + 3*5^20 + 4*5^22 + 3*5^23 + 3*5^24 + 3*5^25 + 4*5^26 + 4*5^27 + 2*5^30 + 3*5^31 + 5^32 + 4*5^36 + 4*5^38 + 5^39 + 3*5^40 + O(5^41), 3 + 2*5^31 + 3*5^32 + 4*5^34 + 3*5^35 + 2*5^36 + 5^37 + 5^39 + 3*5^40 + 4*5^41 + 2*5^42 + O(5^43), 3 + 5^2 + 2*5^3 + 5^4 + 3*5^5 + 5^6 + 5^7 + 5^9 + 2*5^10 + 3*5^11 + 2*5^12 + 3*5^13 + 3*5^14 + 4*5^15 + 5^16 + 4*5^17 + 3*5^18 + 2*5^22 + 4*5^24 + 4*5^25 + 4*5^27 + 3*5^28 + 5^30 + 2*5^32 + 5^33 + 4*5^34 + 5^35 + 3*5^36 + 4*5^38 + 4*5^40 + 4*5^41 + 2*5^42 + O(5^43), 4 + 4*5 + 4*5^2 + 4*5^3 + 4*5^4 + 4*5^5 + 4*5^6 + 4*5^7 + 4*5^8 + 4*5^9 + 4*5^10 + 4*5^11 + 4*5^12 + 4*5^13 + 4*5^14 + 4*5^15 + 4*5^16 + 4*5^17 + 4*5^18 + 4*5^19 + 4*5^20 + 4*5^21 + 4*5^22 + 4*5^23 + 4*5^24 + 4*5^25 + 4*5^26 + 4*5^27 + 4*5^28 + 4*5^29 + 4*5^30 + 4*5^31 + 4*5^32 + 4*5^33 + 4*5^34 + 4*5^35 + 4*5^36 + 4*5^37 + 4*5^38 + 4*5^39 + 4*5^40 + 4*5^41 + 4*5^42 + 4*5^43 + 4*5^44 + 4*5^45 + 4*5^46 + 4*5^47 + 4*5^48 + 4*5^49 + 4*5^50 + 4*5^51 + 4*5^52 + 4*5^53 + 4*5^54 + 4*5^55 + 4*5^56 + O(5^57), 4 + 5 + 5^31 + 3*5^32 + 3*5^33 + 5^34 + 2*5^35 + 5^37 + 5^39 + 3*5^40 + 5^41 + 2*5^42 + 5^43 + O(5^44)]\n",
      "\n",
      "\n",
      "root:  2 + 4*5 + 4*5^2 + 4*5^3 + 4*5^4 + 4*5^5 + 4*5^6 + 4*5^7 + 4*5^8 + 4*5^9 + 4*5^10 + 4*5^11 + 4*5^12 + 4*5^13 + 4*5^14 + 4*5^15 + 4*5^16 + 4*5^17 + 4*5^18 + 4*5^19 + 4*5^20 + 4*5^21 + 4*5^22 + 4*5^23 + 4*5^24 + 4*5^25 + 4*5^26 + 4*5^27 + 4*5^28 + 4*5^29 + 4*5^30 + 5^33 + 5^34 + 3*5^35 + 5^36 + 2*5^37 + 3*5^38 + 3*5^39 + 5^40 + 4*5^41 + 3*5^42 + 4*5^43 + O(5^44)\n",
      "x + 3\n",
      "root:  2 + 2*5^31 + 2*5^32 + 4*5^33 + 2*5^34 + 4*5^36 + 3*5^37 + 2*5^38 + 5^39 + 2*5^40 + 3*5^41 + 5^43 + O(5^44)\n",
      "x - 2\n",
      "root:  2*5^-1 + 1 + 5^2 + 5^5 + 5^6 + 5^8 + 5^9 + 3*5^11 + 3*5^12 + 4*5^13 + 4*5^14 + 2*5^15 + 4*5^16 + 3*5^17 + 4*5^18 + 2*5^19 + 3*5^20 + 4*5^22 + 3*5^23 + 3*5^24 + 3*5^25 + 4*5^26 + 4*5^27 + 2*5^30 + 3*5^31 + 5^32 + 4*5^36 + 4*5^38 + 5^39 + 3*5^40 + O(5^41)\n",
      "221508280*x^2 + 92431043*x - 333096614\n",
      "root:  3 + 2*5^31 + 3*5^32 + 4*5^34 + 3*5^35 + 2*5^36 + 5^37 + 5^39 + 3*5^40 + 4*5^41 + 2*5^42 + O(5^43)\n",
      "x - 3\n",
      "root:  3 + 5^2 + 2*5^3 + 5^4 + 3*5^5 + 5^6 + 5^7 + 5^9 + 2*5^10 + 3*5^11 + 2*5^12 + 3*5^13 + 3*5^14 + 4*5^15 + 5^16 + 4*5^17 + 3*5^18 + 2*5^22 + 4*5^24 + 4*5^25 + 4*5^27 + 3*5^28 + 5^30 + 2*5^32 + 5^33 + 4*5^34 + 5^35 + 3*5^36 + 4*5^38 + 4*5^40 + 4*5^41 + 2*5^42 + O(5^43)\n",
      "3853046759*x^2 + 3549748722*x - 4392908522\n",
      "root:  4 + 4*5 + 4*5^2 + 4*5^3 + 4*5^4 + 4*5^5 + 4*5^6 + 4*5^7 + 4*5^8 + 4*5^9 + 4*5^10 + 4*5^11 + 4*5^12 + 4*5^13 + 4*5^14 + 4*5^15 + 4*5^16 + 4*5^17 + 4*5^18 + 4*5^19 + 4*5^20 + 4*5^21 + 4*5^22 + 4*5^23 + 4*5^24 + 4*5^25 + 4*5^26 + 4*5^27 + 4*5^28 + 4*5^29 + 4*5^30 + 4*5^31 + 4*5^32 + 4*5^33 + 4*5^34 + 4*5^35 + 4*5^36 + 4*5^37 + 4*5^38 + 4*5^39 + 4*5^40 + 4*5^41 + 4*5^42 + 4*5^43 + 4*5^44 + 4*5^45 + 4*5^46 + 4*5^47 + 4*5^48 + 4*5^49 + 4*5^50 + 4*5^51 + 4*5^52 + 4*5^53 + 4*5^54 + 4*5^55 + 4*5^56 + O(5^57)\n",
      "x + 1\n",
      "root:  4 + 5 + 5^31 + 3*5^32 + 3*5^33 + 5^34 + 2*5^35 + 5^37 + 5^39 + 3*5^40 + 5^41 + 2*5^42 + 5^43 + O(5^44)\n",
      "x - 9\n"
     ]
    }
   ],
   "source": [
    "def Liz(n, z0, prec = 30, p_branch = 0):\n",
    "    assert n >= 1\n",
    "    # use local parameter t = x - z0, so x = t + z0\n",
    "    K = z0.parent()\n",
    "    R.<t> = PowerSeriesRing(K, prec + 3)\n",
    "    F = sum(reduce(lambda x, y : (x * y).integral(),\n",
    "                # the sequence of integrands first to be integrated to last\n",
    "                [1 / (t+z0) if j != 0 else 1/(1 - t - z0) for j in range(n - i, n)]\n",
    "                , R(1)) # such fancy, wow\n",
    "            * (z0.polylog(n - i, p_branch = p_branch) if n != i else K(1))\n",
    "            for i in range(n + 1))\n",
    "    \n",
    "    return F\n",
    "\n",
    "p = 5\n",
    "#F.<a,b> = FreeMonoid()\n",
    "K = Qp(p, prec = 50)\n",
    "RR.<logz,logone_z, Li2z> = PolynomialRing(K)\n",
    "\n",
    "def allroots(f, p, p_branch = 0): # find all the roots of the dilog bit\n",
    "    K = f.base_ring().base_ring()\n",
    "    allro = []\n",
    "    for z0 in K.teichmuller_system():#[K(-1)]:#[K(0)] +  + [K(1/p)]: # reps for all disks\n",
    "        try:\n",
    "            if z0 == 1:\n",
    "                continue\n",
    "                z0 = K(1 + p)\n",
    "            #print(\"z0\",z0)\n",
    "            Dz0 = f.subs({logz :-Liz(1, 1 + z0),logone_z :-Liz(1, z0), Li2z : Liz(2, z0)})\n",
    "            #Dz0 = K(2).log()*K(3).log()*Liz(2, z0) - K(3).polylog(2)*Liz(1, 1 + z0)*Liz(1, z0) # function based at z0\n",
    "            #Dz00=[-K(2).log()*K(3).log()*Liz(2, z0), - (1/2*(K(3).polylog(2) - K(-2).polylog(2)))*Liz(1, z0)^2, +  K(3).polylog(2)*Liz(1, 1 + z0)*Liz(1, z0)] # function based at z0\n",
    "            #print(sum([xx(K(5/2)) for xx in Dz00]))\n",
    "            #print(Dz0(K(5/2)))\n",
    "            #print(\"aa\",Liz(1, z0))\n",
    "            \n",
    "            #224\n",
    "            #Dz0 = -K(2).log(p_branch)*K(3).log(p_branch)*Liz(2, z0) - (1/2*(K(3).polylog(2) - K(-2).polylog(2)))*Liz(1, z0)^2 +  K(3).polylog(2)*Liz(1, 1 + z0)*Liz(1, z0) # function based at z0\n",
    "            \n",
    "            #Dz0 = Liz(1, z0) # log(1-z)  up to sign...\n",
    "            #222Dz0 = K(2).log()*K(3).log()*Liz(2, z0) - K(3).polylog(2)*Liz(1, 1 + z0)*Liz(1, z0) # function based at z0\n",
    "            #223Dz0 = K(2).log()*K(3).log()*Liz(2, z0) - K(-2).polylog(2)*Liz(1, 1 + z0)*Liz(1, z0) # function based at z0\n",
    "            #Dz0 = Liz(1, 1 + z0)-Liz(1, z0) # function based at z0\n",
    "            #Dz0 = Liz(1, 1 + z0)^2/2 - Liz(2, z0) # function based at z0\n",
    "            #print(Dz0 - sum(Dz00))\n",
    "            #print(Dz0(K(5/2)))\n",
    "            \n",
    "            # log(z) up to sign\n",
    "            #Dz0 = Liz(1, 1 + z0)\n",
    "            \n",
    "            t = Dz0.parent().gen()\n",
    "            ro = Dz0(p*t).truncate().roots()\n",
    "            #print(ro)\n",
    "            #return Dz0(p*t).truncate(20).newton_polygon()\n",
    "            #print(Dz0(p*t).truncate()(1/2))\n",
    "            #print(ro)\n",
    "            allro += [z0 + p* r for (r,i) in ro]\n",
    "            print(\"roots\", [z0 + p*r for (r,i) in ro])\n",
    "        except (ArithmeticError, ValueError) as e:\n",
    "            print(\"Error!\",z0,e)\n",
    "    return allro\n",
    "\n",
    "z0 = K(-1-p)\n",
    "#D = Liz(2,K(-1))\n",
    "#D = 2*Liz(2, z0) + Liz(1, 1 + z0)*Liz(1, z0) \n",
    "p_branch = K(0)\n",
    "#allr = allroots(-K(2).log(p_branch)*K(3).log(p_branch)*Li2z - (1/2*(K(3).polylog(2) - K(-2).polylog(2)))*logone_z^2 +  K(3).polylog(2)*logz*logone_z,p)\n",
    "#allr = allroots(logz, p)\n",
    "#allr = allroots(Li2z, p)\n",
    "#allr = allroots(K(1-3).log(p_branch)*K(3).log(p_branch)*Li2z - K(3).polylog(2)*logz*logone_z,p)\n",
    "# 2,3 => \n",
    "allr = allroots(K(1-3).log(p_branch)*K(3).log(p_branch)*Li2z - K(3).polylog(2)*logz*logone_z,p)\n",
    "#5,7 => allr = allroots(K(5).log(p_branch)*K(7).log(p_branch)*Li2z + (K(2/7).polylog(2) -\n",
    "#                      1/2*K(-4).polylog(2)+1/3* K(8).polylog(2) + 1/2*K(7).log(p_branch)^2 )*logz*logone_z,p)\n",
    "#q = 37\n",
    "#a211 = (-2*(K(-4).polylog(2)) + K(16/11).polylog(2) - K(-10).polylog(2) - K(5).log()*K(11).log() + (K(11).log())^2/2)/5\n",
    "#allr = allroots(-K(2).log(p_branch)*K(11).log(p_branch)*Li2z - a211*logz*logone_z,p)\n",
    "#allr = allroots(-Li2z - logz^2/2,p)\n",
    "#allr = allroots(K(1+q).log(p_branch)*K(q).log(p_branch)*Li2z - K(-q).polylog(2)*logz*logone_z,p)\n",
    "print(allr)\n",
    "\n",
    "print(\"\\n\")\n",
    "for r in allr:\n",
    "    print(\"root: \",r)\n",
    "    print(algdep(r, 2))\n",
    "#allr.plot()"
   ]
  },
  {
   "cell_type": "code",
   "execution_count": 131,
   "metadata": {},
   "outputs": [
    {
     "data": {
      "text/plain": [
       "390625*x^8 - 1171875*x^7 + 390625*x^6 + 1171875*x^5 + 390625*x^2 + 390625*x + 1485244"
      ]
     },
     "execution_count": 131,
     "metadata": {},
     "output_type": "execute_result"
    }
   ],
   "source": [
    "algdep( 2*5^-1 + 1 + 5^2 + 5^5 + 5^6 + 5^8 + 5^9 + 3*5^11 + 3*5^12 + 4*5^13 + 4*5^14 + 2*5^15 + 4*5^16 + 3*5^17 + 4*5^18 + 2*5^19 + 3*5^20 + 4*5^22 + 3*5^23 + 3*5^24 + 3*5^25 + 4*5^26 + 4*5^27 + 2*5^30 +O(5^30), 9)"
   ]
  },
  {
   "cell_type": "code",
   "execution_count": 24,
   "metadata": {},
   "outputs": [
    {
     "data": {
      "text/plain": [
       "False"
      ]
     },
     "execution_count": 24,
     "metadata": {},
     "output_type": "execute_result"
    }
   ],
   "source": [
    "1/3* K(8).polylog(2)  == -K(2).polylog(2)"
   ]
  },
  {
   "cell_type": "code",
   "execution_count": 103,
   "metadata": {},
   "outputs": [
    {
     "data": {
      "text/plain": [
       "801167*x^2 - 1186053*x - 177695"
      ]
     },
     "execution_count": 103,
     "metadata": {},
     "output_type": "execute_result"
    }
   ],
   "source": [
    "algdep( 4 + 4*5 + 2*5^2 + 2*5^3 + 5^4 + 2*5^5 + 4*5^6 + 3*5^7 + 3*5^8 + 4*5^9 + 3*5^10 + 5^11 + 5^12 + 3*5^13 + 5^14 + 5^16 + 3*5^17 + 5^18 + 3*5^19 + 5^20 + 3*5^22 + 2*5^23 + 5^24 + 4*5^26 + 4*5^27 + 3*5^28 + O(5^28),2)"
   ]
  },
  {
   "cell_type": "code",
   "execution_count": 104,
   "metadata": {},
   "outputs": [
    {
     "data": {
      "text/plain": [
       "True"
      ]
     },
     "execution_count": 104,
     "metadata": {},
     "output_type": "execute_result"
    }
   ],
   "source": [
    "K(-3).polylog(2)/2 == K(3).polylog(2)"
   ]
  },
  {
   "cell_type": "code",
   "execution_count": 2,
   "metadata": {},
   "outputs": [
    {
     "name": "stdout",
     "output_type": "stream",
     "text": [
      "roots []\n",
      "roots []\n",
      "roots [4 + 2*5 + 5^3 + 2*5^4 + 3*5^5 + 2*5^7 + 4*5^8 + 5^9 + 4*5^11 + 4*5^12 + 4*5^13 + 4*5^14 + 4*5^15 + 2*5^16 + 2*5^17 + 2*5^18 + 2*5^19 + 5^20 + 5^21 + 4*5^22 + 2*5^23 + 4*5^24 + 4*5^25 + 2*5^26 + 3*5^27 + 3*5^28 + 2*5^29 + O(5^30), 4 + 4*5 + 4*5^2 + 4*5^3 + 4*5^4 + 4*5^5 + 4*5^6 + 4*5^7 + 4*5^8 + 4*5^9 + 4*5^10 + 4*5^11 + 4*5^12 + 4*5^13 + 4*5^14 + 4*5^15 + 4*5^16 + 4*5^17 + 4*5^18 + 4*5^19 + 4*5^20 + 4*5^21 + 4*5^22 + 4*5^23 + 4*5^24 + 4*5^25 + 4*5^26 + 4*5^27 + 4*5^28 + 4*5^29 + O(5^30)]\n"
     ]
    },
    {
     "data": {
      "text/plain": [
       "[4 + 2*5 + 5^3 + 2*5^4 + 3*5^5 + 2*5^7 + 4*5^8 + 5^9 + 4*5^11 + 4*5^12 + 4*5^13 + 4*5^14 + 4*5^15 + 2*5^16 + 2*5^17 + 2*5^18 + 2*5^19 + 5^20 + 5^21 + 4*5^22 + 2*5^23 + 4*5^24 + 4*5^25 + 2*5^26 + 3*5^27 + 3*5^28 + 2*5^29 + O(5^30),\n",
       " 4 + 4*5 + 4*5^2 + 4*5^3 + 4*5^4 + 4*5^5 + 4*5^6 + 4*5^7 + 4*5^8 + 4*5^9 + 4*5^10 + 4*5^11 + 4*5^12 + 4*5^13 + 4*5^14 + 4*5^15 + 4*5^16 + 4*5^17 + 4*5^18 + 4*5^19 + 4*5^20 + 4*5^21 + 4*5^22 + 4*5^23 + 4*5^24 + 4*5^25 + 4*5^26 + 4*5^27 + 4*5^28 + 4*5^29 + O(5^30)]"
      ]
     },
     "execution_count": 2,
     "metadata": {},
     "output_type": "execute_result"
    }
   ],
   "source": [
    "allroots(Li2z,p)"
   ]
  },
  {
   "cell_type": "code",
   "execution_count": 26,
   "metadata": {},
   "outputs": [],
   "source": [
    "allroots(Li2z - logz*logone_z,p).plot??"
   ]
  },
  {
   "cell_type": "code",
   "execution_count": 30,
   "metadata": {},
   "outputs": [
    {
     "name": "stdout",
     "output_type": "stream",
     "text": [
      "z0 2 + 5 + 2*5^2 + 5^3 + 3*5^4 + 4*5^5 + 2*5^6 + 3*5^7 + 3*5^9 + 2*5^10 + 2*5^11 + 4*5^13 + 5^14 + 3*5^15 + 2*5^16 + 4*5^17 + 4*5^19 + 3*5^20 + 4*5^21 + 4*5^23 + 5^24 + 2*5^25 + 4*5^26 + 5^27 + O(5^28)\n",
      "z0 2 + 5 + 2*5^2 + 5^3 + 3*5^4 + 4*5^5 + 2*5^6 + 3*5^7 + 3*5^9 + 2*5^10 + 2*5^11 + 4*5^13 + 5^14 + 3*5^15 + 2*5^16 + 4*5^17 + 4*5^19 + 3*5^20 + 4*5^21 + 4*5^23 + 5^24 + 2*5^25 + 4*5^26 + 5^27 + O(5^28)\n"
     ]
    },
    {
     "data": {
      "image/png": "[encoded data removed]",
      "text/plain": [
       "Graphics object consisting of 4 graphics primitives"
      ]
     },
     "execution_count": 30,
     "metadata": {},
     "output_type": "execute_result"
    }
   ],
   "source": [
    "allroots(p*Li2z - logz*logone_z,p).plot() +  points(allroots(p*Li2z - logz*logone_z,p).vertices())"
   ]
  },
  {
   "cell_type": "code",
   "execution_count": null,
   "metadata": {},
   "outputs": [],
   "source": [
    "allroots(p*Li2z - logz*logone_z,p).plot"
   ]
  },
  {
   "cell_type": "code",
   "execution_count": 24,
   "metadata": {},
   "outputs": [
    {
     "name": "stdout",
     "output_type": "stream",
     "text": [
      "z0 2 + 5 + 2*5^2 + 5^3 + 3*5^4 + 4*5^5 + 2*5^6 + 3*5^7 + 3*5^9 + 2*5^10 + 2*5^11 + 4*5^13 + 5^14 + 3*5^15 + 2*5^16 + 4*5^17 + 4*5^19 + 3*5^20 + 4*5^21 + 4*5^23 + 5^24 + 2*5^25 + 4*5^26 + 5^27 + O(5^28)\n"
     ]
    },
    {
     "data": {
      "image/png": "[encoded data removed]",
      "text/plain": [
       "Graphics object consisting of 3 graphics primitives"
      ]
     },
     "execution_count": 24,
     "metadata": {},
     "output_type": "execute_result"
    }
   ],
   "source": [
    "allroots(Li2z,p).plot()"
   ]
  },
  {
   "cell_type": "code",
   "execution_count": null,
   "metadata": {},
   "outputs": [],
   "source": [
    "p = 5\n",
    "allr = allroots(p)\n",
    "print(len(allr))  \n",
    "[r for r in allr]"
   ]
  },
  {
   "cell_type": "code",
   "execution_count": null,
   "metadata": {},
   "outputs": [],
   "source": [
    "p = 11\n",
    "allr = allroots(p)\n",
    "print(len(allr))  \n",
    "for r  in allr:\n",
    "    print(r)\n",
    "    print(algdep(r,2))\n",
    "    #try:\n",
    "    #    print(r.rational_reconstruction())\n",
    "    #except ArithmeticError: # can't reconstruct\n",
    "    #    print(r)\n",
    "    #    print(algdep(r,2))"
   ]
  },
  {
   "cell_type": "code",
   "execution_count": null,
   "metadata": {},
   "outputs": [],
   "source": [
    "show(D.truncate(4))"
   ]
  },
  {
   "cell_type": "code",
   "execution_count": null,
   "metadata": {},
   "outputs": [],
   "source": [
    "FF = D\n",
    "t = FF.parent().gen()\n",
    "print(allr)\n",
    "allr= FF(p*t).truncate().change_ring(Zp(p)).roots()\n",
    "[algdep(r,2) for r,e in allr]"
   ]
  },
  {
   "cell_type": "code",
   "execution_count": null,
   "metadata": {},
   "outputs": [],
   "source": [
    "poo = FF(p*t).truncate().change_ring(Zp(p))\n",
    "[poo.valuation_of_coefficient(i) for i in range(20)]"
   ]
  },
  {
   "cell_type": "code",
   "execution_count": null,
   "metadata": {},
   "outputs": [],
   "source": [
    "Np = poo.parent()(poo).newton_polygon()\n",
    "Np"
   ]
  },
  {
   "cell_type": "code",
   "execution_count": null,
   "metadata": {},
   "outputs": [],
   "source": [
    "Np.plot()"
   ]
  },
  {
   "cell_type": "code",
   "execution_count": null,
   "metadata": {},
   "outputs": [],
   "source": [
    "show(FF(2 - K(-1)))\n",
    "show(FF(1/2 - K(-1)))\n",
    "show(FF(-1 - K(-1)))"
   ]
  },
  {
   "cell_type": "code",
   "execution_count": 5,
   "metadata": {},
   "outputs": [],
   "source": [
    "def testliz(N = 100):\n",
    "    for i in range(N):\n",
    "        # pick random prime\n",
    "        p = random_prime(100)\n",
    "        n = randrange(1,10)\n",
    "        # pick two close p-adics\n",
    "        a = Qp(p).random_element()\n",
    "        b = a + p*Zp(p).random_element()\n",
    "        if (b - a).valuation() <= 0: # if a = p^-100 + O(p^-80) this can \"happen\"\n",
    "            continue\n",
    "        try:\n",
    "            if Liz(n, a)(b - a)!=b.polylog(n):\n",
    "                print(\"p,n\",p,n)\n",
    "                print(\"b\",b)\n",
    "                print(\"a\",a)\n",
    "                print(\"b-a\",b-a)\n",
    "                print(\"liz\",Liz(n, a)(b - a))\n",
    "                print(\"poly\",b.polylog(n))\n",
    "        except Exception as e:\n",
    "            print(e)\n",
    "            print(\"p,n\",p,n)\n",
    "            print(\"b\",b)\n",
    "            print(\"a\",a)\n",
    "            print(\"b-a\",b-a)\n",
    "            print(\"liz\",Liz(n, a)(b - a))\n",
    "            print(\"poly\",b.polylog(n))"
   ]
  },
  {
   "cell_type": "code",
   "execution_count": 6,
   "metadata": {},
   "outputs": [
    {
     "name": "stdout",
     "output_type": "stream",
     "text": [
      "p,n 31 2\n",
      "b 16*31 + 4*31^2 + 14*31^3 + 24*31^4 + 27*31^5 + 8*31^6 + 3*31^7 + 21*31^8 + 14*31^9 + 6*31^10 + 28*31^11 + 18*31^12 + 3*31^13 + 31^14 + 17*31^15 + 21*31^16 + 16*31^17 + 30*31^18 + 5*31^19 + 9*31^20 + O(31^21)\n",
      "a 23*31^6 + 19*31^7 + 29*31^8 + 30*31^9 + 30*31^10 + 21*31^11 + 27*31^12 + 10*31^13 + 15*31^14 + 5*31^15 + 6*31^16 + 4*31^17 + 27*31^18 + 17*31^19 + 17*31^20 + 5*31^21 + 17*31^22 + 29*31^23 + 17*31^24 + 5*31^25 + O(31^26)\n",
      "b-a 16*31 + 4*31^2 + 14*31^3 + 24*31^4 + 27*31^5 + 16*31^6 + 14*31^7 + 22*31^8 + 14*31^9 + 6*31^10 + 6*31^11 + 22*31^12 + 23*31^13 + 16*31^14 + 11*31^15 + 15*31^16 + 12*31^17 + 3*31^18 + 19*31^19 + 22*31^20 + O(31^21)\n",
      "liz 16*31 + 6*31^2 + 14*31^3 + 8*31^4 + O(31^5)\n",
      "poly 16*31 + 6*31^2 + 14*31^3 + 12*31^4 + 27*31^5 + 31^6 + 17*31^7 + 30*31^8 + 4*31^9 + 3*31^10 + 14*31^11 + 21*31^12 + 31^13 + 2*31^14 + 17*31^15 + 5*31^17 + 26*31^18 + O(31^19)\n",
      "p,n 41 6\n",
      "b 25*41 + 8*41^2 + 2*41^3 + 16*41^4 + 41^5 + 18*41^6 + 13*41^7 + 37*41^8 + 20*41^9 + 10*41^10 + 15*41^11 + 13*41^12 + 40*41^13 + 24*41^14 + 16*41^15 + 21*41^16 + 2*41^17 + 41^18 + 11*41^19 + O(41^21)\n",
      "a 7*41^6 + 22*41^7 + 5*41^8 + 8*41^9 + 37*41^10 + 36*41^11 + 14*41^12 + 9*41^13 + 2*41^14 + 20*41^15 + 22*41^16 + 24*41^17 + 13*41^18 + 19*41^19 + 38*41^20 + 29*41^21 + 40*41^22 + 32*41^23 + 26*41^24 + 26*41^25 + O(41^26)\n",
      "b-a 25*41 + 8*41^2 + 2*41^3 + 16*41^4 + 41^5 + 11*41^6 + 32*41^7 + 31*41^8 + 12*41^9 + 14*41^10 + 19*41^11 + 39*41^12 + 30*41^13 + 22*41^14 + 37*41^15 + 39*41^16 + 18*41^17 + 28*41^18 + 32*41^19 + 2*41^20 + O(41^21)\n",
      "liz 25*41 + 12*41^2 + 13*41^3 + 4*41^4 + 14*41^5 + O(41^6)\n",
      "poly 25*41 + 12*41^2 + 13*41^3 + 20*41^4 + 29*41^5 + 19*41^6 + 30*41^7 + 40*41^8 + 37*41^9 + 31*41^10 + 32*41^11 + 25*41^12 + 16*41^13 + 21*41^14 + O(41^15)\n",
      "p,n 61 8\n",
      "b 13*61 + 17*61^2 + 54*61^3 + 36*61^5 + 57*61^6 + 4*61^7 + 53*61^8 + 12*61^9 + 58*61^10 + 61^11 + 60*61^12 + 5*61^13 + 42*61^14 + 39*61^15 + 12*61^16 + 26*61^17 + 31*61^18 + 43*61^19 + 34*61^20 + O(61^21)\n",
      "a 60*61^7 + 60*61^8 + 23*61^9 + 5*61^10 + 19*61^11 + 59*61^12 + 32*61^13 + 29*61^14 + 22*61^15 + 39*61^16 + 31*61^17 + 58*61^18 + 11*61^19 + 16*61^20 + 35*61^21 + 8*61^22 + 8*61^23 + 29*61^24 + 26*61^25 + 33*61^26 + O(61^27)\n",
      "b-a 13*61 + 17*61^2 + 54*61^3 + 36*61^5 + 57*61^6 + 5*61^7 + 53*61^8 + 49*61^9 + 52*61^10 + 43*61^11 + 34*61^13 + 12*61^14 + 17*61^15 + 34*61^16 + 55*61^17 + 33*61^18 + 31*61^19 + 18*61^20 + O(61^21)\n",
      "liz 13*61 + 26*61^2 + 32*61^3 + 7*61^4 + 6*61^5 + 25*61^6 + 53*61^7 + O(61^8)\n",
      "poly 13*61 + 26*61^2 + 41*61^3 + 36*61^4 + 2*61^5 + 19*61^6 + 4*61^7 + 4*61^8 + 56*61^9 + 9*61^10 + 5*61^11 + 22*61^12 + O(61^13)\n",
      "p,n 67 4\n",
      "b 14*67 + 66*67^2 + 7*67^3 + 31*67^4 + 46*67^5 + 64*67^6 + 15*67^7 + 3*67^8 + 35*67^9 + 3*67^10 + 66*67^11 + 19*67^12 + 66*67^13 + 24*67^14 + 3*67^15 + 7*67^16 + 22*67^17 + 33*67^18 + 49*67^19 + 58*67^20 + O(67^21)\n",
      "a 28*67^66 + 20*67^67 + 50*67^68 + 21*67^69 + 39*67^70 + 16*67^71 + 61*67^72 + 47*67^73 + 44*67^74 + 36*67^75 + 40*67^76 + 24*67^77 + 29*67^78 + 47*67^79 + 4*67^80 + 21*67^81 + 33*67^82 + 47*67^83 + 27*67^84 + 26*67^85 + O(67^86)\n",
      "b-a 14*67 + 66*67^2 + 7*67^3 + 31*67^4 + 46*67^5 + 64*67^6 + 15*67^7 + 3*67^8 + 35*67^9 + 3*67^10 + 66*67^11 + 19*67^12 + 66*67^13 + 24*67^14 + 3*67^15 + 7*67^16 + 22*67^17 + 33*67^18 + 49*67^19 + 58*67^20 + O(67^21)\n",
      "liz 14*67 + 66*67^2 + 7*67^3 + 31*67^4 + 46*67^5 + 64*67^6 + 15*67^7 + 3*67^8 + 35*67^9 + 3*67^10 + 66*67^11 + 19*67^12 + 66*67^13 + 24*67^14 + 3*67^15 + 7*67^16 + 22*67^17 + O(67^18)\n",
      "poly 14*67 + 28*67^2 + 67^3 + 50*67^4 + 4*67^5 + 56*67^6 + 6*67^7 + 46*67^8 + 62*67^9 + 14*67^10 + 58*67^11 + 35*67^12 + 22*67^13 + 37*67^14 + 41*67^15 + 36*67^16 + O(67^17)\n",
      "p,n 3 2\n",
      "b 3 + 2*3^2 + 2*3^3 + 3^4 + 3^5 + 2*3^6 + 3^7 + 2*3^9 + 2*3^10 + 3^12 + 3^13 + 3^14 + 3^15 + 3^16 + 2*3^19 + O(3^21)\n",
      "a 3^8 + 3^9 + 2*3^10 + 2*3^12 + 2*3^13 + 2*3^15 + 3^16 + 3^18 + 2*3^19 + 3^20 + 2*3^22 + 2*3^25 + 2*3^26 + 3^27 + O(3^28)\n",
      "b-a 3 + 2*3^2 + 2*3^3 + 3^4 + 3^5 + 2*3^6 + 3^7 + 2*3^8 + 2*3^12 + 3^13 + 2*3^15 + 2*3^16 + 2*3^17 + 3^18 + 2*3^19 + 3^20 + O(3^21)\n",
      "liz 3 + 2*3^4 + 2*3^5 + O(3^6)\n",
      "poly 2*3 + 2*3^3 + 2*3^8 + 2*3^9 + 3^10 + 3^11 + 2*3^12 + 2*3^14 + O(3^15)\n",
      "p,n 29 5\n",
      "b 20*29 + 23*29^2 + 11*29^3 + 17*29^4 + 6*29^5 + 17*29^6 + 20*29^8 + 4*29^9 + 8*29^10 + 6*29^11 + 13*29^12 + 8*29^13 + 20*29^14 + 9*29^15 + 28*29^16 + 26*29^17 + 16*29^18 + 2*29^19 + 26*29^20 + O(29^21)\n",
      "a 16*29^11 + 5*29^12 + 17*29^13 + 14*29^14 + 20*29^15 + 10*29^16 + 8*29^17 + 14*29^18 + 28*29^19 + 2*29^20 + 2*29^21 + 23*29^22 + 15*29^23 + 20*29^25 + 27*29^26 + 25*29^27 + 5*29^28 + 12*29^29 + 29^30 + O(29^31)\n",
      "b-a 20*29 + 23*29^2 + 11*29^3 + 17*29^4 + 6*29^5 + 17*29^6 + 20*29^8 + 4*29^9 + 8*29^10 + 19*29^11 + 7*29^12 + 20*29^13 + 5*29^14 + 18*29^15 + 17*29^16 + 18*29^17 + 2*29^18 + 3*29^19 + 23*29^20 + O(29^21)\n",
      "liz 20*29 + 21*29^2 + 4*29^3 + 15*29^4 + 27*29^5 + 8*29^6 + O(29^7)\n",
      "poly 20*29 + 21*29^2 + 29^3 + 14*29^4 + 12*29^5 + 29^6 + 21*29^7 + 21*29^8 + 16*29^9 + 19*29^10 + 28*29^11 + 9*29^13 + 22*29^14 + 21*29^15 + O(29^16)\n",
      "p,n 2 1\n",
      "b 1 + 2^5 + 2^6 + 2^8 + 2^9 + 2^11 + 2^13 + 2^16 + 2^17 + 2^18 + 2^19 + O(2^20)\n",
      "a 1 + 2^2 + 2^4 + 2^6 + 2^7 + 2^11 + 2^12 + 2^13 + 2^14 + 2^16 + 2^18 + 2^19 + O(2^20)\n",
      "b-a 2^2 + 2^3 + 2^7 + 2^9 + 2^12 + 2^13 + 2^15 + 2^16 + O(2^20)\n",
      "liz 2^-5 + 2^-4 + 2^-1 + 2 + 2^2 + 2^3 + 2^4 + 2^5 + 2^6 + 2^7 + 2^8 + 2^12 + O(2^13)\n",
      "poly 2^2 + 2^5 + 2^6 + 2^8 + 2^10 + 2^11 + 2^14 + O(2^15)\n",
      "p,n 2 4\n",
      "b 1 + 2 + 2^3 + 2^6 + 2^8 + 2^9 + 2^10 + 2^11 + 2^12 + 2^13 + 2^14 + 2^16 + 2^18 + O(2^19)\n",
      "a 1 + 2^6 + 2^8 + 2^9 + 2^10 + 2^14 + O(2^19)\n",
      "b-a 2 + 2^3 + 2^11 + 2^12 + 2^13 + 2^16 + 2^18 + O(2^19)\n",
      "liz 2^-153 + 2^-151 + 2^-150 + 2^-149 + 2^-146 + 2^-145 + 2^-144 + 2^-142 + 2^-141 + O(2^-140)\n",
      "poly 2 + O(2^2)\n"
     ]
    }
   ],
   "source": [
    "testliz()"
   ]
  },
  {
   "cell_type": "code",
   "execution_count": null,
   "metadata": {},
   "outputs": [],
   "source": [
    "R.<t> = PowerSeriesRing(QQ)\n",
    "oeis(\n",
    "[x.numerator() for x in list(\n",
    "reduce(lambda x, y : (x * y).integral(), 2*[1/(1+t)],1)\n",
    ")][4:]\n",
    ")"
   ]
  },
  {
   "cell_type": "code",
   "execution_count": null,
   "metadata": {},
   "outputs": [],
   "source": [
    "oeis(\n",
    "    \n",
    "[x.numerator() for x in list((((1 / (1 + t)).integral())/(1+t)).integral())][2:]\n",
    ")"
   ]
  },
  {
   "cell_type": "code",
   "execution_count": 94,
   "metadata": {},
   "outputs": [
    {
     "name": "stdout",
     "output_type": "stream",
     "text": [
      "21\n",
      "{(-1, 1/2, 2), (-2, -1/2, 1/3, 2/3, 3/2, 3), (-3, -1/3, 1/4, 3/4, 4/3, 4), (-8, -1/8, 1/9, 8/9, 9/8, 9)}\n"
     ]
    }
   ],
   "source": [
    "def issunit(S, n):\n",
    "    S = set(S)\n",
    "    return set(n.numerator().prime_divisors()).issubset(S) and set(n.denominator().prime_divisors()).issubset(S)\n",
    "def S3orbit(x):\n",
    "    return {x, 1-x, 1/(1-x), 1- 1/(1-x), 1/(1-1/(1-x)), 1- 1/(1-1/(1-x))}\n",
    "def Sunits(S):\n",
    "    S = set(S)\n",
    "    units = []\n",
    "    for x in QQ.range_by_height(440):\n",
    "        if x == 0 or x == 1:# or x == -1:\n",
    "            continue\n",
    "        if issunit(S, x) and issunit(S, 1-x):# and issunit(S, 1+x):\n",
    "            units += [x]\n",
    "    return sum([list(l) for l in list(set(tuple(sorted(list(S3orbit(a)))) for a in units))], [])\n",
    "print(len([(qq) for qq in Sunits([2,7,11])]))\n",
    "assert len(Sunits([2,3])) == 21\n",
    "print(set(tuple(sorted(tuple(S3orbit(a)))) for a in Sunits([2,3])))\n",
    "#Sunits([2,3])"
   ]
  },
  {
   "cell_type": "code",
   "execution_count": 99,
   "metadata": {},
   "outputs": [
    {
     "name": "stdout",
     "output_type": "stream",
     "text": [
      "0\n",
      "[-1, 1/2, 2, -16, -1/16, 1/17, 16/17, 17/16, 17, -17/2, -2/17, 2/19, 17/19, 19/17, 19/2]\n"
     ]
    },
    {
     "data": {
      "text/html": [
       "<html><script type=\"math/tex; mode=display\">\\newcommand{\\Bold}[1]{\\mathbf{#1}}\\left(\\left(\\begin{array}{rrrrrrrrr}\n",
       "0 & 0 & 0 & 0 & 0 & 0 & 0 & 0 & 0 \\\\\n",
       "1 & 0 & 0 & 0 & 0 & 0 & 0 & 0 & 0 \\\\\n",
       "0 & 0 & 0 & 0 & 0 & 0 & 0 & 0 & 0 \\\\\n",
       "0 & 4 & 0 & 0 & 0 & 0 & 0 & 0 & 0 \\\\\n",
       "16 & -4 & 0 & 0 & 0 & 0 & 0 & 0 & 0 \\\\\n",
       "0 & 0 & 0 & -4 & 1 & 0 & 0 & 0 & 0 \\\\\n",
       "0 & -4 & 0 & 0 & 1 & 0 & 0 & 0 & 0 \\\\\n",
       "16 & 0 & 0 & -4 & 0 & 0 & 0 & 0 & 0 \\\\\n",
       "0 & 0 & 0 & 4 & 0 & 0 & 0 & 0 & 0 \\\\\n",
       "1 & 0 & -1 & -1 & 0 & 1 & 0 & 0 & 0 \\\\\n",
       "0 & -1 & 1 & 0 & 1 & -1 & 0 & 0 & 0 \\\\\n",
       "0 & 1 & -1 & 0 & 0 & 0 & 0 & -1 & 1 \\\\\n",
       "0 & 0 & 0 & 1 & 0 & -1 & -1 & 0 & 1 \\\\\n",
       "0 & 0 & 0 & -1 & 1 & 0 & 1 & -1 & 0 \\\\\n",
       "1 & -1 & 0 & 0 & 0 & 0 & -1 & 1 & 0\n",
       "\\end{array}\\right), \\left(\\begin{array}{r}\n",
       "0 \\\\\n",
       "-{\\rm Li}_{2}\\left(\\frac{1}{2}\\right) \\\\\n",
       "0 \\\\\n",
       "-{\\rm Li}_{2}\\left(-16\\right) \\\\\n",
       "-{\\rm Li}_{2}\\left(-\\frac{1}{16}\\right) \\\\\n",
       "-{\\rm Li}_{2}\\left(\\frac{1}{17}\\right) \\\\\n",
       "-{\\rm Li}_{2}\\left(\\frac{16}{17}\\right) \\\\\n",
       "-{\\rm Li}_{2}\\left(\\frac{17}{16}\\right) \\\\\n",
       "-{\\rm Li}_{2}\\left(17\\right) \\\\\n",
       "-{\\rm Li}_{2}\\left(-\\frac{17}{2}\\right) \\\\\n",
       "-{\\rm Li}_{2}\\left(-\\frac{2}{17}\\right) \\\\\n",
       "-{\\rm Li}_{2}\\left(\\frac{2}{19}\\right) \\\\\n",
       "-{\\rm Li}_{2}\\left(\\frac{17}{19}\\right) \\\\\n",
       "-{\\rm Li}_{2}\\left(\\frac{19}{17}\\right) \\\\\n",
       "-{\\rm Li}_{2}\\left(\\frac{19}{2}\\right)\n",
       "\\end{array}\\right)\\right)</script></html>"
      ],
      "text/plain": [
       "(\n",
       "[ 0  0  0  0  0  0  0  0  0]  [           0]\n",
       "[ 1  0  0  0  0  0  0  0  0]  [  -Li_2(1/2)]\n",
       "[ 0  0  0  0  0  0  0  0  0]  [           0]\n",
       "[ 0  4  0  0  0  0  0  0  0]  [  -Li_2(-16)]\n",
       "[16 -4  0  0  0  0  0  0  0]  [-Li_2(-1/16)]\n",
       "[ 0  0  0 -4  1  0  0  0  0]  [ -Li_2(1/17)]\n",
       "[ 0 -4  0  0  1  0  0  0  0]  [-Li_2(16/17)]\n",
       "[16  0  0 -4  0  0  0  0  0]  [-Li_2(17/16)]\n",
       "[ 0  0  0  4  0  0  0  0  0]  [   -Li_2(17)]\n",
       "[ 1  0 -1 -1  0  1  0  0  0]  [-Li_2(-17/2)]\n",
       "[ 0 -1  1  0  1 -1  0  0  0]  [-Li_2(-2/17)]\n",
       "[ 0  1 -1  0  0  0  0 -1  1]  [ -Li_2(2/19)]\n",
       "[ 0  0  0  1  0 -1 -1  0  1]  [-Li_2(17/19)]\n",
       "[ 0  0  0 -1  1  0  1 -1  0]  [-Li_2(19/17)]\n",
       "[ 1 -1  0  0  0  0 -1  1  0], [ -Li_2(19/2)]\n",
       ")"
      ]
     },
     "metadata": {},
     "output_type": "display_data"
    }
   ],
   "source": [
    "def SintSelSub(S, l, Sunis = None):\n",
    "    if not Sunis:\n",
    "        Sunis = Sunits(S)\n",
    "    r = set()\n",
    "    def p(x, p, c):\n",
    "        if c == \"h\":\n",
    "            return (1-x).valuation(p) == 0\n",
    "        if c == \"v\":\n",
    "            return (x).valuation(p) == 0\n",
    "        if c == \"d\":\n",
    "            return (x).valuation(p) == (1-x).valuation(p)\n",
    "        raise ValueError\n",
    "    for x in Sunis:\n",
    "        if all(p(x, s, l) for s,l in zip(S, l)):\n",
    "            r.add(x)\n",
    "    return r\n",
    "#print(SintSelSub([2,3], [\"d\", \"d\"]))\n",
    "from sage.symbolic.function import BuiltinFunction\n",
    "class Li2(BuiltinFunction):\n",
    "    def __init__(self):\n",
    "        BuiltinFunction.__init__(self, 'Li_2', nargs=1)\n",
    "    def _eval_(self, *args):\n",
    "        if args[0] == -1 or args[0] == 2:\n",
    "            return 0\n",
    "        pass\n",
    "li2 = Li2()\n",
    "print(li2(2))\n",
    "    \n",
    "def SelmerIm(S,p, prec=40, symbolic=False):\n",
    "    l = []                     \n",
    "    r = []                     \n",
    "    K = Qp(p, prec)\n",
    "    actualS = Sunits(S)\n",
    "    print(actualS)\n",
    "    for x in actualS:\n",
    "        # v = x_q1 y_q1 x_q2 y_q2 .... x_qn yqn\n",
    "        v = sum([[x.valuation(p), (1-x).valuation(p)] for p in S],[])\n",
    "        #print(x,v)\n",
    "        ll = []\n",
    "        # x_q1 *y_q1, x_q1 * y_q2 , ..., x_q1 * y_qn, x_q2 * y_q1, ...\n",
    "        for i in range(len(S)):\n",
    "            for j in range(len(S)):\n",
    "                # x_qi * y_qj\n",
    "                ll += [v[2*i]*v[2*j + 1]]\n",
    "        #ll += [(-K(x).polylog(2))]  \n",
    "        #ll += [(-li2(x))]  \n",
    "        if symbolic:\n",
    "            llr = [(-li2(x))]  \n",
    "        else:\n",
    "            llr = [(-K(x).polylog(2))]  \n",
    "        l += [ll]\n",
    "        r += [llr]\n",
    "    l = Matrix(l)\n",
    "    r = Matrix(r)\n",
    "    #show(l)\n",
    "    #e,t = l.echelon_form(transformation=True)\n",
    "    return l,r\n",
    "\n",
    "def findvals(S, p):\n",
    "    for l in cartesian_product([[\"h\", \"v\", \"d\"] for s in S]):\n",
    "        print(SintSelSub(S, l))\n",
    "#findvals([2,3],5)\n",
    "show(SelmerIm([2,17,19],3,prec=20,symbolic=True))"
   ]
  },
  {
   "cell_type": "code",
   "execution_count": 41,
   "metadata": {},
   "outputs": [
    {
     "name": "stdout",
     "output_type": "stream",
     "text": [
      "-5/2 [-1, -1, 1, 0, 0, 1]\n",
      "-2/5 [1, 0, -1, -1, 0, 1]\n",
      "2/7 [1, 0, 0, 1, -1, -1]\n",
      "5/7 [0, 1, 1, 0, -1, -1]\n",
      "7/5 [0, 1, -1, -1, 1, 0]\n",
      "7/2 [-1, -1, 0, 1, 1, 0]\n",
      "-49 [0, 1, 0, 2, 2, 0]\n",
      "-1/49 [0, 1, 0, 2, -2, -2]\n",
      "1/50 [-1, -1, -2, -2, 0, 2]\n",
      "49/50 [-1, -1, -2, -2, 2, 0]\n",
      "50/49 [1, 0, 2, 0, -2, -2]\n",
      "50 [1, 0, 2, 0, 0, 2]\n",
      "-25/7 [0, 5, 2, 0, -1, -1]\n",
      "-7/25 [0, 5, -2, -2, 1, 0]\n",
      "7/32 [-5, -5, 0, 2, 1, 0]\n",
      "25/32 [-5, -5, 2, 0, 0, 1]\n",
      "32/25 [5, 0, -2, -2, 0, 1]\n",
      "32/7 [5, 0, 0, 2, -1, -1]\n",
      "-7 [0, 3, 0, 0, 1, 0]\n",
      "-1/7 [0, 3, 0, 0, -1, -1]\n",
      "1/8 [-3, -3, 0, 0, 0, 1]\n",
      "7/8 [-3, -3, 0, 0, 1, 0]\n",
      "8/7 [3, 0, 0, 0, -1, -1]\n",
      "8 [3, 0, 0, 0, 0, 1]\n",
      "-4 [2, 0, 0, 1, 0, 0]\n",
      "-1/4 [-2, -2, 0, 1, 0, 0]\n",
      "1/5 [0, 2, -1, -1, 0, 0]\n",
      "4/5 [2, 0, -1, -1, 0, 0]\n",
      "5/4 [-2, -2, 1, 0, 0, 0]\n",
      "5 [0, 2, 1, 0, 0, 0]\n",
      "-1 [0, 1, 0, 0, 0, 0]\n",
      "1/2 [-1, -1, 0, 0, 0, 0]\n",
      "2 [1, 0, 0, 0, 0, 0]\n"
     ]
    },
    {
     "data": {
      "text/html": [
       "<html><script type=\"math/tex; mode=display\">\\newcommand{\\Bold}[1]{\\mathbf{#1}}\\left(\\begin{array}{rrrrrrrrr}\n",
       "1 & 0 & -1 & -1 & 0 & 1 & 0 & 0 & 0 \\\\\n",
       "0 & -1 & 1 & 0 & 1 & -1 & 0 & 0 & 0 \\\\\n",
       "0 & 1 & -1 & 0 & 0 & 0 & 0 & -1 & 1 \\\\\n",
       "0 & 0 & 0 & 1 & 0 & -1 & -1 & 0 & 1 \\\\\n",
       "0 & 0 & 0 & -1 & 1 & 0 & 1 & -1 & 0 \\\\\n",
       "1 & -1 & 0 & 0 & 0 & 0 & -1 & 1 & 0 \\\\\n",
       "0 & 0 & 0 & 0 & 0 & 0 & 2 & 4 & 0 \\\\\n",
       "0 & 0 & 0 & 0 & 0 & 0 & -2 & -4 & 4 \\\\\n",
       "1 & 2 & -2 & 2 & 4 & -4 & 0 & 0 & 0 \\\\\n",
       "1 & 2 & 0 & 2 & 4 & 0 & -2 & -4 & 0 \\\\\n",
       "0 & 0 & -2 & 0 & 0 & -4 & 0 & 0 & 4 \\\\\n",
       "0 & 0 & 2 & 0 & 0 & 4 & 0 & 0 & 0 \\\\\n",
       "0 & 0 & 0 & 10 & 0 & -2 & -5 & 0 & 1 \\\\\n",
       "0 & 0 & 0 & -10 & 4 & 0 & 5 & -2 & 0 \\\\\n",
       "25 & -10 & 0 & 0 & 0 & 0 & -5 & 2 & 0 \\\\\n",
       "25 & 0 & -5 & -10 & 0 & 2 & 0 & 0 & 0 \\\\\n",
       "0 & -10 & 5 & 0 & 4 & -2 & 0 & 0 & 0 \\\\\n",
       "0 & 10 & -5 & 0 & 0 & 0 & 0 & -2 & 1 \\\\\n",
       "0 & 0 & 0 & 0 & 0 & 0 & 3 & 0 & 0 \\\\\n",
       "0 & 0 & 0 & 0 & 0 & 0 & -3 & 0 & 1 \\\\\n",
       "9 & 0 & -3 & 0 & 0 & 0 & 0 & 0 & 0 \\\\\n",
       "9 & 0 & 0 & 0 & 0 & 0 & -3 & 0 & 0 \\\\\n",
       "0 & 0 & -3 & 0 & 0 & 0 & 0 & 0 & 1 \\\\\n",
       "0 & 0 & 3 & 0 & 0 & 0 & 0 & 0 & 0 \\\\\n",
       "0 & 2 & 0 & 0 & 0 & 0 & 0 & 0 & 0 \\\\\n",
       "4 & -2 & 0 & 0 & 0 & 0 & 0 & 0 & 0 \\\\\n",
       "0 & 0 & 0 & -2 & 1 & 0 & 0 & 0 & 0 \\\\\n",
       "0 & -2 & 0 & 0 & 1 & 0 & 0 & 0 & 0 \\\\\n",
       "4 & 0 & 0 & -2 & 0 & 0 & 0 & 0 & 0 \\\\\n",
       "0 & 0 & 0 & 2 & 0 & 0 & 0 & 0 & 0 \\\\\n",
       "0 & 0 & 0 & 0 & 0 & 0 & 0 & 0 & 0 \\\\\n",
       "1 & 0 & 0 & 0 & 0 & 0 & 0 & 0 & 0 \\\\\n",
       "0 & 0 & 0 & 0 & 0 & 0 & 0 & 0 & 0\n",
       "\\end{array}\\right)</script></html>"
      ],
      "text/plain": [
       "33 x 9 dense matrix over Integer Ring (use the '.str()' method to see the entries)"
      ]
     },
     "metadata": {},
     "output_type": "display_data"
    }
   ],
   "source": [
    "l,r = SelmerIm([2,5,7],3,prec=40)"
   ]
  },
  {
   "cell_type": "code",
   "execution_count": 43,
   "metadata": {},
   "outputs": [
    {
     "data": {
      "text/plain": [
       "((2*3^2 + 3^3 + 2*3^4 + 2*3^5 + 2*3^6 + 2*3^7 + 2*3^8 + 2*3^9 + 2*3^10 + 3^11 + 2*3^12 + 2*3^13 + 2*3^14 + 3^16 + 3^17 + 3^18 + 2*3^19 + 2*3^20 + 3^22 + 3^25 + 3^26 + 2*3^28 + 3^29 + 2*3^30 + O(3^31)),\n",
       " 2*3^2 + 3^3 + 2*3^4 + 2*3^5 + 2*3^6 + 2*3^7 + 2*3^8 + 2*3^9 + 2*3^10 + 3^11 + 2*3^12 + 2*3^13 + 2*3^14 + 3^16 + 3^17 + 3^18 + 2*3^19 + 2*3^20 + 3^22 + 3^25 + 3^26 + 2*3^28 + 3^29 + 2*3^30 + 3^32 + 3^34 + 3^36 + 2*3^37 + 3^38 + 3^39 + 3^40 + O(3^42))"
      ]
     },
     "execution_count": 43,
     "metadata": {},
     "output_type": "execute_result"
    }
   ],
   "source": [
    "#check\n",
    "l.solve_right(r)[7] , K(2/7).polylog(2) - 1/2*K(-4).polylog(2)+1/3* K(8).polylog(2) + 1/2*K(7).log(p_branch)^2 "
   ]
  },
  {
   "cell_type": "code",
   "execution_count": 163,
   "metadata": {},
   "outputs": [
    {
     "name": "stdout",
     "output_type": "stream",
     "text": [
      "[-5/2, -2/5, 2/7, 5/7, 7/5, 7/2, -49, -1/49, 1/50, 49/50, 50/49, 50, -25/7, -7/25, 7/32, 25/32, 32/25, 32/7, -7, -1/7, 1/8, 7/8, 8/7, 8, -4, -1/4, 1/5, 4/5, 5/4, 5, -1, 1/2, 2]\n",
      "roots [2 + 2*3^30 + 2*3^31 + 2*3^32 + 2*3^33 + 2*3^36 + 3^38 + O(3^39), 2 + 2*3 + 3^2 + 3^4 + 3^5 + 3^6 + 3^7 + 2*3^9 + 3^10 + 2*3^11 + 2*3^13 + 3^14 + 3^15 + 2*3^18 + 2*3^19 + 2*3^21 + 2*3^22 + 3^23 + 3^24 + 2*3^25 + 3^27 + 3^29 + 3^31 + 3^32 + 3^33 + 2*3^34 + 2*3^35 + 2*3^38 + O(3^39), 2 + 2*3 + 2*3^2 + 2*3^3 + 2*3^4 + 2*3^5 + 2*3^6 + 2*3^7 + 2*3^8 + 2*3^9 + 2*3^10 + 2*3^11 + 2*3^12 + 2*3^13 + 2*3^14 + 2*3^15 + 2*3^16 + 2*3^17 + 2*3^18 + 2*3^19 + 2*3^20 + 2*3^21 + 2*3^22 + 2*3^23 + 2*3^24 + 2*3^25 + 2*3^26 + 2*3^27 + 2*3^28 + 2*3^29 + 2*3^30 + 2*3^31 + 2*3^32 + 2*3^33 + 2*3^34 + 2*3^35 + 2*3^36 + 2*3^37 + 2*3^38 + O(3^39)]\n",
      "root:  2 + 2*3^30 + 2*3^31 + 2*3^32 + 2*3^33 + 2*3^36 + 3^38 + O(3^39)\n",
      "x - 2\n",
      "root:  2 + 2*3 + 3^2 + 3^4 + 3^5 + 3^6 + 3^7 + 2*3^9 + 3^10 + 2*3^11 + 2*3^13 + 3^14 + 3^15 + 2*3^18 + 2*3^19 + 2*3^21 + 2*3^22 + 3^23 + 3^24 + 2*3^25 + 3^27 + 3^29 + 3^31 + 3^32 + 3^33 + 2*3^34 + 2*3^35 + 2*3^38 + O(3^39)\n",
      "393*x^2 + 14203*x + 10120\n",
      "root:  2 + 2*3 + 2*3^2 + 2*3^3 + 2*3^4 + 2*3^5 + 2*3^6 + 2*3^7 + 2*3^8 + 2*3^9 + 2*3^10 + 2*3^11 + 2*3^12 + 2*3^13 + 2*3^14 + 2*3^15 + 2*3^16 + 2*3^17 + 2*3^18 + 2*3^19 + 2*3^20 + 2*3^21 + 2*3^22 + 2*3^23 + 2*3^24 + 2*3^25 + 2*3^26 + 2*3^27 + 2*3^28 + 2*3^29 + 2*3^30 + 2*3^31 + 2*3^32 + 2*3^33 + 2*3^34 + 2*3^35 + 2*3^36 + 2*3^37 + 2*3^38 + O(3^39)\n",
      "x + 1\n"
     ]
    }
   ],
   "source": [
    "# a_q\\ell\n",
    "p = 3\n",
    "prec=50\n",
    "#F.<a,b> = FreeMonoid()\n",
    "K = Qp(p, prec =prec)\n",
    "RR.<logz,logone_z, Li2z> = PolynomialRing(K)\n",
    "ell = 5\n",
    "q = 7\n",
    "S = [2,ell,q]\n",
    "l,r = SelmerIm(S,p,prec=prec)\n",
    "assert l.rank() == len(S)^2\n",
    "aqell = l.solve_right(r)[-2,0]\n",
    "allr = allroots(K(ell).log(p_branch)*K(q).log(p_branch)*Li2z + aqell*logz*logone_z,p)\n",
    "\n",
    "for r in allr:\n",
    "    print(\"root: \",r)\n",
    "    print(algdep(r + O(p^30), 2))"
   ]
  },
  {
   "cell_type": "code",
   "execution_count": 180,
   "metadata": {},
   "outputs": [
    {
     "data": {
      "text/plain": [
       "[12, -27, -15, 3, 21, 6, -9, 72, 24, -24, 45]~"
      ]
     },
     "execution_count": 180,
     "metadata": {},
     "output_type": "execute_result"
    }
   ],
   "source": [
    "pari([ aqell,  K(-ell).polylog(2),   K(ell).polylog(2), K(-q).polylog(2), K(q).log(),K(2).log(),K(-2).polylog(2), K(ell).log(), K(q/ell).polylog(2), K(q*ell).polylog(2), K(q).polylog(2)]).lindep()"
   ]
  },
  {
   "cell_type": "code",
   "execution_count": 209,
   "metadata": {},
   "outputs": [
    {
     "data": {
      "text/plain": [
       "[405822, -1610984, -761791]~"
      ]
     },
     "execution_count": 209,
     "metadata": {},
     "output_type": "execute_result"
    }
   ],
   "source": [
    "pari([K(-7*5).polylog(2),K(-5).polylog(2), K(7).polylog(2)]).lindep()"
   ]
  },
  {
   "cell_type": "code",
   "execution_count": 205,
   "metadata": {},
   "outputs": [
    {
     "data": {
      "text/plain": [
       "[47, -333, -108, 315, -261, -423, 459, 135]~"
      ]
     },
     "execution_count": 205,
     "metadata": {},
     "output_type": "execute_result"
    }
   ],
   "source": [
    "pari([K(11*5).polylog(2),K(-11*5).polylog(2),K(5).polylog(2),K(-5).polylog(2), K(11).polylog(2), K(-11).polylog(2), K(11).log(), K(5).log()]).lindep()"
   ]
  },
  {
   "cell_type": "code",
   "execution_count": 186,
   "metadata": {},
   "outputs": [
    {
     "data": {
      "text/plain": [
       "-1029758681/372212872"
      ]
     },
     "execution_count": 186,
     "metadata": {},
     "output_type": "execute_result"
    }
   ],
   "source": [
    "_.rational_reconstruction()"
   ]
  },
  {
   "cell_type": "code",
   "execution_count": 11,
   "metadata": {
    "scrolled": true
   },
   "outputs": [
    {
     "name": "stdout",
     "output_type": "stream",
     "text": [
      "-1 [0, 1, 0, 0]\n",
      "1/2 [-1, -1, 0, 0]\n",
      "2 [1, 0, 0, 0]\n",
      "-3 [0, 2, 1, 0]\n",
      "-1/3 [0, 2, -1, -1]\n",
      "1/4 [-2, -2, 0, 1]\n",
      "3/4 [-2, -2, 1, 0]\n",
      "4/3 [2, 0, -1, -1]\n",
      "4 [2, 0, 0, 1]\n",
      "-2 [1, 0, 0, 1]\n",
      "-1/2 [-1, -1, 0, 1]\n",
      "1/3 [0, 1, -1, -1]\n",
      "2/3 [1, 0, -1, -1]\n",
      "3/2 [-1, -1, 1, 0]\n",
      "3 [0, 1, 1, 0]\n",
      "-8 [3, 0, 0, 2]\n",
      "-1/8 [-3, -3, 0, 2]\n",
      "1/9 [0, 3, -2, -2]\n",
      "8/9 [3, 0, -2, -2]\n",
      "9/8 [-3, -3, 2, 0]\n",
      "9 [0, 3, 2, 0]\n"
     ]
    },
    {
     "data": {
      "text/html": [
       "<html><script type=\"math/tex; mode=display\">\\newcommand{\\Bold}[1]{\\mathbf{#1}}\\left(\\begin{array}{rrrrr}\n",
       "0 & 0 & 0 & 0 & 0 \\\\\n",
       "1 & 0 & 0 & 0 & -{\\rm Li}_{2}\\left(\\frac{1}{2}\\right) \\\\\n",
       "0 & 0 & 0 & 0 & 0 \\\\\n",
       "0 & 0 & 2 & 0 & -{\\rm Li}_{2}\\left(-3\\right) \\\\\n",
       "0 & 0 & -2 & 1 & -{\\rm Li}_{2}\\left(-\\frac{1}{3}\\right) \\\\\n",
       "4 & -2 & 0 & 0 & -{\\rm Li}_{2}\\left(\\frac{1}{4}\\right) \\\\\n",
       "4 & 0 & -2 & 0 & -{\\rm Li}_{2}\\left(\\frac{3}{4}\\right) \\\\\n",
       "0 & -2 & 0 & 1 & -{\\rm Li}_{2}\\left(\\frac{4}{3}\\right) \\\\\n",
       "0 & 2 & 0 & 0 & -{\\rm Li}_{2}\\left(4\\right) \\\\\n",
       "0 & 1 & 0 & 0 & -{\\rm Li}_{2}\\left(-2\\right) \\\\\n",
       "1 & -1 & 0 & 0 & -{\\rm Li}_{2}\\left(-\\frac{1}{2}\\right) \\\\\n",
       "0 & 0 & -1 & 1 & -{\\rm Li}_{2}\\left(\\frac{1}{3}\\right) \\\\\n",
       "0 & -1 & 0 & 1 & -{\\rm Li}_{2}\\left(\\frac{2}{3}\\right) \\\\\n",
       "1 & 0 & -1 & 0 & -{\\rm Li}_{2}\\left(\\frac{3}{2}\\right) \\\\\n",
       "0 & 0 & 1 & 0 & -{\\rm Li}_{2}\\left(3\\right) \\\\\n",
       "0 & 6 & 0 & 0 & -{\\rm Li}_{2}\\left(-8\\right) \\\\\n",
       "9 & -6 & 0 & 0 & -{\\rm Li}_{2}\\left(-\\frac{1}{8}\\right) \\\\\n",
       "0 & 0 & -6 & 4 & -{\\rm Li}_{2}\\left(\\frac{1}{9}\\right) \\\\\n",
       "0 & -6 & 0 & 4 & -{\\rm Li}_{2}\\left(\\frac{8}{9}\\right) \\\\\n",
       "9 & 0 & -6 & 0 & -{\\rm Li}_{2}\\left(\\frac{9}{8}\\right) \\\\\n",
       "0 & 0 & 6 & 0 & -{\\rm Li}_{2}\\left(9\\right)\n",
       "\\end{array}\\right)</script></html>"
      ],
      "text/plain": [
       "21 x 5 dense matrix over Symbolic Ring (use the '.str()' method to see the entries)"
      ]
     },
     "metadata": {},
     "output_type": "display_data"
    },
    {
     "data": {
      "text/html": [
       "<html><script type=\"math/tex; mode=display\">\\newcommand{\\Bold}[1]{\\mathbf{#1}}\\left[\\left(0\\right), \\left(-{\\rm Li}_{2}\\left(\\frac{1}{2}\\right)\\right), \\left(0\\right), \\left(-{\\rm Li}_{2}\\left(-3\\right)\\right), \\left(-{\\rm Li}_{2}\\left(-\\frac{1}{3}\\right)\\right), \\left(-{\\rm Li}_{2}\\left(\\frac{1}{4}\\right)\\right), \\left(-{\\rm Li}_{2}\\left(\\frac{3}{4}\\right)\\right), \\left(-{\\rm Li}_{2}\\left(\\frac{4}{3}\\right)\\right), \\left(-{\\rm Li}_{2}\\left(4\\right)\\right), \\left(-{\\rm Li}_{2}\\left(-2\\right)\\right), \\left(-{\\rm Li}_{2}\\left(-\\frac{1}{2}\\right)\\right), \\left(-{\\rm Li}_{2}\\left(\\frac{1}{3}\\right)\\right), \\left(-{\\rm Li}_{2}\\left(\\frac{2}{3}\\right)\\right), \\left(-{\\rm Li}_{2}\\left(\\frac{3}{2}\\right)\\right), \\left(-{\\rm Li}_{2}\\left(3\\right)\\right), \\left(-{\\rm Li}_{2}\\left(-8\\right)\\right), \\left(-{\\rm Li}_{2}\\left(-\\frac{1}{8}\\right)\\right), \\left(-{\\rm Li}_{2}\\left(\\frac{1}{9}\\right)\\right), \\left(-{\\rm Li}_{2}\\left(\\frac{8}{9}\\right)\\right), \\left(-{\\rm Li}_{2}\\left(\\frac{9}{8}\\right)\\right), \\left(-{\\rm Li}_{2}\\left(9\\right)\\right)\\right]</script></html>"
      ],
      "text/plain": [
       "[(0),\n",
       " (-Li_2(1/2)),\n",
       " (0),\n",
       " (-Li_2(-3)),\n",
       " (-Li_2(-1/3)),\n",
       " (-Li_2(1/4)),\n",
       " (-Li_2(3/4)),\n",
       " (-Li_2(4/3)),\n",
       " (-Li_2(4)),\n",
       " (-Li_2(-2)),\n",
       " (-Li_2(-1/2)),\n",
       " (-Li_2(1/3)),\n",
       " (-Li_2(2/3)),\n",
       " (-Li_2(3/2)),\n",
       " (-Li_2(3)),\n",
       " (-Li_2(-8)),\n",
       " (-Li_2(-1/8)),\n",
       " (-Li_2(1/9)),\n",
       " (-Li_2(8/9)),\n",
       " (-Li_2(9/8)),\n",
       " (-Li_2(9))]"
      ]
     },
     "metadata": {},
     "output_type": "display_data"
    }
   ],
   "source": [
    "#what if p in S?\n",
    "show(list(SelmerIm([2,3],3)))"
   ]
  },
  {
   "cell_type": "code",
   "execution_count": null,
   "metadata": {},
   "outputs": [],
   "source": [
    "A.<x,y> = AffineSpace(Qp(5), 2)"
   ]
  },
  {
   "cell_type": "code",
   "execution_count": null,
   "metadata": {},
   "outputs": [],
   "source": [
    "f = A.hom([x*y,x*y], A)\n",
    "f"
   ]
  },
  {
   "cell_type": "code",
   "execution_count": null,
   "metadata": {},
   "outputs": [],
   "source": [
    "f.image()"
   ]
  },
  {
   "cell_type": "code",
   "execution_count": null,
   "metadata": {},
   "outputs": [],
   "source": [
    "p = 3\n",
    "N = 2\n",
    "#x =  3 + 5^2 + 2*5^3 + 5^4 + 3*5^5 + 5^6 + 5^7 + 5^9 + 2*5^10 + 3*5^11 + 2*5^12 + 3*5^13 + 3*5^14 + 4*5^15 + 5^16 + 4*5^17 + 3*5^18 + 3*5^21 + O(5^22)\n",
    "x =  2 + 5 +  5^2 + 2*5^3 + 5^4 + 3*5^5 + 5^6 + 5^7 + 5^9 + 2*5^10 + 3*5^11 + 2*5^12 + 3*5^13 + 3*5^14 + 4*5^15 + 5^16 + 4*5^17 + 3*5^18 + 3*5^21 + O(5^22)\n",
    "x = x + O(p^N)\n",
    "gens = [2,5]\n",
    "indices = set()\n",
    "phipN = euler_phi(p^N)\n",
    "for l1 in cartesian_product([range(phipN) for g in gens]):\n",
    "    for l2 in cartesian_product([range(phipN) for g in gens]):\n",
    "        if (prod(g^i for g,i in zip(gens,l1))) == x and (prod(g^i for g,i in zip(gens,l2))) == 1 - x:\n",
    "            indices.add((l1,l2))\n",
    "print(indices)"
   ]
  },
  {
   "cell_type": "code",
   "execution_count": null,
   "metadata": {},
   "outputs": [],
   "source": [
    "for q in [41, 61, 101,401]:\n",
    "    print(\"using q =\",q)\n",
    "    local = [(c, (1-c) % q) for c in range(2,q)]\n",
    "    #print(local)\n",
    "    foundinds = []\n",
    "    phiq = euler_phi(q)\n",
    "    removableinds = copy(indices)\n",
    "    curmod = gcd(phiq, phipN)\n",
    "    for l1 in cartesian_product([range(phiq) for g in gens]):\n",
    "        for l2 in cartesian_product([range(phiq) for g in gens]):\n",
    "            if ((prod(g^i % q for g, i in zip(gens,l1))) % q , (prod(g^i % q for g, i in zip(gens,l2))) % q) in local:\n",
    "                cur = ((l1[0] % phipN, l1[1] % phipN),(l2[0] % phipN, l2[1] % phipN))\n",
    "                if cur in removableinds:\n",
    "                    print(\"saw\" ,cur)\n",
    "                    removableinds.remove(cur)\n",
    "    for ind in removableinds:\n",
    "        indices.remove(ind)\n",
    "print(indices)"
   ]
  },
  {
   "cell_type": "code",
   "execution_count": null,
   "metadata": {},
   "outputs": [],
   "source": [
    "len(foundinds)"
   ]
  },
  {
   "cell_type": "code",
   "execution_count": null,
   "metadata": {},
   "outputs": [],
   "source": [
    "indices[1]"
   ]
  },
  {
   "cell_type": "code",
   "execution_count": null,
   "metadata": {},
   "outputs": [],
   "source": [
    "len(removableinds)"
   ]
  },
  {
   "cell_type": "code",
   "execution_count": null,
   "metadata": {},
   "outputs": [],
   "source": [
    "len(indices)"
   ]
  },
  {
   "cell_type": "code",
   "execution_count": null,
   "metadata": {},
   "outputs": [],
   "source": [
    "((0, 1), (1, 10)) in indices"
   ]
  },
  {
   "cell_type": "code",
   "execution_count": null,
   "metadata": {},
   "outputs": [],
   "source": [
    "RR.<t> = PowerSeriesRing(Qp(3))\n",
    "ff = sum((3*t)^k/k for k in range(20))\n",
    "f.truncate().newton_polygon().show()"
   ]
  },
  {
   "cell_type": "code",
   "execution_count": 53,
   "metadata": {},
   "outputs": [],
   "source": [
    "\n",
    "M = Matrix(ZZ, [1])"
   ]
  },
  {
   "cell_type": "code",
   "execution_count": 55,
   "metadata": {},
   "outputs": [],
   "source": [
    "M.rref??"
   ]
  },
  {
   "cell_type": "code",
   "execution_count": 60,
   "metadata": {},
   "outputs": [
    {
     "data": {
      "text/plain": [
       "<class 'sage.symbolic.expression.Expression'>"
      ]
     },
     "execution_count": 60,
     "metadata": {},
     "output_type": "execute_result"
    }
   ],
   "source": [
    "type(log(4))"
   ]
  },
  {
   "cell_type": "code",
   "execution_count": 61,
   "metadata": {},
   "outputs": [],
   "source": [
    "log??"
   ]
  },
  {
   "cell_type": "code",
   "execution_count": 62,
   "metadata": {},
   "outputs": [],
   "source": []
  },
  {
   "cell_type": "code",
   "execution_count": 65,
   "metadata": {},
   "outputs": [],
   "source": [
    "li2 = Li2()"
   ]
  },
  {
   "cell_type": "code",
   "execution_count": 3,
   "metadata": {},
   "outputs": [],
   "source": [
    "def fiveterm(x, y, p_branch=0):\n",
    "    return (x).polylog(2, p_branch) - (y).polylog(2, p_branch)\\\n",
    "    - ((1-y)/(1-x)).polylog(2, p_branch)\\\n",
    "    +(y/x).polylog(2,p_branch)+((1-y^(-1))/(1-x^(-1))).polylog(2, p_branch)\\\n",
    "    + 1/2 * (x).log(p_branch)*(1-x).log(p_branch)\\\n",
    "    - 1/2 * (y).log(p_branch)*(1-y).log(p_branch)\\\n",
    "    - 1/2 * ((1-y)/(1-x)).log(p_branch)*(1-(1-y)/(1-x)).log(p_branch)\\\n",
    "    + 1/2 * (y/x).log(p_branch)*(1-y/x).log(p_branch)\\\n",
    "    + 1/2 * ((1-y^(-1))/(1-x^(-1))).log(p_branch)*(1-((1-y^(-1))/(1-x^(-1)))).log(p_branch)\\\n"
   ]
  },
  {
   "cell_type": "code",
   "execution_count": 4,
   "metadata": {},
   "outputs": [
    {
     "data": {
      "text/plain": [
       "O(5^24)"
      ]
     },
     "execution_count": 4,
     "metadata": {},
     "output_type": "execute_result"
    }
   ],
   "source": [
    "fiveterm(K(5),K(1-5))"
   ]
  },
  {
   "cell_type": "code",
   "execution_count": 1,
   "metadata": {},
   "outputs": [
    {
     "data": {
      "text/plain": [
       "7^17 + O(7^19)"
      ]
     },
     "execution_count": 1,
     "metadata": {},
     "output_type": "execute_result"
    }
   ],
   "source": [
    "K = Qp(7)\n",
    "K(1 + (7^17)).polylog(2)"
   ]
  },
  {
   "cell_type": "code",
   "execution_count": 2,
   "metadata": {},
   "outputs": [
    {
     "data": {
      "text/plain": [
       "3*7^2 + 6*7^3 + 7^4 + 3*7^5 + 7^7 + 6*7^8 + 4*7^9 + 4*7^10 + 7^11 + 7^12 + 6*7^13 + 5*7^14 + 3*7^15 + O(7^16)"
      ]
     },
     "execution_count": 2,
     "metadata": {},
     "output_type": "execute_result"
    }
   ],
   "source": [
    "K(4).polylog(2) - K(1-4).polylog(2) == "
   ]
  },
  {
   "cell_type": "code",
   "execution_count": 4,
   "metadata": {},
   "outputs": [
    {
     "data": {
      "text/plain": [
       "7 + 2*7^2 + 2*7^3 + 4*7^6 + 6*7^7 + 7^8 + 7^9 + 2*7^10 + 3*7^12 + 6*7^13 + 6*7^14 + 2*7^15 + 6*7^16 + O(7^17)"
      ]
     },
     "execution_count": 4,
     "metadata": {},
     "output_type": "execute_result"
    }
   ],
   "source": [
    "K(7).polylog(2)"
   ]
  },
  {
   "cell_type": "code",
   "execution_count": null,
   "metadata": {},
   "outputs": [],
   "source": [
    "for p in prime_range(1000):\n",
    "    K = Qp(p)\n",
    "    for t in K.teichmuller_system():\n",
    "        if t == 1 or t == 0 or t == -1:\n",
    "            continue\n",
    "        if t.polylog(2) == print(p,t,t.polylog(2))"
   ]
  },
  {
   "cell_type": "code",
   "execution_count": null,
   "metadata": {},
   "outputs": [],
   "source": []
  },
  {
   "cell_type": "code",
   "execution_count": null,
   "metadata": {},
   "outputs": [],
   "source": []
  }
 ],
 "metadata": {
  "kernelspec": {
   "display_name": "SageMath 9.1",
   "language": "sage",
   "name": "sagemath"
  },
  "language_info": {
   "codemirror_mode": {
    "name": "ipython",
    "version": 3
   },
   "file_extension": ".py",
   "mimetype": "text/x-python",
   "name": "python",
   "nbconvert_exporter": "python",
   "pygments_lexer": "ipython3",
   "version": "3.7.3"
  },
  "varInspector": {
   "cols": {
    "lenName": 16,
    "lenType": 16,
    "lenVar": 40
   },
   "kernels_config": {
    "python": {
     "delete_cmd_postfix": "",
     "delete_cmd_prefix": "del ",
     "library": "var_list.py",
     "varRefreshCmd": "print(var_dic_list())"
    },
    "r": {
     "delete_cmd_postfix": ") ",
     "delete_cmd_prefix": "rm(",
     "library": "var_list.r",
     "varRefreshCmd": "cat(var_dic_list()) "
    }
   },
   "types_to_exclude": [
    "module",
    "function",
    "builtin_function_or_method",
    "instance",
    "_Feature"
   ],
   "window_display": false
  }
 },
 "nbformat": 4,
 "nbformat_minor": 2
}
