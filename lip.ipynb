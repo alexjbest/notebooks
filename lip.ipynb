{
 "cells": [
  {
   "cell_type": "markdown",
   "metadata": {},
   "source": [
    "$$24 \\log ^{p}(2) \\zeta^{p}(3) \\mathrm{Li}_{4}^{p}(z)+\\frac{8}{7}\\left(\\log ^{p}(2)^{4}+24 \\mathrm{Li}_{4}^{p}\\left(\\frac{1}{2}\\right)\\right) \\log ^{p}(z) \\mathrm{Li}_{3}^{p}(z)$$\n",
    "$$+\\left(\\frac{4}{21} \\log ^{p}(2)^{4}+\\frac{32}{7} \\mathrm{L}_{4}^{p}\\left(\\frac{1}{2}\\right)+\\log ^{p}(2) \\zeta^{p}(3)\\right) \\log ^{p}(z)^{3} \\log ^{p}(1-z)$$"
   ]
  },
  {
   "cell_type": "code",
   "execution_count": 1,
   "metadata": {},
   "outputs": [
    {
     "data": {
      "text/plain": [
       "O(7^24)"
      ]
     },
     "execution_count": 1,
     "metadata": {},
     "output_type": "execute_result"
    }
   ],
   "source": [
    "p = 7\n",
    "K = Qp(p, 20)\n",
    "z  =  -1\n",
    "def zeta(K, n):\n",
    "    p = K.prime()\n",
    "    return (K(1 + p^(K.precision_cap() - 1))).polylog(n, p)\n",
    "24*K(2).log(p)*zeta(K,3)*K(z).polylog(4, p)+8/7*(K(2).log(p)^4+24*K(1/2).polylog(4,p))*K(z).log(p)*K(z).polylog(3,p)\\\n",
    "+(4/21*K(2).log(p)^4+32/7*K(1/2).polylog(4, p)+K(2).log(p)*zeta(K,3))*K(z).log(p)^3*K(1-z).log(p)"
   ]
  },
  {
   "cell_type": "code",
   "execution_count": 2,
   "metadata": {},
   "outputs": [
    {
     "data": {
      "text/plain": [
       "(O(7^24), O(7^26))"
      ]
     },
     "execution_count": 2,
     "metadata": {},
     "output_type": "execute_result"
    }
   ],
   "source": [
    "24*K(2).log(p)*zeta(K,3)*K(z).polylog(4, p),8/7*(K(2).log(p)^4+24*K(1/2).polylog(4,p))*K(z).log(p)*K(z).polylog(3,p)\\"
   ]
  },
  {
   "cell_type": "code",
   "execution_count": 3,
   "metadata": {},
   "outputs": [
    {
     "data": {
      "text/plain": [
       "O(7^64)"
      ]
     },
     "execution_count": 3,
     "metadata": {},
     "output_type": "execute_result"
    }
   ],
   "source": [
    "(4/21*K(2).log(p)^4+32/7*K(1/2).polylog(4, p)+K(2).log(p)*zeta(K,3))*K(z).log(p)^3*K(1-z).log(p)"
   ]
  },
  {
   "cell_type": "code",
   "execution_count": 4,
   "metadata": {},
   "outputs": [
    {
     "data": {
      "text/plain": [
       "20"
      ]
     },
     "execution_count": 4,
     "metadata": {},
     "output_type": "execute_result"
    }
   ],
   "source": [
    "K.precision_cap()"
   ]
  },
  {
   "cell_type": "code",
   "execution_count": 5,
   "metadata": {},
   "outputs": [
    {
     "name": "stdout",
     "output_type": "stream",
     "text": [
      "6*7^13 + 3*7^14 + 7^15 + 7^16 + 2*7^17 + O(7^18)\n",
      "6*7^14 + 3*7^15 + 7^16 + 7^17 + O(7^18)\n",
      "6*7^15 + 3*7^16 + 7^17 + O(7^18)\n",
      "6*7^18 + O(7^19)\n"
     ]
    }
   ],
   "source": [
    "print(K(1 + 7^10).polylog(4))\n",
    "print(K(1 + 7^11).polylog(4))\n",
    "print(K(1 + 7^12).polylog(4))\n",
    "print(K(1 + 7^15).polylog(4))"
   ]
  },
  {
   "cell_type": "code",
   "execution_count": 6,
   "metadata": {},
   "outputs": [
    {
     "name": "stdout",
     "output_type": "stream",
     "text": [
      "6*7^3 + 3*7^4 + 7^5 + 7^6 + 2*7^7 + 7^8 + 6*7^9 + 7^10 + 6*7^11 + 7^12 + 4*7^14 + 3*7^15 + 6*7^16 + 6*7^17 + O(7^18)\n",
      "6*7^3 + 3*7^4 + 7^5 + 7^6 + 2*7^7 + 7^8 + 6*7^9 + 7^10 + 6*7^11 + 7^12 + 4*7^14 + 3*7^15 + 6*7^16 + 6*7^17 + 3*7^18 + O(7^19)\n",
      "6*7^3 + 3*7^4 + 7^5 + 7^6 + 2*7^7 + 7^8 + 6*7^9 + 7^10 + 6*7^11 + 7^12 + 4*7^14 + 3*7^15 + 6*7^16 + 6*7^17 + 3*7^18 + O(7^19)\n",
      "6*7^3 + 3*7^4 + 7^5 + 7^6 + 2*7^7 + 7^8 + 6*7^9 + 7^10 + 6*7^11 + 7^12 + 4*7^14 + 3*7^15 + 6*7^16 + 6*7^17 + 3*7^18 + O(7^19)\n",
      "6*7^3 + 3*7^4 + 7^5 + 7^6 + 2*7^7 + 7^8 + 6*7^9 + 7^10 + 6*7^11 + 7^12 + 4*7^14 + 3*7^15 + 6*7^16 + 6*7^17 + 3*7^18 + O(7^19)\n"
     ]
    }
   ],
   "source": [
    "print(K(1 + 7^10).polylog(3))\n",
    "print(K(1 + 7^11).polylog(3))\n",
    "print(K(1 + 7^12).polylog(3))\n",
    "print(K(1 + 7^13).polylog(3))\n",
    "print(K(1 + 7^19).polylog(3))"
   ]
  },
  {
   "cell_type": "code",
   "execution_count": 7,
   "metadata": {},
   "outputs": [
    {
     "name": "stdout",
     "output_type": "stream",
     "text": [
      "2*7 + 4*7^2 + 7^3 + 3*7^4 + 2*7^5 + 4*7^6 + 2*7^7 + 7^8 + 4*7^9 + 3*7^10 + 3*7^11 + 4*7^12 + 6*7^13 + 2*7^14 + 6*7^15 + 2*7^16 + 5*7^17 + 4*7^18 + 7^19 + O(7^20)\n",
      "7 + 4*7^2 + 7^3 + 3*7^4 + 2*7^5 + 4*7^6 + 2*7^7 + 7^8 + 4*7^9 + 3*7^10 + 3*7^11 + 4*7^12 + 6*7^13 + 2*7^14 + 6*7^15 + 2*7^16 + 5*7^17 + 4*7^18 + 7^19 + O(7^20)\n"
     ]
    }
   ],
   "source": [
    "print(K(1/7).polylog(1, 7))\n",
    "print(K(1/7).polylog(1))"
   ]
  },
  {
   "cell_type": "code",
   "execution_count": 8,
   "metadata": {},
   "outputs": [
    {
     "data": {
      "text/plain": [
       "7 + O(7^20)"
      ]
     },
     "execution_count": 8,
     "metadata": {},
     "output_type": "execute_result"
    }
   ],
   "source": [
    "(K(1/7).polylog(1, 7)-K(1/7).polylog(1)) "
   ]
  },
  {
   "cell_type": "code",
   "execution_count": 9,
   "metadata": {},
   "outputs": [
    {
     "name": "stdout",
     "output_type": "stream",
     "text": [
      "6*7 + 5*7^2 + 7^3 + 7^4 + 3*7^5 + 5*7^6 + 4*7^7 + 2*7^10 + 3*7^11 + 5*7^13 + 6*7^14 + 6*7^15 + O(7^16)\n",
      "6*7 + 5*7^2 + 7^3 + 7^4 + 3*7^5 + 5*7^6 + 4*7^7 + 2*7^10 + 3*7^11 + 5*7^13 + 6*7^14 + 6*7^15 + O(7^16)\n"
     ]
    }
   ],
   "source": [
    "print(K(1 - 7).polylog(2, 7))\n",
    "print(K(1 - 7).polylog(2) - K(1-7).log(p)*K(7).log(p))"
   ]
  },
  {
   "cell_type": "code",
   "execution_count": 10,
   "metadata": {},
   "outputs": [
    {
     "data": {
      "text/html": [
       "<html><script type=\"math/tex; mode=display\">\\newcommand{\\Bold}[1]{\\mathbf{#1}}7^{2} + 4 \\cdot 7^{3} + 7^{4} + 3 \\cdot 7^{5} + 2 \\cdot 7^{6} + 4 \\cdot 7^{7} + 2 \\cdot 7^{8} + 7^{9} + 4 \\cdot 7^{10} + 3 \\cdot 7^{11} + 3 \\cdot 7^{12} + 4 \\cdot 7^{13} + 6 \\cdot 7^{14} + 2 \\cdot 7^{15} + O(7^{16})</script></html>"
      ],
      "text/plain": [
       "7^2 + 4*7^3 + 7^4 + 3*7^5 + 2*7^6 + 4*7^7 + 2*7^8 + 7^9 + 4*7^10 + 3*7^11 + 3*7^12 + 4*7^13 + 6*7^14 + 2*7^15 + O(7^16)"
      ]
     },
     "metadata": {},
     "output_type": "display_data"
    }
   ],
   "source": [
    "show(K(1 - 7).polylog(2, 7)-K(1 - 7).polylog(2))"
   ]
  },
  {
   "cell_type": "markdown",
   "metadata": {},
   "source": [
    "Let $x$ be the coordinate on $\\mathbf P ^1$ we want to compute\n",
    "$$\n",
    "Li_n(z)\n",
    "$$\n",
    "as a function of $z$ locally around $z_0$, we will use local parameter $t = x - z_0$, so $x = t + z_0$\n",
    "$$\\int_{P}^{Q} \\xi_{1} \\cdots \\xi_{n}\n",
    "= \\sum_{i=0}^{n} \\int_{P^{\\prime}}^{Q} \\xi_{1} \\cdots \\xi_{i} \\cdot \n",
    "              \\int_{P}^{P^{\\prime}} \\xi_{i+1} \\cdots \\xi_{n}$$\n",
    "hence as\n",
    "$$\n",
    "Li_n(z) = \\int_0^z dx/x dx/x ... dx/(1-x)\n",
    "$$\n",
    "we have\n",
    "$$\n",
    "Li_n(z) = \\sum_{i=0}^{n} \\int_{x=z0}^{z} dx/x ... ? \\cdot \n",
    "              Li_{n-i}(z0)\n",
    "              $$\n",
    "              $$ =\n",
    "          \\sum_{i=0}^{n} \\int_{t = 0}^{z - z_0} dt/(t + z_0) ... ? dt/ (1 - (t + z0)) \\cdot \n",
    "              Li_{n-i}(z0)\n",
    "              $$"
   ]
  },
  {
   "cell_type": "markdown",
   "metadata": {},
   "source": [
    "We want to write\n",
    "$$2Li_2(z) + \\log(z)\\log(1-z)$$\n",
    "in a power series around $z_0$, i.e. in terms of parameter $t = z - z_0$, $t + z_0 = z$.\n",
    "$$2Li_2(t + z_0) + \\log(-t - z_0)\\log(1-t -z_0)$$\n",
    "$$=2Li_2(t + z_0) + Li_1((1 +z_0)+t)Li_1(t + z_0)$$"
   ]
  },
  {
   "cell_type": "code",
   "execution_count": 69,
   "metadata": {},
   "outputs": [
    {
     "data": {
      "text/html": [
       "<html><script type=\"math/tex; mode=display\">\\newcommand{\\Bold}[1]{\\mathbf{#1}}-\\frac{9}{4}t^{2} + \\frac{9}{2}t^{3} - \\frac{135}{16}t^{4} + \\frac{81}{5}t^{5} - \\frac{162}{5}t^{6} + \\frac{9477}{140}t^{7} - \\frac{330237}{2240}t^{8} + \\frac{11664}{35}t^{9} - \\frac{544563}{700}t^{10} + \\frac{1436859}{770}t^{11} - \\frac{28205739}{6160}t^{12} + \\frac{114614109}{10010}t^{13} - \\frac{8152836381}{280280}t^{14} + \\frac{14992482051}{200200}t^{15} - \\frac{49967677143}{256256}t^{16} + \\frac{8724135456}{17017}t^{17} - \\frac{92526535305}{68068}t^{18} + \\frac{2347897303503}{646646}t^{19} - \\frac{50499873320661}{5173168}t^{20} + \\frac{298731803237631}{11316305}t^{21} - \\frac{2552176249802757}{35565530}t^{22} + \\frac{29148809775126597}{148728580}t^{23} + O(t^{24})</script></html>"
      ],
      "text/plain": [
       "-9/4*t^2 + 9/2*t^3 - 135/16*t^4 + 81/5*t^5 - 162/5*t^6 + 9477/140*t^7 - 330237/2240*t^8 + 11664/35*t^9 - 544563/700*t^10 + 1436859/770*t^11 - 28205739/6160*t^12 + 114614109/10010*t^13 - 8152836381/280280*t^14 + 14992482051/200200*t^15 - 49967677143/256256*t^16 + 8724135456/17017*t^17 - 92526535305/68068*t^18 + 2347897303503/646646*t^19 - 50499873320661/5173168*t^20 + 298731803237631/11316305*t^21 - 2552176249802757/35565530*t^22 + 29148809775126597/148728580*t^23 + O(t^24)"
      ]
     },
     "metadata": {},
     "output_type": "display_data"
    }
   ],
   "source": [
    "p = 3\n",
    "K = Qp(p, prec = 40)\n",
    "K= QQ\n",
    "T.<log2, Li2n1> = PolynomialRing(K)#, latex_names=[r\"\\log(2)\",\"Li_2(-1)\"])\n",
    "def pl(x,n): # Li_n(x)\n",
    "    if x == 2:\n",
    "        # Li_2(2) = 0\n",
    "        return 0\n",
    "        # Li_1(2) = 0\n",
    "    if x != -1:\n",
    "        raise ValueError\n",
    "    if n == 1:\n",
    "        return -log2\n",
    "    if n == 2:\n",
    "        return Li2n1\n",
    "def Liz(n, z0, prec = 20, p_branch = 0):\n",
    "    assert n >= 1\n",
    "    # use local parameter t = x - z0, so x = t + z0\n",
    "    K = z0.parent()\n",
    "    R.<t> = PowerSeriesRing(T, prec + 3)\n",
    "    F = sum(\n",
    "            reduce(lambda x, y : (x * y).integral(),\n",
    "                # the sequence of integrands first to be integrated to last\n",
    "                [1 / (t+z0) if j != 0 else 1/(1 - t - z0) for j in range(n - i, n)]\n",
    "                , QQ(1)) # such fancy, wow\n",
    "            * (pl(z0, n - i) if n != i else QQ(1))\n",
    "            for i in range(n + 1))\n",
    "    \n",
    "    return F\n",
    "\n",
    "\n",
    "D = Liz(2,K(2))\n",
    "t = D.parent().gen()\n",
    "show(D(p*t))"
   ]
  },
  {
   "cell_type": "code",
   "execution_count": 39,
   "metadata": {},
   "outputs": [
    {
     "name": "stdout",
     "output_type": "stream",
     "text": [
      "1 + 2*5 + 5^4 + 4*5^5 + 4*5^6 + 4*5^7 + 2*5^11 + 3*5^12 + 2*5^13 + 2*5^14 + 3*5^15 + 4*5^16 + 4*5^17 + 2*5^18 + 3*5^19 + O(5^20)\n",
      "O(5^20)\n"
     ]
    },
    {
     "data": {
      "text/plain": [
       "Power Series Ring in t over 5-adic Field with capped relative precision 20"
      ]
     },
     "execution_count": 39,
     "metadata": {},
     "output_type": "execute_result"
    }
   ],
   "source": [
    "print(-1/4 - Qp(5)(-1).polylog(1)/2)\n",
    "print(Qp(5)(-1).polylog(2))\n",
    "PS.<t> = PowerSeriesRing(Qp(5))\n",
    "Dp = PS([ x(Qp(5)(-1).polylog(1),Qp(5)(-1).polylog(2)) for x in D.coefficients()])\n",
    "Dp.parent()\n",
    "#Dp.newton_polygon().plot()"
   ]
  },
  {
   "cell_type": "code",
   "execution_count": 13,
   "metadata": {
    "scrolled": true
   },
   "outputs": [
    {
     "name": "stdout",
     "output_type": "stream",
     "text": [
      "[1 + 4*5 + 3*5^3 + 3*5^4 + 5^5 + 4*5^6 + 2*5^7 + 2*5^8 + 2*5^11 + 5^12 + 2*5^13 + 3*5^14 + 3*5^16 + 3*5^17 + 5^18 + O(5^19)]\n"
     ]
    },
    {
     "data": {
      "image/png": "[encoded data removed]",
      "text/plain": [
       "Graphics object consisting of 3 graphics primitives"
      ]
     },
     "execution_count": 13,
     "metadata": {},
     "output_type": "execute_result"
    }
   ],
   "source": [
    "Dpt = Dp(p*t).truncate().change_ring(Zp(p))\n",
    "print(\n",
    "[r for r,e in Dpt.roots()])\n",
    "Dpt.newton_polygon().plot()"
   ]
  },
  {
   "cell_type": "code",
   "execution_count": 66,
   "metadata": {},
   "outputs": [
    {
     "name": "stdout",
     "output_type": "stream",
     "text": [
      "roots [4 + 5 + 5^5 + 4*5^6 + 5^7 + 5^8 + 2*5^9 + 3*5^10 + 4*5^11 + 4*5^12 + 3*5^13 + 5^14 + 4*5^15 + 3*5^16 + 2*5^17 + 4*5^18 + 4*5^19 + 5^20 + 3*5^21 + 5^23 + 5^24 + 5^25 + 5^26 + 4*5^27 + 2*5^28 + 4*5^29 + O(5^30), 4 + 4*5 + 4*5^2 + 4*5^3 + 4*5^4 + 4*5^5 + 4*5^6 + 4*5^7 + 4*5^8 + 4*5^9 + 4*5^10 + 4*5^11 + 4*5^12 + 4*5^13 + 4*5^14 + 4*5^15 + 4*5^16 + 4*5^17 + 4*5^18 + 4*5^19 + 4*5^20 + 4*5^21 + 4*5^22 + 4*5^23 + 4*5^24 + 4*5^25 + 4*5^26 + 4*5^27 + 4*5^28 + 4*5^29 + O(5^30)]\n",
      "[4 + 5 + 5^5 + 4*5^6 + 5^7 + 5^8 + 2*5^9 + 3*5^10 + 4*5^11 + 4*5^12 + 3*5^13 + 5^14 + 4*5^15 + 3*5^16 + 2*5^17 + 4*5^18 + 4*5^19 + 5^20 + 3*5^21 + 5^23 + 5^24 + 5^25 + 5^26 + 4*5^27 + 2*5^28 + 4*5^29 + O(5^30), 4 + 4*5 + 4*5^2 + 4*5^3 + 4*5^4 + 4*5^5 + 4*5^6 + 4*5^7 + 4*5^8 + 4*5^9 + 4*5^10 + 4*5^11 + 4*5^12 + 4*5^13 + 4*5^14 + 4*5^15 + 4*5^16 + 4*5^17 + 4*5^18 + 4*5^19 + 4*5^20 + 4*5^21 + 4*5^22 + 4*5^23 + 4*5^24 + 4*5^25 + 4*5^26 + 4*5^27 + 4*5^28 + 4*5^29 + O(5^30)]\n",
      "\n",
      "\n",
      "root:  4 + 5 + 5^5 + 4*5^6 + 5^7 + 5^8 + 2*5^9 + 3*5^10 + 4*5^11 + 4*5^12 + 3*5^13 + 5^14 + 4*5^15 + 3*5^16 + 2*5^17 + 4*5^18 + 4*5^19 + 5^20 + 3*5^21 + 5^23 + 5^24 + 5^25 + 5^26 + 4*5^27 + 2*5^28 + 4*5^29 + O(5^30)\n",
      "7831632*x^2 + 2516597*x + 775935\n",
      "root:  4 + 4*5 + 4*5^2 + 4*5^3 + 4*5^4 + 4*5^5 + 4*5^6 + 4*5^7 + 4*5^8 + 4*5^9 + 4*5^10 + 4*5^11 + 4*5^12 + 4*5^13 + 4*5^14 + 4*5^15 + 4*5^16 + 4*5^17 + 4*5^18 + 4*5^19 + 4*5^20 + 4*5^21 + 4*5^22 + 4*5^23 + 4*5^24 + 4*5^25 + 4*5^26 + 4*5^27 + 4*5^28 + 4*5^29 + O(5^30)\n",
      "x + 1\n"
     ]
    }
   ],
   "source": [
    "def Liz(n, z0, prec = 30, p_branch = 0):\n",
    "    assert n >= 1\n",
    "    # use local parameter t = x - z0, so x = t + z0\n",
    "    K = z0.parent()\n",
    "    R.<t> = PowerSeriesRing(K, prec + 3)\n",
    "    F = sum(\n",
    "            reduce(lambda x, y : (x * y).integral(),\n",
    "                # the sequence of integrands first to be integrated to last\n",
    "                [1 / (t+z0) if j != 0 else 1/(1 - t - z0) for j in range(n - i, n)]\n",
    "                , R(1)) # such fancy, wow\n",
    "            * (z0.polylog(n - i, p_branch = p_branch) if n != i else K(1))\n",
    "            for i in range(n + 1))\n",
    "    \n",
    "    return F\n",
    "\n",
    "p = 5\n",
    "#F.<a,b> = FreeMonoid()\n",
    "K = Qp(p, prec = 30)\n",
    "RR.<logz,logone_z, Li2z> = PolynomialRing(K)\n",
    "\n",
    "def allroots(f, p, p_branch = 0): # find all the roots of the dilog bit\n",
    "    K = f.base_ring().base_ring()\n",
    "    allro = []\n",
    "    for z0 in [K(-1)]:#K.teichmuller_system():#[K(-1)]:#[K(0)] +  + [K(1/p)]: # reps for all disks\n",
    "        try:\n",
    "            if z0 == 1:\n",
    "                continue\n",
    "                z0 = K(1 + p)\n",
    "            #print(\"z0\",z0)\n",
    "            Dz0 = f.subs({logz :-Liz(1, 1 + z0),logone_z :-Liz(1, z0), Li2z : Liz(2, z0)})\n",
    "            #Dz0 = K(2).log()*K(3).log()*Liz(2, z0) - K(3).polylog(2)*Liz(1, 1 + z0)*Liz(1, z0) # function based at z0\n",
    "            #Dz00=[-K(2).log()*K(3).log()*Liz(2, z0), - (1/2*(K(3).polylog(2) - K(-2).polylog(2)))*Liz(1, z0)^2, +  K(3).polylog(2)*Liz(1, 1 + z0)*Liz(1, z0)] # function based at z0\n",
    "            #print(sum([xx(K(5/2)) for xx in Dz00]))\n",
    "            #print(Dz0(K(5/2)))\n",
    "            #print(\"aa\",Liz(1, z0))\n",
    "            \n",
    "            #224\n",
    "            #Dz0 = -K(2).log(p_branch)*K(3).log(p_branch)*Liz(2, z0) - (1/2*(K(3).polylog(2) - K(-2).polylog(2)))*Liz(1, z0)^2 +  K(3).polylog(2)*Liz(1, 1 + z0)*Liz(1, z0) # function based at z0\n",
    "            \n",
    "            #Dz0 = Liz(1, z0) # log(1-z)  up to sign...\n",
    "            #222Dz0 = K(2).log()*K(3).log()*Liz(2, z0) - K(3).polylog(2)*Liz(1, 1 + z0)*Liz(1, z0) # function based at z0\n",
    "            #223Dz0 = K(2).log()*K(3).log()*Liz(2, z0) - K(-2).polylog(2)*Liz(1, 1 + z0)*Liz(1, z0) # function based at z0\n",
    "            #Dz0 = Liz(1, 1 + z0)-Liz(1, z0) # function based at z0\n",
    "            #Dz0 = Liz(1, 1 + z0)^2/2 - Liz(2, z0) # function based at z0\n",
    "            #print(Dz0 - sum(Dz00))\n",
    "            #print(Dz0(K(5/2)))\n",
    "            \n",
    "            # log(z) up to sign\n",
    "            #Dz0 = Liz(1, 1 + z0)\n",
    "            \n",
    "            t = Dz0.parent().gen()\n",
    "            ro = Dz0(p*t).truncate().roots()\n",
    "            #print(ro)\n",
    "            #return Dz0(p*t).truncate(20).newton_polygon()\n",
    "            #print(Dz0(p*t).truncate()(1/2))\n",
    "            #print(ro)\n",
    "            allro += [z0 + p* r for (r,i) in ro]\n",
    "            print(\"roots\", [z0 + p*r for (r,i) in ro])\n",
    "        except (ArithmeticError, ValueError) as e:\n",
    "            print(\"Error!\",z0,e)\n",
    "    return allro\n",
    "\n",
    "z0 = K(-1-p)\n",
    "#D = Liz(2,K(-1))\n",
    "#D = 2*Liz(2, z0) + Liz(1, 1 + z0)*Liz(1, z0) \n",
    "p_branch = K(0)\n",
    "#allr = allroots(-K(2).log(p_branch)*K(3).log(p_branch)*Li2z - (1/2*(K(3).polylog(2) - K(-2).polylog(2)))*logone_z^2 +  K(3).polylog(2)*logz*logone_z,p)\n",
    "#allr = allroots(logz, p)\n",
    "#allr = allroots(Li2z, p)\n",
    "#allr = allroots(K(1-3).log(p_branch)*K(3).log(p_branch)*Li2z - K(3).polylog(2)*logz*logone_z,p)\n",
    "#q = 37\n",
    "#a211 = (-2*(K(-4).polylog(2)) + K(16/11).polylog(2) - K(-10).polylog(2) - K(5).log()*K(11).log() + (K(11).log())^2/2)/5\n",
    "#allr = allroots(-K(2).log(p_branch)*K(11).log(p_branch)*Li2z - a211*logz*logone_z,p)\n",
    "allr = allroots(-Li2z - logz^2/2,p)\n",
    "#allr = allroots(K(1+q).log(p_branch)*K(q).log(p_branch)*Li2z - K(-q).polylog(2)*logz*logone_z,p)\n",
    "print(allr)\n",
    "\n",
    "print(\"\\n\")\n",
    "for r in allr:\n",
    "    print(\"root: \",r)\n",
    "    print(algdep(r, 2))\n",
    "#allr.plot()"
   ]
  },
  {
   "cell_type": "code",
   "execution_count": 8,
   "metadata": {},
   "outputs": [
    {
     "data": {
      "text/plain": [
       "11*x^6 + 3*x^5 + 15*x^4 - 2*x^3 + 8*x^2 - 10*x - 1"
      ]
     },
     "execution_count": 8,
     "metadata": {},
     "output_type": "execute_result"
    }
   ],
   "source": [
    "algdep(3 + 5^2 + 2*5^3 + 5^4 + 3*5^5 + 5^6 + + 5^7 + 5^9 + 2*5^10 + 3*5^11 + 2*5^12 + 3*5^13 + O(5^14), 6)"
   ]
  },
  {
   "cell_type": "code",
   "execution_count": 34,
   "metadata": {},
   "outputs": [
    {
     "name": "stdout",
     "output_type": "stream",
     "text": [
      "z0 2 + 5 + 2*5^2 + 5^3 + 3*5^4 + 4*5^5 + 2*5^6 + 3*5^7 + 3*5^9 + 2*5^10 + 2*5^11 + 4*5^13 + 5^14 + 3*5^15 + 2*5^16 + 4*5^17 + 4*5^19 + 3*5^20 + 4*5^21 + 4*5^23 + 5^24 + 2*5^25 + 4*5^26 + 5^27 + O(5^28)\n"
     ]
    },
    {
     "data": {
      "text/plain": [
       "(4*5^19 + 4*5^21 + 2*5^24 + 2*5^25 + 4*5^26 + 5^27 + 2*5^28 + 2*5^29 + 5^30 + 4*5^31 + 3*5^33 + 2*5^34 + 5^35 + 5^36 + 5^37 + 2*5^38 + 2*5^39 + 4*5^40 + 4*5^41 + 3*5^42 + 3*5^43 + 2*5^44 + 3*5^45 + O(5^46))*t^19 + (3*5^19 + 3*5^20 + 3*5^21 + 5^23 + 3*5^24 + 4*5^25 + 3*5^26 + 4*5^27 + 2*5^28 + 4*5^30 + 5^32 + 3*5^33 + 2*5^35 + 2*5^36 + 5^38 + 4*5^39 + 4*5^41 + 3*5^44 + O(5^45))*t^18 + (5^17 + 2*5^18 + 4*5^19 + 4*5^21 + 3*5^22 + 2*5^23 + 3*5^24 + 4*5^26 + 4*5^27 + 4*5^28 + 3*5^29 + 2*5^31 + 2*5^32 + 5^34 + 2*5^36 + 5^37 + 5^38 + 2*5^39 + 2*5^41 + 3*5^43 + O(5^44))*t^17 + (2*5^16 + 3*5^17 + 4*5^18 + 3*5^19 + 4*5^20 + 2*5^21 + 2*5^22 + 4*5^24 + 4*5^25 + 2*5^26 + 4*5^27 + 2*5^28 + 4*5^29 + 5^33 + 5^34 + 2*5^35 + 3*5^37 + 5^38 + 4*5^39 + 3*5^41 + 4*5^42 + O(5^43))*t^16 + (5^13 + 4*5^14 + 2*5^15 + 2*5^16 + 3*5^19 + 3*5^20 + 5^22 + 3*5^23 + 3*5^24 + 2*5^25 + 4*5^26 + 2*5^27 + 5^28 + 4*5^29 + 4*5^30 + 5^31 + 2*5^32 + 4*5^33 + 3*5^34 + 5^35 + 4*5^37 + 5^39 + 5^40 + O(5^41))*t^15 + (5^13 + 2*5^14 + 5^15 + 3*5^16 + 2*5^18 + 2*5^19 + 5^20 + 5^22 + 4*5^24 + 2*5^25 + 4*5^26 + 4*5^27 + 3*5^28 + 2*5^29 + 4*5^30 + 2*5^31 + 4*5^32 + 3*5^33 + 4*5^34 + 4*5^35 + 5^36 + 3*5^37 + 3*5^39 + O(5^41))*t^14 + (4*5^12 + 4*5^13 + 3*5^14 + 3*5^15 + 3*5^17 + 3*5^18 + 4*5^19 + 4*5^20 + 4*5^21 + 2*5^23 + 5^24 + 3*5^25 + 5^27 + 2*5^29 + 2*5^30 + 5^31 + 4*5^32 + 3*5^33 + 4*5^34 + 3*5^35 + 2*5^36 + 4*5^37 + 2*5^38 + 3*5^39 + O(5^40))*t^13 + (3*5^11 + 2*5^12 + 4*5^13 + 5^14 + 3*5^15 + 4*5^17 + 4*5^18 + 4*5^19 + 4*5^21 + 5^22 + 2*5^24 + 2*5^25 + 4*5^26 + 3*5^27 + 4*5^28 + 3*5^29 + 2*5^30 + 4*5^32 + 2*5^34 + 3*5^36 + 4*5^37 + 5^38 + O(5^39))*t^12 + (3*5^10 + 4*5^11 + 5^12 + 2*5^14 + 4*5^15 + 4*5^16 + 4*5^17 + 2*5^18 + 3*5^21 + 3*5^22 + 3*5^25 + 2*5^26 + 5^27 + 2*5^28 + 4*5^29 + 2*5^31 + 5^32 + 3*5^33 + 5^34 + 2*5^35 + 2*5^37 + O(5^38))*t^11 + (5^8 + 4*5^9 + 3*5^10 + 4*5^11 + 3*5^12 + 3*5^13 + 2*5^16 + 3*5^17 + 5^18 + 3*5^21 + 2*5^22 + 3*5^23 + 5^24 + 4*5^25 + 5^26 + 2*5^27 + 4*5^28 + 2*5^29 + 5^30 + 4*5^31 + 4*5^32 + 5^33 + 3*5^34 + O(5^36))*t^10 + (4*5^8 + 5^10 + 5^11 + 3*5^12 + 3*5^14 + 5^15 + 2*5^16 + 5^19 + 5^20 + 2*5^23 + 2*5^24 + 3*5^25 + 4*5^26 + 5^27 + 2*5^29 + 5^30 + 3*5^31 + 2*5^32 + 3*5^33 + 5^34 + 3*5^35 + O(5^36))*t^9 + (5^7 + 5^9 + 4*5^10 + 4*5^11 + 4*5^12 + 2*5^13 + 5^14 + 5^15 + 2*5^16 + 5^17 + 2*5^18 + 3*5^19 + 5^20 + 4*5^21 + 5^23 + 5^26 + 3*5^27 + 3*5^28 + 3*5^29 + 5^30 + 5^31 + 5^32 + 4*5^33 + 2*5^34 + O(5^35))*t^8 + (2*5^6 + 4*5^7 + 5^8 + 4*5^9 + 5^11 + 5^12 + 3*5^14 + 2*5^15 + 2*5^16 + 4*5^17 + 3*5^19 + 3*5^20 + 3*5^21 + 2*5^23 + 5^24 + 3*5^26 + 2*5^27 + 4*5^28 + 4*5^29 + 5^30 + 3*5^31 + 5^33 + O(5^34))*t^7 + (2*5^5 + 3*5^6 + 4*5^7 + 4*5^8 + 5^9 + 5^10 + 3*5^11 + 5^12 + 4*5^13 + 5^14 + 5^15 + 3*5^16 + 4*5^17 + 5^18 + 4*5^19 + 5^20 + 5^22 + 5^24 + 5^25 + 4*5^26 + 5^27 + 3*5^28 + 3*5^29 + 2*5^30 + 4*5^31 + 4*5^32 + O(5^33))*t^6 + (2*5^4 + 4*5^6 + 4*5^7 + 2*5^8 + 3*5^9 + 2*5^10 + 3*5^12 + 4*5^13 + 4*5^14 + 4*5^15 + 3*5^16 + 3*5^17 + 2*5^18 + 4*5^19 + 4*5^20 + 4*5^21 + 2*5^22 + 2*5^23 + 3*5^24 + 2*5^25 + 2*5^26 + 3*5^27 + 2*5^28 + 3*5^29 + 5^30 + 4*5^31 + O(5^32))*t^5 + (5^6 + 2*5^7 + 3*5^8 + 3*5^9 + 4*5^10 + 4*5^13 + 5^14 + 4*5^15 + 3*5^16 + 2*5^17 + 4*5^18 + 4*5^19 + 2*5^20 + 2*5^21 + 4*5^24 + 2*5^25 + 5^26 + 4*5^27 + 3*5^28 + 2*5^29 + 3*5^30 + 3*5^31 + O(5^32))*t^4 + (5^3 + 4*5^4 + 5^5 + 4*5^6 + 2*5^10 + 2*5^11 + 4*5^12 + 2*5^13 + 2*5^16 + 3*5^17 + 3*5^18 + 3*5^19 + 4*5^21 + 5^23 + 2*5^25 + 3*5^26 + 3*5^28 + 5^29 + 2*5^30 + O(5^31))*t^3 + (5^2 + 4*5^3 + 4*5^4 + 3*5^5 + 5^6 + 2*5^7 + 2*5^8 + 3*5^9 + 3*5^10 + 4*5^11 + 4*5^12 + 3*5^13 + 3*5^14 + 3*5^17 + 2*5^18 + 4*5^19 + 3*5^20 + 2*5^21 + 5^22 + 3*5^23 + 2*5^24 + 3*5^25 + 2*5^27 + 3*5^28 + 2*5^29 + O(5^30))*t^2 + (2*5^2 + 4*5^3 + 3*5^4 + 2*5^5 + 2*5^8 + 4*5^9 + 5^10 + 5^11 + 3*5^12 + 3*5^13 + 4*5^14 + 5^15 + 4*5^16 + 3*5^17 + 3*5^18 + 5^19 + 3*5^20 + 4*5^21 + 2*5^22 + 3*5^24 + 2*5^25 + 5^27 + O(5^29))*t + 5^2 + 5^3 + 4*5^4 + 2*5^5 + 3*5^7 + 4*5^9 + 5^11 + 5^12 + 2*5^13 + 3*5^15 + 4*5^16 + 5^17 + 2*5^18 + 3*5^19 + 3*5^21 + 3*5^22 + 2*5^24 + 4*5^25 + 2*5^27 + O(5^28)"
      ]
     },
     "execution_count": 34,
     "metadata": {},
     "output_type": "execute_result"
    }
   ],
   "source": [
    "allroots(Li2z,p)"
   ]
  },
  {
   "cell_type": "code",
   "execution_count": 26,
   "metadata": {},
   "outputs": [],
   "source": [
    "allroots(Li2z - logz*logone_z,p).plot??"
   ]
  },
  {
   "cell_type": "code",
   "execution_count": 30,
   "metadata": {},
   "outputs": [
    {
     "name": "stdout",
     "output_type": "stream",
     "text": [
      "z0 2 + 5 + 2*5^2 + 5^3 + 3*5^4 + 4*5^5 + 2*5^6 + 3*5^7 + 3*5^9 + 2*5^10 + 2*5^11 + 4*5^13 + 5^14 + 3*5^15 + 2*5^16 + 4*5^17 + 4*5^19 + 3*5^20 + 4*5^21 + 4*5^23 + 5^24 + 2*5^25 + 4*5^26 + 5^27 + O(5^28)\n",
      "z0 2 + 5 + 2*5^2 + 5^3 + 3*5^4 + 4*5^5 + 2*5^6 + 3*5^7 + 3*5^9 + 2*5^10 + 2*5^11 + 4*5^13 + 5^14 + 3*5^15 + 2*5^16 + 4*5^17 + 4*5^19 + 3*5^20 + 4*5^21 + 4*5^23 + 5^24 + 2*5^25 + 4*5^26 + 5^27 + O(5^28)\n"
     ]
    },
    {
     "data": {
      "image/png": "[encoded data removed]",
      "text/plain": [
       "Graphics object consisting of 4 graphics primitives"
      ]
     },
     "execution_count": 30,
     "metadata": {},
     "output_type": "execute_result"
    }
   ],
   "source": [
    "allroots(p*Li2z - logz*logone_z,p).plot() +  points(allroots(p*Li2z - logz*logone_z,p).vertices())"
   ]
  },
  {
   "cell_type": "code",
   "execution_count": null,
   "metadata": {},
   "outputs": [],
   "source": [
    "allroots(p*Li2z - logz*logone_z,p).plot"
   ]
  },
  {
   "cell_type": "code",
   "execution_count": 24,
   "metadata": {},
   "outputs": [
    {
     "name": "stdout",
     "output_type": "stream",
     "text": [
      "z0 2 + 5 + 2*5^2 + 5^3 + 3*5^4 + 4*5^5 + 2*5^6 + 3*5^7 + 3*5^9 + 2*5^10 + 2*5^11 + 4*5^13 + 5^14 + 3*5^15 + 2*5^16 + 4*5^17 + 4*5^19 + 3*5^20 + 4*5^21 + 4*5^23 + 5^24 + 2*5^25 + 4*5^26 + 5^27 + O(5^28)\n"
     ]
    },
    {
     "data": {
      "image/png": "[encoded data removed]",
      "text/plain": [
       "Graphics object consisting of 3 graphics primitives"
      ]
     },
     "execution_count": 24,
     "metadata": {},
     "output_type": "execute_result"
    }
   ],
   "source": [
    "allroots(Li2z,p).plot()"
   ]
  },
  {
   "cell_type": "code",
   "execution_count": null,
   "metadata": {},
   "outputs": [],
   "source": [
    "p = 5\n",
    "allr = allroots(p)\n",
    "print(len(allr))  \n",
    "[r for r in allr]"
   ]
  },
  {
   "cell_type": "code",
   "execution_count": null,
   "metadata": {},
   "outputs": [],
   "source": [
    "p = 11\n",
    "allr = allroots(p)\n",
    "print(len(allr))  \n",
    "for r  in allr:\n",
    "    print(r)\n",
    "    print(algdep(r,2))\n",
    "    #try:\n",
    "    #    print(r.rational_reconstruction())\n",
    "    #except ArithmeticError: # can't reconstruct\n",
    "    #    print(r)\n",
    "    #    print(algdep(r,2))"
   ]
  },
  {
   "cell_type": "code",
   "execution_count": null,
   "metadata": {},
   "outputs": [],
   "source": [
    "show(D.truncate(4))"
   ]
  },
  {
   "cell_type": "code",
   "execution_count": null,
   "metadata": {},
   "outputs": [],
   "source": [
    "FF = D\n",
    "t = FF.parent().gen()\n",
    "print(allr)\n",
    "allr= FF(p*t).truncate().change_ring(Zp(p)).roots()\n",
    "[algdep(r,2) for r,e in allr]"
   ]
  },
  {
   "cell_type": "code",
   "execution_count": null,
   "metadata": {},
   "outputs": [],
   "source": [
    "poo = FF(p*t).truncate().change_ring(Zp(p))\n",
    "[poo.valuation_of_coefficient(i) for i in range(20)]"
   ]
  },
  {
   "cell_type": "code",
   "execution_count": null,
   "metadata": {},
   "outputs": [],
   "source": [
    "Np = poo.parent()(poo).newton_polygon()\n",
    "Np"
   ]
  },
  {
   "cell_type": "code",
   "execution_count": null,
   "metadata": {},
   "outputs": [],
   "source": [
    "Np.plot()"
   ]
  },
  {
   "cell_type": "code",
   "execution_count": null,
   "metadata": {},
   "outputs": [],
   "source": [
    "show(FF(2 - K(-1)))\n",
    "show(FF(1/2 - K(-1)))\n",
    "show(FF(-1 - K(-1)))"
   ]
  },
  {
   "cell_type": "code",
   "execution_count": null,
   "metadata": {},
   "outputs": [],
   "source": [
    "def testliz(N = 100):\n",
    "    for i in range(N):\n",
    "        # pick random prime\n",
    "        p = random_prime(100)\n",
    "        n = randrange(1,10)\n",
    "        # pick two close p-adics\n",
    "        a = Qp(p).random_element()\n",
    "        b = a + p*Zp(p).random_element()\n",
    "        if (b - a).valuation() <= 0: # if a = p^-100 + O(p^-80) this can \"happen\"\n",
    "            continue\n",
    "        try:\n",
    "            if Liz(n, a)(b - a)!=b.polylog(n):\n",
    "                print(\"p,n\",p,n)\n",
    "                print(\"b\",b)\n",
    "                print(\"a\",a)\n",
    "                print(\"b-a\",b-a)\n",
    "                print(\"liz\",Liz(n, a)(b - a))\n",
    "                print(\"poly\",b.polylog(n))\n",
    "        except Exception as e:\n",
    "            print(e)\n",
    "            print(\"p,n\",p,n)\n",
    "            print(\"b\",b)\n",
    "            print(\"a\",a)\n",
    "            print(\"b-a\",b-a)\n",
    "            print(\"liz\",Liz(n, a)(b - a))\n",
    "            print(\"poly\",b.polylog(n))"
   ]
  },
  {
   "cell_type": "code",
   "execution_count": null,
   "metadata": {},
   "outputs": [],
   "source": [
    "testliz()"
   ]
  },
  {
   "cell_type": "code",
   "execution_count": null,
   "metadata": {},
   "outputs": [],
   "source": [
    "R.<t> = PowerSeriesRing(QQ)\n",
    "oeis(\n",
    "[x.numerator() for x in list(\n",
    "reduce(lambda x, y : (x * y).integral(), 2*[1/(1+t)],1)\n",
    ")][4:]\n",
    ")"
   ]
  },
  {
   "cell_type": "code",
   "execution_count": null,
   "metadata": {},
   "outputs": [],
   "source": [
    "oeis(\n",
    "    \n",
    "[x.numerator() for x in list((((1 / (1 + t)).integral())/(1+t)).integral())][2:]\n",
    ")"
   ]
  },
  {
   "cell_type": "code",
   "execution_count": 24,
   "metadata": {},
   "outputs": [
    {
     "name": "stdout",
     "output_type": "stream",
     "text": [
      "21\n",
      "{(-1, 1/2, 2), (-7/4, -4/7, 4/11, 7/11, 11/7, 11/4), (-121/7, -7/121, 7/128, 121/128, 128/121, 128/7), (-7, -1/7, 1/8, 7/8, 8/7, 8)}\n"
     ]
    },
    {
     "data": {
      "text/plain": [
       "[-1,\n",
       " 1/2,\n",
       " 2,\n",
       " -7/4,\n",
       " -4/7,\n",
       " 4/11,\n",
       " 7/11,\n",
       " 11/7,\n",
       " 11/4,\n",
       " -121/7,\n",
       " -7/121,\n",
       " 7/128,\n",
       " 121/128,\n",
       " 128/121,\n",
       " 128/7,\n",
       " -7,\n",
       " -1/7,\n",
       " 1/8,\n",
       " 7/8,\n",
       " 8/7,\n",
       " 8]"
      ]
     },
     "execution_count": 24,
     "metadata": {},
     "output_type": "execute_result"
    }
   ],
   "source": [
    "def issunit(S, n):\n",
    "    S = set(S)\n",
    "    return set(n.numerator().prime_divisors()).issubset(S) and set(n.denominator().prime_divisors()).issubset(S)\n",
    "def S3orbit(x):\n",
    "    return {x, 1-x, 1/(1-x), 1- 1/(1-x), 1/(1-1/(1-x)), 1- 1/(1-1/(1-x))}\n",
    "def Sunits(S):\n",
    "    S = set(S)\n",
    "    units = []\n",
    "    for x in QQ.range_by_height(140):\n",
    "        if x == 0 or x == 1:# or x == -1:\n",
    "            continue\n",
    "        if issunit(S, x) and issunit(S, 1-x):# and issunit(S, 1+x):\n",
    "            units += [x]\n",
    "    return sum([list(l) for l in list(set(tuple(sorted(list(S3orbit(a)))) for a in units))], [])\n",
    "print(len([(qq) for qq in Sunits([2,7,11])]))\n",
    "assert len(Sunits([2,3])) == 21\n",
    "print(set(tuple(sorted(tuple(S3orbit(a)))) for a in Sunits([2,7,11])))\n",
    "Sunits([2,7,11])"
   ]
  },
  {
   "cell_type": "code",
   "execution_count": 43,
   "metadata": {},
   "outputs": [
    {
     "name": "stdout",
     "output_type": "stream",
     "text": [
      "0\n",
      "-1 [0, 1, 0, 0, 0, 0]\n",
      "1/2 [-1, -1, 0, 0, 0, 0]\n",
      "2 [1, 0, 0, 0, 0, 0]\n",
      "-7/4 [-2, -2, 1, 0, 0, 1]\n",
      "-4/7 [2, 0, -1, -1, 0, 1]\n",
      "4/11 [2, 0, 0, 1, -1, -1]\n",
      "7/11 [0, 2, 1, 0, -1, -1]\n",
      "11/7 [0, 2, -1, -1, 1, 0]\n",
      "11/4 [-2, -2, 0, 1, 1, 0]\n",
      "-121/7 [0, 7, -1, -1, 2, 0]\n",
      "-7/121 [0, 7, 1, 0, -2, -2]\n",
      "7/128 [-7, -7, 1, 0, 0, 2]\n",
      "121/128 [-7, -7, 0, 1, 2, 0]\n",
      "128/121 [7, 0, 0, 1, -2, -2]\n",
      "128/7 [7, 0, -1, -1, 0, 2]\n",
      "-7 [0, 3, 1, 0, 0, 0]\n",
      "-1/7 [0, 3, -1, -1, 0, 0]\n",
      "1/8 [-3, -3, 0, 1, 0, 0]\n",
      "7/8 [-3, -3, 1, 0, 0, 0]\n",
      "8/7 [3, 0, -1, -1, 0, 0]\n",
      "8 [3, 0, 0, 1, 0, 0]\n"
     ]
    },
    {
     "data": {
      "text/html": [
       "<html><script type=\"math/tex; mode=display\">\\newcommand{\\Bold}[1]{\\mathbf{#1}}\\left(\\begin{array}{rrrrrrrrrr}\n",
       "0 & 0 & 0 & 0 & 0 & 0 & 0 & 0 & 0 & 0 \\\\\n",
       "1 & 0 & 0 & 0 & 0 & 0 & 0 & 0 & 0 & -{\\rm Li}_{2}\\left(\\frac{1}{2}\\right) \\\\\n",
       "0 & 0 & 0 & 0 & 0 & 0 & 0 & 0 & 0 & 0 \\\\\n",
       "4 & 0 & -2 & -2 & 0 & 1 & 0 & 0 & 0 & -{\\rm Li}_{2}\\left(-\\frac{7}{4}\\right) \\\\\n",
       "0 & -2 & 2 & 0 & 1 & -1 & 0 & 0 & 0 & -{\\rm Li}_{2}\\left(-\\frac{4}{7}\\right) \\\\\n",
       "0 & 2 & -2 & 0 & 0 & 0 & 0 & -1 & 1 & -{\\rm Li}_{2}\\left(\\frac{4}{11}\\right) \\\\\n",
       "0 & 0 & 0 & 2 & 0 & -1 & -2 & 0 & 1 & -{\\rm Li}_{2}\\left(\\frac{7}{11}\\right) \\\\\n",
       "0 & 0 & 0 & -2 & 1 & 0 & 2 & -1 & 0 & -{\\rm Li}_{2}\\left(\\frac{11}{7}\\right) \\\\\n",
       "4 & -2 & 0 & 0 & 0 & 0 & -2 & 1 & 0 & -{\\rm Li}_{2}\\left(\\frac{11}{4}\\right) \\\\\n",
       "0 & 0 & 0 & -7 & 1 & 0 & 14 & -2 & 0 & -{\\rm Li}_{2}\\left(-\\frac{121}{7}\\right) \\\\\n",
       "0 & 0 & 0 & 7 & 0 & -2 & -14 & 0 & 4 & -{\\rm Li}_{2}\\left(-\\frac{7}{121}\\right) \\\\\n",
       "49 & 0 & -14 & -7 & 0 & 2 & 0 & 0 & 0 & -{\\rm Li}_{2}\\left(\\frac{7}{128}\\right) \\\\\n",
       "49 & -7 & 0 & 0 & 0 & 0 & -14 & 2 & 0 & -{\\rm Li}_{2}\\left(\\frac{121}{128}\\right) \\\\\n",
       "0 & 7 & -14 & 0 & 0 & 0 & 0 & -2 & 4 & -{\\rm Li}_{2}\\left(\\frac{128}{121}\\right) \\\\\n",
       "0 & -7 & 14 & 0 & 1 & -2 & 0 & 0 & 0 & -{\\rm Li}_{2}\\left(\\frac{128}{7}\\right) \\\\\n",
       "0 & 0 & 0 & 3 & 0 & 0 & 0 & 0 & 0 & -{\\rm Li}_{2}\\left(-7\\right) \\\\\n",
       "0 & 0 & 0 & -3 & 1 & 0 & 0 & 0 & 0 & -{\\rm Li}_{2}\\left(-\\frac{1}{7}\\right) \\\\\n",
       "9 & -3 & 0 & 0 & 0 & 0 & 0 & 0 & 0 & -{\\rm Li}_{2}\\left(\\frac{1}{8}\\right) \\\\\n",
       "9 & 0 & 0 & -3 & 0 & 0 & 0 & 0 & 0 & -{\\rm Li}_{2}\\left(\\frac{7}{8}\\right) \\\\\n",
       "0 & -3 & 0 & 0 & 1 & 0 & 0 & 0 & 0 & -{\\rm Li}_{2}\\left(\\frac{8}{7}\\right) \\\\\n",
       "0 & 3 & 0 & 0 & 0 & 0 & 0 & 0 & 0 & -{\\rm Li}_{2}\\left(8\\right)\n",
       "\\end{array}\\right)</script></html>"
      ],
      "text/plain": [
       "21 x 10 dense matrix over Symbolic Ring (use the '.str()' method to see the entries)"
      ]
     },
     "metadata": {},
     "output_type": "display_data"
    },
    {
     "ename": "ValueError",
     "evalue": "too many values to unpack (expected 2)",
     "output_type": "error",
     "traceback": [
      "\u001b[1;31m---------------------------------------------------------------------------\u001b[0m",
      "\u001b[1;31mValueError\u001b[0m                                Traceback (most recent call last)",
      "\u001b[1;32m<ipython-input-43-a639a541e445>\u001b[0m in \u001b[0;36m<module>\u001b[1;34m()\u001b[0m\n\u001b[0;32m     54\u001b[0m         \u001b[0mprint\u001b[0m\u001b[1;33m(\u001b[0m\u001b[0mSintSelSub\u001b[0m\u001b[1;33m(\u001b[0m\u001b[0mS\u001b[0m\u001b[1;33m,\u001b[0m \u001b[0ml\u001b[0m\u001b[1;33m)\u001b[0m\u001b[1;33m)\u001b[0m\u001b[1;33m\u001b[0m\u001b[1;33m\u001b[0m\u001b[0m\n\u001b[0;32m     55\u001b[0m \u001b[1;31m#findvals([2,3],5)\u001b[0m\u001b[1;33m\u001b[0m\u001b[1;33m\u001b[0m\u001b[1;33m\u001b[0m\u001b[0m\n\u001b[1;32m---> 56\u001b[1;33m \u001b[0mshow\u001b[0m\u001b[1;33m(\u001b[0m\u001b[0mlist\u001b[0m\u001b[1;33m(\u001b[0m\u001b[0mSelmerIm\u001b[0m\u001b[1;33m(\u001b[0m\u001b[1;33m[\u001b[0m\u001b[0mInteger\u001b[0m\u001b[1;33m(\u001b[0m\u001b[1;36m2\u001b[0m\u001b[1;33m)\u001b[0m\u001b[1;33m,\u001b[0m\u001b[0mInteger\u001b[0m\u001b[1;33m(\u001b[0m\u001b[1;36m7\u001b[0m\u001b[1;33m)\u001b[0m\u001b[1;33m,\u001b[0m \u001b[0mInteger\u001b[0m\u001b[1;33m(\u001b[0m\u001b[1;36m11\u001b[0m\u001b[1;33m)\u001b[0m\u001b[1;33m]\u001b[0m\u001b[1;33m,\u001b[0m\u001b[0mInteger\u001b[0m\u001b[1;33m(\u001b[0m\u001b[1;36m3\u001b[0m\u001b[1;33m)\u001b[0m\u001b[1;33m)\u001b[0m\u001b[1;33m)\u001b[0m\u001b[1;33m)\u001b[0m\u001b[1;33m\u001b[0m\u001b[1;33m\u001b[0m\u001b[0m\n\u001b[0m",
      "\u001b[1;32m<ipython-input-43-a639a541e445>\u001b[0m in \u001b[0;36mSelmerIm\u001b[1;34m(S, p)\u001b[0m\n\u001b[0;32m     47\u001b[0m     \u001b[0mr\u001b[0m \u001b[1;33m=\u001b[0m \u001b[0mMatrix\u001b[0m\u001b[1;33m(\u001b[0m\u001b[0mr\u001b[0m\u001b[1;33m)\u001b[0m\u001b[1;33m\u001b[0m\u001b[1;33m\u001b[0m\u001b[0m\n\u001b[0;32m     48\u001b[0m     \u001b[0mshow\u001b[0m\u001b[1;33m(\u001b[0m\u001b[0ml\u001b[0m\u001b[1;33m)\u001b[0m\u001b[1;33m\u001b[0m\u001b[1;33m\u001b[0m\u001b[0m\n\u001b[1;32m---> 49\u001b[1;33m     \u001b[0me\u001b[0m\u001b[1;33m,\u001b[0m\u001b[0mt\u001b[0m \u001b[1;33m=\u001b[0m \u001b[0ml\u001b[0m\u001b[1;33m.\u001b[0m\u001b[0mechelon_form\u001b[0m\u001b[1;33m(\u001b[0m\u001b[0mtransformation\u001b[0m\u001b[1;33m=\u001b[0m\u001b[1;32mTrue\u001b[0m\u001b[1;33m)\u001b[0m\u001b[1;33m\u001b[0m\u001b[1;33m\u001b[0m\u001b[0m\n\u001b[0m\u001b[0;32m     50\u001b[0m     \u001b[1;32mreturn\u001b[0m \u001b[0mr\u001b[0m\u001b[1;33m\u001b[0m\u001b[1;33m\u001b[0m\u001b[0m\n\u001b[0;32m     51\u001b[0m \u001b[1;33m\u001b[0m\u001b[0m\n",
      "\u001b[1;31mValueError\u001b[0m: too many values to unpack (expected 2)"
     ]
    }
   ],
   "source": [
    "def SintSelSub(S, l, Sunis = None):\n",
    "    if not Sunis:\n",
    "        Sunis = Sunits(S)\n",
    "    r = set()\n",
    "    def p(x, p, c):\n",
    "        if c == \"h\":\n",
    "            return (1-x).valuation(p) == 0\n",
    "        if c == \"v\":\n",
    "            return (x).valuation(p) == 0\n",
    "        if c == \"d\":\n",
    "            return (x).valuation(p) == (1-x).valuation(p)\n",
    "        raise ValueError\n",
    "    for x in Sunis:\n",
    "        if all(p(x, s, l) for s,l in zip(S, l)):\n",
    "            r.add(x)\n",
    "    return r\n",
    "#print(SintSelSub([2,3], [\"d\", \"d\"]))\n",
    "from sage.symbolic.function import BuiltinFunction\n",
    "class Li2(BuiltinFunction):\n",
    "    def __init__(self):\n",
    "        BuiltinFunction.__init__(self, 'Li_2', nargs=1)\n",
    "    def _eval_(self, *args):\n",
    "        if args[0] == -1 or args[0] == 2:\n",
    "            return 0\n",
    "        pass\n",
    "li2 = Li2()\n",
    "print(li2(2))\n",
    "    \n",
    "def SelmerIm(S,p):\n",
    "    l = []                     \n",
    "    r = []                     \n",
    "    K = Qp(p)\n",
    "    actualS = Sunits(S)\n",
    "    for x in actualS:\n",
    "        v = sum([[x.valuation(p), (1-x).valuation(p)] for p in S],[])\n",
    "        print(x,v)\n",
    "        ll = []\n",
    "        for i in range(len(S)):\n",
    "            for j in range(len(S)):\n",
    "                ll += [v[2*i]*v[2*j + 1]]                                      \n",
    "        #ll += [(-K(x).polylog(2))]  \n",
    "        ll += [(-li2(x))]  \n",
    "        llr = [(-li2(x))]  \n",
    "        l += [ll]\n",
    "        r += [llr]\n",
    "    l = Matrix(l)\n",
    "    r = Matrix(r)\n",
    "    show(l)\n",
    "    e,t = l.echelon_form(transformation=True)\n",
    "    return r\n",
    "\n",
    "def findvals(S, p):\n",
    "    for l in cartesian_product([[\"h\", \"v\", \"d\"] for s in S]):\n",
    "        print(SintSelSub(S, l))\n",
    "#findvals([2,3],5)\n",
    "show(list(SelmerIm([2,7, 11],3)))"
   ]
  },
  {
   "cell_type": "code",
   "execution_count": 45,
   "metadata": {},
   "outputs": [
    {
     "ename": "NameError",
     "evalue": "name 'sho' is not defined",
     "output_type": "error",
     "traceback": [
      "\u001b[1;31m---------------------------------------------------------------------------\u001b[0m",
      "\u001b[1;31mNameError\u001b[0m                                 Traceback (most recent call last)",
      "\u001b[1;32m<ipython-input-45-9c1dcb4a2f4a>\u001b[0m in \u001b[0;36m<module>\u001b[1;34m()\u001b[0m\n\u001b[1;32m----> 1\u001b[1;33m \u001b[0msho\u001b[0m\u001b[1;33m\u001b[0m\u001b[1;33m\u001b[0m\u001b[0m\n\u001b[0m",
      "\u001b[1;31mNameError\u001b[0m: name 'sho' is not defined"
     ]
    }
   ],
   "source": [
    "sho"
   ]
  },
  {
   "cell_type": "code",
   "execution_count": null,
   "metadata": {},
   "outputs": [],
   "source": [
    "A.<x,y> = AffineSpace(Qp(5), 2)"
   ]
  },
  {
   "cell_type": "code",
   "execution_count": null,
   "metadata": {},
   "outputs": [],
   "source": [
    "f = A.hom([x*y,x*y], A)\n",
    "f"
   ]
  },
  {
   "cell_type": "code",
   "execution_count": null,
   "metadata": {},
   "outputs": [],
   "source": [
    "f.image()"
   ]
  },
  {
   "cell_type": "code",
   "execution_count": null,
   "metadata": {},
   "outputs": [],
   "source": [
    "p = 3\n",
    "N = 2\n",
    "#x =  3 + 5^2 + 2*5^3 + 5^4 + 3*5^5 + 5^6 + 5^7 + 5^9 + 2*5^10 + 3*5^11 + 2*5^12 + 3*5^13 + 3*5^14 + 4*5^15 + 5^16 + 4*5^17 + 3*5^18 + 3*5^21 + O(5^22)\n",
    "x =  2 + 5 +  5^2 + 2*5^3 + 5^4 + 3*5^5 + 5^6 + 5^7 + 5^9 + 2*5^10 + 3*5^11 + 2*5^12 + 3*5^13 + 3*5^14 + 4*5^15 + 5^16 + 4*5^17 + 3*5^18 + 3*5^21 + O(5^22)\n",
    "x = x + O(p^N)\n",
    "gens = [2,5]\n",
    "indices = set()\n",
    "phipN = euler_phi(p^N)\n",
    "for l1 in cartesian_product([range(phipN) for g in gens]):\n",
    "    for l2 in cartesian_product([range(phipN) for g in gens]):\n",
    "        if (prod(g^i for g,i in zip(gens,l1))) == x and (prod(g^i for g,i in zip(gens,l2))) == 1 - x:\n",
    "            indices.add((l1,l2))\n",
    "print(indices)"
   ]
  },
  {
   "cell_type": "code",
   "execution_count": null,
   "metadata": {},
   "outputs": [],
   "source": [
    "for q in [41, 61, 101,401]:\n",
    "    print(\"using q =\",q)\n",
    "    local = [(c, (1-c) % q) for c in range(2,q)]\n",
    "    #print(local)\n",
    "    foundinds = []\n",
    "    phiq = euler_phi(q)\n",
    "    removableinds = copy(indices)\n",
    "    curmod = gcd(phiq, phipN)\n",
    "    for l1 in cartesian_product([range(phiq) for g in gens]):\n",
    "        for l2 in cartesian_product([range(phiq) for g in gens]):\n",
    "            if ((prod(g^i % q for g, i in zip(gens,l1))) % q , (prod(g^i % q for g, i in zip(gens,l2))) % q) in local:\n",
    "                cur = ((l1[0] % phipN, l1[1] % phipN),(l2[0] % phipN, l2[1] % phipN))\n",
    "                if cur in removableinds:\n",
    "                    print(\"saw\" ,cur)\n",
    "                    removableinds.remove(cur)\n",
    "    for ind in removableinds:\n",
    "        indices.remove(ind)\n",
    "print(indices)"
   ]
  },
  {
   "cell_type": "code",
   "execution_count": null,
   "metadata": {},
   "outputs": [],
   "source": [
    "len(foundinds)"
   ]
  },
  {
   "cell_type": "code",
   "execution_count": null,
   "metadata": {},
   "outputs": [],
   "source": [
    "indices[1]"
   ]
  },
  {
   "cell_type": "code",
   "execution_count": null,
   "metadata": {},
   "outputs": [],
   "source": [
    "len(removableinds)"
   ]
  },
  {
   "cell_type": "code",
   "execution_count": null,
   "metadata": {},
   "outputs": [],
   "source": [
    "len(indices)"
   ]
  },
  {
   "cell_type": "code",
   "execution_count": null,
   "metadata": {},
   "outputs": [],
   "source": [
    "((0, 1), (1, 10)) in indices"
   ]
  },
  {
   "cell_type": "code",
   "execution_count": null,
   "metadata": {},
   "outputs": [],
   "source": [
    "RR.<t> = PowerSeriesRing(Qp(3))\n",
    "ff = sum((3*t)^k/k for k in range(20))\n",
    "f.truncate().newton_polygon().show()"
   ]
  },
  {
   "cell_type": "code",
   "execution_count": 53,
   "metadata": {},
   "outputs": [],
   "source": [
    "\n",
    "M = Matrix(ZZ, [1])"
   ]
  },
  {
   "cell_type": "code",
   "execution_count": 55,
   "metadata": {},
   "outputs": [],
   "source": [
    "M.rref??"
   ]
  },
  {
   "cell_type": "code",
   "execution_count": 60,
   "metadata": {},
   "outputs": [
    {
     "data": {
      "text/plain": [
       "<class 'sage.symbolic.expression.Expression'>"
      ]
     },
     "execution_count": 60,
     "metadata": {},
     "output_type": "execute_result"
    }
   ],
   "source": [
    "type(log(4))"
   ]
  },
  {
   "cell_type": "code",
   "execution_count": 61,
   "metadata": {},
   "outputs": [],
   "source": [
    "log??"
   ]
  },
  {
   "cell_type": "code",
   "execution_count": 62,
   "metadata": {},
   "outputs": [],
   "source": []
  },
  {
   "cell_type": "code",
   "execution_count": 65,
   "metadata": {},
   "outputs": [],
   "source": [
    "li2 = Li2()"
   ]
  },
  {
   "cell_type": "code",
   "execution_count": 56,
   "metadata": {},
   "outputs": [],
   "source": [
    "def fiveterm(x, y, p_branch=0):\n",
    "    return (x).polylog(2, p_branch) - (y).polylog(2, p_branch) - ((1-y)/(1-x)).polylog(2, p_branch)\\\n",
    "    +(y/x).polylog(2,p_branch)+((1-y^(-1))/(1-x^(-1))).polylog(2, p_branch)\\\n",
    "    + 1/2 * (x).log(p_branch)*(1-x).log(p_branch)\\\n",
    "    - 1/2 * (y).log(p_branch)*(1-y).log(p_branch)\\\n",
    "    - 1/2 * ((1-y)/(1-x)).log(p_branch)*(1-(1-y)/(1-x)).log(p_branch)\\\n",
    "    + 1/2 * (y/x).log(p_branch)*(1-y/x).log(p_branch)\\\n",
    "    + 1/2 * ((1-y^(-1))/(1-x^(-1))).log(p_branch)*(1-((1-y^(-1))/(1-x^(-1)))).log(p_branch)\\\n"
   ]
  },
  {
   "cell_type": "code",
   "execution_count": 55,
   "metadata": {},
   "outputs": [
    {
     "data": {
      "text/plain": [
       "7^2 + 6*7^3 + 4*7^4 + 2*7^5 + 6*7^6 + 6*7^7 + 2*7^8 + 3*7^9 + 6*7^10 + 4*7^11 + 4*7^12 + 5*7^13 + 3*7^14 + 2*7^15 + O(7^16)"
      ]
     },
     "execution_count": 55,
     "metadata": {},
     "output_type": "execute_result"
    }
   ],
   "source": [
    "fiveterm(K(5),K(1-5))"
   ]
  },
  {
   "cell_type": "code",
   "execution_count": 41,
   "metadata": {},
   "outputs": [
    {
     "data": {
      "text/plain": [
       "7^17 + O(7^19)"
      ]
     },
     "execution_count": 41,
     "metadata": {},
     "output_type": "execute_result"
    }
   ],
   "source": [
    "K = Qp(7)\n",
    "K(1 + (7^17)).polylog(2)"
   ]
  },
  {
   "cell_type": "code",
   "execution_count": null,
   "metadata": {},
   "outputs": [],
   "source": []
  }
 ],
 "metadata": {
  "kernelspec": {
   "display_name": "SageMath 9.1.beta4",
   "language": "sage",
   "name": "sagemath"
  },
  "language_info": {
   "codemirror_mode": {
    "name": "ipython",
    "version": 3
   },
   "file_extension": ".py",
   "mimetype": "text/x-python",
   "name": "python",
   "nbconvert_exporter": "python",
   "pygments_lexer": "ipython3",
   "version": "3.7.3"
  }
 },
 "nbformat": 4,
 "nbformat_minor": 2
}
