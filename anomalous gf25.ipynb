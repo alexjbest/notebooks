{
 "cells": [
  {
   "cell_type": "code",
   "execution_count": 203,
   "metadata": {},
   "outputs": [],
   "source": [
    "def lift_to_unram(X):\n",
    "    return sum(ZZ(l)*a^e for e,l in enumerate(list(X.polynomial())))\n",
    "\n",
    "def lift_pt_to_unram(E,X):\n",
    "    p = E.base_ring().prime()\n",
    "    o = None\n",
    "    for l in E.lift_x(lift_to_unram(X[0]),all=True):\n",
    "        if l[1] + O(p) == lift_to_unram(X[1]):\n",
    "            o = l\n",
    "    return o"
   ]
  },
  {
   "cell_type": "code",
   "execution_count": 378,
   "metadata": {},
   "outputs": [
    {
     "data": {
      "text/plain": [
       "x + 18"
      ]
     },
     "execution_count": 378,
     "metadata": {},
     "output_type": "execute_result"
    }
   ],
   "source": [
    "p = 19\n",
    "k = 1\n",
    "N = 13\n",
    "L.<b> = GF(p^k)\n",
    "b.minpoly()"
   ]
  },
  {
   "cell_type": "code",
   "execution_count": 398,
   "metadata": {},
   "outputs": [
    {
     "name": "stdout",
     "output_type": "stream",
     "text": [
      "Elliptic Curve defined by y^2 = x^3 + x + 4 over Finite Field of size 19\n"
     ]
    }
   ],
   "source": [
    "for i in GF(p^k)^2:\n",
    "    try:\n",
    "        E = EllipticCurve(list(i))\n",
    "    except ArithmeticError:\n",
    "        continue\n",
    "    if len(E.points()) == p^k:\n",
    "        break\n",
    "print E"
   ]
  },
  {
   "cell_type": "code",
   "execution_count": 399,
   "metadata": {},
   "outputs": [],
   "source": [
    "F = E"
   ]
  },
  {
   "cell_type": "code",
   "execution_count": 400,
   "metadata": {},
   "outputs": [],
   "source": [
    "#F = EllipticCurve([3,b+1])\n",
    "#F"
   ]
  },
  {
   "cell_type": "code",
   "execution_count": 401,
   "metadata": {},
   "outputs": [
    {
     "data": {
      "text/plain": [
       "[(0 : 1 : 0), (0 : 2 : 1), (0 : 17 : 1), (1 : 5 : 1), (1 : 14 : 1), (5 : 1 : 1), (5 : 18 : 1), (6 : 6 : 1), (6 : 13 : 1), (8 : 7 : 1), (8 : 12 : 1), (9 : 1 : 1), (9 : 18 : 1), (10 : 8 : 1), (10 : 11 : 1), (11 : 4 : 1), (11 : 15 : 1), (14 : 8 : 1), (14 : 11 : 1)]"
      ]
     },
     "execution_count": 401,
     "metadata": {},
     "output_type": "execute_result"
    }
   ],
   "source": [
    "F.points()"
   ]
  },
  {
   "cell_type": "code",
   "execution_count": 402,
   "metadata": {},
   "outputs": [
    {
     "name": "stdout",
     "output_type": "stream",
     "text": [
      "19\n"
     ]
    }
   ],
   "source": [
    "print len(F.points())\n",
    "assert(len(F.points()) == p^k)"
   ]
  },
  {
   "cell_type": "code",
   "execution_count": 403,
   "metadata": {},
   "outputs": [
    {
     "data": {
      "text/plain": [
       "((1 : 5 : 1), 19)"
      ]
     },
     "execution_count": 403,
     "metadata": {},
     "output_type": "execute_result"
    }
   ],
   "source": [
    "rP = F.points()[3]\n",
    "rP,rP.order()"
   ]
  },
  {
   "cell_type": "code",
   "execution_count": 404,
   "metadata": {},
   "outputs": [
    {
     "data": {
      "text/plain": [
       "(10 : 8 : 1)"
      ]
     },
     "execution_count": 404,
     "metadata": {},
     "output_type": "execute_result"
    }
   ],
   "source": [
    "rQ = N*rP\n",
    "rQ"
   ]
  },
  {
   "cell_type": "code",
   "execution_count": 405,
   "metadata": {},
   "outputs": [
    {
     "data": {
      "text/plain": [
       "2 + 4*19 + 19^2 + O(19^20)"
      ]
     },
     "execution_count": 405,
     "metadata": {},
     "output_type": "execute_result"
    }
   ],
   "source": [
    "K.<a> = Qq(p^k) # The unramified extension of Q_5 of degree 2\n",
    "a^2 + 4*a + 2"
   ]
  },
  {
   "cell_type": "code",
   "execution_count": 406,
   "metadata": {},
   "outputs": [],
   "source": [
    "Fq = EllipticCurve([lift_to_unram(l) for l in F.a_invariants()]) # A lift of our elliptic curve from before (we can check if we want to be sure that minpoly of b is minpoly of the lift a)\n",
    "#Fq.lift_x(a, all=True) # points where x = a"
   ]
  },
  {
   "cell_type": "code",
   "execution_count": 407,
   "metadata": {},
   "outputs": [],
   "source": [
    "P = lift_pt_to_unram(Fq,rP)#Fq.lift_x(a, all=True)[0] # point above rP"
   ]
  },
  {
   "cell_type": "code",
   "execution_count": 408,
   "metadata": {},
   "outputs": [],
   "source": [
    "#Fq.lift_x(2*a+3, all=True) # points where x = 2a + 3"
   ]
  },
  {
   "cell_type": "code",
   "execution_count": 409,
   "metadata": {},
   "outputs": [
    {
     "data": {
      "text/plain": [
       "((17*19^-2 + 13*19^-1 + 12 + 4*19 + 14*19^2 + 11*19^5 + 2*19^6 + 15*19^8 + 4*19^9 + 13*19^10 + 10*19^11 + 2*19^12 + 14*19^13 + 9*19^14 + 3*19^15 + 4*19^16 + O(19^17) : 7*19^-3 + 5*19^-2 + 9*19^-1 + 12 + 4*19 + 10*19^2 + 10*19^3 + 17*19^4 + 6*19^5 + 9*19^6 + 11*19^7 + 17*19^8 + 13*19^9 + 5*19^10 + 11*19^11 + 17*19^12 + 9*19^13 + 8*19^14 + 2*19^15 + O(19^16) : 1 + O(19^20)),\n",
       " (19^-2 + 10*19^-1 + 4 + 14*19 + 13*19^2 + 4*19^3 + 14*19^4 + 15*19^5 + 13*19^6 + 10*19^7 + 9*19^8 + 15*19^9 + 4*19^10 + 6*19^11 + 17*19^12 + 16*19^13 + 3*19^14 + 15*19^15 + 3*19^16 + O(19^17) : 18*19^-3 + 3*19^-2 + 3*19^-1 + 9 + 16*19 + 4*19^2 + 9*19^3 + 12*19^4 + 18*19^5 + 13*19^6 + 14*19^7 + 16*19^8 + 3*19^9 + 9*19^10 + 4*19^11 + 15*19^12 + 7*19^13 + 18*19^14 + O(19^16) : 1 + O(19^20)))"
      ]
     },
     "execution_count": 409,
     "metadata": {},
     "output_type": "execute_result"
    }
   ],
   "source": [
    "Q = lift_pt_to_unram(Fq,rQ)\n",
    "\n",
    "pP = p^k*P\n",
    "pQ = p^k*Q\n",
    "pP,pQ"
   ]
  },
  {
   "cell_type": "code",
   "execution_count": 410,
   "metadata": {},
   "outputs": [
    {
     "data": {
      "text/plain": [
       "(3*19 + 12*19^2 + 4*19^3 + 13*19^4 + 12*19^6 + 8*19^7 + 15*19^8 + 12*19^9 + 9*19^10 + 9*19^11 + 15*19^12 + 11*19^13 + 11*19^14 + 2*19^15 + 14*19^16 + 15*19^17 + 18*19^18 + 15*19^19 + O(19^20),\n",
       " 19 + 14*19^2 + 6*19^3 + 16*19^4 + 13*19^5 + 18*19^6 + 13*19^7 + 14*19^8 + 7*19^10 + 8*19^11 + 6*19^12 + 14*19^13 + 16*19^14 + 17*19^15 + 11*19^16 + 16*19^19 + O(19^20))"
      ]
     },
     "execution_count": 410,
     "metadata": {},
     "output_type": "execute_result"
    }
   ],
   "source": [
    "tP = -pP[0]/pP[1]\n",
    "tQ = -pQ[0]/pQ[1]\n",
    "tP,tQ"
   ]
  },
  {
   "cell_type": "code",
   "execution_count": 411,
   "metadata": {},
   "outputs": [
    {
     "name": "stdout",
     "output_type": "stream",
     "text": [
      "True\n",
      "True\n",
      "True\n",
      "True\n"
     ]
    }
   ],
   "source": [
    "print Fq.formal_group().x()(tP) == pP[0]\n",
    "print Fq.formal_group().y()(tP) == pP[1]\n",
    "\n",
    "print Fq.formal_group().x()(tQ) == pQ[0]\n",
    "print Fq.formal_group().y()(tQ) == pQ[1]\n"
   ]
  },
  {
   "cell_type": "code",
   "execution_count": 412,
   "metadata": {},
   "outputs": [
    {
     "data": {
      "text/plain": [
       "3*19 + 12*19^2 + 4*19^3 + 13*19^4 + 6*19^5 + 11*19^7 + 10*19^8 + 5*19^9 + 15*19^10 + 8*19^11 + 17*19^12 + 6*19^13 + 16*19^14 + 8*19^15 + 7*19^16 + 18*19^17 + 14*19^18 + 3*19^19 + O(19^20)"
      ]
     },
     "execution_count": 412,
     "metadata": {},
     "output_type": "execute_result"
    }
   ],
   "source": [
    "Fq.formal_group().log()(tP)"
   ]
  },
  {
   "cell_type": "code",
   "execution_count": 413,
   "metadata": {},
   "outputs": [
    {
     "data": {
      "text/plain": [
       "19 + 14*19^2 + 6*19^3 + 16*19^4 + 2*19^5 + 19^6 + 19^7 + 14*19^8 + 7*19^9 + 13*19^10 + 17*19^11 + 2*19^12 + 5*19^13 + 8*19^14 + 3*19^15 + 12*19^16 + 19^18 + 17*19^19 + O(19^20)"
      ]
     },
     "execution_count": 413,
     "metadata": {},
     "output_type": "execute_result"
    }
   ],
   "source": [
    "Fq.formal_group().log()(tQ)"
   ]
  },
  {
   "cell_type": "code",
   "execution_count": 414,
   "metadata": {},
   "outputs": [
    {
     "data": {
      "text/plain": [
       "13 + 9*19 + 9*19^2 + 18*19^3 + 10*19^4 + 10*19^5 + 5*19^6 + 19^7 + 17*19^8 + 18*19^9 + 12*19^10 + 5*19^11 + 16*19^12 + 16*19^13 + 5*19^14 + 11*19^15 + 19^16 + 10*19^17 + 7*19^18 + O(19^19)"
      ]
     },
     "execution_count": 414,
     "metadata": {},
     "output_type": "execute_result"
    }
   ],
   "source": [
    "Fq.formal_group().log()(tQ)/Fq.formal_group().log()(tP)"
   ]
  },
  {
   "cell_type": "code",
   "execution_count": 415,
   "metadata": {},
   "outputs": [],
   "source": [
    "assert(Fq.formal_group().log()(tQ)/Fq.formal_group().log()(tP) + O(p^k) == N)"
   ]
  },
  {
   "cell_type": "code",
   "execution_count": 417,
   "metadata": {},
   "outputs": [
    {
     "data": {
      "text/plain": [
       "13 + 8*19 + 15*19^2 + 10*19^3 + 8*19^4 + 9*19^5 + 8*19^7 + 5*19^8 + 6*19^9 + 3*19^10 + 16*19^11 + 5*19^12 + 11*19^13 + 11*19^14 + 10*19^15 + 3*19^16 + 16*19^17 + 13*19^18 + O(19^19)"
      ]
     },
     "execution_count": 417,
     "metadata": {},
     "output_type": "execute_result"
    }
   ],
   "source": [
    "Fq.coleman_integrals_on_basis(Q,Fq(0))[1]/Fq.coleman_integrals_on_basis(P,Fq(0))[1]"
   ]
  },
  {
   "cell_type": "code",
   "execution_count": 418,
   "metadata": {},
   "outputs": [
    {
     "data": {
      "text/plain": [
       "Formal Group associated to the Elliptic Curve defined by y^2 = x^3 + (1+O(19^20))*x + (4+O(19^20)) over 19-adic Field with capped relative precision 20"
      ]
     },
     "execution_count": 418,
     "metadata": {},
     "output_type": "execute_result"
    }
   ],
   "source": [
    "Fq.formal_group()"
   ]
  },
  {
   "cell_type": "code",
   "execution_count": null,
   "metadata": {},
   "outputs": [],
   "source": []
  }
 ],
 "metadata": {
  "kernelspec": {
   "display_name": "SageMath 8.5.beta5",
   "language": "",
   "name": "sagemath"
  },
  "language_info": {
   "codemirror_mode": {
    "name": "ipython",
    "version": 2
   },
   "file_extension": ".py",
   "mimetype": "text/x-python",
   "name": "python",
   "nbconvert_exporter": "python",
   "pygments_lexer": "ipython2",
   "version": "2.7.15"
  }
 },
 "nbformat": 4,
 "nbformat_minor": 2
}
