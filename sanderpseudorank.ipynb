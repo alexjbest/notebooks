{
 "cells": [
  {
   "cell_type": "code",
   "execution_count": 32,
   "id": "4eee5d7e",
   "metadata": {},
   "outputs": [
    {
     "data": {
      "text/plain": [
       "Number Field in zeta13_2 with defining polynomial x^3 + x^2 - 4*x + 1 with zeta13_2 = 0.2738905549642176?"
      ]
     },
     "execution_count": 32,
     "metadata": {},
     "output_type": "execute_result"
    }
   ],
   "source": [
    "K.<og> = CyclotomicField(13).subfields()[2][0]\n",
    "K"
   ]
  },
  {
   "cell_type": "code",
   "execution_count": 34,
   "id": "29613942",
   "metadata": {},
   "outputs": [
    {
     "data": {
      "text/plain": [
       "Hyperelliptic Curve over Number Field in zeta13_2 with defining polynomial x^3 + x^2 - 4*x + 1 with zeta13_2 = 0.2738905549642176? defined by y^2 = (4*zeta13_2^2 + 12*zeta13_2 + 4)*x^5 + 1677*zeta13_2^2 - 2769*zeta13_2 + 637"
      ]
     },
     "execution_count": 34,
     "metadata": {},
     "output_type": "execute_result"
    }
   ],
   "source": [
    "R.<x,y,c> = K[]\n",
    "(F1,_),(F2,_),(F3,_) = ((x^13 + y^13)/(x+y)).factor()\n",
    "P.<X> = K[]\n",
    "(c1,_),(c2,_)=((F1+c*(x+y)^4).discriminant(x)).substitute(x=0,y=1,c=X).roots()\n",
    "c1,c2\n",
    "((H2,_),) = (F1+c2*(x+y)^4).factor()\n",
    "d = K((F1+c2*(x+y)^4)//H2^2)\n",
    "assert (F1+c2*(x+y)^4) == d*H2^2\n",
    "(F1+c2*(x+y)^4)\n",
    "zeta13_2 = og.galois_conjugates(K)[2]\n",
    "e = zeta13_2^2\n",
    "C  = HyperellipticCurve(2^2*X^5 + ((zeta13_2)^(-10)*(zeta13_2^2 + zeta13_2 - 3)^(-10)*(-zeta13_2^2 + 3)^(10)*(-zeta13_2^2 - zeta13_2 + 2)^10*(c2/d^5))/(2^8))\n",
    "Cps  = HyperellipticCurve(e*2^2*X^5 + ((zeta13_2)^(-10)*(zeta13_2^2 + zeta13_2 - 3)^(-10)*(-zeta13_2^2 + 3)^(10)*(-zeta13_2^2 - zeta13_2 + 2)^10*(c2/d^5))/(2^8))\n",
    "Cps"
   ]
  },
  {
   "cell_type": "code",
   "execution_count": 52,
   "id": "07ff7811",
   "metadata": {},
   "outputs": [
    {
     "ename": "TypeError",
     "evalue": "Error evaluating Magma code.\nIN:_sage_[18]:=run(_sage_[15]);\nOUT:\n>> _sage_[18]:=run(_sage_[15]);\n               ^\nUser error: Identifier 'run' has not been declared or assigned",
     "output_type": "error",
     "traceback": [
      "\u001b[0;31m---------------------------------------------------------------------------\u001b[0m",
      "\u001b[0;31mRuntimeError\u001b[0m                              Traceback (most recent call last)",
      "\u001b[0;32m~/miniforge3/envs/sage/lib/python3.9/site-packages/sage/interfaces/expect.py\u001b[0m in \u001b[0;36m__init__\u001b[0;34m(self, parent, value, is_name, name)\u001b[0m\n\u001b[1;32m   1468\u001b[0m             \u001b[0;32mtry\u001b[0m\u001b[0;34m:\u001b[0m\u001b[0;34m\u001b[0m\u001b[0;34m\u001b[0m\u001b[0m\n\u001b[0;32m-> 1469\u001b[0;31m                 \u001b[0mself\u001b[0m\u001b[0;34m.\u001b[0m\u001b[0m_name\u001b[0m \u001b[0;34m=\u001b[0m \u001b[0mparent\u001b[0m\u001b[0;34m.\u001b[0m\u001b[0m_create\u001b[0m\u001b[0;34m(\u001b[0m\u001b[0mvalue\u001b[0m\u001b[0;34m,\u001b[0m \u001b[0mname\u001b[0m\u001b[0;34m=\u001b[0m\u001b[0mname\u001b[0m\u001b[0;34m)\u001b[0m\u001b[0;34m\u001b[0m\u001b[0;34m\u001b[0m\u001b[0m\n\u001b[0m\u001b[1;32m   1470\u001b[0m             \u001b[0;31m# Convert ValueError and RuntimeError to TypeError for\u001b[0m\u001b[0;34m\u001b[0m\u001b[0;34m\u001b[0m\u001b[0m\n",
      "\u001b[0;32m~/miniforge3/envs/sage/lib/python3.9/site-packages/sage/interfaces/interface.py\u001b[0m in \u001b[0;36m_create\u001b[0;34m(self, value, name)\u001b[0m\n\u001b[1;32m    512\u001b[0m         \u001b[0mname\u001b[0m \u001b[0;34m=\u001b[0m \u001b[0mself\u001b[0m\u001b[0;34m.\u001b[0m\u001b[0m_next_var_name\u001b[0m\u001b[0;34m(\u001b[0m\u001b[0;34m)\u001b[0m \u001b[0;32mif\u001b[0m \u001b[0mname\u001b[0m \u001b[0;32mis\u001b[0m \u001b[0;32mNone\u001b[0m \u001b[0;32melse\u001b[0m \u001b[0mname\u001b[0m\u001b[0;34m\u001b[0m\u001b[0;34m\u001b[0m\u001b[0m\n\u001b[0;32m--> 513\u001b[0;31m         \u001b[0mself\u001b[0m\u001b[0;34m.\u001b[0m\u001b[0mset\u001b[0m\u001b[0;34m(\u001b[0m\u001b[0mname\u001b[0m\u001b[0;34m,\u001b[0m \u001b[0mvalue\u001b[0m\u001b[0;34m)\u001b[0m\u001b[0;34m\u001b[0m\u001b[0;34m\u001b[0m\u001b[0m\n\u001b[0m\u001b[1;32m    514\u001b[0m         \u001b[0;32mreturn\u001b[0m \u001b[0mname\u001b[0m\u001b[0;34m\u001b[0m\u001b[0;34m\u001b[0m\u001b[0m\n",
      "\u001b[0;32m~/miniforge3/envs/sage/lib/python3.9/site-packages/sage/interfaces/magma.py\u001b[0m in \u001b[0;36mset\u001b[0;34m(self, var, value)\u001b[0m\n\u001b[1;32m    625\u001b[0m         \"\"\"\n\u001b[0;32m--> 626\u001b[0;31m         \u001b[0mout\u001b[0m \u001b[0;34m=\u001b[0m \u001b[0mself\u001b[0m\u001b[0;34m.\u001b[0m\u001b[0meval\u001b[0m\u001b[0;34m(\u001b[0m\u001b[0;34m\"%s:=%s\"\u001b[0m \u001b[0;34m%\u001b[0m \u001b[0;34m(\u001b[0m\u001b[0mvar\u001b[0m\u001b[0;34m,\u001b[0m \u001b[0mvalue\u001b[0m\u001b[0;34m)\u001b[0m\u001b[0;34m)\u001b[0m\u001b[0;34m\u001b[0m\u001b[0;34m\u001b[0m\u001b[0m\n\u001b[0m\u001b[1;32m    627\u001b[0m         \u001b[0;32mif\u001b[0m \u001b[0mout\u001b[0m\u001b[0;34m.\u001b[0m\u001b[0mlower\u001b[0m\u001b[0;34m(\u001b[0m\u001b[0;34m)\u001b[0m\u001b[0;34m.\u001b[0m\u001b[0mfind\u001b[0m\u001b[0;34m(\u001b[0m\u001b[0;34m\"error\"\u001b[0m\u001b[0;34m)\u001b[0m \u001b[0;34m!=\u001b[0m \u001b[0;34m-\u001b[0m\u001b[0;36m1\u001b[0m\u001b[0;34m:\u001b[0m\u001b[0;34m\u001b[0m\u001b[0;34m\u001b[0m\u001b[0m\n",
      "\u001b[0;32m~/miniforge3/envs/sage/lib/python3.9/site-packages/sage/interfaces/magma.py\u001b[0m in \u001b[0;36meval\u001b[0;34m(self, x, strip, **kwds)\u001b[0m\n\u001b[1;32m    559\u001b[0m         \u001b[0;32mif\u001b[0m \u001b[0;34m'Runtime error'\u001b[0m \u001b[0;32min\u001b[0m \u001b[0mans\u001b[0m \u001b[0;32mor\u001b[0m \u001b[0;34m'User error'\u001b[0m \u001b[0;32min\u001b[0m \u001b[0mans\u001b[0m\u001b[0;34m:\u001b[0m\u001b[0;34m\u001b[0m\u001b[0;34m\u001b[0m\u001b[0m\n\u001b[0;32m--> 560\u001b[0;31m             \u001b[0;32mraise\u001b[0m \u001b[0mRuntimeError\u001b[0m\u001b[0;34m(\u001b[0m\u001b[0;34m\"Error evaluating Magma code.\\nIN:%s\\nOUT:%s\"\u001b[0m \u001b[0;34m%\u001b[0m \u001b[0;34m(\u001b[0m\u001b[0mx\u001b[0m\u001b[0;34m,\u001b[0m \u001b[0mans\u001b[0m\u001b[0;34m)\u001b[0m\u001b[0;34m)\u001b[0m\u001b[0;34m\u001b[0m\u001b[0;34m\u001b[0m\u001b[0m\n\u001b[0m\u001b[1;32m    561\u001b[0m         \u001b[0;32mreturn\u001b[0m \u001b[0mans\u001b[0m\u001b[0;34m\u001b[0m\u001b[0;34m\u001b[0m\u001b[0m\n",
      "\u001b[0;31mRuntimeError\u001b[0m: Error evaluating Magma code.\nIN:_sage_[18]:=run(_sage_[15]);\nOUT:\n>> _sage_[18]:=run(_sage_[15]);\n               ^\nUser error: Identifier 'run' has not been declared or assigned",
      "\nDuring handling of the above exception, another exception occurred:\n",
      "\u001b[0;31mTypeError\u001b[0m                                 Traceback (most recent call last)",
      "\u001b[0;32m<ipython-input-52-4930416ca97c>\u001b[0m in \u001b[0;36m<module>\u001b[0;34m\u001b[0m\n\u001b[0;32m----> 1\u001b[0;31m \u001b[0mmC\u001b[0m \u001b[0;34m=\u001b[0m \u001b[0mmagma\u001b[0m\u001b[0;34m.\u001b[0m\u001b[0mrun\u001b[0m\u001b[0;34m(\u001b[0m\u001b[0;34m\"C\"\u001b[0m\u001b[0;34m)\u001b[0m\u001b[0;34m\u001b[0m\u001b[0;34m\u001b[0m\u001b[0m\n\u001b[0m\u001b[1;32m      2\u001b[0m \u001b[0mE\u001b[0m \u001b[0;34m=\u001b[0m \u001b[0mmagma\u001b[0m\u001b[0;34m(\u001b[0m\u001b[0mEllipticCurve\u001b[0m\u001b[0;34m(\u001b[0m\u001b[0;34m\"11a\"\u001b[0m\u001b[0;34m)\u001b[0m\u001b[0;34m)\u001b[0m\u001b[0;34m\u001b[0m\u001b[0;34m\u001b[0m\u001b[0m\n\u001b[1;32m      3\u001b[0m \u001b[0mE\u001b[0m\u001b[0;34m.\u001b[0m\u001b[0mIsIsomorphic\u001b[0m\u001b[0;34m(\u001b[0m\u001b[0mE\u001b[0m\u001b[0;34m)\u001b[0m\u001b[0;34m\u001b[0m\u001b[0;34m\u001b[0m\u001b[0m\n\u001b[1;32m      4\u001b[0m \u001b[0;31m#C.magma().IsIsomorphic(mC)\u001b[0m\u001b[0;34m\u001b[0m\u001b[0;34m\u001b[0m\u001b[0m\n",
      "\u001b[0;32m~/miniforge3/envs/sage/lib/python3.9/site-packages/sage/interfaces/magma.py\u001b[0m in \u001b[0;36m__call__\u001b[0;34m(self, *args, **kwds)\u001b[0m\n\u001b[1;32m   1785\u001b[0m                 \u001b[0;32mdel\u001b[0m \u001b[0mkwds\u001b[0m\u001b[0;34m[\u001b[0m\u001b[0;34m'nvals'\u001b[0m\u001b[0;34m]\u001b[0m\u001b[0;34m\u001b[0m\u001b[0;34m\u001b[0m\u001b[0m\n\u001b[1;32m   1786\u001b[0m         \u001b[0mM\u001b[0m \u001b[0;34m=\u001b[0m \u001b[0mself\u001b[0m\u001b[0;34m.\u001b[0m\u001b[0m_parent\u001b[0m\u001b[0;34m\u001b[0m\u001b[0;34m\u001b[0m\u001b[0m\n\u001b[0;32m-> 1787\u001b[0;31m         return M.function_call(self._name,\n\u001b[0m\u001b[1;32m   1788\u001b[0m                                \u001b[0mlist\u001b[0m\u001b[0;34m(\u001b[0m\u001b[0margs\u001b[0m\u001b[0;34m)\u001b[0m\u001b[0;34m,\u001b[0m\u001b[0;34m\u001b[0m\u001b[0;34m\u001b[0m\u001b[0m\n\u001b[1;32m   1789\u001b[0m                                \u001b[0mparams\u001b[0m\u001b[0;34m=\u001b[0m\u001b[0mkwds\u001b[0m\u001b[0;34m,\u001b[0m\u001b[0;34m\u001b[0m\u001b[0;34m\u001b[0m\u001b[0m\n",
      "\u001b[0;32m~/miniforge3/envs/sage/lib/python3.9/site-packages/sage/interfaces/magma.py\u001b[0m in \u001b[0;36mfunction_call\u001b[0;34m(self, function, args, params, nvals)\u001b[0m\n\u001b[1;32m   1160\u001b[0m         \u001b[0mfun\u001b[0m \u001b[0;34m=\u001b[0m \u001b[0;34m\"%s(%s%s)\"\u001b[0m \u001b[0;34m%\u001b[0m \u001b[0;34m(\u001b[0m\u001b[0mfunction\u001b[0m\u001b[0;34m,\u001b[0m \u001b[0;34m\",\"\u001b[0m\u001b[0;34m.\u001b[0m\u001b[0mjoin\u001b[0m\u001b[0;34m(\u001b[0m\u001b[0;34m[\u001b[0m\u001b[0ms\u001b[0m\u001b[0;34m.\u001b[0m\u001b[0mname\u001b[0m\u001b[0;34m(\u001b[0m\u001b[0;34m)\u001b[0m \u001b[0;32mfor\u001b[0m \u001b[0ms\u001b[0m \u001b[0;32min\u001b[0m \u001b[0margs\u001b[0m\u001b[0;34m]\u001b[0m\u001b[0;34m)\u001b[0m\u001b[0;34m,\u001b[0m \u001b[0mpar\u001b[0m\u001b[0;34m)\u001b[0m\u001b[0;34m\u001b[0m\u001b[0;34m\u001b[0m\u001b[0m\n\u001b[1;32m   1161\u001b[0m \u001b[0;34m\u001b[0m\u001b[0m\n\u001b[0;32m-> 1162\u001b[0;31m         \u001b[0;32mreturn\u001b[0m \u001b[0mself\u001b[0m\u001b[0;34m.\u001b[0m\u001b[0m_do_call\u001b[0m\u001b[0;34m(\u001b[0m\u001b[0mfun\u001b[0m\u001b[0;34m,\u001b[0m \u001b[0mnvals\u001b[0m\u001b[0;34m)\u001b[0m\u001b[0;34m\u001b[0m\u001b[0;34m\u001b[0m\u001b[0m\n\u001b[0m\u001b[1;32m   1163\u001b[0m \u001b[0;34m\u001b[0m\u001b[0m\n\u001b[1;32m   1164\u001b[0m     \u001b[0;32mdef\u001b[0m \u001b[0m_do_call\u001b[0m\u001b[0;34m(\u001b[0m\u001b[0mself\u001b[0m\u001b[0;34m,\u001b[0m \u001b[0mcode\u001b[0m\u001b[0;34m,\u001b[0m \u001b[0mnvals\u001b[0m\u001b[0;34m)\u001b[0m\u001b[0;34m:\u001b[0m\u001b[0;34m\u001b[0m\u001b[0;34m\u001b[0m\u001b[0m\n",
      "\u001b[0;32m~/miniforge3/envs/sage/lib/python3.9/site-packages/sage/interfaces/magma.py\u001b[0m in \u001b[0;36m_do_call\u001b[0;34m(self, code, nvals)\u001b[0m\n\u001b[1;32m   1210\u001b[0m             \u001b[0mans\u001b[0m \u001b[0;34m=\u001b[0m \u001b[0;32mNone\u001b[0m\u001b[0;34m\u001b[0m\u001b[0;34m\u001b[0m\u001b[0m\n\u001b[1;32m   1211\u001b[0m         \u001b[0;32melif\u001b[0m \u001b[0mnvals\u001b[0m \u001b[0;34m==\u001b[0m \u001b[0;36m1\u001b[0m\u001b[0;34m:\u001b[0m\u001b[0;34m\u001b[0m\u001b[0;34m\u001b[0m\u001b[0m\n\u001b[0;32m-> 1212\u001b[0;31m             \u001b[0;32mreturn\u001b[0m \u001b[0mself\u001b[0m\u001b[0;34m(\u001b[0m\u001b[0mcode\u001b[0m\u001b[0;34m)\u001b[0m\u001b[0;34m\u001b[0m\u001b[0;34m\u001b[0m\u001b[0m\n\u001b[0m\u001b[1;32m   1213\u001b[0m         \u001b[0;32melse\u001b[0m\u001b[0;34m:\u001b[0m\u001b[0;34m\u001b[0m\u001b[0;34m\u001b[0m\u001b[0m\n\u001b[1;32m   1214\u001b[0m             \u001b[0mv\u001b[0m \u001b[0;34m=\u001b[0m \u001b[0;34m[\u001b[0m\u001b[0mself\u001b[0m\u001b[0;34m.\u001b[0m\u001b[0m_next_var_name\u001b[0m\u001b[0;34m(\u001b[0m\u001b[0;34m)\u001b[0m \u001b[0;32mfor\u001b[0m \u001b[0m_\u001b[0m \u001b[0;32min\u001b[0m \u001b[0mrange\u001b[0m\u001b[0;34m(\u001b[0m\u001b[0mnvals\u001b[0m\u001b[0;34m)\u001b[0m\u001b[0;34m]\u001b[0m\u001b[0;34m\u001b[0m\u001b[0;34m\u001b[0m\u001b[0m\n",
      "\u001b[0;32m~/miniforge3/envs/sage/lib/python3.9/site-packages/sage/interfaces/magma.py\u001b[0m in \u001b[0;36m__call__\u001b[0;34m(self, x, gens)\u001b[0m\n\u001b[1;32m    789\u001b[0m             \u001b[0;32mpass\u001b[0m\u001b[0;34m\u001b[0m\u001b[0;34m\u001b[0m\u001b[0m\n\u001b[1;32m    790\u001b[0m \u001b[0;34m\u001b[0m\u001b[0m\n\u001b[0;32m--> 791\u001b[0;31m         \u001b[0mA\u001b[0m \u001b[0;34m=\u001b[0m \u001b[0mExpect\u001b[0m\u001b[0;34m.\u001b[0m\u001b[0m__call__\u001b[0m\u001b[0;34m(\u001b[0m\u001b[0mself\u001b[0m\u001b[0;34m,\u001b[0m \u001b[0mx\u001b[0m\u001b[0;34m)\u001b[0m\u001b[0;34m\u001b[0m\u001b[0;34m\u001b[0m\u001b[0m\n\u001b[0m\u001b[1;32m    792\u001b[0m         \u001b[0;32mif\u001b[0m \u001b[0mhas_cache\u001b[0m\u001b[0;34m:\u001b[0m\u001b[0;34m\u001b[0m\u001b[0;34m\u001b[0m\u001b[0m\n\u001b[1;32m    793\u001b[0m             \u001b[0mx\u001b[0m\u001b[0;34m.\u001b[0m\u001b[0m_magma_cache\u001b[0m\u001b[0;34m[\u001b[0m\u001b[0mself\u001b[0m\u001b[0;34m]\u001b[0m \u001b[0;34m=\u001b[0m \u001b[0mA\u001b[0m\u001b[0;34m\u001b[0m\u001b[0;34m\u001b[0m\u001b[0m\n",
      "\u001b[0;32m~/miniforge3/envs/sage/lib/python3.9/site-packages/sage/interfaces/interface.py\u001b[0m in \u001b[0;36m__call__\u001b[0;34m(self, x, name)\u001b[0m\n\u001b[1;32m    293\u001b[0m \u001b[0;34m\u001b[0m\u001b[0m\n\u001b[1;32m    294\u001b[0m         \u001b[0;32mif\u001b[0m \u001b[0misinstance\u001b[0m\u001b[0;34m(\u001b[0m\u001b[0mx\u001b[0m\u001b[0;34m,\u001b[0m \u001b[0mstr\u001b[0m\u001b[0;34m)\u001b[0m\u001b[0;34m:\u001b[0m\u001b[0;34m\u001b[0m\u001b[0;34m\u001b[0m\u001b[0m\n\u001b[0;32m--> 295\u001b[0;31m             \u001b[0;32mreturn\u001b[0m \u001b[0mcls\u001b[0m\u001b[0;34m(\u001b[0m\u001b[0mself\u001b[0m\u001b[0;34m,\u001b[0m \u001b[0mx\u001b[0m\u001b[0;34m,\u001b[0m \u001b[0mname\u001b[0m\u001b[0;34m=\u001b[0m\u001b[0mname\u001b[0m\u001b[0;34m)\u001b[0m\u001b[0;34m\u001b[0m\u001b[0;34m\u001b[0m\u001b[0m\n\u001b[0m\u001b[1;32m    296\u001b[0m         \u001b[0;32mtry\u001b[0m\u001b[0;34m:\u001b[0m\u001b[0;34m\u001b[0m\u001b[0;34m\u001b[0m\u001b[0m\n\u001b[1;32m    297\u001b[0m             \u001b[0;31m# Special methods do not and should not have an option to\u001b[0m\u001b[0;34m\u001b[0m\u001b[0;34m\u001b[0m\u001b[0m\n",
      "\u001b[0;32m~/miniforge3/envs/sage/lib/python3.9/site-packages/sage/interfaces/expect.py\u001b[0m in \u001b[0;36m__init__\u001b[0;34m(self, parent, value, is_name, name)\u001b[0m\n\u001b[1;32m   1472\u001b[0m             \u001b[0;32mexcept\u001b[0m \u001b[0;34m(\u001b[0m\u001b[0mRuntimeError\u001b[0m\u001b[0;34m,\u001b[0m \u001b[0mValueError\u001b[0m\u001b[0;34m)\u001b[0m \u001b[0;32mas\u001b[0m \u001b[0mx\u001b[0m\u001b[0;34m:\u001b[0m\u001b[0;34m\u001b[0m\u001b[0;34m\u001b[0m\u001b[0m\n\u001b[1;32m   1473\u001b[0m                 \u001b[0mself\u001b[0m\u001b[0;34m.\u001b[0m\u001b[0m_session_number\u001b[0m \u001b[0;34m=\u001b[0m \u001b[0;34m-\u001b[0m\u001b[0;36m1\u001b[0m\u001b[0;34m\u001b[0m\u001b[0;34m\u001b[0m\u001b[0m\n\u001b[0;32m-> 1474\u001b[0;31m                 \u001b[0;32mraise\u001b[0m \u001b[0mTypeError\u001b[0m\u001b[0;34m(\u001b[0m\u001b[0;34m*\u001b[0m\u001b[0mx\u001b[0m\u001b[0;34m.\u001b[0m\u001b[0margs\u001b[0m\u001b[0;34m)\u001b[0m\u001b[0;34m\u001b[0m\u001b[0;34m\u001b[0m\u001b[0m\n\u001b[0m\u001b[1;32m   1475\u001b[0m             \u001b[0;32mexcept\u001b[0m \u001b[0mBaseException\u001b[0m\u001b[0;34m:\u001b[0m\u001b[0;34m\u001b[0m\u001b[0;34m\u001b[0m\u001b[0m\n\u001b[1;32m   1476\u001b[0m                 \u001b[0mself\u001b[0m\u001b[0;34m.\u001b[0m\u001b[0m_session_number\u001b[0m \u001b[0;34m=\u001b[0m \u001b[0;34m-\u001b[0m\u001b[0;36m1\u001b[0m\u001b[0;34m\u001b[0m\u001b[0;34m\u001b[0m\u001b[0m\n",
      "\u001b[0;31mTypeError\u001b[0m: Error evaluating Magma code.\nIN:_sage_[18]:=run(_sage_[15]);\nOUT:\n>> _sage_[18]:=run(_sage_[15]);\n               ^\nUser error: Identifier 'run' has not been declared or assigned"
     ]
    }
   ],
   "source": [
    "mC = magma(\"C\")\n",
    "E = magma(EllipticCurve(\"11a\"))\n",
    "#C.magma().IsIsomorphic(mC)"
   ]
  },
  {
   "cell_type": "code",
   "execution_count": 1,
   "id": "2e3f6dd2",
   "metadata": {},
   "outputs": [
    {
     "name": "stdout",
     "output_type": "stream",
     "text": [
      "[\n",
      "<s + 1, 1>,\n",
      "<s^4 + a*s^3 + (a^2 + a - 1)*s^2 + a*s + 1, 1>,\n",
      "<s^4 + (-a^2 - 2*a + 2)*s^3 + (a + 2)*s^2 + (-a^2 - 2*a + 2)*s + 1, 1>,\n",
      "<s^4 + (a^2 + a - 3)*s^3 + (-a^2 - 2*a + 4)*s^2 + (a^2 + a - 3)*s + 1, 1>\n",
      "]\n",
      "{@ (1 : 0 : 0), (1/325*(28*a^2 + 80*a - 92) : 1/105625*(-6416*a^2 - 10960*a - 976) : 1), (1/325*(28*a^2 + 80*a - 92) : 1/105625*(6416*a^2 + 10960*a + 976) : 1) @}\n",
      "{@ (1 : 0 : 0) @}\n",
      "Abelian Group of order 1\n",
      "Mapping from: Abelian Group of order 1 to JacHyp: Jb given by a rule [no inverse]\n",
      "Hyperelliptic Curve defined by y^2 = (a^2 + 3*a + 1)*x^5 + 1/1650390625*(29421056*a^2 + 54319360*a - 13481984) over K3\n",
      "Hyperelliptic Curve defined by y^2 = (4*a^2 + 12*a + 4)*x^5 + 1677*a^2 - 2769*a + 637 over K3\n",
      "a^2 + 3*a + 1\n",
      "a^2 + 3*a + 1\n"
     ]
    }
   ],
   "source": [
    "print(magma.eval(r\"\"\"\n",
    "C13<z>:=CyclotomicField(13);\n",
    "m4:=ChangeRing(MinimalPolynomial(z+1/z+z^5+1/(z^5)), Rationals());\n",
    "K3<a>:=NumberField(m4);\n",
    "_<s>:=PolynomialRing(K3);\n",
    "Fac:=Factorization(s^13+1);\n",
    "print Fac;\n",
    "F:=Fac[2,1];\n",
    "\n",
    "assert F eq s^4 + a*s^3 + (a^2 + a - 1)*s^2 + a*s + 1;\n",
    "c:=1/4*(-4*a^2 - 5*a + 15);\n",
    "G:=c*(s+1)^4;\n",
    "d:=1/4*(-4*a^2 - 5*a + 19);\n",
    "H:=d*(s^2 + 1/5*(-2*a^2 + 8)*s + 1)^2;\n",
    "\n",
    "assert H eq F+G;\n",
    "\n",
    "C:=HyperellipticCurve(s^5+c/d^5);\n",
    "R:=RationalPoints(C:Bound:=100);R;\n",
    "\n",
    "    \n",
    "// Curve for pseudo solution (1,1,*) etc.\n",
    "e:=Evaluate(F,1);\n",
    "Cb:=HyperellipticCurve(e*s^5+c/d^5);\n",
    "Rb:=RationalPoints(Cb:Bound:=100);Rb; // Found only point at infinity\n",
    "Jb:=Jacobian(Cb);\n",
    "// TwoSelmerGroup without GRH takes a bit more than a couple of minutes..\n",
    "//time S2b:=TwoSelmerGroup(Jb);#S2b; // rank 1\n",
    "TwoTorsionSubgroup(Jb);\n",
    "// so rank Jb = 0 or 1\n",
    "Cb;\n",
    "\n",
    "zeta13_2 := Roots(MinimalPolynomial(a),K3)[2][1];\n",
    "f:=4*s^5 + 1677*a^2 - 2769*a + 637;\n",
    "f:=e*2^2*s^5 + (zeta13_2)^(-10)*(zeta13_2^2 + zeta13_2 - 3)^(-10)*(-zeta13_2^2 + 3)^(10)*(-zeta13_2^2 - zeta13_2 + 2)^10*(c/d^5)/(2^8);\n",
    "C:= HyperellipticCurve(f);\n",
    "C;\n",
    "e;\n",
    "zeta13_2^2;\n",
    "\"\"\"))"
   ]
  },
  {
   "cell_type": "code",
   "execution_count": 2,
   "id": "77190368",
   "metadata": {},
   "outputs": [
    {
     "ename": "NameError",
     "evalue": "name 'Cps' is not defined",
     "output_type": "error",
     "traceback": [
      "\u001b[0;31m---------------------------------------------------------------------------\u001b[0m",
      "\u001b[0;31mNameError\u001b[0m                                 Traceback (most recent call last)",
      "\u001b[0;32m<ipython-input-2-78f0dffe919d>\u001b[0m in \u001b[0;36m<module>\u001b[0;34m\u001b[0m\n\u001b[0;32m----> 1\u001b[0;31m \u001b[0mCps\u001b[0m\u001b[0;34m\u001b[0m\u001b[0;34m\u001b[0m\u001b[0m\n\u001b[0m",
      "\u001b[0;31mNameError\u001b[0m: name 'Cps' is not defined"
     ]
    }
   ],
   "source": [
    "Cps"
   ]
  },
  {
   "cell_type": "code",
   "execution_count": 48,
   "id": "7706c28a",
   "metadata": {},
   "outputs": [
    {
     "ename": "AttributeError",
     "evalue": "'HyperellipticCurve_g2_with_category' object has no attribute 'LSeries'",
     "output_type": "error",
     "traceback": [
      "\u001b[0;31m---------------------------------------------------------------------------\u001b[0m",
      "\u001b[0;31mKeyError\u001b[0m                                  Traceback (most recent call last)",
      "\u001b[0;32m~/miniforge3/envs/sage/lib/python3.9/site-packages/sage/structure/category_object.pyx\u001b[0m in \u001b[0;36msage.structure.category_object.CategoryObject.getattr_from_category (build/cythonized/sage/structure/category_object.c:7088)\u001b[0;34m()\u001b[0m\n\u001b[1;32m    838\u001b[0m         \u001b[0;32mtry\u001b[0m\u001b[0;34m:\u001b[0m\u001b[0;34m\u001b[0m\u001b[0;34m\u001b[0m\u001b[0m\n\u001b[0;32m--> 839\u001b[0;31m             \u001b[0;32mreturn\u001b[0m \u001b[0mself\u001b[0m\u001b[0;34m.\u001b[0m\u001b[0m__cached_methods\u001b[0m\u001b[0;34m[\u001b[0m\u001b[0mname\u001b[0m\u001b[0;34m]\u001b[0m\u001b[0;34m\u001b[0m\u001b[0;34m\u001b[0m\u001b[0m\n\u001b[0m\u001b[1;32m    840\u001b[0m         \u001b[0;32mexcept\u001b[0m \u001b[0mKeyError\u001b[0m\u001b[0;34m:\u001b[0m\u001b[0;34m\u001b[0m\u001b[0;34m\u001b[0m\u001b[0m\n",
      "\u001b[0;31mKeyError\u001b[0m: 'LSeries'",
      "\nDuring handling of the above exception, another exception occurred:\n",
      "\u001b[0;31mAttributeError\u001b[0m                            Traceback (most recent call last)",
      "\u001b[0;32m<ipython-input-48-761e3ceed7c1>\u001b[0m in \u001b[0;36m<module>\u001b[0;34m\u001b[0m\n\u001b[0;32m----> 1\u001b[0;31m \u001b[0mCps\u001b[0m\u001b[0;34m.\u001b[0m\u001b[0mLSeries\u001b[0m\u001b[0;34m(\u001b[0m\u001b[0;34m)\u001b[0m\u001b[0;34m\u001b[0m\u001b[0;34m\u001b[0m\u001b[0m\n\u001b[0m",
      "\u001b[0;32m~/miniforge3/envs/sage/lib/python3.9/site-packages/sage/structure/category_object.pyx\u001b[0m in \u001b[0;36msage.structure.category_object.CategoryObject.__getattr__ (build/cythonized/sage/structure/category_object.c:7007)\u001b[0;34m()\u001b[0m\n\u001b[1;32m    831\u001b[0m             \u001b[0mAttributeError\u001b[0m\u001b[0;34m:\u001b[0m \u001b[0;34m'PrimeNumbers_with_category'\u001b[0m \u001b[0mobject\u001b[0m \u001b[0mhas\u001b[0m \u001b[0mno\u001b[0m \u001b[0mattribute\u001b[0m \u001b[0;34m'sadfasdf'\u001b[0m\u001b[0;34m\u001b[0m\u001b[0;34m\u001b[0m\u001b[0m\n\u001b[1;32m    832\u001b[0m         \"\"\"\n\u001b[0;32m--> 833\u001b[0;31m         \u001b[0;32mreturn\u001b[0m \u001b[0mself\u001b[0m\u001b[0;34m.\u001b[0m\u001b[0mgetattr_from_category\u001b[0m\u001b[0;34m(\u001b[0m\u001b[0mname\u001b[0m\u001b[0;34m)\u001b[0m\u001b[0;34m\u001b[0m\u001b[0;34m\u001b[0m\u001b[0m\n\u001b[0m\u001b[1;32m    834\u001b[0m \u001b[0;34m\u001b[0m\u001b[0m\n\u001b[1;32m    835\u001b[0m     \u001b[0mcdef\u001b[0m \u001b[0mgetattr_from_category\u001b[0m\u001b[0;34m(\u001b[0m\u001b[0mself\u001b[0m\u001b[0;34m,\u001b[0m \u001b[0mname\u001b[0m\u001b[0;34m)\u001b[0m\u001b[0;34m:\u001b[0m\u001b[0;34m\u001b[0m\u001b[0;34m\u001b[0m\u001b[0m\n",
      "\u001b[0;32m~/miniforge3/envs/sage/lib/python3.9/site-packages/sage/structure/category_object.pyx\u001b[0m in \u001b[0;36msage.structure.category_object.CategoryObject.getattr_from_category (build/cythonized/sage/structure/category_object.c:7173)\u001b[0;34m()\u001b[0m\n\u001b[1;32m    846\u001b[0m                 \u001b[0mcls\u001b[0m \u001b[0;34m=\u001b[0m \u001b[0mself\u001b[0m\u001b[0;34m.\u001b[0m\u001b[0m_category\u001b[0m\u001b[0;34m.\u001b[0m\u001b[0mparent_class\u001b[0m\u001b[0;34m\u001b[0m\u001b[0;34m\u001b[0m\u001b[0m\n\u001b[1;32m    847\u001b[0m \u001b[0;34m\u001b[0m\u001b[0m\n\u001b[0;32m--> 848\u001b[0;31m             \u001b[0mattr\u001b[0m \u001b[0;34m=\u001b[0m \u001b[0mgetattr_from_other_class\u001b[0m\u001b[0;34m(\u001b[0m\u001b[0mself\u001b[0m\u001b[0;34m,\u001b[0m \u001b[0mcls\u001b[0m\u001b[0;34m,\u001b[0m \u001b[0mname\u001b[0m\u001b[0;34m)\u001b[0m\u001b[0;34m\u001b[0m\u001b[0;34m\u001b[0m\u001b[0m\n\u001b[0m\u001b[1;32m    849\u001b[0m             \u001b[0mself\u001b[0m\u001b[0;34m.\u001b[0m\u001b[0m__cached_methods\u001b[0m\u001b[0;34m[\u001b[0m\u001b[0mname\u001b[0m\u001b[0;34m]\u001b[0m \u001b[0;34m=\u001b[0m \u001b[0mattr\u001b[0m\u001b[0;34m\u001b[0m\u001b[0;34m\u001b[0m\u001b[0m\n\u001b[1;32m    850\u001b[0m             \u001b[0;32mreturn\u001b[0m \u001b[0mattr\u001b[0m\u001b[0;34m\u001b[0m\u001b[0;34m\u001b[0m\u001b[0m\n",
      "\u001b[0;32m~/miniforge3/envs/sage/lib/python3.9/site-packages/sage/cpython/getattr.pyx\u001b[0m in \u001b[0;36msage.cpython.getattr.getattr_from_other_class (build/cythonized/sage/cpython/getattr.c:2565)\u001b[0;34m()\u001b[0m\n\u001b[1;32m    365\u001b[0m         \u001b[0mdummy_error_message\u001b[0m\u001b[0;34m.\u001b[0m\u001b[0mcls\u001b[0m \u001b[0;34m=\u001b[0m \u001b[0mtype\u001b[0m\u001b[0;34m(\u001b[0m\u001b[0mself\u001b[0m\u001b[0;34m)\u001b[0m\u001b[0;34m\u001b[0m\u001b[0;34m\u001b[0m\u001b[0m\n\u001b[1;32m    366\u001b[0m         \u001b[0mdummy_error_message\u001b[0m\u001b[0;34m.\u001b[0m\u001b[0mname\u001b[0m \u001b[0;34m=\u001b[0m \u001b[0mname\u001b[0m\u001b[0;34m\u001b[0m\u001b[0;34m\u001b[0m\u001b[0m\n\u001b[0;32m--> 367\u001b[0;31m         \u001b[0;32mraise\u001b[0m \u001b[0mAttributeError\u001b[0m\u001b[0;34m(\u001b[0m\u001b[0mdummy_error_message\u001b[0m\u001b[0;34m)\u001b[0m\u001b[0;34m\u001b[0m\u001b[0;34m\u001b[0m\u001b[0m\n\u001b[0m\u001b[1;32m    368\u001b[0m     \u001b[0mcdef\u001b[0m \u001b[0mPyObject\u001b[0m\u001b[0;34m*\u001b[0m \u001b[0mattr\u001b[0m \u001b[0;34m=\u001b[0m \u001b[0minstance_getattr\u001b[0m\u001b[0;34m(\u001b[0m\u001b[0mcls\u001b[0m\u001b[0;34m,\u001b[0m \u001b[0mname\u001b[0m\u001b[0;34m)\u001b[0m\u001b[0;34m\u001b[0m\u001b[0;34m\u001b[0m\u001b[0m\n\u001b[1;32m    369\u001b[0m     \u001b[0;32mif\u001b[0m \u001b[0mattr\u001b[0m \u001b[0;32mis\u001b[0m \u001b[0mNULL\u001b[0m\u001b[0;34m:\u001b[0m\u001b[0;34m\u001b[0m\u001b[0;34m\u001b[0m\u001b[0m\n",
      "\u001b[0;31mAttributeError\u001b[0m: 'HyperellipticCurve_g2_with_category' object has no attribute 'LSeries'"
     ]
    }
   ],
   "source": [
    "Cps.LSeries()"
   ]
  },
  {
   "cell_type": "code",
   "execution_count": 51,
   "id": "dc1a932f",
   "metadata": {},
   "outputs": [
    {
     "data": {
      "text/plain": [
       "'Hyperelliptic Curve defined by y^2 = (4*a^2 + 12*a + 4)*x^5 + 1677*a^2 - 2769*a + 637 over K3'"
      ]
     },
     "execution_count": 51,
     "metadata": {},
     "output_type": "execute_result"
    }
   ],
   "source": [
    "mC"
   ]
  },
  {
   "cell_type": "code",
   "execution_count": 2,
   "id": "2527c19e",
   "metadata": {},
   "outputs": [],
   "source": [
    "mCps = magma._do_call(\"Cb\",1) # TODO there shoudl be a better way to do this"
   ]
  },
  {
   "cell_type": "code",
   "execution_count": 3,
   "id": "10533a26",
   "metadata": {},
   "outputs": [],
   "source": [
    "J = mCps.Jacobian()"
   ]
  },
  {
   "cell_type": "code",
   "execution_count": 4,
   "id": "94f1cece",
   "metadata": {},
   "outputs": [
    {
     "data": {
      "text/plain": [
       "Jacobian of Hyperelliptic Curve defined by y^2 = (a^2 + 3*a + 1)*x^5 + 1/1650390625*(29421056*a^2 + 54319360*a - 13481984) over K3"
      ]
     },
     "execution_count": 4,
     "metadata": {},
     "output_type": "execute_result"
    }
   ],
   "source": [
    "J"
   ]
  },
  {
   "cell_type": "code",
   "execution_count": 14,
   "id": "9e791e06",
   "metadata": {},
   "outputs": [
    {
     "data": {
      "text/plain": [
       "''"
      ]
     },
     "execution_count": 14,
     "metadata": {},
     "output_type": "execute_result"
    }
   ],
   "source": [
    "magma.eval(\"SetClassGroupBounds(\\\"GRH\\\")\")"
   ]
  },
  {
   "cell_type": "code",
   "execution_count": 15,
   "id": "f1bf2bf2",
   "metadata": {
    "scrolled": true
   },
   "outputs": [
    {
     "data": {
      "text/plain": [
       "Abelian Group isomorphic to Z/2\n",
       "Defined on 1 generator in supergroup:\n",
       "$.1 = $.4 + $.7 + $.8\n",
       "Relations:\n",
       "2*$.1 = 0"
      ]
     },
     "execution_count": 15,
     "metadata": {},
     "output_type": "execute_result"
    }
   ],
   "source": [
    "J.TwoSelmerGroup()"
   ]
  },
  {
   "cell_type": "code",
   "execution_count": 16,
   "id": "3adee26f",
   "metadata": {},
   "outputs": [],
   "source": [
    "mCps2 = magma._do_call(\"C\",1) # TODO there shoudl be a better way to do this"
   ]
  },
  {
   "cell_type": "code",
   "execution_count": 17,
   "id": "3432803e",
   "metadata": {},
   "outputs": [
    {
     "ename": "TypeError",
     "evalue": "Error evaluating Magma code.\nIN:_sage_[16]:=LSeries(_sage_[15]);\nOUT:WARNING: Using Ogg's formula when v_P(D)>=12 not guaranteed to be correct\nRuntime error: Fibre blowups over number fields not yet implemented",
     "output_type": "error",
     "traceback": [
      "\u001b[0;31m---------------------------------------------------------------------------\u001b[0m",
      "\u001b[0;31mRuntimeError\u001b[0m                              Traceback (most recent call last)",
      "\u001b[0;32m~/miniforge3/envs/sage/lib/python3.9/site-packages/sage/interfaces/expect.py\u001b[0m in \u001b[0;36m__init__\u001b[0;34m(self, parent, value, is_name, name)\u001b[0m\n\u001b[1;32m   1468\u001b[0m             \u001b[0;32mtry\u001b[0m\u001b[0;34m:\u001b[0m\u001b[0;34m\u001b[0m\u001b[0;34m\u001b[0m\u001b[0m\n\u001b[0;32m-> 1469\u001b[0;31m                 \u001b[0mself\u001b[0m\u001b[0;34m.\u001b[0m\u001b[0m_name\u001b[0m \u001b[0;34m=\u001b[0m \u001b[0mparent\u001b[0m\u001b[0;34m.\u001b[0m\u001b[0m_create\u001b[0m\u001b[0;34m(\u001b[0m\u001b[0mvalue\u001b[0m\u001b[0;34m,\u001b[0m \u001b[0mname\u001b[0m\u001b[0;34m=\u001b[0m\u001b[0mname\u001b[0m\u001b[0;34m)\u001b[0m\u001b[0;34m\u001b[0m\u001b[0;34m\u001b[0m\u001b[0m\n\u001b[0m\u001b[1;32m   1470\u001b[0m             \u001b[0;31m# Convert ValueError and RuntimeError to TypeError for\u001b[0m\u001b[0;34m\u001b[0m\u001b[0;34m\u001b[0m\u001b[0m\n",
      "\u001b[0;32m~/miniforge3/envs/sage/lib/python3.9/site-packages/sage/interfaces/interface.py\u001b[0m in \u001b[0;36m_create\u001b[0;34m(self, value, name)\u001b[0m\n\u001b[1;32m    512\u001b[0m         \u001b[0mname\u001b[0m \u001b[0;34m=\u001b[0m \u001b[0mself\u001b[0m\u001b[0;34m.\u001b[0m\u001b[0m_next_var_name\u001b[0m\u001b[0;34m(\u001b[0m\u001b[0;34m)\u001b[0m \u001b[0;32mif\u001b[0m \u001b[0mname\u001b[0m \u001b[0;32mis\u001b[0m \u001b[0;32mNone\u001b[0m \u001b[0;32melse\u001b[0m \u001b[0mname\u001b[0m\u001b[0;34m\u001b[0m\u001b[0;34m\u001b[0m\u001b[0m\n\u001b[0;32m--> 513\u001b[0;31m         \u001b[0mself\u001b[0m\u001b[0;34m.\u001b[0m\u001b[0mset\u001b[0m\u001b[0;34m(\u001b[0m\u001b[0mname\u001b[0m\u001b[0;34m,\u001b[0m \u001b[0mvalue\u001b[0m\u001b[0;34m)\u001b[0m\u001b[0;34m\u001b[0m\u001b[0;34m\u001b[0m\u001b[0m\n\u001b[0m\u001b[1;32m    514\u001b[0m         \u001b[0;32mreturn\u001b[0m \u001b[0mname\u001b[0m\u001b[0;34m\u001b[0m\u001b[0;34m\u001b[0m\u001b[0m\n",
      "\u001b[0;32m~/miniforge3/envs/sage/lib/python3.9/site-packages/sage/interfaces/magma.py\u001b[0m in \u001b[0;36mset\u001b[0;34m(self, var, value)\u001b[0m\n\u001b[1;32m    625\u001b[0m         \"\"\"\n\u001b[0;32m--> 626\u001b[0;31m         \u001b[0mout\u001b[0m \u001b[0;34m=\u001b[0m \u001b[0mself\u001b[0m\u001b[0;34m.\u001b[0m\u001b[0meval\u001b[0m\u001b[0;34m(\u001b[0m\u001b[0;34m\"%s:=%s\"\u001b[0m \u001b[0;34m%\u001b[0m \u001b[0;34m(\u001b[0m\u001b[0mvar\u001b[0m\u001b[0;34m,\u001b[0m \u001b[0mvalue\u001b[0m\u001b[0;34m)\u001b[0m\u001b[0;34m)\u001b[0m\u001b[0;34m\u001b[0m\u001b[0;34m\u001b[0m\u001b[0m\n\u001b[0m\u001b[1;32m    627\u001b[0m         \u001b[0;32mif\u001b[0m \u001b[0mout\u001b[0m\u001b[0;34m.\u001b[0m\u001b[0mlower\u001b[0m\u001b[0;34m(\u001b[0m\u001b[0;34m)\u001b[0m\u001b[0;34m.\u001b[0m\u001b[0mfind\u001b[0m\u001b[0;34m(\u001b[0m\u001b[0;34m\"error\"\u001b[0m\u001b[0;34m)\u001b[0m \u001b[0;34m!=\u001b[0m \u001b[0;34m-\u001b[0m\u001b[0;36m1\u001b[0m\u001b[0;34m:\u001b[0m\u001b[0;34m\u001b[0m\u001b[0;34m\u001b[0m\u001b[0m\n",
      "\u001b[0;32m~/miniforge3/envs/sage/lib/python3.9/site-packages/sage/interfaces/magma.py\u001b[0m in \u001b[0;36meval\u001b[0;34m(self, x, strip, **kwds)\u001b[0m\n\u001b[1;32m    559\u001b[0m         \u001b[0;32mif\u001b[0m \u001b[0;34m'Runtime error'\u001b[0m \u001b[0;32min\u001b[0m \u001b[0mans\u001b[0m \u001b[0;32mor\u001b[0m \u001b[0;34m'User error'\u001b[0m \u001b[0;32min\u001b[0m \u001b[0mans\u001b[0m\u001b[0;34m:\u001b[0m\u001b[0;34m\u001b[0m\u001b[0;34m\u001b[0m\u001b[0m\n\u001b[0;32m--> 560\u001b[0;31m             \u001b[0;32mraise\u001b[0m \u001b[0mRuntimeError\u001b[0m\u001b[0;34m(\u001b[0m\u001b[0;34m\"Error evaluating Magma code.\\nIN:%s\\nOUT:%s\"\u001b[0m \u001b[0;34m%\u001b[0m \u001b[0;34m(\u001b[0m\u001b[0mx\u001b[0m\u001b[0;34m,\u001b[0m \u001b[0mans\u001b[0m\u001b[0;34m)\u001b[0m\u001b[0;34m)\u001b[0m\u001b[0;34m\u001b[0m\u001b[0;34m\u001b[0m\u001b[0m\n\u001b[0m\u001b[1;32m    561\u001b[0m         \u001b[0;32mreturn\u001b[0m \u001b[0mans\u001b[0m\u001b[0;34m\u001b[0m\u001b[0;34m\u001b[0m\u001b[0m\n",
      "\u001b[0;31mRuntimeError\u001b[0m: Error evaluating Magma code.\nIN:_sage_[16]:=LSeries(_sage_[15]);\nOUT:WARNING: Using Ogg's formula when v_P(D)>=12 not guaranteed to be correct\nRuntime error: Fibre blowups over number fields not yet implemented",
      "\nDuring handling of the above exception, another exception occurred:\n",
      "\u001b[0;31mTypeError\u001b[0m                                 Traceback (most recent call last)",
      "\u001b[0;32m<ipython-input-17-8903514878d2>\u001b[0m in \u001b[0;36m<module>\u001b[0;34m\u001b[0m\n\u001b[0;32m----> 1\u001b[0;31m \u001b[0mmCps2\u001b[0m\u001b[0;34m.\u001b[0m\u001b[0mLSeries\u001b[0m\u001b[0;34m(\u001b[0m\u001b[0;34m)\u001b[0m\u001b[0;34m\u001b[0m\u001b[0;34m\u001b[0m\u001b[0m\n\u001b[0m",
      "\u001b[0;32m~/miniforge3/envs/sage/lib/python3.9/site-packages/sage/interfaces/magma.py\u001b[0m in \u001b[0;36m__call__\u001b[0;34m(self, *args, **kwds)\u001b[0m\n\u001b[1;32m   1674\u001b[0m                 \u001b[0;32mdel\u001b[0m \u001b[0mkwds\u001b[0m\u001b[0;34m[\u001b[0m\u001b[0;34m'nvals'\u001b[0m\u001b[0;34m]\u001b[0m\u001b[0;34m\u001b[0m\u001b[0;34m\u001b[0m\u001b[0m\n\u001b[1;32m   1675\u001b[0m         \u001b[0mM\u001b[0m \u001b[0;34m=\u001b[0m \u001b[0mself\u001b[0m\u001b[0;34m.\u001b[0m\u001b[0m_obj\u001b[0m\u001b[0;34m.\u001b[0m\u001b[0mparent\u001b[0m\u001b[0;34m(\u001b[0m\u001b[0;34m)\u001b[0m\u001b[0;34m\u001b[0m\u001b[0;34m\u001b[0m\u001b[0m\n\u001b[0;32m-> 1676\u001b[0;31m         return M.function_call(self._name,\n\u001b[0m\u001b[1;32m   1677\u001b[0m                                \u001b[0;34m[\u001b[0m\u001b[0mself\u001b[0m\u001b[0;34m.\u001b[0m\u001b[0m_obj\u001b[0m\u001b[0;34m.\u001b[0m\u001b[0mname\u001b[0m\u001b[0;34m(\u001b[0m\u001b[0;34m)\u001b[0m\u001b[0;34m]\u001b[0m \u001b[0;34m+\u001b[0m \u001b[0mlist\u001b[0m\u001b[0;34m(\u001b[0m\u001b[0margs\u001b[0m\u001b[0;34m)\u001b[0m\u001b[0;34m,\u001b[0m\u001b[0;34m\u001b[0m\u001b[0;34m\u001b[0m\u001b[0m\n\u001b[1;32m   1678\u001b[0m                                \u001b[0mparams\u001b[0m\u001b[0;34m=\u001b[0m\u001b[0mkwds\u001b[0m\u001b[0;34m,\u001b[0m\u001b[0;34m\u001b[0m\u001b[0;34m\u001b[0m\u001b[0m\n",
      "\u001b[0;32m~/miniforge3/envs/sage/lib/python3.9/site-packages/sage/interfaces/magma.py\u001b[0m in \u001b[0;36mfunction_call\u001b[0;34m(self, function, args, params, nvals)\u001b[0m\n\u001b[1;32m   1160\u001b[0m         \u001b[0mfun\u001b[0m \u001b[0;34m=\u001b[0m \u001b[0;34m\"%s(%s%s)\"\u001b[0m \u001b[0;34m%\u001b[0m \u001b[0;34m(\u001b[0m\u001b[0mfunction\u001b[0m\u001b[0;34m,\u001b[0m \u001b[0;34m\",\"\u001b[0m\u001b[0;34m.\u001b[0m\u001b[0mjoin\u001b[0m\u001b[0;34m(\u001b[0m\u001b[0;34m[\u001b[0m\u001b[0ms\u001b[0m\u001b[0;34m.\u001b[0m\u001b[0mname\u001b[0m\u001b[0;34m(\u001b[0m\u001b[0;34m)\u001b[0m \u001b[0;32mfor\u001b[0m \u001b[0ms\u001b[0m \u001b[0;32min\u001b[0m \u001b[0margs\u001b[0m\u001b[0;34m]\u001b[0m\u001b[0;34m)\u001b[0m\u001b[0;34m,\u001b[0m \u001b[0mpar\u001b[0m\u001b[0;34m)\u001b[0m\u001b[0;34m\u001b[0m\u001b[0;34m\u001b[0m\u001b[0m\n\u001b[1;32m   1161\u001b[0m \u001b[0;34m\u001b[0m\u001b[0m\n\u001b[0;32m-> 1162\u001b[0;31m         \u001b[0;32mreturn\u001b[0m \u001b[0mself\u001b[0m\u001b[0;34m.\u001b[0m\u001b[0m_do_call\u001b[0m\u001b[0;34m(\u001b[0m\u001b[0mfun\u001b[0m\u001b[0;34m,\u001b[0m \u001b[0mnvals\u001b[0m\u001b[0;34m)\u001b[0m\u001b[0;34m\u001b[0m\u001b[0;34m\u001b[0m\u001b[0m\n\u001b[0m\u001b[1;32m   1163\u001b[0m \u001b[0;34m\u001b[0m\u001b[0m\n\u001b[1;32m   1164\u001b[0m     \u001b[0;32mdef\u001b[0m \u001b[0m_do_call\u001b[0m\u001b[0;34m(\u001b[0m\u001b[0mself\u001b[0m\u001b[0;34m,\u001b[0m \u001b[0mcode\u001b[0m\u001b[0;34m,\u001b[0m \u001b[0mnvals\u001b[0m\u001b[0;34m)\u001b[0m\u001b[0;34m:\u001b[0m\u001b[0;34m\u001b[0m\u001b[0;34m\u001b[0m\u001b[0m\n",
      "\u001b[0;32m~/miniforge3/envs/sage/lib/python3.9/site-packages/sage/interfaces/magma.py\u001b[0m in \u001b[0;36m_do_call\u001b[0;34m(self, code, nvals)\u001b[0m\n\u001b[1;32m   1210\u001b[0m             \u001b[0mans\u001b[0m \u001b[0;34m=\u001b[0m \u001b[0;32mNone\u001b[0m\u001b[0;34m\u001b[0m\u001b[0;34m\u001b[0m\u001b[0m\n\u001b[1;32m   1211\u001b[0m         \u001b[0;32melif\u001b[0m \u001b[0mnvals\u001b[0m \u001b[0;34m==\u001b[0m \u001b[0;36m1\u001b[0m\u001b[0;34m:\u001b[0m\u001b[0;34m\u001b[0m\u001b[0;34m\u001b[0m\u001b[0m\n\u001b[0;32m-> 1212\u001b[0;31m             \u001b[0;32mreturn\u001b[0m \u001b[0mself\u001b[0m\u001b[0;34m(\u001b[0m\u001b[0mcode\u001b[0m\u001b[0;34m)\u001b[0m\u001b[0;34m\u001b[0m\u001b[0;34m\u001b[0m\u001b[0m\n\u001b[0m\u001b[1;32m   1213\u001b[0m         \u001b[0;32melse\u001b[0m\u001b[0;34m:\u001b[0m\u001b[0;34m\u001b[0m\u001b[0;34m\u001b[0m\u001b[0m\n\u001b[1;32m   1214\u001b[0m             \u001b[0mv\u001b[0m \u001b[0;34m=\u001b[0m \u001b[0;34m[\u001b[0m\u001b[0mself\u001b[0m\u001b[0;34m.\u001b[0m\u001b[0m_next_var_name\u001b[0m\u001b[0;34m(\u001b[0m\u001b[0;34m)\u001b[0m \u001b[0;32mfor\u001b[0m \u001b[0m_\u001b[0m \u001b[0;32min\u001b[0m \u001b[0mrange\u001b[0m\u001b[0;34m(\u001b[0m\u001b[0mnvals\u001b[0m\u001b[0;34m)\u001b[0m\u001b[0;34m]\u001b[0m\u001b[0;34m\u001b[0m\u001b[0;34m\u001b[0m\u001b[0m\n",
      "\u001b[0;32m~/miniforge3/envs/sage/lib/python3.9/site-packages/sage/interfaces/magma.py\u001b[0m in \u001b[0;36m__call__\u001b[0;34m(self, x, gens)\u001b[0m\n\u001b[1;32m    789\u001b[0m             \u001b[0;32mpass\u001b[0m\u001b[0;34m\u001b[0m\u001b[0;34m\u001b[0m\u001b[0m\n\u001b[1;32m    790\u001b[0m \u001b[0;34m\u001b[0m\u001b[0m\n\u001b[0;32m--> 791\u001b[0;31m         \u001b[0mA\u001b[0m \u001b[0;34m=\u001b[0m \u001b[0mExpect\u001b[0m\u001b[0;34m.\u001b[0m\u001b[0m__call__\u001b[0m\u001b[0;34m(\u001b[0m\u001b[0mself\u001b[0m\u001b[0;34m,\u001b[0m \u001b[0mx\u001b[0m\u001b[0;34m)\u001b[0m\u001b[0;34m\u001b[0m\u001b[0;34m\u001b[0m\u001b[0m\n\u001b[0m\u001b[1;32m    792\u001b[0m         \u001b[0;32mif\u001b[0m \u001b[0mhas_cache\u001b[0m\u001b[0;34m:\u001b[0m\u001b[0;34m\u001b[0m\u001b[0;34m\u001b[0m\u001b[0m\n\u001b[1;32m    793\u001b[0m             \u001b[0mx\u001b[0m\u001b[0;34m.\u001b[0m\u001b[0m_magma_cache\u001b[0m\u001b[0;34m[\u001b[0m\u001b[0mself\u001b[0m\u001b[0;34m]\u001b[0m \u001b[0;34m=\u001b[0m \u001b[0mA\u001b[0m\u001b[0;34m\u001b[0m\u001b[0;34m\u001b[0m\u001b[0m\n",
      "\u001b[0;32m~/miniforge3/envs/sage/lib/python3.9/site-packages/sage/interfaces/interface.py\u001b[0m in \u001b[0;36m__call__\u001b[0;34m(self, x, name)\u001b[0m\n\u001b[1;32m    293\u001b[0m \u001b[0;34m\u001b[0m\u001b[0m\n\u001b[1;32m    294\u001b[0m         \u001b[0;32mif\u001b[0m \u001b[0misinstance\u001b[0m\u001b[0;34m(\u001b[0m\u001b[0mx\u001b[0m\u001b[0;34m,\u001b[0m \u001b[0mstr\u001b[0m\u001b[0;34m)\u001b[0m\u001b[0;34m:\u001b[0m\u001b[0;34m\u001b[0m\u001b[0;34m\u001b[0m\u001b[0m\n\u001b[0;32m--> 295\u001b[0;31m             \u001b[0;32mreturn\u001b[0m \u001b[0mcls\u001b[0m\u001b[0;34m(\u001b[0m\u001b[0mself\u001b[0m\u001b[0;34m,\u001b[0m \u001b[0mx\u001b[0m\u001b[0;34m,\u001b[0m \u001b[0mname\u001b[0m\u001b[0;34m=\u001b[0m\u001b[0mname\u001b[0m\u001b[0;34m)\u001b[0m\u001b[0;34m\u001b[0m\u001b[0;34m\u001b[0m\u001b[0m\n\u001b[0m\u001b[1;32m    296\u001b[0m         \u001b[0;32mtry\u001b[0m\u001b[0;34m:\u001b[0m\u001b[0;34m\u001b[0m\u001b[0;34m\u001b[0m\u001b[0m\n\u001b[1;32m    297\u001b[0m             \u001b[0;31m# Special methods do not and should not have an option to\u001b[0m\u001b[0;34m\u001b[0m\u001b[0;34m\u001b[0m\u001b[0m\n",
      "\u001b[0;32m~/miniforge3/envs/sage/lib/python3.9/site-packages/sage/interfaces/expect.py\u001b[0m in \u001b[0;36m__init__\u001b[0;34m(self, parent, value, is_name, name)\u001b[0m\n\u001b[1;32m   1472\u001b[0m             \u001b[0;32mexcept\u001b[0m \u001b[0;34m(\u001b[0m\u001b[0mRuntimeError\u001b[0m\u001b[0;34m,\u001b[0m \u001b[0mValueError\u001b[0m\u001b[0;34m)\u001b[0m \u001b[0;32mas\u001b[0m \u001b[0mx\u001b[0m\u001b[0;34m:\u001b[0m\u001b[0;34m\u001b[0m\u001b[0;34m\u001b[0m\u001b[0m\n\u001b[1;32m   1473\u001b[0m                 \u001b[0mself\u001b[0m\u001b[0;34m.\u001b[0m\u001b[0m_session_number\u001b[0m \u001b[0;34m=\u001b[0m \u001b[0;34m-\u001b[0m\u001b[0;36m1\u001b[0m\u001b[0;34m\u001b[0m\u001b[0;34m\u001b[0m\u001b[0m\n\u001b[0;32m-> 1474\u001b[0;31m                 \u001b[0;32mraise\u001b[0m \u001b[0mTypeError\u001b[0m\u001b[0;34m(\u001b[0m\u001b[0;34m*\u001b[0m\u001b[0mx\u001b[0m\u001b[0;34m.\u001b[0m\u001b[0margs\u001b[0m\u001b[0;34m)\u001b[0m\u001b[0;34m\u001b[0m\u001b[0;34m\u001b[0m\u001b[0m\n\u001b[0m\u001b[1;32m   1475\u001b[0m             \u001b[0;32mexcept\u001b[0m \u001b[0mBaseException\u001b[0m\u001b[0;34m:\u001b[0m\u001b[0;34m\u001b[0m\u001b[0;34m\u001b[0m\u001b[0m\n\u001b[1;32m   1476\u001b[0m                 \u001b[0mself\u001b[0m\u001b[0;34m.\u001b[0m\u001b[0m_session_number\u001b[0m \u001b[0;34m=\u001b[0m \u001b[0;34m-\u001b[0m\u001b[0;36m1\u001b[0m\u001b[0;34m\u001b[0m\u001b[0;34m\u001b[0m\u001b[0m\n",
      "\u001b[0;31mTypeError\u001b[0m: Error evaluating Magma code.\nIN:_sage_[16]:=LSeries(_sage_[15]);\nOUT:WARNING: Using Ogg's formula when v_P(D)>=12 not guaranteed to be correct\nRuntime error: Fibre blowups over number fields not yet implemented"
     ]
    }
   ],
   "source": [
    "mCps2.LSeries()"
   ]
  },
  {
   "cell_type": "code",
   "execution_count": 18,
   "id": "99e5a9fc",
   "metadata": {},
   "outputs": [],
   "source": [
    "K3 = mCps.BaseField()"
   ]
  },
  {
   "cell_type": "code",
   "execution_count": 20,
   "id": "653f3191",
   "metadata": {},
   "outputs": [],
   "source": [
    "K3x = K3.PolynomialRing()"
   ]
  },
  {
   "cell_type": "code",
   "execution_count": 21,
   "id": "96fd904d",
   "metadata": {},
   "outputs": [],
   "source": [
    "xx = K3x.1"
   ]
  },
  {
   "cell_type": "code",
   "execution_count": 22,
   "id": "b8cf3880",
   "metadata": {},
   "outputs": [
    {
     "data": {
      "text/plain": [
       "s^2"
      ]
     },
     "execution_count": 22,
     "metadata": {},
     "output_type": "execute_result"
    }
   ],
   "source": [
    "xx^2"
   ]
  },
  {
   "cell_type": "code",
   "execution_count": 23,
   "id": "62825074",
   "metadata": {},
   "outputs": [],
   "source": [
    "ext = xx^6 - xx^5 - 5*xx^4 + 4*xx^3 + 6*xx^2 - 3*xx - 1;"
   ]
  },
  {
   "cell_type": "code",
   "execution_count": 31,
   "id": "79fce64c",
   "metadata": {},
   "outputs": [],
   "source": [
    "l = mCps2.ChangeRing(magma.NumberField(magma.Factorization(ext)[1][1]).AbsoluteField());"
   ]
  },
  {
   "cell_type": "code",
   "execution_count": 32,
   "id": "37d70238",
   "metadata": {},
   "outputs": [
    {
     "data": {
      "text/plain": [
       "Hyperelliptic Curve defined by y^2 = (-4*$.1^5 + 24*$.1^3 - 4*$.1^2 - 36*$.1 + 20)*x^5 + 6123*$.1^5 - 28938*$.1^3 - 1677*$.1^2 + 31707*$.1 + 7345 over Number Field with defining polynomial $.1^6 - $.1^5 - 5*$.1^4 + 4*$.1^3 + 6*$.1^2 - 3*$.1 - 1 over the Rational Field"
      ]
     },
     "execution_count": 32,
     "metadata": {},
     "output_type": "execute_result"
    }
   ],
   "source": [
    "l"
   ]
  },
  {
   "cell_type": "code",
   "execution_count": 37,
   "id": "75303b74",
   "metadata": {},
   "outputs": [
    {
     "data": {
      "text/plain": [
       "{@ (1 : 0 : 0), (0 : -24*$.1^5 + 20*$.1^4 + 145*$.1^3 - 35*$.1^2 - 191*$.1 - 40 : 1), (0 : 24*$.1^5 - 20*$.1^4 - 145*$.1^3 + 35*$.1^2 + 191*$.1 + 40 : 1) @}"
      ]
     },
     "execution_count": 37,
     "metadata": {},
     "output_type": "execute_result"
    }
   ],
   "source": [
    "l.RationalPoints(Bound=20) // Order 5 point with x = 0, cant find any others"
   ]
  },
  {
   "cell_type": "code",
   "execution_count": null,
   "id": "b89978aa",
   "metadata": {},
   "outputs": [],
   "source": [
    "> ChangeRing(C, AbsoluteField( K6));                                           \n",
    "Hyperelliptic Curve defined by y^2 = (-4*$.1^5 + 24*$.1^3 - 4*$.1^2 - 36*$.1 + \n",
    "    20)*x^5 + 6123*$.1^5 - 28938*$.1^3 - 1677*$.1^2 + 31707*$.1 + 7345 over \n",
    "Number Field with defining polynomial $.1^6 - $.1^5 - 5*$.1^4 + 4*$.1^3 + \n",
    "    6*$.1^2 - 3*$.1 - 1 over the Rational Field\n",
    "> C6:=ChangeRing(C, AbsoluteField( K6));\n",
    "> TwoSelmerGroup(Jacobian(C6));         \n",
    "Abelian Group isomorphic to Z/2 + Z/2 + Z/2\n",
    "Defined on 3 generators in supergroup:\n",
    "    $.1 = $.3 + $.4 + $.9 + $.11 + $.14\n",
    "    $.2 = $.11 + $.12 + $.13 + $.24\n",
    "    $.3 = $.2 + $.6 + $.11 + $.13 + $.15 + $.24\n",
    "Relations:\n",
    "    2*$.1 = 0\n",
    "    2*$.2 = 0\n",
    "    2*$.3 = 0\n",
    "Mapping from: Univariate Quotient Polynomial Algebra in theta over Number Field \n",
    "with defining polynomial $.1^6 - $.1^5 - 5*$.1^4 + 4*$.1^3 + 6*$.1^2 - 3*$.1 - 1\n",
    "over the Rational Field\n",
    "with modulus theta^5 + 1/4*(81640*$.1^5 - 385840*$.1^3 - 22360*$.1^2 + \n",
    "    422760*$.1 + 97877) to Abelian Group isomorphic to Z/2 + Z/2 + Z/2 + Z/2 + \n",
    "Z/2 + Z/2 + Z/2 + Z/2 + Z/2 + Z/2 + Z/2 + Z/2 + Z/2 + Z/2 + Z/2 + Z/2 + Z/2 + \n",
    "Z/2 + Z/2 + Z/2 + Z/2 + Z/2 + Z/2 + Z/2\n",
    "Defined on 24 generators\n",
    "Relations:\n",
    "    2*$.1 = 0\n",
    "    2*$.2 = 0\n",
    "    2*$.3 = 0\n",
    "    2*$.4 = 0\n",
    "    2*$.5 = 0\n",
    "    2*$.6 = 0\n",
    "    2*$.7 = 0\n",
    "    2*$.8 = 0\n",
    "    2*$.9 = 0\n",
    "    2*$.10 = 0\n",
    "    2*$.11 = 0\n",
    "    2*$.12 = 0\n",
    "    2*$.13 = 0\n",
    "    2*$.14 = 0\n",
    "    2*$.15 = 0\n",
    "    2*$.16 = 0\n",
    "    2*$.17 = 0\n",
    "    2*$.18 = 0\n",
    "    2*$.19 = 0\n",
    "    2*$.20 = 0\n",
    "    2*$.21 = 0\n",
    "    2*$.22 = 0\n",
    "    2*$.23 = 0\n",
    "    2*$.24 = 0 given by a rule"
   ]
  }
 ],
 "metadata": {
  "kernelspec": {
   "display_name": "SageMath 9.4",
   "language": "sage",
   "name": "sagemath"
  },
  "language_info": {
   "codemirror_mode": {
    "name": "ipython",
    "version": 3
   },
   "file_extension": ".py",
   "mimetype": "text/x-python",
   "name": "python",
   "nbconvert_exporter": "python",
   "pygments_lexer": "ipython3",
   "version": "3.9.7"
  }
 },
 "nbformat": 4,
 "nbformat_minor": 5
}
