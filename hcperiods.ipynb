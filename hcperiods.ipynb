{
 "cells": [
  {
   "cell_type": "markdown",
   "metadata": {},
   "source": [
    "Computing annihilating differentials with hcperiods\n",
    "-------------\n",
    "\n",
    "In this notebook I experiment with abelian differentials on hyperelliptic curves using the Magma package [hcperiods](https://github.com/pascalmolin/hcperiods) due to  Christian Neurohr (+ Pascal Molin + Fredrik Johansson). \n",
    "\n",
    "This is preloaded in my Magma thanks to [CHIMP](https://github.com/edgarcosta/CHIMP) and I use [Edgar's magma kernel](https://github.com/edgarcosta/magma_kernel).\n",
    "\n",
    "Computations on the $p$-adic side show that for various (CM) hyperelliptic curves over $\\mathbf Q$ I have a rational point $P$ which generates the Jacobian over $\\mathbf Q$ and for which\n",
    "$$a \\int^\\infty_P \\frac{\\mathrm d x }{y} + b \\int^\\infty_P \\frac{x\\mathrm d x }{y} = 0$$\n",
    "for some fixed $a,b \\in \\mathbf Q$, here this is in the sense of Coleman integrals.\n",
    "\n",
    "In this notebook I verify the corrsponding vanishing for the analogous complex abelian differentials.\n",
    "\n",
    "In order to extract the right values from hcperiods a little care is needed as the Abel-Jacobi map is renormalized there to land in $\\mathbf R^{2g}/\\mathbf Z^{2g}$.\n",
    "\n",
    "I would also have guessed that my values would only be zero in the period lattice rather than literally zero, so far this has not been needed though."
   ]
  },
  {
   "cell_type": "markdown",
   "metadata": {},
   "source": [
    "First example\n",
    "---------"
   ]
  },
  {
   "cell_type": "code",
   "execution_count": 4,
   "metadata": {},
   "outputs": [
    {
     "name": "stdout",
     "output_type": "stream",
     "text": [
      "[ 2.00000000000000000000000000000000000000000000000000000000000 - 1.12311564712923686354915576574814165398014458661717819929142E-61*I, -2.00000000000000000000000000000000000000000000000000000000000 + 3.40710304597897646460665176815581265209141884382330642394795E-61*I ]\r\n"
     ]
    }
   ],
   "source": [
    "Qx<x> := PolynomialRing(Rationals());\n",
    "m := 2;\n",
    "Prec := 50;\n",
    "f := 8*x^5 - 3*x^4 - 18*x^3 + x^2 + 12*x + 4;\n",
    "S := SE_Curve(f,m:Prec:=Prec);            \n",
    "C<I> := S`ComplexField;\n",
    "x_1 := Zero(C); Fx_1 := SE_Branches(x_1,S);                      \n",
    "Fx_1;\n",
    "D := SE_Divisor([<[x_1,Fx_1[1]],1>, <[1],-1>],S);"
   ]
  },
  {
   "cell_type": "code",
   "execution_count": 5,
   "metadata": {},
   "outputs": [
    {
     "name": "stdout",
     "output_type": "stream",
     "text": [
      " Divisor on superelliptic curve defined as degree 2 cover of 8*x^5 - 3*x^4 - 18*x^3 + x^2 + 12*x + 4\r\n",
      " Degree: 0\r\n",
      " Support: [\r\n",
      "<[ 0.000000000000000000000000000000000000000000000000000000000000, 2.00000000000000000000000000000000000000000000000000000000000 - 1.12311564712923686354915576574814165398014458661717819929142E-61*I ], 1>,\r\n",
      "<[ 1.00000000000000000000000000000000000000000000000000000000000 ], -1>\r\n",
      "]\r\n",
      "\r\n"
     ]
    }
   ],
   "source": [
    "D;"
   ]
  },
  {
   "cell_type": "code",
   "execution_count": 6,
   "metadata": {},
   "outputs": [
    {
     "name": "stdout",
     "output_type": "stream",
     "text": [
      "[0.42597764431812249276913320668868134400576538670019]\r\n",
      "[0.074022355681877507230866793311318655994234613299812]\r\n",
      "[0.14804471136375501446173358662263731198846922659962]\r\n",
      "[-0.14804471136375501446173358662263731198846922659962]\r\n"
     ]
    }
   ],
   "source": [
    "A := SE_AbelJacobi(D,S);\n",
    "A;"
   ]
  },
  {
   "cell_type": "code",
   "execution_count": 7,
   "metadata": {},
   "outputs": [
    {
     "name": "stdout",
     "output_type": "stream",
     "text": [
      "AJM_InftyPoints             InftyPoint\r\n",
      "AJM_RamificationPoints      IntegrationSchemes\r\n",
      "AJM_SumOfInftyPoints        IntegrationType\r\n",
      "Basepoint                   IntersectionMatrix\r\n",
      "BigPeriodMatrix             LC2\r\n",
      "BranchPoints                LeadingCoeff\r\n",
      "ComplexField                LeadingCoeff_T\r\n",
      "ComplexPolynomial           LowPrecBranchPoints\r\n",
      "DefiningPolynomial          Prec\r\n",
      "Degree                      RealField\r\n",
      "DifferentialChangeMatrix    ReductionMatrix\r\n",
      "ElementaryIntegrals         SmallPeriodMatrix\r\n",
      "Error                       SpanningTree\r\n",
      "Genus                       TreeMatrix\r\n",
      "HolomorphicDifferentials    Zetas\r\n"
     ]
    }
   ],
   "source": [
    "ListAttributes(Category(S));"
   ]
  },
  {
   "cell_type": "code",
   "execution_count": 8,
   "metadata": {},
   "outputs": [
    {
     "name": "stdout",
     "output_type": "stream",
     "text": [
      "[0.5000000000000000000000000000000000000000000000000000000 + 1.423863562392831630840920103019264421576211546312165436*I -0.3027648915286423298479013204442805252232148767616777433*I]\r\n",
      "[-6.689741423700727335179868857813633558634521081375254668E-60 - 0.3027648915286423298479013204442805252232148767616777433*I 0.5000000000000000000000000000000000000000000000000000000 + 1.423863562392831630840920103019264421576211546312165436*I]\r\n"
     ]
    }
   ],
   "source": [
    "S`SmallPeriodMatrix;"
   ]
  },
  {
   "cell_type": "code",
   "execution_count": 9,
   "metadata": {},
   "outputs": [
    {
     "name": "stdout",
     "output_type": "stream",
     "text": [
      "[-0.8125909308725234458144858259675781503544610915896286577*I -1.838391548492449982855446758091259992991201983968143574*I 0.6004181998337689973172015103122003988986204247663779534 - 0.4062954654362617229072429129837890751772305457948143288*I 2.371594734266555853937156004793313498965450642270604322 - 0.9191957742462249914277233790456299964956009919840717869*I]\r\n",
      "[-1.025800617619926537040960932123681842636740892378514916*I 1.025800617619926537040960932123681842636740892378514916*I 1.771176534432786856619954494481113100066830217504226369 - 0.5129003088099632685204804660618409213183704461892574580*I -1.771176534432786856619954494481113100066830217504226369 + 0.5129003088099632685204804660618409213183704461892574580*I]\r\n"
     ]
    }
   ],
   "source": [
    "S`BigPeriodMatrix;"
   ]
  },
  {
   "cell_type": "code",
   "execution_count": 10,
   "metadata": {},
   "outputs": [
    {
     "name": "stdout",
     "output_type": "stream",
     "text": [
      "[-0.26221331881435782500978115884291877141413042438463]\r\n",
      "[0.52442663762871565001956231768583754282826084876925]\r\n",
      "[-0.40629546543626172290724291298378907517723054579481]\r\n",
      "[-0.51290030880996326852048046606184092131837044618926]\r\n"
     ]
    }
   ],
   "source": [
    "AA:= ChangeRing(S`ReductionMatrix^(-1),S`RealField)*A;\n",
    "AA;"
   ]
  },
  {
   "cell_type": "code",
   "execution_count": 11,
   "metadata": {},
   "outputs": [
    {
     "name": "stdout",
     "output_type": "stream",
     "text": [
      "(-1.0691058840368782584562145868605927515260787520420E-50)\r\n"
     ]
    }
   ],
   "source": [
    "2*AA[1] + AA[2];"
   ]
  },
  {
   "cell_type": "markdown",
   "metadata": {},
   "source": [
    "Example the second\n",
    "------------------------"
   ]
  },
  {
   "cell_type": "code",
   "execution_count": 12,
   "metadata": {},
   "outputs": [
    {
     "name": "stdout",
     "output_type": "stream",
     "text": [
      "[ 1.00000000000000000000000000000000000000000000000000000000000, -1.00000000000000000000000000000000000000000000000000000000000 + 1.14199369942486980052874800120383549905563712860306411232826E-61*I ]\r\n"
     ]
    }
   ],
   "source": [
    "f2 :=  4*x^5 - 95*x^4 + 16*x^3 + 42*x^2 + 12*x + 1;\n",
    "S2 := SE_Curve(f2,m:Prec:=Prec);            \n",
    "C<I> := S2`ComplexField;\n",
    "x_1 := Zero(C); Fx_1 := SE_Branches(x_1,S2);                      \n",
    "Fx_1;\n",
    "D2 := SE_Divisor([<[x_1,Fx_1[1]],1>, <[1],-1>],S2);"
   ]
  },
  {
   "cell_type": "code",
   "execution_count": 13,
   "metadata": {},
   "outputs": [
    {
     "name": "stdout",
     "output_type": "stream",
     "text": [
      "[0.13848256004868980240910992022779077322402194000548]\r\n",
      "[0.00000000000000000000000000000000000000000000000000]\r\n",
      "[-0.50000000000000000000000000000000000000000000000000]\r\n",
      "[-0.13848256004868980240910992022779077322402194000548]\r\n"
     ]
    }
   ],
   "source": [
    "A2 := SE_AbelJacobi(D2,S2);\n",
    "A2;"
   ]
  },
  {
   "cell_type": "code",
   "execution_count": 14,
   "metadata": {},
   "outputs": [
    {
     "name": "stdout",
     "output_type": "stream",
     "text": [
      "[-0.35929265863530738571253262629782690581409664327722]\r\n",
      "[0.17964632931765369285626631314891345290704832163861]\r\n",
      "[-0.19501059313854340407437468624931684017692066701832]\r\n",
      "[-0.55800909200375825057902255434812143333222840434874]\r\n"
     ]
    }
   ],
   "source": [
    "AA2:= ChangeRing(S2`ReductionMatrix^(-1),S2`RealField)*A2;\n",
    "AA2;"
   ]
  },
  {
   "cell_type": "code",
   "execution_count": 15,
   "metadata": {},
   "outputs": [
    {
     "name": "stdout",
     "output_type": "stream",
     "text": [
      "(-2.6727647100921956461405364671514818788151968801050E-51)\r\n"
     ]
    }
   ],
   "source": [
    "AA2[1] + 2*AA2[2];"
   ]
  },
  {
   "cell_type": "code",
   "execution_count": 22,
   "metadata": {},
   "outputs": [
    {
     "name": "stdout",
     "output_type": "stream",
     "text": [
      "-0.35929265863530738571253262629782690581409664327722\r\n"
     ]
    }
   ],
   "source": [
    "AA2[1][1];"
   ]
  },
  {
   "cell_type": "code",
   "execution_count": null,
   "metadata": {},
   "outputs": [],
   "source": []
  }
 ],
 "metadata": {
  "kernelspec": {
   "display_name": "Magma",
   "language": "magma",
   "name": "magma"
  },
  "language_info": {
   "codemirror_mode": "magma",
   "file_extension": ".mgm",
   "mimetype": "text/x-sh",
   "name": "magma"
  }
 },
 "nbformat": 4,
 "nbformat_minor": 2
}
