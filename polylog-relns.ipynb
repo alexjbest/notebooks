{
 "cells": [
  {
   "cell_type": "markdown",
   "metadata": {},
   "source": [
    "Polylogarithm relations\n",
    "-------------------------\n",
    "\n",
    "Conjecturally any relation between polylogarithm values comes from a relation between the polylogarithm functions themselves.\n",
    "\n",
    "Here we generate polylog value relations in an attempt to find the reason for polylog value relations.\n",
    "\n",
    "Specifically we look at the dilogarithm.\n",
    "\n",
    "We make a matrix $M$ s.t.\n",
    "\n",
    "$$ M \\cdot \\begin{pmatrix} Li_2(-n)\\\\Li_2(-n+1)\\\\\\vdots \\\\Li_2(-1)\\\\ \\vdots \\end{pmatrix} = 0$$"
   ]
  },
  {
   "cell_type": "code",
   "execution_count": 2,
   "metadata": {},
   "outputs": [],
   "source": [
    "Min,Max = -10,10\n",
    "L = []"
   ]
  },
  {
   "cell_type": "code",
   "execution_count": 3,
   "metadata": {},
   "outputs": [
    {
     "ename": "SyntaxError",
     "evalue": "invalid syntax (<ipython-input-3-071247254b12>, line 3)",
     "output_type": "error",
     "traceback": [
      "\u001b[1;36m  File \u001b[1;32m\"<ipython-input-3-071247254b12>\"\u001b[1;36m, line \u001b[1;32m3\u001b[0m\n\u001b[1;33m    v[n - Min] =\u001b[0m\n\u001b[1;37m                 ^\u001b[0m\n\u001b[1;31mSyntaxError\u001b[0m\u001b[1;31m:\u001b[0m invalid syntax\n"
     ]
    }
   ],
   "source": [
    "for i in srange(Min,Max):\n",
    "    v = (Max - Min)*[0]\n",
    "    v[n - Min] = "
   ]
  },
  {
   "cell_type": "code",
   "execution_count": 4,
   "metadata": {},
   "outputs": [],
   "source": [
    "K = Qp(5)"
   ]
  },
  {
   "cell_type": "code",
   "execution_count": 16,
   "metadata": {},
   "outputs": [
    {
     "data": {
      "text/plain": [
       "True"
      ]
     },
     "execution_count": 16,
     "metadata": {},
     "output_type": "execute_result"
    }
   ],
   "source": [
    "K(-2).polylog(2)*K(9).polylog(2) == K(-2).polylog(2)*2*(K(3).polylog(2)  + K(-3).polylog(2))"
   ]
  },
  {
   "cell_type": "code",
   "execution_count": 18,
   "metadata": {},
   "outputs": [
    {
     "data": {
      "text/plain": [
       "True"
      ]
     },
     "execution_count": 18,
     "metadata": {},
     "output_type": "execute_result"
    }
   ],
   "source": [
    "K(1-(3)).polylog(2)*K(9).polylog(2) == K(-2).polylog(2)*2*(K(3).polylog(2)  + K(1-4).polylog(2))"
   ]
  },
  {
   "cell_type": "code",
   "execution_count": 24,
   "metadata": {},
   "outputs": [
    {
     "data": {
      "text/plain": [
       "True"
      ]
     },
     "execution_count": 24,
     "metadata": {},
     "output_type": "execute_result"
    }
   ],
   "source": [
    "K(1-(3)).polylog(2)*K(9).polylog(2) == K(-2).polylog(2)*2*(K(3).polylog(2) \\\n",
    "                - K(4).polylog(2) - K(4).log()*K(3).log())"
   ]
  },
  {
   "cell_type": "code",
   "execution_count": 29,
   "metadata": {},
   "outputs": [
    {
     "data": {
      "text/plain": [
       "True"
      ]
     },
     "execution_count": 29,
     "metadata": {},
     "output_type": "execute_result"
    }
   ],
   "source": [
    "K(1-(3)).polylog(2)*K(9).polylog(2) == K(-2).polylog(2)*2*(K(3).polylog(2) \\\n",
    "                - 2*K(-2).polylog(2) - 2*K(2).log()*K(3).log())"
   ]
  },
  {
   "cell_type": "code",
   "execution_count": 31,
   "metadata": {},
   "outputs": [
    {
     "data": {
      "text/plain": [
       "True"
      ]
     },
     "execution_count": 31,
     "metadata": {},
     "output_type": "execute_result"
    }
   ],
   "source": [
    "K(-2).polylog(2)*2*(K(3).polylog(2) + K(-3).polylog(2)) == K(-2).polylog(2)*2*(K(3).polylog(2) \\\n",
    "                - 2*K(-2).polylog(2) - 2*K(2).log()*K(3).log())"
   ]
  },
  {
   "cell_type": "code",
   "execution_count": 32,
   "metadata": {},
   "outputs": [
    {
     "data": {
      "text/plain": [
       "True"
      ]
     },
     "execution_count": 32,
     "metadata": {},
     "output_type": "execute_result"
    }
   ],
   "source": [
    "K(-2).polylog(2)*2*(K(-3).polylog(2)) == K(-2).polylog(2)*2*( - 2*K(-2).polylog(2) - 2*K(2).log()*K(3).log())"
   ]
  },
  {
   "cell_type": "code",
   "execution_count": 33,
   "metadata": {},
   "outputs": [
    {
     "data": {
      "text/plain": [
       "True"
      ]
     },
     "execution_count": 33,
     "metadata": {},
     "output_type": "execute_result"
    }
   ],
   "source": [
    "(K(-3).polylog(2)) == ( - 2*K(-2).polylog(2) - 2*K(2).log()*K(3).log())"
   ]
  },
  {
   "cell_type": "code",
   "execution_count": 34,
   "metadata": {},
   "outputs": [
    {
     "data": {
      "text/plain": [
       "True"
      ]
     },
     "execution_count": 34,
     "metadata": {},
     "output_type": "execute_result"
    }
   ],
   "source": [
    "K(1-(4)).polylog(2) == - K(4).polylog(2) - K(4).log()*K(1-4).log()"
   ]
  },
  {
   "cell_type": "code",
   "execution_count": 35,
   "metadata": {},
   "outputs": [
    {
     "data": {
      "text/plain": [
       "True"
      ]
     },
     "execution_count": 35,
     "metadata": {},
     "output_type": "execute_result"
    }
   ],
   "source": [
    "K(-2).polylog(2)*K(9).polylog(2) == K(-8).polylog(2)*(K(3).polylog(2))"
   ]
  },
  {
   "cell_type": "code",
   "execution_count": 37,
   "metadata": {},
   "outputs": [
    {
     "data": {
      "text/plain": [
       "True"
      ]
     },
     "execution_count": 37,
     "metadata": {},
     "output_type": "execute_result"
    }
   ],
   "source": [
    "K(1-9).polylog(2)*(K(3).polylog(2)) == (-K(9).polylog(2) -K(9).log()*K(-8).log())*K(3).polylog(2)"
   ]
  },
  {
   "cell_type": "code",
   "execution_count": 38,
   "metadata": {},
   "outputs": [
    {
     "data": {
      "text/plain": [
       "True"
      ]
     },
     "execution_count": 38,
     "metadata": {},
     "output_type": "execute_result"
    }
   ],
   "source": [
    "K(1-9).polylog(2)*(K(3).polylog(2)) == (-2*(K(3).polylog(2) +K(-3).polylog(2)) -K(9).log()*K(-8).log())*K(3).polylog(2)"
   ]
  },
  {
   "cell_type": "code",
   "execution_count": 39,
   "metadata": {},
   "outputs": [
    {
     "data": {
      "text/plain": [
       "5^2 + 5^3 + 2*5^4 + 2*5^5 + 4*5^6 + 4*5^7 + 2*5^8 + 3*5^9 + 4*5^11 + 4*5^12 + 4*5^13 + O(5^16)"
      ]
     },
     "execution_count": 39,
     "metadata": {},
     "output_type": "execute_result"
    }
   ],
   "source": [
    "K(8).polylog(2)"
   ]
  },
  {
   "cell_type": "code",
   "execution_count": 41,
   "metadata": {},
   "outputs": [
    {
     "data": {
      "text/plain": [
       "O(5^16)"
      ]
     },
     "execution_count": 41,
     "metadata": {},
     "output_type": "execute_result"
    }
   ],
   "source": [
    "\n",
    "K(2).polylog(2)"
   ]
  },
  {
   "cell_type": "code",
   "execution_count": null,
   "metadata": {},
   "outputs": [],
   "source": []
  }
 ],
 "metadata": {
  "kernelspec": {
   "display_name": "SageMath 9.1.beta4",
   "language": "sage",
   "name": "sagemath"
  },
  "language_info": {
   "codemirror_mode": {
    "name": "ipython",
    "version": 3
   },
   "file_extension": ".py",
   "mimetype": "text/x-python",
   "name": "python",
   "nbconvert_exporter": "python",
   "pygments_lexer": "ipython3",
   "version": "3.7.3"
  },
  "varInspector": {
   "cols": {
    "lenName": 16,
    "lenType": 16,
    "lenVar": 40
   },
   "kernels_config": {
    "python": {
     "delete_cmd_postfix": "",
     "delete_cmd_prefix": "del ",
     "library": "var_list.py",
     "varRefreshCmd": "print(var_dic_list())"
    },
    "r": {
     "delete_cmd_postfix": ") ",
     "delete_cmd_prefix": "rm(",
     "library": "var_list.r",
     "varRefreshCmd": "cat(var_dic_list()) "
    }
   },
   "types_to_exclude": [
    "module",
    "function",
    "builtin_function_or_method",
    "instance",
    "_Feature"
   ],
   "window_display": false
  }
 },
 "nbformat": 4,
 "nbformat_minor": 2
}
