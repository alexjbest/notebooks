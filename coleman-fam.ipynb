{
 "cells": [
  {
   "cell_type": "code",
   "execution_count": 1,
   "metadata": {},
   "outputs": [
    {
     "name": "stdout",
     "output_type": "stream",
     "text": [
      "\n",
      "Welcome to Nemo version 0.17.5\n",
      "\n",
      "Nemo comes with absolutely no warranty whatsoever\n",
      "\n",
      "\n",
      "Welcome to \n"
     ]
    },
    {
     "data": {
      "text/html": [
       "$\\require{action}$"
      ]
     },
     "metadata": {},
     "output_type": "display_data"
    },
    {
     "name": "stdout",
     "output_type": "stream",
     "text": [
      "\n",
      "\u001b[31m    _    _           _\u001b[39m\n",
      "\u001b[31m   | |  | |         | |\u001b[39m\n",
      "\u001b[31m   | |__| | ___  ___| | _____\u001b[39m\n",
      "\u001b[31m   |  __  |/ _ \\/ __| |/ / _ \\\u001b[39m\n",
      "\u001b[31m   | |  | |  __/ (__|   <  __/\u001b[39m\n",
      "\u001b[31m   |_|  |_|\\___|\\___|_|\\_\\___|\u001b[39m\n",
      "\u001b[31m    \u001b[39m\n",
      "Version\u001b[32m 0.8.2 \u001b[39m... \n",
      " ... which comes with absolutely no warranty whatsoever\n",
      "(c) 2015-2020 by Claus Fieker, Tommy Hofmann and Carlo Sircana\n",
      "\n"
     ]
    }
   ],
   "source": [
    "using Nemo, Coleman"
   ]
  },
  {
   "cell_type": "code",
   "execution_count": 2,
   "metadata": {},
   "outputs": [
    {
     "data": {
      "text/plain": [
       "test_linear_recurrences_modx (generic function with 1 method)"
      ]
     },
     "execution_count": 2,
     "metadata": {},
     "output_type": "execute_result"
    }
   ],
   "source": [
    "function test_linear_recurrences_modx()\n",
    "  print(\"linear recurrences mod x...\")\n",
    "  N = 3\n",
    "  p = 7\n",
    "  L = [11,13]\n",
    "  R = [13,15]\n",
    "\n",
    "  # Real base ring\n",
    "  BrR= PadicField(p, N)#ResidueRing(ZZ,Int(p^N))\n",
    "  RiR,xR = PolynomialRing(BrR,'x')  \n",
    "  FakeP,k = PolynomialRing(QQ, 'k')\n",
    "  BrF= FmpqAbsSeriesRing(4,:k)\n",
    "  k = gen(BrF)\n",
    "  RiF,xF = PolynomialRing(BrF,'x')  \n",
    "  MF = matrix(RiF,2,2,[xF + k, xF, 1 + 3*k, xF + 1])\n",
    "  MR = matrix(RiR,2,2,[xR + p, xR, 1 + 3*p, xR + 1])\n",
    "  O = Coleman.LinearRecurrence(MF, L, R)\n",
    "  println(O)\n",
    "\n",
    "  o = [matrix(BrR,\n",
    "              [ xadic_to_padic(t[i, j],BrR) for i = 1:nrows(t),j = 1:ncols(t)])\n",
    "       for t in O]\n",
    "\n",
    "  o == Coleman.LinearRecurrence(MR, L, R)\n",
    "  println(\"PASS\")\n",
    "end"
   ]
  },
  {
   "cell_type": "code",
   "execution_count": 3,
   "metadata": {},
   "outputs": [
    {
     "name": "stdout",
     "output_type": "stream",
     "text": [
      "linear recurrences mod x...AbstractAlgebra.Generic.MatSpaceElem{fmpq_abs_series}[[   168+(61)*k+k^2+O(k^4)  324+(13)*k+O(k^4)]\n",
      "[26+(79)*k+(3)*k^2+O(k^4)  195+(39)*k+O(k^4)], [   224+(71)*k+k^2+O(k^4)  434+(15)*k+O(k^4)]\n",
      "[30+(91)*k+(3)*k^2+O(k^4)  255+(45)*k+O(k^4)]]\n",
      "PASS\n"
     ]
    }
   ],
   "source": [
    "test_linear_recurrences_modx()"
   ]
  },
  {
   "cell_type": "markdown",
   "metadata": {},
   "source": [
    "Let's do an example of average time Coleman, on an elliptic curve"
   ]
  },
  {
   "cell_type": "code",
   "execution_count": 4,
   "metadata": {},
   "outputs": [
    {
     "data": {
      "text/html": [
       "$x^{3}-16x+16$"
      ],
      "text/plain": [
       "x^3-16*x+16"
      ]
     },
     "execution_count": 4,
     "metadata": {},
     "output_type": "execute_result"
    }
   ],
   "source": [
    "R,x = PolynomialRing(QQ,\"x\")\n",
    "RR,P = PolynomialRing(QQ, 'P')\n",
    "N = 2\n",
    "a = ZZ(-16)\n",
    "b = ZZ(16)\n",
    "Q = R([b, a, 0, 1])"
   ]
  },
  {
   "cell_type": "markdown",
   "metadata": {},
   "source": [
    "What's the answer we are looking for?"
   ]
  },
  {
   "cell_type": "markdown",
   "metadata": {},
   "source": [
    "In Harvey's version of Kedlaya matrices as follows are used"
   ]
  },
  {
   "cell_type": "code",
   "execution_count": 5,
   "metadata": {},
   "outputs": [
    {
     "data": {
      "text/html": [
       "$-9472$"
      ],
      "text/plain": [
       "-9472"
      ]
     },
     "execution_count": 5,
     "metadata": {},
     "output_type": "execute_result"
    }
   ],
   "source": [
    "Delta = 27*b^2+4*a^3"
   ]
  },
  {
   "cell_type": "code",
   "execution_count": 6,
   "metadata": {},
   "outputs": [
    {
     "data": {
      "text/plain": [
       "M_V (generic function with 1 method)"
      ]
     },
     "execution_count": 6,
     "metadata": {},
     "output_type": "execute_result"
    }
   ],
   "source": [
    "M_V(t) = QQ(Delta)^(-1) * matrix(QQ,\n",
    "[[9*b*(6*t-5)   2*a^2*(6*t-5) ]\n",
    " [-6*a*(6*t-7)  9*b*(6*t-7)   ]])"
   ]
  },
  {
   "cell_type": "code",
   "execution_count": 7,
   "metadata": {},
   "outputs": [
    {
     "data": {
      "text/html": [
       "$\\begin{bmatrix}\\frac{-9}{592}&\\frac{-2}{37}\\\\\\frac{3}{296}&\\frac{9}{592}\\\\\\end{bmatrix}$"
      ],
      "text/plain": [
       "[-9//592  -2//37]\n",
       "[ 3//296  9//592]"
      ]
     },
     "execution_count": 7,
     "metadata": {},
     "output_type": "execute_result"
    }
   ],
   "source": [
    "M_V(ZZ(1))"
   ]
  },
  {
   "cell_type": "code",
   "execution_count": 8,
   "metadata": {},
   "outputs": [
    {
     "data": {
      "text/plain": [
       "M_H (generic function with 1 method)"
      ]
     },
     "execution_count": 8,
     "metadata": {},
     "output_type": "execute_result"
    }
   ],
   "source": [
    "M_H(t,s) = matrix(QQ,\n",
    "[[0          0          2*b*s         ]\n",
    " [6*t-2*s-3  0          a*(2*s-2*t+1) ]\n",
    " [0          6*t-2*s-3  0             ]])"
   ]
  },
  {
   "cell_type": "code",
   "execution_count": 9,
   "metadata": {},
   "outputs": [
    {
     "data": {
      "text/html": [
       "$\\begin{bmatrix}0&0&32\\\\1&0&-16\\\\0&1&0\\\\\\end{bmatrix}$"
      ],
      "text/plain": [
       "[0  0   32]\n",
       "[1  0  -16]\n",
       "[0  1    0]"
      ]
     },
     "execution_count": 9,
     "metadata": {},
     "output_type": "execute_result"
    }
   ],
   "source": [
    "M_H(1,1)"
   ]
  },
  {
   "cell_type": "markdown",
   "metadata": {},
   "source": [
    "And denominators"
   ]
  },
  {
   "cell_type": "code",
   "execution_count": 10,
   "metadata": {},
   "outputs": [
    {
     "data": {
      "text/plain": [
       "D_V (generic function with 1 method)"
      ]
     },
     "execution_count": 10,
     "metadata": {},
     "output_type": "execute_result"
    }
   ],
   "source": [
    "D_V(t)    = 2*t-1"
   ]
  },
  {
   "cell_type": "code",
   "execution_count": 11,
   "metadata": {},
   "outputs": [
    {
     "data": {
      "text/plain": [
       "D_H (generic function with 1 method)"
      ]
     },
     "execution_count": 11,
     "metadata": {},
     "output_type": "execute_result"
    }
   ],
   "source": [
    "D_H(t, s) = 6*t-2*s-3"
   ]
  },
  {
   "cell_type": "markdown",
   "metadata": {},
   "source": [
    "We will use only two digits of precision for now, and we are in genus 1"
   ]
  },
  {
   "cell_type": "code",
   "execution_count": 12,
   "metadata": {},
   "outputs": [
    {
     "data": {
      "text/html": [
       "($2$, $1$)"
      ],
      "text/plain": [
       "(2, 1)"
      ]
     },
     "execution_count": 12,
     "metadata": {},
     "output_type": "execute_result"
    }
   ],
   "source": [
    "N,g = 2,1"
   ]
  },
  {
   "cell_type": "code",
   "execution_count": 13,
   "metadata": {},
   "outputs": [
    {
     "data": {
      "text/plain": [
       "C (generic function with 1 method)"
      ]
     },
     "execution_count": 13,
     "metadata": {},
     "output_type": "execute_result"
    }
   ],
   "source": [
    "C(j, r) = coeff(Q^j, r)"
   ]
  },
  {
   "cell_type": "code",
   "execution_count": 14,
   "metadata": {},
   "outputs": [],
   "source": [
    "# B(j, r) = p*C(j, r)*sum([(-1)^(k+j)*prod([-QQ(1)//2 - i for i in 0:(k-1)])/(factorial(k)) for k in j..(N-1)])"
   ]
  },
  {
   "cell_type": "code",
   "execution_count": 15,
   "metadata": {},
   "outputs": [
    {
     "data": {
      "text/plain": [
       "B (generic function with 1 method)"
      ]
     },
     "execution_count": 15,
     "metadata": {},
     "output_type": "execute_result"
    }
   ],
   "source": [
    "function B(j, r)  # Stole this from my Coleman repo\n",
    "    lambda = coeff(Q^j, r)\n",
    "    # num = numerator of the two binomial expressions\n",
    "    num = FlintQQ(1)\n",
    "    for i = 0:N-2\n",
    "        num = num*(-(1//2)-i)\n",
    "    end\n",
    "    # denom = denominator of the two binomial expressions\n",
    "    denom = factorial(j)*factorial((N-1)-j)\n",
    "    # last summand\n",
    "    summand = num//denom\n",
    "    sum = (-1)^(N-1+j)*summand\n",
    "    # summing up going down\n",
    "    for l = (N-2):-1:j\n",
    "        summand = summand*(l+1-j)//(-(1//2)-l)\n",
    "        sum = sum + (-1)^(l+j)*summand\n",
    "    end\n",
    "    P*lambda*sum\n",
    "end"
   ]
  },
  {
   "cell_type": "code",
   "execution_count": 16,
   "metadata": {},
   "outputs": [
    {
     "data": {
      "text/html": [
       "$8P$"
      ],
      "text/plain": [
       "8*P"
      ]
     },
     "execution_count": 16,
     "metadata": {},
     "output_type": "execute_result"
    }
   ],
   "source": [
    "B(1,1)"
   ]
  },
  {
   "cell_type": "markdown",
   "metadata": {},
   "source": [
    "The main formula is\n",
    "$$\\sigma(x^i d x / y) \\equiv T_{i}=\\sum_{j=0}^{N-1} \\sum_{r=0}^{(2 g+1) j} B_{j, r} x^{p(i+r+1)-1} y^{-p(2 j+1)+1} d x / y \\pmod {p^N}$$"
   ]
  },
  {
   "cell_type": "markdown",
   "metadata": {},
   "source": [
    "$$ N = 2 $$\n",
    "$$ g = 1 $$\n",
    "$$ T_0 =  B(0, 0)x^{p-1} y^{-p + 1} dx/y + y^{-3p + 1}\\left(B(1,0) x^{p-1} +  B(1,1) x^{2p - 1} + B(1, 2) x^{3p - 1}  +  B(1, 3)x^{4p - 1} \\right)dx/y$$\n",
    "lying in\n",
    "$$W_{p - 1, (-p+1)/2},W_{p - 1, (-3p+1)/2},W_{2p - 1, (-3p+1)/2},W_{3p - 1, (-3p+1)/2},W_{4p - 1, (-3p+1)/2}$$\n",
    "respectively, represented as $(0,0,\\ldots,B(?,?))$\n",
    "so we need to use\n",
    "$$M_{H}^{(-p+1)/2}(p-1),M_{H}^{(-3p+1)/2}(p-1),M_{H}^{(-3p+1)/2}(2p-1),M_{H}^{(-3p+1)/2}(3p-1),M_{H}^{(-3p+1)/2}(4p-1)$$"
   ]
  },
  {
   "cell_type": "code",
   "execution_count": 38,
   "metadata": {},
   "outputs": [
    {
     "data": {
      "text/plain": [
       "D_V (generic function with 3 methods)"
      ]
     },
     "execution_count": 38,
     "metadata": {},
     "output_type": "execute_result"
    }
   ],
   "source": [
    "M_H(t,s1,s2,T) = prod(s->T(M_H(t,s)),s1+1:s2)\n",
    "M_V(t1,t2,T) = prod(t->T(M_V(t)),t1+1:t2)\n",
    "D_H(t,s1,s2,T) = prod(s->T(D_H(t,s)),s1+1:s2)\n",
    "D_V(t1,t2,T) = prod(t->T(D_V(t)),t1+1:t2)"
   ]
  },
  {
   "cell_type": "code",
   "execution_count": 39,
   "metadata": {},
   "outputs": [
    {
     "data": {
      "text/html": [
       "true"
      ],
      "text/plain": [
       "true"
      ]
     },
     "execution_count": 39,
     "metadata": {},
     "output_type": "execute_result"
    }
   ],
   "source": [
    "M_H(1,1,3) == M_H(1,2)*M_H(1,3)"
   ]
  },
  {
   "cell_type": "code",
   "execution_count": 40,
   "metadata": {},
   "outputs": [
    {
     "data": {
      "text/html": [
       "true"
      ],
      "text/plain": [
       "true"
      ]
     },
     "execution_count": 40,
     "metadata": {},
     "output_type": "execute_result"
    }
   ],
   "source": [
    "M_V(1,3) == M_V(2)*M_V(3)"
   ]
  },
  {
   "cell_type": "code",
   "execution_count": 41,
   "metadata": {},
   "outputs": [
    {
     "data": {
      "text/html": [
       "$[]$"
      ],
      "text/plain": [
       "0-element Array{Int64,1}"
      ]
     },
     "execution_count": 41,
     "metadata": {},
     "output_type": "execute_result"
    }
   ],
   "source": [
    "[i for i in (-4:-5)]"
   ]
  },
  {
   "cell_type": "code",
   "execution_count": 64,
   "metadata": {},
   "outputs": [
    {
     "name": "stdout",
     "output_type": "stream",
     "text": [
      "Matrix Space of 3 rows and 3 columns over Rational Field1 3 coeff\n",
      "Matrix Space of 3 rows and 3 columns over Rational Field1 2 coeff\n",
      "Matrix Space of 3 rows and 3 columns over Rational Field1 1 coeff\n",
      "Matrix Space of 3 rows and 3 columns over Rational Field1 0 coeff\n",
      "[2028908651887211469336218978619039//653131454348333548677010554880*P]\n",
      "[-212065116244739331986510433581317//161117308367095543838095441920*P]\n",
      "Matrix Space of 3 rows and 3 columns over Rational Field0 0 coeff\n",
      "[-10049419841526204316854647478092255//13839745426291611458774353564942872292098048*P]\n",
      "[ -3494236540577274725753189215284013//10764246442671253356824497217177789560520704*P]\n",
      "[0 + O(11^2)]\n",
      "[0 + O(11^2)]\n",
      "Matrix Space of 3 rows and 3 columns over Rational Field1 3 coeff\n",
      "Matrix Space of 3 rows and 3 columns over Rational Field1 2 coeff\n",
      "Matrix Space of 3 rows and 3 columns over Rational Field1 1 coeff\n",
      "Matrix Space of 3 rows and 3 columns over Rational Field1 0 coeff\n",
      "[         4026234044698382612420082164778853465753839409644887541492895320281//63150147486042163981031705693018879531384832000*P]\n",
      "[37639152585782123085072942674550066709686432205152983733983666248079727//1442903928497057464559884942202683006473404022784000*P]\n",
      "Matrix Space of 3 rows and 3 columns over Rational Field0 0 coeff\n",
      "[  -26169843348621678070454031501120576053738249458462481686105750468169//158901763417798509423480572456939799246326982813021404208824320*P]\n",
      "[960022115053393591671349126029846633256386273055888529115402118039897//13347748127095074791572368086382943136691466556293797953541242880*P]\n",
      "[7*11^1 + O(11^2)]\n",
      "[8*11^1 + O(11^2)]\n"
     ]
    }
   ],
   "source": [
    "N = 2\n",
    "p = 11\n",
    "for i = 0:1\n",
    "    curV = matrix(RR, [fmpq_poly[zero(RR)] for I in 1:2*g])\n",
    "    for j in N-1:-1:0 # Vertical\n",
    "        curH = matrix(RR, [fmpq_poly[zero(RR)] for I in 1:2*g+1])\n",
    "        for r in (2*g + 1)*j:-1:0 # Horizontal\n",
    "            curH[2*g+1,1] += B(j, r) # x^(p*(i+r+1)-1) y^(-p*(2*j+1)+1)\n",
    "            T = MatrixSpace(QQ, 2*g + 1, 2*g + 1)\n",
    "            print(T)\n",
    "            curH = RR(1//D_H((p*(2*j+1)-1)//2,p*(i+r)-1,p*(i+r+1)-1,QQ))*change_base_ring(RR, M_H((p*(2*j+1)-1)//2,p*(i+r)-1,p*(i+r+1)-1,T)) * curH\n",
    "            println(j, \" \", r, \" \", coeff)\n",
    "        end\n",
    "        for I in 1:2*g\n",
    "            curV[I,1] += curH[I+1,1]\n",
    "        end\n",
    "        T = MatrixSpace(QQ, 2*g + 1, 2*g + 1)\n",
    "        curV = RR(1//D_V((p*(2*(j-1)+1)-1)//2,(p*(2*j+1)-1)//2, QQ)) * change_base_ring(RR, M_V((p*(2*(j-1)+1)-1)//2,(p*(2*j+1)-1)//2,T)) * curV\n",
    "        println(curV)\n",
    "    end\n",
    "    K = PadicField(p, N)\n",
    "    println(map(P->K(P(p)), curV))\n",
    "end"
   ]
  },
  {
   "cell_type": "code",
   "execution_count": 65,
   "metadata": {},
   "outputs": [
    {
     "data": {
      "text/plain": [
       "(11*t^2+5*t+1)//(11*t^2-12*t+1)"
      ]
     },
     "execution_count": 65,
     "metadata": {},
     "output_type": "execute_result"
    },
    {
     "name": "stderr",
     "output_type": "stream",
     "text": [
      "\n",
      "signal (15): Terminated: 15\n",
      "in expression starting at /Users/alex/.julia/packages/IJulia/DrVMH/src/kernel.jl:52\n"
     ]
    }
   ],
   "source": [
    "R, x = PolynomialRing(Nemo.GF(11), \"x\")\n",
    "h = x^3 + a*x + b\n",
    "ZetaFunction(2, h)"
   ]
  },
  {
   "cell_type": "code",
   "execution_count": 63,
   "metadata": {},
   "outputs": [
    {
     "data": {
      "text/html": [
       "$\\begin{bmatrix}9*11^1 + 9*11^2 + O(11^3)&2*11^1 + 2*11^2 + O(11^3)\\\\10 + 1*11^1 + O(11^2)&6 + 1*11^1 + O(11^2)\\\\\\end{bmatrix}$"
      ],
      "text/plain": [
       "[9*11^1 + 9*11^2 + O(11^3)  2*11^1 + 2*11^2 + O(11^3)]\n",
       "[    10 + 1*11^1 + O(11^2)       6 + 1*11^1 + O(11^2)]"
      ]
     },
     "execution_count": 63,
     "metadata": {},
     "output_type": "execute_result"
    }
   ],
   "source": [
    "Rp = PolynomialRing(FlintPadicField(p, N), \"t\")[1]\n",
    "Qp = Rp([b, a, 0, 1])\n",
    "AbsoluteFrobeniusActionOnLift(2, Qp, 2, p, 1)"
   ]
  },
  {
   "cell_type": "code",
   "execution_count": 24,
   "metadata": {},
   "outputs": [
    {
     "name": "stderr",
     "output_type": "stream",
     "text": [
      "Traceback (most recent call last):\n",
      "  File \"/Users/alex/sage/src/bin/sage-eval\", line 4, in <module>\n",
      "    from sage.all import *\n",
      "  File \"/Users/alex/sage/local/lib/python3.7/site-packages/sage/all.py\", line 119, in <module>\n",
      "    from sage.misc.all       import *         # takes a while\n",
      "  File \"/Users/alex/sage/local/lib/python3.7/site-packages/sage/misc/all.py\", line 84, in <module>\n",
      "    from .functional import (additive_order,\n",
      "  File \"/Users/alex/sage/local/lib/python3.7/site-packages/sage/misc/functional.py\", line 26, in <module>\n",
      "    from sage.rings.complex_double import CDF\n",
      "ImportError: dlopen(/Users/alex/sage/local/lib/python3.7/site-packages/sage/rings/complex_double.cpython-37m-darwin.so, 2): Library not loaded: /usr/local/opt/gcc/lib/gcc/9/libgfortran.5.dylib\n",
      "  Referenced from: /Users/alex/sage/local/lib/libopenblas_haswellp-r0.3.9.dylib\n",
      "  Reason: image not found\n"
     ]
    },
    {
     "ename": "ProcessFailedException",
     "evalue": "failed process: Process(`sage -c \"\nload('hgm.py')\nprint('hello')\nprint('ayy')\n\"`, ProcessExited(1)) [1]\n",
     "output_type": "error",
     "traceback": [
      "failed process: Process(`sage -c \"\nload('hgm.py')\nprint('hello')\nprint('ayy')\n\"`, ProcessExited(1)) [1]\n",
      "",
      "Stacktrace:",
      " [1] pipeline_error at ./process.jl:525 [inlined]",
      " [2] read(::Cmd) at ./process.jl:412",
      " [3] read(::Cmd, ::Type{String}) at ./process.jl:421",
      " [4] sage_run(::String) at ./In[24]:1",
      " [5] top-level scope at In[24]:2"
     ]
    }
   ],
   "source": [
    "sage_run(s) = read(`sage -c \"$s\"`, String)\n",
    "sage_run(\"\n",
    "load('hgm.py')\n",
    "print('hello')\n",
    "print('ayy')\n",
    "\")"
   ]
  }
 ],
 "metadata": {
  "kernelspec": {
   "display_name": "Julia 1.4.1",
   "language": "julia",
   "name": "julia-1.4"
  },
  "language_info": {
   "file_extension": ".jl",
   "mimetype": "application/julia",
   "name": "julia",
   "version": "1.4.2"
  },
  "varInspector": {
   "cols": {
    "lenName": 16,
    "lenType": 16,
    "lenVar": 40
   },
   "kernels_config": {
    "python": {
     "delete_cmd_postfix": "",
     "delete_cmd_prefix": "del ",
     "library": "var_list.py",
     "varRefreshCmd": "print(var_dic_list())"
    },
    "r": {
     "delete_cmd_postfix": ") ",
     "delete_cmd_prefix": "rm(",
     "library": "var_list.r",
     "varRefreshCmd": "cat(var_dic_list()) "
    }
   },
   "types_to_exclude": [
    "module",
    "function",
    "builtin_function_or_method",
    "instance",
    "_Feature"
   ],
   "window_display": false
  }
 },
 "nbformat": 4,
 "nbformat_minor": 2
}
