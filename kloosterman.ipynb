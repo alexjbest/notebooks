{
 "cells": [
  {
   "cell_type": "markdown",
   "metadata": {},
   "source": [
    "# Experiments with Kloosterman sums"
   ]
  },
  {
   "cell_type": "code",
   "execution_count": null,
   "metadata": {},
   "outputs": [],
   "source": [
    "for m in range(1,10):\n",
    "    q = 2^m\n",
    "    a = 1\n",
    "    mygf = list(GF(q))\n",
    "    mygf.remove(0)\n",
    "    #P = cartesian_product( [mygf for i in range(n-1)])\n",
    "    su = 0\n",
    "    @cached_function  \n",
    "    def mytr(aa):\n",
    "        return aa.trace()\n",
    "    for x1 in mygf:\n",
    "        p1 = x1\n",
    "        s1 = x1\n",
    "        m1 = (-1)^mytr(x1)\n",
    "        for x2 in mygf:\n",
    "            p2 = x2*p1\n",
    "            s2 = x2+s1\n",
    "            m2 = m1*(-1)^mytr(x2)\n",
    "            for x3 in mygf:\n",
    "                p3 = x3*p2\n",
    "                s3 = x3+s2   \n",
    "                m3 = m2*(-1)^mytr(x3)\n",
    "                for x4 in mygf:\n",
    "                    p4 = x4*p3\n",
    "                    s4 = x4+s3  \n",
    "                    m4 = m3*(-1)^mytr(x4)\n",
    "                    for x5 in mygf:\n",
    "                        p5 = x5*p4 \n",
    "                        s5 = x5+s4 \n",
    "                        m5 = m4*(-1)^mytr(x5)\n",
    "                        for x6 in mygf:\n",
    "                            p6 = x6*p5\n",
    "                            s6 = x6+s5 \n",
    "                            su += m5*(-1)^(mytr(x6 + a/p6))\n",
    "    print(m,su,2^m*su)"
   ]
  },
  {
   "cell_type": "code",
   "execution_count": null,
   "metadata": {},
   "outputs": [],
   "source": [
    "p = [0, -1, 21, -151, 657, 2049, 10881]\n",
    "e = [1]\n",
    "for i in range(1, len(p)):\n",
    "    e += [sum((-1)^(j+1)*p[j]*e[i-j]/i for j in range(1,i+1)   ) ]\n",
    "print e\n",
    "P= PolynomialRing(QQ,'x')(list(reversed([(-1)^i*e[i] for i in range(len(e))]  + [e[1]*2^(3 *5),-e\n",
    "[0]*2^(3*7),])))\n",
    "\n",
    "print P\n",
    "K = P.splitting_field('a')\n",
    "p2 = K.prime_above(2)\n",
    "rs = [r for r,e  in P.roots(K)]\n",
    "rs.sort(key=lambda x: x.valuation(p2))\n",
    "\n",
    "M = Matrix(QQ, [[g(r).valuation(p2)-2 for r in rs] for g in G])\n",
    "M.rank()\n",
    "\n",
    "M.right_kernel()"
   ]
  },
  {
   "cell_type": "markdown",
   "metadata": {},
   "source": [
    "Vector space of degree 5 and dimension 3 over Rational Field\n",
    "Basis matrix:\n",
    "\n",
    "    [1 0 0 0 1]\n",
    "    [0 1 0 1 0]\n",
    "    [0 0 1 0 0]\n",
    "\n",
    "    1 -1 -2\n",
    "    2 85 340\n",
    "    3 713 5704\n",
    "    4 -6383 -102128\n",
    "    5 -45151 -1444832"
   ]
  },
  {
   "cell_type": "code",
   "execution_count": null,
   "metadata": {},
   "outputs": [],
   "source": []
  }
 ],
 "metadata": {
  "kernelspec": {
   "display_name": "SageMath 9.1.beta4",
   "language": "sage",
   "name": "sagemath"
  },
  "language_info": {
   "codemirror_mode": {
    "name": "ipython",
    "version": 3
   },
   "file_extension": ".py",
   "mimetype": "text/x-python",
   "name": "python",
   "nbconvert_exporter": "python",
   "pygments_lexer": "ipython3",
   "version": "3.7.3"
  }
 },
 "nbformat": 4,
 "nbformat_minor": 2
}
