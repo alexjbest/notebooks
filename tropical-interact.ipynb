{
 "cells": [
  {
   "cell_type": "markdown",
   "metadata": {},
   "source": [
    "Tropical curve interact\n",
    "------\n",
    "\n",
    "A nice interact for plotting tropical curves, due to Wang Weikun."
   ]
  },
  {
   "cell_type": "code",
   "execution_count": 1,
   "metadata": {},
   "outputs": [
    {
     "data": {
      "application/vnd.jupyter.widget-view+json": {
       "model_id": "9da136917af24409b987ff69cd09b67c",
       "version_major": 2,
       "version_minor": 0
      },
      "text/plain": [
       "Interactive function <function TropicalCurve at 0x202723d90> with 2 widgets\n",
       "  f: EvalText(value='u + w + 1', d…"
      ]
     },
     "metadata": {},
     "output_type": "display_data"
    }
   ],
   "source": [
    "\n",
    "var( 'xmin, xmax, ymin, ymax')\n",
    "xmin=-10\n",
    "xmax=10\n",
    "ymin=-10\n",
    "ymax=10\n",
    "R.<t,u,w> = LaurentPolynomialRing(QQ)\n",
    "@interact\n",
    "def TropicalCurve(\n",
    "    f = input_box(default=u+w+1, label=\"Polynomial in C{{t}}[u,w]\"),\n",
    "    mn = selector(values = [\"Max\", \"Min\"],label = \"Max or Min?\",default = \"Max\" )\n",
    "    ):\n",
    "    if f not in R:\n",
    "        print (\"wrong input\")\n",
    "    else:\n",
    "        f_exp=f.exponents()\n",
    "        var(\"x y\")\n",
    "        S=[]\n",
    "        if mn==\"Max\":\n",
    "            for i in range(len(f_exp)):            \n",
    "                g=f_exp[i][0]+f_exp[i][1]*x+f_exp[i][2]*y\n",
    "                S.append(g)           \n",
    "        elif mn==\"Min\":\n",
    "            for i in range(len(f_exp)): \n",
    "                g=-f_exp[i][0]-f_exp[i][1]*x-f_exp[i][2]*y\n",
    "                S.append(g)             \n",
    "        Eq=[]\n",
    "        X_lb=[]\n",
    "        X_ub=[]\n",
    "        Y_lb=[]\n",
    "        Y_ub=[]\n",
    "        for i in range(0,len(f_exp)-1):\n",
    "            for j in range(i+1,len(f_exp)):\n",
    "                P=[]\n",
    "                P.append(S[i]>=S[j])\n",
    "                P.append(S[j]>=S[i])\n",
    "                for k in range(0,len(f_exp)):\n",
    "                    if k!=i and k!= j:\n",
    "                        P.append(S[i]>=S[k])\n",
    "                sol=solve_ineq(P,[x,y])\n",
    "                if len(sol)==2:\n",
    "                    if str(sol[1][1].lhs())=='x' or str(sol[1][1].rhs())=='x':\n",
    "                        if RealSet(sol[1][1]).contains(xmin)==True: \n",
    "                            X_lb.append(xmin)\n",
    "                            X_ub.append(sol[0][0].rhs())\n",
    "                            Y_lb.append(ymin)\n",
    "                            Y_ub.append(ymax)\n",
    "                            Eq.append(S[i]-S[j])\n",
    "                        elif RealSet(sol[1][1]).contains(xmax)==True:\n",
    "                            X_lb.append(sol[0][0].rhs())\n",
    "                            X_ub.append(xmax)\n",
    "                            Y_lb.append(ymin)\n",
    "                            Y_ub.append(ymax)\n",
    "                            Eq.append(S[i]-S[j]) \n",
    "                    elif str(sol[1][1].lhs())=='y' or str(sol[1][1].rhs())=='y':\n",
    "                        if RealSet(sol[1][1]).contains(ymin)==True:\n",
    "                            X_lb.append(xmin)\n",
    "                            X_ub.append(xmax)\n",
    "                            Y_lb.append(ymin)\n",
    "                            Y_ub.append(sol[0][1].rhs())\n",
    "                            Eq.append(S[i]-S[j]) \n",
    "                        elif RealSet(sol[1][1]).contains(ymax)==True:\n",
    "                            X_lb.append(xmin)\n",
    "                            X_ub.append(xmax)\n",
    "                            Y_lb.append(sol[0][1].rhs())\n",
    "                            Y_ub.append(ymax)\n",
    "                            Eq.append(S[i]-S[j])        \n",
    "                elif len(sol)==3:\n",
    "                    if sol[0][1].rhs()==sol[1][1].rhs():\n",
    "                        X_lb.append(min(sol[0][0].rhs(),sol[1][0].rhs()))\n",
    "                        X_ub.append(max(sol[0][0].rhs(),sol[1][0].rhs()))\n",
    "                        Y_lb.append(ymin)\n",
    "                        Y_ub.append(ymax)\n",
    "                        Eq.append(S[i]-S[j])\n",
    "                    else:\n",
    "                        X_lb.append(xmin)\n",
    "                        X_ub.append(xmax)\n",
    "                        Y_lb.append(min(sol[0][1].rhs(),sol[1][1].rhs()))\n",
    "                        Y_ub.append(max(sol[0][1].rhs(),sol[1][1].rhs()))\n",
    "                        Eq.append(S[i]-S[j])\n",
    "        gr=[]\n",
    "        print(\"The lines are given by:\")\n",
    "        for i in range(0,len(Eq)):\n",
    "            print(Eq[i])\n",
    "            gr.append(implicit_plot(Eq[i],(x,X_lb[i],X_ub[i]),(y,Y_lb[i],Y_ub[i])))\n",
    "        print(\"The graph is:\")    \n",
    "        sum(gr).show()\n"
   ]
  },
  {
   "cell_type": "code",
   "execution_count": null,
   "metadata": {},
   "outputs": [],
   "source": []
  }
 ],
 "metadata": {
  "kernelspec": {
   "display_name": "SageMath 9.1.beta4",
   "language": "sage",
   "name": "sagemath"
  },
  "language_info": {
   "codemirror_mode": {
    "name": "ipython",
    "version": 3
   },
   "file_extension": ".py",
   "mimetype": "text/x-python",
   "name": "python",
   "nbconvert_exporter": "python",
   "pygments_lexer": "ipython3",
   "version": "3.7.3"
  },
  "varInspector": {
   "cols": {
    "lenName": 16,
    "lenType": 16,
    "lenVar": 40
   },
   "kernels_config": {
    "python": {
     "delete_cmd_postfix": "",
     "delete_cmd_prefix": "del ",
     "library": "var_list.py",
     "varRefreshCmd": "print(var_dic_list())"
    },
    "r": {
     "delete_cmd_postfix": ") ",
     "delete_cmd_prefix": "rm(",
     "library": "var_list.r",
     "varRefreshCmd": "cat(var_dic_list()) "
    }
   },
   "types_to_exclude": [
    "module",
    "function",
    "builtin_function_or_method",
    "instance",
    "_Feature"
   ],
   "window_display": false
  }
 },
 "nbformat": 4,
 "nbformat_minor": 2
}
