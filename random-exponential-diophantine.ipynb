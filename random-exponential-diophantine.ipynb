{
 "cells": [
  {
   "cell_type": "markdown",
   "metadata": {},
   "source": [
    "https://math.stackexchange.com/questions/4009139/is-there-a-positive-integer-n-such-that-the-prime-divisors-of-n3-1-are-2/4011995#4011995\n",
    "\n",
    "Given $n\\in\\mathbf N$ s.t. $n^3 - 1$ is only divisible by primes in the set $S = \\{2,3,7\\}$ we can write\n",
    "$$n^3 - 1 = 2^{v_2}3^{v_3}7^{v_7}$$\n",
    "if any of the $v_i \\ge 2$ we can factor out a square to write\n",
    "$$n^3 - 1 = \\underbrace{2^{v'_2}3^{v'_3}7^{v'_7}}_{=:d} m ^2$$\n",
    "where each $v_p'$ must be either $0$ or $1$.\n",
    "So any solution of the original problem gives us an integral point on the curve\n",
    "$$d m^2 = n^3 - 1$$\n",
    "such curves (with one variable squared and the other cubed) are known as elliptic curves, normally the equation looks like\n",
    "$$y^2 = x^3 + ax + b$$\n",
    "but adding the term $d$ in front of the squared variable is an operation known as _quadratic twisting_. To \"remove\" this $d$ and get to a standard form we will rewrite our equation:\n",
    "\n",
    "If $m,n,d$ are integers satisfying $dm^2= n^3- 1$ we have\n",
    "$d^3 \\cdot d m^2 = d^3 n^3 - d^3$\n",
    "so\n",
    "$$(d^2 m)^2 = (d n)^3 - d^3$$\n",
    "and letting $y = d^2 m$ and $x = dn$ we have an integer solution of\n",
    "$$y^2 = x^3 - d^3$$\n",
    "(where in particular $y$ is only divisible by $2,3,7$)\n",
    "\n",
    "The upshot of this is that we have a finite list of possible $d$s (as they are only divisible by $2,3,7$ and squarefree, $d$ must be one of $1, 2, 3, 7, 6, 14, 21, 42$)\n",
    "Moreover given any elliptic curve, the set of integral points on that curve is finite (this is a theorem due to Siegel), and this set can be computed via Sage or other software. So we have a finite list of curves, and only finitely many points to check for each curve to see if they gave us a solution to the original problem (we have to check that the $(x,y)$ we found has $d|x$ and $d^2|y$ and all that the primes required divide $d m^2$)."
   ]
  },
  {
   "cell_type": "code",
   "execution_count": 1,
   "metadata": {},
   "outputs": [
    {
     "data": {
      "text/plain": [
       "Elliptic Curve defined by y^2 = x^3 - 1 over Rational Field"
      ]
     },
     "execution_count": 1,
     "metadata": {},
     "output_type": "execute_result"
    }
   ],
   "source": [
    "E = EllipticCurve([0,-1])\n",
    "E"
   ]
  },
  {
   "cell_type": "code",
   "execution_count": 107,
   "metadata": {},
   "outputs": [],
   "source": [
    "S = [2,3,7]"
   ]
  },
  {
   "cell_type": "code",
   "execution_count": 108,
   "metadata": {},
   "outputs": [
    {
     "data": {
      "text/plain": [
       "[1, 2, 3, 7, 6, 14, 21, 42]"
      ]
     },
     "execution_count": 108,
     "metadata": {},
     "output_type": "execute_result"
    }
   ],
   "source": [
    "list(Combinations(S).map(prod))"
   ]
  },
  {
   "cell_type": "code",
   "execution_count": 109,
   "metadata": {},
   "outputs": [
    {
     "name": "stdout",
     "output_type": "stream",
     "text": [
      "d: 7  x: 14  y: 49\n",
      "n: 2  m: 1\n",
      "n^3 - 1 = 7 factors as 7\n",
      "--\n",
      "d: 7  x: 28  y: 147\n",
      "n: 4  m: 3\n",
      "n^3 - 1 = 63 factors as 3^2 * 7\n",
      "--\n",
      "d: 6  x: 10  y: 28\n",
      "n: 5/3  m: 7/9\n",
      "n^3 - 1 = 98/27 factors as 2 * 3^-3 * 7^2\n",
      "--\n",
      "d: 6  x: 33  y: 189\n",
      "n: 11/2  m: 21/4\n",
      "n^3 - 1 = 1323/8 factors as 2^-3 * 3^3 * 7^2\n",
      "--\n"
     ]
    }
   ],
   "source": [
    "for d in Combinations(S).map(prod):\n",
    "    for (x,y,_) in EllipticCurve([0,-d^3]).integral_points():\n",
    "        if y.is_S_unit(S) and y != 0:\n",
    "            print(\"d:\",d,\" x:\",x,\" y:\",y)\n",
    "            print(\"n:\",x/d, \" m:\",y/(d^2))\n",
    "            print(\"n^3 - 1 =\",(x/d)^3 - 1, \"factors as\", ((x/d)^3 - 1).factor())\n",
    "            print(\"--\")"
   ]
  }
 ],
 "metadata": {
  "kernelspec": {
   "display_name": "SageMath 9.3.beta5",
   "language": "sage",
   "name": "sagemath"
  },
  "language_info": {
   "codemirror_mode": {
    "name": "ipython",
    "version": 3
   },
   "file_extension": ".py",
   "mimetype": "text/x-python",
   "name": "python",
   "nbconvert_exporter": "python",
   "pygments_lexer": "ipython3",
   "version": "3.8.6"
  }
 },
 "nbformat": 4,
 "nbformat_minor": 4
}
