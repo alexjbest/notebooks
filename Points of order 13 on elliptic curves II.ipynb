{
 "cells": [
  {
   "cell_type": "markdown",
   "metadata": {},
   "source": [
    "## Points of order 13 on elliptic curves"
   ]
  },
  {
   "cell_type": "markdown",
   "metadata": {},
   "source": [
    "Last time we looked (briefly) at how to construct a model for $X_1(13)$, this time we will explore points of order 13 on elliptic curves over number fields using this model.\n",
    "\n",
    "To do so we should describe the map $j \\colon X_1(13) \\to \\mathbf A^1$ taking an elliptic curve with a 13-torsion point to its $j$-invariant.\n",
    "\n",
    "Lets recap how we make a model again."
   ]
  },
  {
   "cell_type": "markdown",
   "metadata": {},
   "source": [
    "### A model - Warning this is different from last time!!!"
   ]
  },
  {
   "cell_type": "markdown",
   "metadata": {},
   "source": [
    "First we work out (either from the dimension of the cuspidal subspace or Riemann-Roch) that the curve is of genus 2.\n",
    "\n",
    "So it is hyperelliptic and there is a model of the form\n",
    "$$y^2 = f(x)$$\n",
    "\n",
    "for  $f(x)$ sextic.\n",
    "\n",
    "Then the holomorphic 1-forms on such a curve are given by $\\mathrm d x / y$ and $x\\mathrm d x / y$.\n",
    "\n",
    "The modular forms are another representation of the holomorphic 1-forms, so we can use this to find $x$ and $y$ in terms of $q$ and then write down an equation relating them."
   ]
  },
  {
   "cell_type": "code",
   "execution_count": 457,
   "metadata": {},
   "outputs": [
    {
     "data": {
      "text/plain": [
       "Cuspidal subspace of dimension 2 of Modular Forms space of dimension 13 for Congruence Subgroup Gamma1(13) of weight 2 over Rational Field"
      ]
     },
     "execution_count": 457,
     "metadata": {},
     "output_type": "execute_result"
    }
   ],
   "source": [
    "N = 400 # lots of precision\n",
    "M = CuspForms(group=Gamma1(13),weight=2,prec=N); M"
   ]
  },
  {
   "cell_type": "code",
   "execution_count": 458,
   "metadata": {},
   "outputs": [],
   "source": [
    "M.basis();"
   ]
  },
  {
   "cell_type": "code",
   "execution_count": 547,
   "metadata": {},
   "outputs": [
    {
     "data": {
      "text/html": [
       "<html><script type=\"math/tex; mode=display\">\\newcommand{\\Bold}[1]{\\mathbf{#1}}\\frac{1}{q} + 2 + q + q^{2} + q^{4} - q^{6} - 2q^{8} - q^{11} + 2q^{12} + 2q^{14} + 3q^{15} - q^{16} + 2q^{17} - 2q^{18} - 3q^{19} - 6q^{21} - q^{22} - q^{23} - 2q^{24} + 7q^{25} + q^{26} + 5q^{27} + 7q^{28} - 2q^{29} + 6q^{30} - 4q^{31} - 7q^{32} - q^{33} - 14q^{34} - q^{35} - 2q^{36} - 6q^{37} + 14q^{38} + q^{39} + 12q^{40} + 16q^{41} - 5q^{42} + 12q^{43} - 10q^{44} - 15q^{45} - q^{46} - 30q^{47} - 3q^{48} - 4q^{49} - 11q^{50} + 31q^{51} + 3q^{52} + 24q^{53} + 33q^{54} - 9q^{55} + 26q^{56} - 18q^{57} - 31q^{58} - 3q^{59} - 60q^{60} - 6q^{61} - 8q^{62} - 23q^{63} + 58q^{64} + 5q^{65} + 46q^{66} + 63q^{67} - 19q^{68} + 47q^{69} - 36q^{70} - 58q^{71} - 4q^{72} - 112q^{73} - 11q^{74} - 15q^{75} - 41q^{76} + 110q^{77} + 11q^{78} + 86q^{79}</script></html>"
      ],
      "text/latex": [
       "\\begin{math}\n",
       "\\newcommand{\\Bold}[1]{\\mathbf{#1}}\\frac{1}{q} + 2 + q + q^{2} + q^{4} - q^{6} - 2q^{8} - q^{11} + 2q^{12} + 2q^{14} + 3q^{15} - q^{16} + 2q^{17} - 2q^{18} - 3q^{19} - 6q^{21} - q^{22} - q^{23} - 2q^{24} + 7q^{25} + q^{26} + 5q^{27} + 7q^{28} - 2q^{29} + 6q^{30} - 4q^{31} - 7q^{32} - q^{33} - 14q^{34} - q^{35} - 2q^{36} - 6q^{37} + 14q^{38} + q^{39} + 12q^{40} + 16q^{41} - 5q^{42} + 12q^{43} - 10q^{44} - 15q^{45} - q^{46} - 30q^{47} - 3q^{48} - 4q^{49} - 11q^{50} + 31q^{51} + 3q^{52} + 24q^{53} + 33q^{54} - 9q^{55} + 26q^{56} - 18q^{57} - 31q^{58} - 3q^{59} - 60q^{60} - 6q^{61} - 8q^{62} - 23q^{63} + 58q^{64} + 5q^{65} + 46q^{66} + 63q^{67} - 19q^{68} + 47q^{69} - 36q^{70} - 58q^{71} - 4q^{72} - 112q^{73} - 11q^{74} - 15q^{75} - 41q^{76} + 110q^{77} + 11q^{78} + 86q^{79}\n",
       "\\end{math}"
      ],
      "text/plain": [
       "q^-1 + 2 + q + q^2 + q^4 - q^6 - 2*q^8 - q^11 + 2*q^12 + 2*q^14 + 3*q^15 - q^16 + 2*q^17 - 2*q^18 - 3*q^19 - 6*q^21 - q^22 - q^23 - 2*q^24 + 7*q^25 + q^26 + 5*q^27 + 7*q^28 - 2*q^29 + 6*q^30 - 4*q^31 - 7*q^32 - q^33 - 14*q^34 - q^35 - 2*q^36 - 6*q^37 + 14*q^38 + q^39 + 12*q^40 + 16*q^41 - 5*q^42 + 12*q^43 - 10*q^44 - 15*q^45 - q^46 - 30*q^47 - 3*q^48 - 4*q^49 - 11*q^50 + 31*q^51 + 3*q^52 + 24*q^53 + 33*q^54 - 9*q^55 + 26*q^56 - 18*q^57 - 31*q^58 - 3*q^59 - 60*q^60 - 6*q^61 - 8*q^62 - 23*q^63 + 58*q^64 + 5*q^65 + 46*q^66 + 63*q^67 - 19*q^68 + 47*q^69 - 36*q^70 - 58*q^71 - 4*q^72 - 112*q^73 - 11*q^74 - 15*q^75 - 41*q^76 + 110*q^77 + 11*q^78 + 86*q^79"
      ]
     },
     "metadata": {},
     "output_type": "display_data"
    }
   ],
   "source": [
    "F,G = M.basis()\n",
    "f,g = F.q_expansion(), G.q_expansion()\n",
    "x = f/g; show(x.truncate(80))"
   ]
  },
  {
   "cell_type": "markdown",
   "metadata": {},
   "source": [
    "$$(\\frac{y}{dx}) \\cdot  dx = \\frac{dx}{f/q}$$"
   ]
  },
  {
   "cell_type": "code",
   "execution_count": 548,
   "metadata": {},
   "outputs": [],
   "source": [
    "q = x.parent().gen()"
   ]
  },
  {
   "cell_type": "code",
   "execution_count": 549,
   "metadata": {},
   "outputs": [
    {
     "data": {
      "text/html": [
       "<html><script type=\"math/tex; mode=display\">\\newcommand{\\Bold}[1]{\\mathbf{#1}}\\frac{-1}{q^{3}} + \\frac{-2}{q^{2}} + \\frac{-4}{q} - 6 - 10q - 10q^{2} - 12q^{3} - 11q^{4} - 3q^{5} - 3q^{6} + 11q^{7} + 22q^{8} + 18q^{9} + 36q^{10} + 12q^{11} + q^{12} - 3q^{13} - 65q^{14} - 44q^{15} - 78q^{16} - 90q^{17} + 10q^{18} - 33q^{19} + 100q^{20} + 165q^{21} + 101q^{22} + 290q^{23} + 76q^{24} + 33q^{25} + 28q^{26} - 435q^{27} - 208q^{28} - 475q^{29} - 558q^{30} + 62q^{31} - 331q^{32} + 511q^{33} + 815q^{34} + 418q^{35} + 1548q^{36} + 296q^{37} + 257q^{38} + 310q^{39} - 2036q^{40} - 696q^{41} - 2178q^{42} - 2495q^{43} + 413q^{44} - 1716q^{45} + 2215q^{46} + 3226q^{47} + 1441q^{48} + 6570q^{49} + 958q^{50} + 1253q^{51} + 1473q^{52} - 8099q^{53} - 2082q^{54} - 8432q^{55} - 9432q^{56} + 1717q^{57} - 7179q^{58} + 8227q^{59} + 11220q^{60} + 4560q^{61} + 23812q^{62} + 2684q^{63} + 5052q^{64} + 5845q^{65} - 27865q^{66} - 5532q^{67} - 28722q^{68} - 31303q^{69} + 6382q^{70} - 25305q^{71} + 27248q^{72} + 35076q^{73} + 13283q^{74} + 77170q^{75} + 6888q^{76} + 17264q^{77} + 19415q^{78} - 87152q^{79}</script></html>"
      ],
      "text/latex": [
       "\\begin{math}\n",
       "\\newcommand{\\Bold}[1]{\\mathbf{#1}}\\frac{-1}{q^{3}} + \\frac{-2}{q^{2}} + \\frac{-4}{q} - 6 - 10q - 10q^{2} - 12q^{3} - 11q^{4} - 3q^{5} - 3q^{6} + 11q^{7} + 22q^{8} + 18q^{9} + 36q^{10} + 12q^{11} + q^{12} - 3q^{13} - 65q^{14} - 44q^{15} - 78q^{16} - 90q^{17} + 10q^{18} - 33q^{19} + 100q^{20} + 165q^{21} + 101q^{22} + 290q^{23} + 76q^{24} + 33q^{25} + 28q^{26} - 435q^{27} - 208q^{28} - 475q^{29} - 558q^{30} + 62q^{31} - 331q^{32} + 511q^{33} + 815q^{34} + 418q^{35} + 1548q^{36} + 296q^{37} + 257q^{38} + 310q^{39} - 2036q^{40} - 696q^{41} - 2178q^{42} - 2495q^{43} + 413q^{44} - 1716q^{45} + 2215q^{46} + 3226q^{47} + 1441q^{48} + 6570q^{49} + 958q^{50} + 1253q^{51} + 1473q^{52} - 8099q^{53} - 2082q^{54} - 8432q^{55} - 9432q^{56} + 1717q^{57} - 7179q^{58} + 8227q^{59} + 11220q^{60} + 4560q^{61} + 23812q^{62} + 2684q^{63} + 5052q^{64} + 5845q^{65} - 27865q^{66} - 5532q^{67} - 28722q^{68} - 31303q^{69} + 6382q^{70} - 25305q^{71} + 27248q^{72} + 35076q^{73} + 13283q^{74} + 77170q^{75} + 6888q^{76} + 17264q^{77} + 19415q^{78} - 87152q^{79}\n",
       "\\end{math}"
      ],
      "text/plain": [
       "-q^-3 - 2*q^-2 - 4*q^-1 - 6 - 10*q - 10*q^2 - 12*q^3 - 11*q^4 - 3*q^5 - 3*q^6 + 11*q^7 + 22*q^8 + 18*q^9 + 36*q^10 + 12*q^11 + q^12 - 3*q^13 - 65*q^14 - 44*q^15 - 78*q^16 - 90*q^17 + 10*q^18 - 33*q^19 + 100*q^20 + 165*q^21 + 101*q^22 + 290*q^23 + 76*q^24 + 33*q^25 + 28*q^26 - 435*q^27 - 208*q^28 - 475*q^29 - 558*q^30 + 62*q^31 - 331*q^32 + 511*q^33 + 815*q^34 + 418*q^35 + 1548*q^36 + 296*q^37 + 257*q^38 + 310*q^39 - 2036*q^40 - 696*q^41 - 2178*q^42 - 2495*q^43 + 413*q^44 - 1716*q^45 + 2215*q^46 + 3226*q^47 + 1441*q^48 + 6570*q^49 + 958*q^50 + 1253*q^51 + 1473*q^52 - 8099*q^53 - 2082*q^54 - 8432*q^55 - 9432*q^56 + 1717*q^57 - 7179*q^58 + 8227*q^59 + 11220*q^60 + 4560*q^61 + 23812*q^62 + 2684*q^63 + 5052*q^64 + 5845*q^65 - 27865*q^66 - 5532*q^67 - 28722*q^68 - 31303*q^69 + 6382*q^70 - 25305*q^71 + 27248*q^72 + 35076*q^73 + 13283*q^74 + 77170*q^75 + 6888*q^76 + 17264*q^77 + 19415*q^78 - 87152*q^79"
      ]
     },
     "metadata": {},
     "output_type": "display_data"
    }
   ],
   "source": [
    "y = (x.derivative() / (g/q)); show(y.truncate(80))"
   ]
  },
  {
   "cell_type": "markdown",
   "metadata": {},
   "source": [
    "So we can solve for an equation relating $y^2,1,x,x^2,x^3,x^4,x^5,x^6$ either solving by hand, or with code:"
   ]
  },
  {
   "cell_type": "code",
   "execution_count": 550,
   "metadata": {},
   "outputs": [],
   "source": [
    "L = []\n",
    "L.append([(y^2)[n] for n in range(-6,100)])\n",
    "for i in range(7):\n",
    "    L.append([(x^i)[n] for n in range(-6,100)])"
   ]
  },
  {
   "cell_type": "code",
   "execution_count": 551,
   "metadata": {},
   "outputs": [
    {
     "data": {
      "text/plain": [
       "[\n",
       "(1, -17, 42, -53, 46, -26, 8, -1)\n",
       "]"
      ]
     },
     "execution_count": 551,
     "metadata": {},
     "output_type": "execute_result"
    }
   ],
   "source": [
    "matrix(L).kernel().basis()"
   ]
  },
  {
   "cell_type": "markdown",
   "metadata": {},
   "source": [
    "So our model is:\n",
    "$$y^2 = x^6 - 8x^5 + 26x^4 - 46x^3 +53x^2 - 42x  + 17 $$\n",
    "which is the one from last time at infinity instead."
   ]
  },
  {
   "cell_type": "code",
   "execution_count": 552,
   "metadata": {},
   "outputs": [
    {
     "data": {
      "text/plain": [
       "Hyperelliptic Curve over Rational Field defined by y^2 = x^6 - 8*x^5 + 26*x^4 - 46*x^3 + 53*x^2 - 42*x + 17"
      ]
     },
     "execution_count": 552,
     "metadata": {},
     "output_type": "execute_result"
    }
   ],
   "source": [
    "X = polygen(QQ)\n",
    "h = X^6 - 8*X^5 + 26*X^4 - 46*X^3 +53*X^2 - 42*X  + 17 #17*X^6 - 42*X^5 + 53*X^4-46*X^3+26*X^2 -8*X  + 1\n",
    "X13 = HyperellipticCurve(h); X13"
   ]
  },
  {
   "cell_type": "markdown",
   "metadata": {},
   "source": [
    "So $x,y$ are our coordinates and\n",
    "$$\n",
    "g(q)\\frac{\\mathrm d q}{q} = \\frac{\\mathrm d x}{y},\n",
    "f(q)\\frac{\\mathrm d q}{q} = x\\frac{\\mathrm d x}{y}.\n",
    "$$"
   ]
  },
  {
   "cell_type": "markdown",
   "metadata": {},
   "source": [
    "According to Mazur-Tate the cusps should live over the totally real subfield of the cyclotomic field containing 13th roots of unity."
   ]
  },
  {
   "cell_type": "code",
   "execution_count": 388,
   "metadata": {},
   "outputs": [],
   "source": [
    "K = CyclotomicField(13)"
   ]
  },
  {
   "cell_type": "code",
   "execution_count": 389,
   "metadata": {},
   "outputs": [
    {
     "data": {
      "text/plain": [
       "Number Field in zeta13_4 with defining polynomial x^6 + x^5 - 5*x^4 - 4*x^3 + 6*x^2 + 3*x - 1 with zeta13_4 = 1.770912051306420?"
      ]
     },
     "execution_count": 389,
     "metadata": {},
     "output_type": "execute_result"
    }
   ],
   "source": [
    "L = [L for L,_,_ in K.subfields() if L.degree() == 6][0]; L"
   ]
  },
  {
   "cell_type": "markdown",
   "metadata": {},
   "source": [
    "$$L = \\mathbf Q(\\zeta_{13})^+$$\n"
   ]
  },
  {
   "cell_type": "markdown",
   "metadata": {},
   "source": [
    "Let's check out the rational points, which should be the cusps, note that Sage thinks there is only 1 point at infinity, but there are 2 in a non-singular model!"
   ]
  },
  {
   "cell_type": "code",
   "execution_count": 390,
   "metadata": {},
   "outputs": [
    {
     "data": {
      "text/plain": [
       "[(0 : 1 : 0), (1 : -1 : 1), (1 : 1 : 1), (2 : -1 : 1), (2 : 1 : 1)]"
      ]
     },
     "execution_count": 390,
     "metadata": {},
     "output_type": "execute_result"
    }
   ],
   "source": [
    "Curve(X13).rational_points(bound=10)"
   ]
  },
  {
   "cell_type": "markdown",
   "metadata": {},
   "source": [
    "Now we wish to construct the $j$-invariant map\n",
    "$$j \\colon X_1(13)\\to\\mathbf A^1$$\n",
    "which in the moduli interepretation takes an elliptic curve with a 13-torsion point to the $j$-invariant of the curve.\n",
    "\n",
    "This map should be degree $[\\mathrm{SL}_2{\\mathbf Z}:\\Gamma_1(13)]$, which is"
   ]
  },
  {
   "cell_type": "code",
   "execution_count": 465,
   "metadata": {},
   "outputs": [
    {
     "data": {
      "text/plain": [
       "168"
      ]
     },
     "execution_count": 465,
     "metadata": {},
     "output_type": "execute_result"
    }
   ],
   "source": [
    "Gamma1(13).index()"
   ]
  },
  {
   "cell_type": "markdown",
   "metadata": {},
   "source": [
    "This is quite large and unwieldy, even for a computer, so lets factor this map\n",
    "$$X_1(13) \\xrightarrow {j_1} X_0(13) \\xrightarrow {j_{13}} \\mathbf A^1$$\n",
    "the curve $X_0(13)$ is genus 0, so we need to find a function on that curve to express these maps in terms of.\n",
    "\n",
    "So we need a modular function of level 13 that generates the full function field, such a function is known as a Hauptmodul.\n",
    "\n",
    "Such a thing was known to Klein, in terms of the Dedekind $\\eta$ function\n",
    "$$h_{13}= \\eta(q)^2/\\eta(13q)^2$$\n",
    "in Sage we can get the $q$-expansion of this via an `EtaGroupElement` for level 13."
   ]
  },
  {
   "cell_type": "code",
   "execution_count": 467,
   "metadata": {},
   "outputs": [
    {
     "data": {
      "text/html": [
       "<html><script type=\"math/tex; mode=display\">\\newcommand{\\Bold}[1]{\\mathbf{#1}}\\frac{1}{q} - 2 - q + 2q^{2} + q^{3} + 2q^{4} - 2q^{5} - 2q^{7} - 2q^{8} + q^{9} + 4q^{12} - q^{13} - 4q^{14} + 6q^{15} + 2q^{16} + 4q^{17} - 6q^{18} - 2q^{19} - 4q^{20} - 4q^{21} - q^{23} + 11q^{25} - 2q^{26} - 11q^{27} + 16q^{28} + 6q^{29} + 12q^{30} - 14q^{31} - 2q^{32} - 12q^{33} - 12q^{34} + 3q^{35} - 2q^{36} - 2q^{37} + 24q^{38} - 5q^{39} - 24q^{40} + 34q^{41} + 12q^{42} + 25q^{43} - 32q^{44} - 6q^{45} - 24q^{46} - 22q^{47} + 4q^{48} - 3q^{49} - 2q^{50} + 51q^{51} - 10q^{52} - 50q^{53} + 72q^{54} + 27q^{55} + 52q^{56} - 64q^{57} - 12q^{58} - 50q^{59} - 48q^{60} + 10q^{61} - 8q^{62} - 4q^{63} + 98q^{64} - 20q^{65} - 96q^{66} + 136q^{67} + 48q^{68} + 96q^{69} - 120q^{70} - 24q^{71} - 90q^{72} - 86q^{73} + 16q^{74} - 14q^{75} - 8q^{76} + 184q^{77} - 36q^{78} - 176q^{79}</script></html>"
      ],
      "text/latex": [
       "\\begin{math}\n",
       "\\newcommand{\\Bold}[1]{\\mathbf{#1}}\\frac{1}{q} - 2 - q + 2q^{2} + q^{3} + 2q^{4} - 2q^{5} - 2q^{7} - 2q^{8} + q^{9} + 4q^{12} - q^{13} - 4q^{14} + 6q^{15} + 2q^{16} + 4q^{17} - 6q^{18} - 2q^{19} - 4q^{20} - 4q^{21} - q^{23} + 11q^{25} - 2q^{26} - 11q^{27} + 16q^{28} + 6q^{29} + 12q^{30} - 14q^{31} - 2q^{32} - 12q^{33} - 12q^{34} + 3q^{35} - 2q^{36} - 2q^{37} + 24q^{38} - 5q^{39} - 24q^{40} + 34q^{41} + 12q^{42} + 25q^{43} - 32q^{44} - 6q^{45} - 24q^{46} - 22q^{47} + 4q^{48} - 3q^{49} - 2q^{50} + 51q^{51} - 10q^{52} - 50q^{53} + 72q^{54} + 27q^{55} + 52q^{56} - 64q^{57} - 12q^{58} - 50q^{59} - 48q^{60} + 10q^{61} - 8q^{62} - 4q^{63} + 98q^{64} - 20q^{65} - 96q^{66} + 136q^{67} + 48q^{68} + 96q^{69} - 120q^{70} - 24q^{71} - 90q^{72} - 86q^{73} + 16q^{74} - 14q^{75} - 8q^{76} + 184q^{77} - 36q^{78} - 176q^{79}\n",
       "\\end{math}"
      ],
      "text/plain": [
       "q^-1 - 2 - q + 2*q^2 + q^3 + 2*q^4 - 2*q^5 - 2*q^7 - 2*q^8 + q^9 + 4*q^12 - q^13 - 4*q^14 + 6*q^15 + 2*q^16 + 4*q^17 - 6*q^18 - 2*q^19 - 4*q^20 - 4*q^21 - q^23 + 11*q^25 - 2*q^26 - 11*q^27 + 16*q^28 + 6*q^29 + 12*q^30 - 14*q^31 - 2*q^32 - 12*q^33 - 12*q^34 + 3*q^35 - 2*q^36 - 2*q^37 + 24*q^38 - 5*q^39 - 24*q^40 + 34*q^41 + 12*q^42 + 25*q^43 - 32*q^44 - 6*q^45 - 24*q^46 - 22*q^47 + 4*q^48 - 3*q^49 - 2*q^50 + 51*q^51 - 10*q^52 - 50*q^53 + 72*q^54 + 27*q^55 + 52*q^56 - 64*q^57 - 12*q^58 - 50*q^59 - 48*q^60 + 10*q^61 - 8*q^62 - 4*q^63 + 98*q^64 - 20*q^65 - 96*q^66 + 136*q^67 + 48*q^68 + 96*q^69 - 120*q^70 - 24*q^71 - 90*q^72 - 86*q^73 + 16*q^74 - 14*q^75 - 8*q^76 + 184*q^77 - 36*q^78 - 176*q^79"
      ]
     },
     "metadata": {},
     "output_type": "display_data"
    }
   ],
   "source": [
    "h13 = EtaGroupElement(EtaGroup(13),{1:2,13:-2}).qexp(N)\n",
    "show(h13.truncate(80))"
   ]
  },
  {
   "cell_type": "markdown",
   "metadata": {},
   "source": [
    "So to express the $j$ map in terms of $h_{13}$ which generates the function field of $X_0(13)$ we make use of these $q$-expansions.\n",
    "$$j(q) = j_13(h_{13}(q)) = F(h_{13}(q))/G(h_{13}(q))$$\n",
    "so\n",
    "$$0 = F(h_{13}(q))-  j(h_{13}(q))G(h_{13}(q))$$\n",
    "we can now solve for $F$ and $G$ which are polynomials in $h_{13}$ using these $q$-expansions.\n",
    "We know the degree of $F$ and $G$ are at most $[\\mathrm{SL}_2{\\mathbf Z}:\\Gamma_0(13)]$, which is:"
   ]
  },
  {
   "cell_type": "code",
   "execution_count": 480,
   "metadata": {},
   "outputs": [
    {
     "data": {
      "text/plain": [
       "14"
      ]
     },
     "execution_count": 480,
     "metadata": {},
     "output_type": "execute_result"
    }
   ],
   "source": [
    "Gamma0(13).index()"
   ]
  },
  {
   "cell_type": "markdown",
   "metadata": {},
   "source": [
    "Be careful! We must pick the \"right\" $j$-invariant map, the classical $j$ function does not seem to be the right one, we want $j(q^{13})$ to pick up the $j$-invariant?"
   ]
  },
  {
   "cell_type": "code",
   "execution_count": 472,
   "metadata": {},
   "outputs": [
    {
     "data": {
      "text/plain": [
       "q^-13 + 744 + 196884*q^13 + 21493760*q^26 + 864299970*q^39 + O(q^52)"
      ]
     },
     "execution_count": 472,
     "metadata": {},
     "output_type": "execute_result"
    }
   ],
   "source": [
    "j_invariant_qexp(4).V(13)"
   ]
  },
  {
   "cell_type": "code",
   "execution_count": 481,
   "metadata": {},
   "outputs": [],
   "source": [
    "m = 15 # index + 1\n",
    "L=[]\n",
    "for j in range(m):\n",
    "    tmp = (h13^j)\n",
    "    L.append([tmp[n] for n in range(-13*m-1,N-170)])\n",
    "for j in range(m):\n",
    "    tmp = (h13^j)*(j_invariant_qexp(N).V(13))\n",
    "    L.append([tmp[n] for n in range(-13*m-1,N-170)])"
   ]
  },
  {
   "cell_type": "code",
   "execution_count": 482,
   "metadata": {},
   "outputs": [
    {
     "data": {
      "text/plain": [
       "[\n",
       "(1, 746/13, 1165, 9604, 27272, 41140, 39182, 25660, 12086, 4180, 1064, 196, 25, 2, 1/13, 0, -1/13, 0, 0, 0, 0, 0, 0, 0, 0, 0, 0, 0, 0, 0)\n",
       "]"
      ]
     },
     "execution_count": 482,
     "metadata": {},
     "output_type": "execute_result"
    }
   ],
   "source": [
    "B = matrix(L).kernel().basis(); B"
   ]
  },
  {
   "cell_type": "markdown",
   "metadata": {},
   "source": [
    "Putting this together our $j$-invariant map $j_{13}$ is given by."
   ]
  },
  {
   "cell_type": "code",
   "execution_count": 483,
   "metadata": {},
   "outputs": [
    {
     "data": {
      "text/html": [
       "<html><script type=\"math/tex; mode=display\">\\newcommand{\\Bold}[1]{\\mathbf{#1}}\\frac{t^{14} + 26 t^{13} + 325 t^{12} + 2548 t^{11} + 13832 t^{10} + 54340 t^{9} + 157118 t^{8} + 333580 t^{7} + 509366 t^{6} + 534820 t^{5} + 354536 t^{4} + 124852 t^{3} + 15145 t^{2} + 746 t + 13}{t}</script></html>"
      ],
      "text/latex": [
       "\\begin{math}\n",
       "\\newcommand{\\Bold}[1]{\\mathbf{#1}}\\frac{t^{14} + 26 t^{13} + 325 t^{12} + 2548 t^{11} + 13832 t^{10} + 54340 t^{9} + 157118 t^{8} + 333580 t^{7} + 509366 t^{6} + 534820 t^{5} + 354536 t^{4} + 124852 t^{3} + 15145 t^{2} + 746 t + 13}{t}\n",
       "\\end{math}"
      ],
      "text/plain": [
       "(t^14 + 26*t^13 + 325*t^12 + 2548*t^11 + 13832*t^10 + 54340*t^9 + 157118*t^8 + 333580*t^7 + 509366*t^6 + 534820*t^5 + 354536*t^4 + 124852*t^3 + 15145*t^2 + 746*t + 13)/t"
      ]
     },
     "metadata": {},
     "output_type": "display_data"
    }
   ],
   "source": [
    "R.<t> = PolynomialRing(QQ)\n",
    "v = B[0]\n",
    "jmap = sum(v[i]*t^i for i in range(m))/sum(-v[i]*t^(i-m) for i in range(m,2*m))\n",
    "show(jmap)"
   ]
  },
  {
   "cell_type": "code",
   "execution_count": 484,
   "metadata": {},
   "outputs": [
    {
     "data": {
      "text/html": [
       "<html><script type=\"math/tex; mode=display\">\\newcommand{\\Bold}[1]{\\mathbf{#1}}t^{-1} \\cdot (t^{2} + 5 t + 13) \\cdot (t^{4} + 7 t^{3} + 20 t^{2} + 19 t + 1)^{3}</script></html>"
      ],
      "text/latex": [
       "\\begin{math}\n",
       "\\newcommand{\\Bold}[1]{\\mathbf{#1}}t^{-1} \\cdot (t^{2} + 5 t + 13) \\cdot (t^{4} + 7 t^{3} + 20 t^{2} + 19 t + 1)^{3}\n",
       "\\end{math}"
      ],
      "text/plain": [
       "t^-1 * (t^2 + 5*t + 13) * (t^4 + 7*t^3 + 20*t^2 + 19*t + 1)^3"
      ]
     },
     "metadata": {},
     "output_type": "display_data"
    }
   ],
   "source": [
    "show(jmap.factor())"
   ]
  },
  {
   "cell_type": "markdown",
   "metadata": {},
   "source": [
    "Now to determine $j_1\\colon X_1(13) \\to X_0(13)$, we work in the same way, as we know the coordinates of our cusps (which should map to infinity) we can guess the denominator, but lets not be too fancy.\n",
    "The degree should be the index $168/14 = 12$ but now we have both $x$ and $y$ to worry about, so a little bit of fiddling gives:"
   ]
  },
  {
   "cell_type": "code",
   "execution_count": 485,
   "metadata": {},
   "outputs": [],
   "source": [
    "L = []\n",
    "#L.append([j_invariant_qexp(100)[n] for n in range(92)])\n",
    "m = 168/14  -8\n",
    "for i in range(2):\n",
    "    for j in range(m):\n",
    "        ta = (y^i*x^j)\n",
    "        L.append([ta[n] for n in range(-1,N-13)])\n",
    "for i in range(2):\n",
    "    for j in range(m):\n",
    "        ta = (y^i*x^j)\n",
    "        tb = ta*h13\n",
    "        L.append([tb[n] for n in range(-1,N-13)])"
   ]
  },
  {
   "cell_type": "code",
   "execution_count": 486,
   "metadata": {},
   "outputs": [
    {
     "data": {
      "text/plain": [
       "[\n",
       "(1, -12/5, 7/5, -1/5, 0, 0, 0, 0, 2/5, -3/5, 1/5, 0, 0, 0, 0, 0),\n",
       "(0, 0, 0, 0, 1, -12/5, 7/5, -1/5, 0, 0, 0, 0, 2/5, -3/5, 1/5, 0)\n",
       "]"
      ]
     },
     "execution_count": 486,
     "metadata": {},
     "output_type": "execute_result"
    }
   ],
   "source": [
    "B = matrix(L).kernel().basis();B"
   ]
  },
  {
   "cell_type": "markdown",
   "metadata": {},
   "source": [
    "It looks like we have two maps, but they are really the same."
   ]
  },
  {
   "cell_type": "code",
   "execution_count": 488,
   "metadata": {},
   "outputs": [
    {
     "data": {
      "text/html": [
       "<html><script type=\"math/tex; mode=display\">\\newcommand{\\Bold}[1]{\\mathbf{#1}}\\frac{-\\frac{1}{5} X^{3} + \\frac{7}{5} X^{2} - \\frac{12}{5} X + 1}{-\\frac{1}{5} X^{2} + \\frac{3}{5} X - \\frac{2}{5}}</script></html>"
      ],
      "text/latex": [
       "\\begin{math}\n",
       "\\newcommand{\\Bold}[1]{\\mathbf{#1}}\\frac{-\\frac{1}{5} X^{3} + \\frac{7}{5} X^{2} - \\frac{12}{5} X + 1}{-\\frac{1}{5} X^{2} + \\frac{3}{5} X - \\frac{2}{5}}\n",
       "\\end{math}"
      ],
      "text/plain": [
       "(-1/5*X^3 + 7/5*X^2 - 12/5*X + 1)/(-1/5*X^2 + 3/5*X - 2/5)"
      ]
     },
     "metadata": {},
     "output_type": "display_data"
    },
    {
     "data": {
      "text/html": [
       "<html><script type=\"math/tex; mode=display\">\\newcommand{\\Bold}[1]{\\mathbf{#1}}\\frac{-\\frac{1}{5} X^{3} + \\frac{7}{5} X^{2} - \\frac{12}{5} X + 1}{-\\frac{1}{5} X^{2} + \\frac{3}{5} X - \\frac{2}{5}}</script></html>"
      ],
      "text/latex": [
       "\\begin{math}\n",
       "\\newcommand{\\Bold}[1]{\\mathbf{#1}}\\frac{-\\frac{1}{5} X^{3} + \\frac{7}{5} X^{2} - \\frac{12}{5} X + 1}{-\\frac{1}{5} X^{2} + \\frac{3}{5} X - \\frac{2}{5}}\n",
       "\\end{math}"
      ],
      "text/plain": [
       "(-1/5*X^3 + 7/5*X^2 - 12/5*X + 1)/(-1/5*X^2 + 3/5*X - 2/5)"
      ]
     },
     "metadata": {},
     "output_type": "display_data"
    }
   ],
   "source": [
    "RR.<X,Y> = PolynomialRing(QQ)\n",
    "for v in B:\n",
    "    j10 = sum(v[i*m + j]*Y^i*X^j for i in range(2) for j in range(m))/sum(-v[2*m + i*m + j]*Y^i*X^j for i in range(2) for j in range(m))\n",
    "    show(j10)"
   ]
  },
  {
   "cell_type": "code",
   "execution_count": 489,
   "metadata": {},
   "outputs": [
    {
     "data": {
      "text/html": [
       "<html><script type=\"math/tex; mode=display\">\\newcommand{\\Bold}[1]{\\mathbf{#1}}(X - 2)^{-1} \\cdot (X - 1)^{-1} \\cdot (X^{3} - 7 X^{2} + 12 X - 5)</script></html>"
      ],
      "text/latex": [
       "\\begin{math}\n",
       "\\newcommand{\\Bold}[1]{\\mathbf{#1}}(X - 2)^{-1} \\cdot (X - 1)^{-1} \\cdot (X^{3} - 7 X^{2} + 12 X - 5)\n",
       "\\end{math}"
      ],
      "text/plain": [
       "(X - 2)^-1 * (X - 1)^-1 * (X^3 - 7*X^2 + 12*X - 5)"
      ]
     },
     "metadata": {},
     "output_type": "display_data"
    }
   ],
   "source": [
    "show(j10.factor())"
   ]
  },
  {
   "cell_type": "markdown",
   "metadata": {},
   "source": [
    "Note that $y$ does not appear, so the hyperelliptic involution fixes the $j$-invariant, its modular. Also cool symmetry:"
   ]
  },
  {
   "cell_type": "code",
   "execution_count": 491,
   "metadata": {},
   "outputs": [
    {
     "data": {
      "text/plain": [
       "-5"
      ]
     },
     "execution_count": 491,
     "metadata": {},
     "output_type": "execute_result"
    }
   ],
   "source": [
    "j10.subs(X=3-X) + j10"
   ]
  },
  {
   "cell_type": "code",
   "execution_count": 498,
   "metadata": {},
   "outputs": [
    {
     "data": {
      "text/html": [
       "<html><script type=\"math/tex; mode=display\">\\newcommand{\\Bold}[1]{\\mathbf{#1}}(X - 2)^{-13} \\cdot (X - 1)^{-13} \\cdot (X^{2} - 3 X + 3)^{3} \\cdot (X^{3} - 7 X^{2} + 12 X - 5)^{-1} \\cdot (X^{12} - 21 X^{11} + 194 X^{10} - 1045 X^{9} + 3667 X^{8} - 8874 X^{7} + 15300 X^{6} - 19128 X^{5} + 17382 X^{4} - 11240 X^{3} + 4861 X^{2} - 1227 X + 131)^{3}</script></html>"
      ],
      "text/latex": [
       "\\begin{math}\n",
       "\\newcommand{\\Bold}[1]{\\mathbf{#1}}(X - 2)^{-13} \\cdot (X - 1)^{-13} \\cdot (X^{2} - 3 X + 3)^{3} \\cdot (X^{3} - 7 X^{2} + 12 X - 5)^{-1} \\cdot (X^{12} - 21 X^{11} + 194 X^{10} - 1045 X^{9} + 3667 X^{8} - 8874 X^{7} + 15300 X^{6} - 19128 X^{5} + 17382 X^{4} - 11240 X^{3} + 4861 X^{2} - 1227 X + 131)^{3}\n",
       "\\end{math}"
      ],
      "text/plain": [
       "(X - 2)^-13 * (X - 1)^-13 * (X^2 - 3*X + 3)^3 * (X^3 - 7*X^2 + 12*X - 5)^-1 * (X^12 - 21*X^11 + 194*X^10 - 1045*X^9 + 3667*X^8 - 8874*X^7 + 15300*X^6 - 19128*X^5 + 17382*X^4 - 11240*X^3 + 4861*X^2 - 1227*X + 131)^3"
      ]
     },
     "metadata": {},
     "output_type": "display_data"
    }
   ],
   "source": [
    "show(jmap(j10).factor())"
   ]
  },
  {
   "cell_type": "markdown",
   "metadata": {},
   "source": [
    "We can evaluate to find $j$-invariants of our points, try the cusps!"
   ]
  },
  {
   "cell_type": "code",
   "execution_count": 553,
   "metadata": {},
   "outputs": [
    {
     "data": {
      "text/plain": [
       "-60698457/40960"
      ]
     },
     "execution_count": 553,
     "metadata": {},
     "output_type": "execute_result"
    }
   ],
   "source": [
    "jmap(j10.subs(X=0,Y=0))"
   ]
  },
  {
   "cell_type": "markdown",
   "metadata": {},
   "source": [
    "### Problem\n",
    "\n",
    "- The lmfdb lists 11 curves over number fields with 13-torsion, \"find\" as many as you can via this model\n",
    "https://www.lmfdb.org/EllipticCurve/?hst=List&torsion=13%2C26%2C39%2C52%2C65%2C78%2C91%2C104%2C117&search_type=List\n",
    "Start with the `\\sqrt{17}` one!\n",
    "\n",
    "- Find a point on $X_1(13)$ with $j$-invariant 0. How does it behave with respect to the automorphisms of the curve, in this model one is $(x,y) \\mapsto ((x-3)/(x-2), y/(x-2)^3)$.\n",
    "\n",
    "- What are the weiestrass points? What are their $j$-invariants, what does it mean?\n",
    "\n",
    "- Construct the \"other\" $j$-map, this should be the $j$-invariant of the isogenous curve $E/P$.\n",
    "\n",
    "- How can one determine the curve $E$ represented by a point and a 13-torsion point, not just its $j$-invariant?\n",
    "\n"
   ]
  },
  {
   "cell_type": "code",
   "execution_count": 554,
   "metadata": {},
   "outputs": [],
   "source": [
    "K = Qp(29)"
   ]
  },
  {
   "cell_type": "code",
   "execution_count": 556,
   "metadata": {},
   "outputs": [],
   "source": [
    "X29 = X13.change_ring(K)"
   ]
  },
  {
   "cell_type": "code",
   "execution_count": 557,
   "metadata": {},
   "outputs": [],
   "source": [
    "X29.coleman_integrals_on_basis??"
   ]
  },
  {
   "cell_type": "markdown",
   "metadata": {},
   "source": [
    "Here is the automorphism btw"
   ]
  },
  {
   "cell_type": "code",
   "execution_count": 542,
   "metadata": {},
   "outputs": [],
   "source": [
    "def mo(aaa):\n",
    "    x,y=aaa\n",
    "    return((x-3)/(x-2), y/((x-2) ^3) )"
   ]
  },
  {
   "cell_type": "code",
   "execution_count": 543,
   "metadata": {},
   "outputs": [
    {
     "data": {
      "text/plain": [
       "(X - 2)^-6 * (X^6 - 8*X^5 + 26*X^4 - 46*X^3 + 53*X^2 - 42*X + 17)"
      ]
     },
     "execution_count": 543,
     "metadata": {},
     "output_type": "execute_result"
    }
   ],
   "source": [
    "h(mo((X,Y))[0]).factor()"
   ]
  },
  {
   "cell_type": "code",
   "execution_count": 544,
   "metadata": {},
   "outputs": [
    {
     "data": {
      "text/plain": [
       "(a, b)"
      ]
     },
     "execution_count": 544,
     "metadata": {},
     "output_type": "execute_result"
    }
   ],
   "source": [
    "mo((a,b))"
   ]
  },
  {
   "cell_type": "code",
   "execution_count": null,
   "metadata": {},
   "outputs": [],
   "source": []
  },
  {
   "cell_type": "code",
   "execution_count": null,
   "metadata": {},
   "outputs": [],
   "source": []
  },
  {
   "cell_type": "code",
   "execution_count": null,
   "metadata": {},
   "outputs": [],
   "source": []
  },
  {
   "cell_type": "code",
   "execution_count": null,
   "metadata": {},
   "outputs": [],
   "source": []
  },
  {
   "cell_type": "code",
   "execution_count": null,
   "metadata": {},
   "outputs": [],
   "source": []
  },
  {
   "cell_type": "code",
   "execution_count": null,
   "metadata": {},
   "outputs": [],
   "source": []
  },
  {
   "cell_type": "code",
   "execution_count": 521,
   "metadata": {},
   "outputs": [
    {
     "data": {
      "text/plain": [
       "[(a : b : 1), (a : -b : 1)]"
      ]
     },
     "execution_count": 521,
     "metadata": {},
     "output_type": "execute_result"
    }
   ],
   "source": [
    "sage: x = polygen(QQ);  K.<a> = NumberField(x^2 - 3*x + 3)\n",
    "p = polygen(K)\n",
    "L.<b> = NumberField(p^2 - h(a))\n",
    "X13.change_ring(L).lift_x(a,all=True)"
   ]
  },
  {
   "cell_type": "code",
   "execution_count": 410,
   "metadata": {},
   "outputs": [
    {
     "data": {
      "text/plain": [
       "0"
      ]
     },
     "execution_count": 410,
     "metadata": {},
     "output_type": "execute_result"
    }
   ],
   "source": [
    "jmap(j10.subs(X=a,Y=-101283872))"
   ]
  }
 ],
 "metadata": {
  "kernelspec": {
   "display_name": "SageMath 9.2.rc3",
   "language": "sage",
   "name": "sagemath"
  },
  "language_info": {
   "codemirror_mode": {
    "name": "ipython",
    "version": 3
   },
   "file_extension": ".py",
   "mimetype": "text/x-python",
   "name": "python",
   "nbconvert_exporter": "python",
   "pygments_lexer": "ipython3",
   "version": "3.8.6"
  },
  "varInspector": {
   "cols": {
    "lenName": 16,
    "lenType": 16,
    "lenVar": 40
   },
   "kernels_config": {
    "python": {
     "delete_cmd_postfix": "",
     "delete_cmd_prefix": "del ",
     "library": "var_list.py",
     "varRefreshCmd": "print(var_dic_list())"
    },
    "r": {
     "delete_cmd_postfix": ") ",
     "delete_cmd_prefix": "rm(",
     "library": "var_list.r",
     "varRefreshCmd": "cat(var_dic_list()) "
    }
   },
   "types_to_exclude": [
    "module",
    "function",
    "builtin_function_or_method",
    "instance",
    "_Feature"
   ],
   "window_display": false
  }
 },
 "nbformat": 4,
 "nbformat_minor": 2
}
