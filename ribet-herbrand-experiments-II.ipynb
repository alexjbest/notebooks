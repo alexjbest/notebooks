{
 "cells": [
  {
   "cell_type": "markdown",
   "metadata": {},
   "source": [
    "Last time we looked at a small example of a modular form  constructed by Ribet, when the prime 37 divides the Bernoulli number 32.\n",
    "Ribet constructs a Galois representation using this modular form via Eichler-Shimura to prove his theorem. This passes through an abelian variety.\n",
    "So in order to understand the Galois representation it might be helpful to understand the abelian variety better."
   ]
  },
  {
   "cell_type": "code",
   "execution_count": null,
   "metadata": {},
   "outputs": [],
   "source": [
    "def find_ribet(N,k):\n",
    "    S = CuspForms(Gamma1(N))\n",
    "    for f in S.newforms('a'):\n",
    "        H = f.hecke_eigenvalue_field()\n",
    "        if H is QQ:\n",
    "            ps = [N]\n",
    "            HNs = [GF(N)]\n",
    "        else:\n",
    "            ps = H.primes_above(N)\n",
    "            HNs = [p.residue_field() for p in ps]\n",
    "        for p,HN in zip(ps, HNs):\n",
    "            for l in prime_range(100):\n",
    "                if l == 37:\n",
    "                    continue\n",
    "                if HN(f[l]) != 1 + l^(k-1):\n",
    "                    break\n",
    "            else:\n",
    "                return (p,f)\n",
    "p,f = find_ribet(37, 32)\n",
    "f"
   ]
  },
  {
   "cell_type": "markdown",
   "metadata": {},
   "source": [
    "Sage has a lot of support for these modular abelian varieties"
   ]
  },
  {
   "cell_type": "code",
   "execution_count": null,
   "metadata": {},
   "outputs": [],
   "source": [
    "Af = f.abelian_variety(); Af"
   ]
  },
  {
   "cell_type": "markdown",
   "metadata": {},
   "source": [
    "Try typing `Af.` and hitting tab and seeing what comes up :)"
   ]
  },
  {
   "cell_type": "markdown",
   "metadata": {},
   "source": [
    "We can look up the frobenius polynomials of the reductions mod p."
   ]
  },
  {
   "cell_type": "code",
   "execution_count": null,
   "metadata": {},
   "outputs": [],
   "source": [
    "Af.frobenius_polynomial(2)"
   ]
  },
  {
   "cell_type": "code",
   "execution_count": null,
   "metadata": {},
   "outputs": [],
   "source": [
    "Af.frobenius_polynomial(3)"
   ]
  },
  {
   "cell_type": "code",
   "execution_count": null,
   "metadata": {},
   "outputs": [],
   "source": [
    "Af.frobenius_polynomial(5)"
   ]
  },
  {
   "cell_type": "markdown",
   "metadata": {},
   "source": [
    "These abelian varieties over $\\mathbf F_p$ we can look up in the LMFDB to find\n",
    "\n",
    "https://www.lmfdb.org/Variety/Abelian/Fq/4/2/a_d_a_f\n",
    "\n",
    "https://www.lmfdb.org/Variety/Abelian/Fq/4/3/ac_a_e_af\n",
    "\n",
    "https://www.lmfdb.org/Variety/Abelian/Fq/4/5/g_v_cc_em"
   ]
  },
  {
   "cell_type": "markdown",
   "metadata": {},
   "source": [
    "Question 1\n",
    "-----------\n",
    "Can you verify that $A_f$ is $\\mathbf Q$-simple?"
   ]
  },
  {
   "cell_type": "markdown",
   "metadata": {},
   "source": [
    "Question 2\n",
    "-----------\n",
    "What would you conjecture that $\\#A_f(\\mathbf Q)_{tors}$ is?"
   ]
  },
  {
   "cell_type": "markdown",
   "metadata": {},
   "source": [
    "Question 3\n",
    "-----------\n",
    "Howe and Zhu (On the Existence of Absolutely Simple Abelian Varieties of a Given Dimension over an Arbitrary Field) give an especially simple criterion for an abelian variety over a finite field to be absolutely simple.\n",
    "\n",
    "Lemma: Let $q$ be $a$ prime power and let $n>2$ be an integer. Suppose $\\pi$ is an ordinary Weil q-number, let $K=\\mathbf{Q}(\\pi),$ let $K^{+}$ be the maximal real subfield of $K$, and let $n=\\left[K^{+}:\\mathbf Q\\right]$. Suppose that\n",
    "1. the minimal polynomial of $\\pi$ is not of the form $x^{2 n}+a x^{n}+q^{n}$,\n",
    "\n",
    "2. the field $K^{+}$ has no proper subfields other than $\\mathbf{Q}$, and\n",
    "\n",
    "3. the field $K^{+}$ is not the maximal real subfield of a cyclotomic field.\n",
    "\n",
    "Then the isogeny class corresponding to $\\pi$ consists of absolutely simple varieties.\n",
    "\n",
    "Can you check if $A_f$ seems to be $\\overline{\\mathbf Q}$-simple or not?\n",
    "\n",
    "If not over what field might it split?"
   ]
  },
  {
   "cell_type": "markdown",
   "metadata": {},
   "source": [
    "Question 4\n",
    "-----------\n",
    "How much of BSD can you verify for $\\#A_f(\\mathbf Q)$?"
   ]
  }
 ],
 "metadata": {
  "kernelspec": {
   "display_name": "SageMath 9.2.rc3",
   "language": "sage",
   "name": "sagemath"
  },
  "varInspector": {
   "cols": {
    "lenName": 16,
    "lenType": 16,
    "lenVar": 40
   },
   "kernels_config": {
    "python": {
     "delete_cmd_postfix": "",
     "delete_cmd_prefix": "del ",
     "library": "var_list.py",
     "varRefreshCmd": "print(var_dic_list())"
    },
    "r": {
     "delete_cmd_postfix": ") ",
     "delete_cmd_prefix": "rm(",
     "library": "var_list.r",
     "varRefreshCmd": "cat(var_dic_list()) "
    }
   },
   "types_to_exclude": [
    "module",
    "function",
    "builtin_function_or_method",
    "instance",
    "_Feature"
   ],
   "window_display": false
  }
 },
 "nbformat": 4,
 "nbformat_minor": 4
}
