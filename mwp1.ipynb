{
 "cells": [
  {
   "cell_type": "code",
   "execution_count": 20,
   "metadata": {},
   "outputs": [
    {
     "name": "stdout",
     "output_type": "stream",
     "text": [
      "defaultdict(<class 'list'>, {1: [(0, 0, 0), (0, 1, 5), (0, 2, 4), (0, 3, 3), (0, 4, 2), (0, 5, 1), (1, 0, 3), (1, 1, 2), (1, 2, 1), (1, 3, 0), (1, 4, 5), (1, 5, 4)], 2: [(0, 0, 1), (0, 1, 0), (0, 2, 5), (0, 3, 4), (0, 4, 3), (0, 5, 2), (1, 0, 4), (1, 1, 3), (1, 2, 2), (1, 3, 1), (1, 4, 0), (1, 5, 5)], 4: [(0, 0, 2), (0, 1, 1), (0, 2, 0), (0, 3, 5), (0, 4, 4), (0, 5, 3), (1, 0, 5), (1, 1, 4), (1, 2, 3), (1, 3, 2), (1, 4, 1), (1, 5, 0)], 8: [(0, 0, 3), (0, 1, 2), (0, 2, 1), (0, 3, 0), (0, 4, 5), (0, 5, 4), (1, 0, 0), (1, 1, 5), (1, 2, 4), (1, 3, 3), (1, 4, 2), (1, 5, 1)], 7: [(0, 0, 4), (0, 1, 3), (0, 2, 2), (0, 3, 1), (0, 4, 0), (0, 5, 5), (1, 0, 1), (1, 1, 0), (1, 2, 5), (1, 3, 4), (1, 4, 3), (1, 5, 2)], 5: [(0, 0, 5), (0, 1, 4), (0, 2, 3), (0, 3, 2), (0, 4, 1), (0, 5, 0), (1, 0, 2), (1, 1, 1), (1, 2, 0), (1, 3, 5), (1, 4, 4), (1, 5, 3)]})\n"
     ]
    },
    {
     "data": {
      "text/plain": [
       "432"
      ]
     },
     "execution_count": 20,
     "metadata": {},
     "output_type": "execute_result"
    }
   ],
   "source": [
    "from collections import defaultdict\n",
    "p = 3\n",
    "N = 2\n",
    "#x =  3 + 5^2 + 2*5^3 + 5^4 + 3*5^5 + 5^6 + 5^7 + 5^9 + 2*5^10 + 3*5^11 + 2*5^12 + 3*5^13 + 3*5^14 + 4*5^15 + 5^16 + 4*5^17 + 3*5^18 + 3*5^21 + O(5^22)\n",
    "x =  2 + 5 +  5^2 + 2*5^3 + 5^4 + 3*5^5 + 5^6 + 5^7 + 5^9 + 2*5^10 + 3*5^11 + 2*5^12 + 3*5^13 + 3*5^14 + 4*5^15 + 5^16 + 4*5^17 + 3*5^18 + 3*5^21 + O(5^22)\n",
    "x = 2 + O(p^N)\n",
    "x =  2 + 3  + O(p^N)\n",
    "actuals = [-1,2,1/2]\n",
    "gens = [-1] + [2,11]\n",
    "R = Integers(p^N)\n",
    "actualinds = [tuple([sign(x)]) + tuple(x.valuation(g) for g in gens[1:]) for x in actuals]\n",
    "Rgens = [R(g) for g in gens]\n",
    "indices = set()\n",
    "#phipN = euler_phi(p^N)\n",
    "ordsmodpN = [g.multiplicative_order() for g in Rgens]\n",
    "allpows = defaultdict(list)\n",
    "for l in cartesian_product([range(gord) for gord in ordsmodpN]):\n",
    "    allpows[prod(g^i for g,i in zip(Rgens, l))].append(l)\n",
    "#for l1 in cartesian_product([range(phipN) for g in gens]):\n",
    "#    for l2 in cartesian_product([range(phipN) for g in gens]):\n",
    "#        if (prod(g^i for g,i in zip(gens,l1))) == x and (prod(g^i for g,i in zip(gens,l2))) == 1 - x:\n",
    "#            indices.add((l1,l2))\n",
    "print(allpows)\n",
    "indices = []\n",
    "for l in allpows:\n",
    "    if 1 - l in allpows:\n",
    "        indices += list(cartesian_product([allpows[l],allpows[1-l]]))\n",
    "len(indices)"
   ]
  },
  {
   "cell_type": "code",
   "execution_count": 34,
   "metadata": {},
   "outputs": [
    {
     "name": "stdout",
     "output_type": "stream",
     "text": [
      "[(-1, 0), (1, 1), (1, -1)]\n"
     ]
    }
   ],
   "source": [
    "print(actualinds)"
   ]
  },
  {
   "cell_type": "code",
   "execution_count": 9,
   "metadata": {},
   "outputs": [
    {
     "data": {
      "text/plain": [
       "[7, 13, 19, 31, 37, 43, 61, 67, 73, 79, 97]"
      ]
     },
     "execution_count": 9,
     "metadata": {},
     "output_type": "execute_result"
    }
   ],
   "source": [
    "[P for P in prime_range(100) if P % 6 == 1]"
   ]
  },
  {
   "cell_type": "code",
   "execution_count": 22,
   "metadata": {},
   "outputs": [
    {
     "name": "stdout",
     "output_type": "stream",
     "text": [
      "using q = 7\n",
      "using q = 13\n",
      "[]\n"
     ]
    }
   ],
   "source": [
    "for q in [7,13]:#, 13, 19]:#[41, 61, 101,401]:\n",
    "    print(\"using q =\",q)\n",
    "    R = Integers(q)\n",
    "    Rgens = [R(g) for g in gens]\n",
    "    ordsmodq = [g.multiplicative_order() for g in Rgens]\n",
    "    gcds = [gcd(a,b) for a,b in zip(ordsmodpN,ordsmodq)]\n",
    "    \n",
    "    #local = [(c, (1-c) % q) for c in range(2,q)]\n",
    "    for l1 in cartesian_product([range(gord) for gord in ordsmodq]):\n",
    "        for l2 in cartesian_product([range(gord) for gord in ordsmodq]):\n",
    "            if prod(g^i for g,i in zip(Rgens, l1)) + prod(g^i for g,i in zip(Rgens, l2)) != 1:\n",
    "                for ind1,ind2 in indices:\n",
    "                    if (tuple(a%b for a,b in zip(ind1, gcds)), tuple(a%b for a,b in zip(ind2, gcds)))\\\n",
    "                        == (tuple(a%b for a,b in zip(l1, gcds)), tuple(a%b for a,b in zip(l2, gcds))):\n",
    "                        indices.remove((ind1,ind2))\n",
    "    #foundinds = []\n",
    "    #phiq = euler_phi(q)\n",
    "    #removableinds = copy(indices)\n",
    "    #curmod = gcd(phiq, phipN)\n",
    "    #for l1 in cartesian_product([range(phiq) for g in gens]):\n",
    "    #    for l2 in cartesian_product([range(phiq) for g in gens]):\n",
    "    #        if ((prod(g^i % q for g, i in zip(gens,l1))) % q , (prod(g^i % q for g, i in zip(gens,l2))) % q) in local:\n",
    "    #            cur = ((l1[0] % phipN, l1[1] % phipN),(l2[0] % phipN, l2[1] % phipN))\n",
    "    #            if cur in removableinds:\n",
    "    #                print(\"saw\" ,cur)\n",
    "    #                removableinds.remove(cur)\n",
    "    #for ind in removableinds:\n",
    "    #    indices.remove(ind)\n",
    "print(indices)"
   ]
  },
  {
   "cell_type": "code",
   "execution_count": 11,
   "metadata": {},
   "outputs": [],
   "source": [
    "from sage.rings.number_field.S_unit_solver import construct_complement_dictionaries, compatible_systems, compatible_system_lift"
   ]
  },
  {
   "cell_type": "code",
   "execution_count": 12,
   "metadata": {},
   "outputs": [],
   "source": [
    "x = polygen(QQ)\n",
    "L = NumberField(x-1,'a')\n",
    "Sgp = L.S_unit_group(S=[2,11])"
   ]
  },
  {
   "cell_type": "code",
   "execution_count": 32,
   "metadata": {},
   "outputs": [],
   "source": [
    "aux= [7,13]#,61,101,401]\n",
    "cod  =  construct_complement_dictionaries(aux,Sgp)"
   ]
  },
  {
   "cell_type": "code",
   "execution_count": 58,
   "metadata": {},
   "outputs": [],
   "source": [
    "cod2 = construct_complement_dictionaries([401],Sgp)"
   ]
  },
  {
   "cell_type": "code",
   "execution_count": 59,
   "metadata": {},
   "outputs": [],
   "source": [
    "cod[401] = cod2[401]"
   ]
  },
  {
   "cell_type": "code",
   "execution_count": 24,
   "metadata": {},
   "outputs": [],
   "source": [
    "R = Integers(9)\n",
    "Rgens = [R(-1),R(2),R(11)]"
   ]
  },
  {
   "cell_type": "code",
   "execution_count": 42,
   "metadata": {},
   "outputs": [
    {
     "name": "stdout",
     "output_type": "stream",
     "text": [
      "Ring of integers modulo 7\n",
      "7 12\n",
      "12\n",
      "Ring of integers modulo 6\n",
      "13 9\n",
      "9\n"
     ]
    }
   ],
   "source": [
    "for pp in cod.keys():\n",
    "    R = Integers(gcd(euler_phi(3^7), pp-1)*pp//(pp-1))\n",
    "    print (R)\n",
    "    Rgens = [R(-1),R(2),R(11)]\n",
    "    print(pp,len(cod[pp]))\n",
    "    cod[pp] = dict([(a,cod[pp][a]) for a in cod[pp] if prod(g^i for g,i in zip(Rgens, a)) == 2 + 3])\n",
    "    print(len(cod[pp]))\n"
   ]
  },
  {
   "cell_type": "code",
   "execution_count": 39,
   "metadata": {},
   "outputs": [],
   "source": [
    "#en(cod[401])"
   ]
  },
  {
   "cell_type": "code",
   "execution_count": 40,
   "metadata": {},
   "outputs": [
    {
     "data": {
      "text/plain": [
       "[[[(1, 0, 2), (1, 0, 4)], [(1, 0, 8), (1, 0, 4)]],\n",
       " [[(1, 0, 2), (1, 0, 4)], [(1, 0, 8), (1, 6, 10)]],\n",
       " [[(1, 0, 2), (1, 3, 1)], [(1, 0, 8), (1, 3, 7)]],\n",
       " [[(1, 0, 2), (1, 3, 1)], [(1, 0, 8), (1, 9, 1)]],\n",
       " [[(1, 0, 2), (1, 1, 2)], [(1, 0, 2), (1, 1, 2)]],\n",
       " [[(1, 0, 2), (1, 1, 2)], [(1, 0, 2), (1, 7, 8)]],\n",
       " [[(1, 0, 2), (1, 4, 5)], [(1, 0, 2), (1, 4, 5)]],\n",
       " [[(1, 0, 2), (1, 4, 5)], [(1, 0, 2), (1, 10, 11)]]]"
      ]
     },
     "execution_count": 40,
     "metadata": {},
     "output_type": "execute_result"
    }
   ],
   "source": [
    "cs = compatible_systems(aux, cod)\n",
    "cs"
   ]
  },
  {
   "cell_type": "code",
   "execution_count": 41,
   "metadata": {},
   "outputs": [
    {
     "data": {
      "text/plain": [
       "set()"
      ]
     },
     "execution_count": 41,
     "metadata": {},
     "output_type": "execute_result"
    }
   ],
   "source": [
    "ss =set()\n",
    "for system in cs:\n",
    "    ev, cv = compatible_system_lift(system, aux)\n",
    "    #print(ev,cv,QQ( Sgp.exp( ev )) +O(5^3),QQ( Sgp.exp( cv )) +O(5^3))\n",
    "    if QQ( Sgp.exp( ev )) +O(3^2) != 5 or  QQ( Sgp.exp( ev )) +QQ( Sgp.exp( cv )) +O(3^2) != 1:\n",
    "        continue\n",
    "    ss.add((QQ( Sgp.exp( ev )) +O(3^2),QQ( Sgp.exp( cv )) +O(3^2)))\n",
    "    print((QQ( Sgp.exp( ev )) + QQ( Sgp.exp( cv )) +O(3^2)))\n",
    "ss"
   ]
  },
  {
   "cell_type": "code",
   "execution_count": 35,
   "metadata": {},
   "outputs": [
    {
     "data": {
      "text/plain": [
       "6"
      ]
     },
     "execution_count": 35,
     "metadata": {},
     "output_type": "execute_result"
    }
   ],
   "source": [
    "len(ss)"
   ]
  },
  {
   "cell_type": "code",
   "execution_count": 50,
   "metadata": {},
   "outputs": [
    {
     "data": {
      "text/plain": [
       "6"
      ]
     },
     "execution_count": 50,
     "metadata": {},
     "output_type": "execute_result"
    }
   ],
   "source": [
    "28*2 % 25"
   ]
  },
  {
   "cell_type": "code",
   "execution_count": null,
   "metadata": {},
   "outputs": [],
   "source": []
  }
 ],
 "metadata": {
  "kernelspec": {
   "display_name": "SageMath 9.1.beta4",
   "language": "sage",
   "name": "sagemath"
  },
  "language_info": {
   "codemirror_mode": {
    "name": "ipython",
    "version": 3
   },
   "file_extension": ".py",
   "mimetype": "text/x-python",
   "name": "python",
   "nbconvert_exporter": "python",
   "pygments_lexer": "ipython3",
   "version": "3.7.3"
  }
 },
 "nbformat": 4,
 "nbformat_minor": 2
}
