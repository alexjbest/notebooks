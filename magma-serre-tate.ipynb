{
 "cells": [
  {
   "cell_type": "code",
   "execution_count": 1,
   "metadata": {},
   "outputs": [
    {
     "name": "stdout",
     "output_type": "stream",
     "text": []
    }
   ],
   "source": [
    "E := EllipticCurve(\"121d1\");"
   ]
  },
  {
   "cell_type": "code",
   "execution_count": 2,
   "metadata": {},
   "outputs": [
    {
     "name": "stdout",
     "output_type": "stream",
     "text": [
      "Elliptic Curve defined by y^2 + y = x^3 - x^2 - 40*x - 221 over Rational Field\r\n"
     ]
    }
   ],
   "source": [
    "E;"
   ]
  },
  {
   "cell_type": "code",
   "execution_count": 20,
   "metadata": {},
   "outputs": [
    {
     "name": "stdout",
     "output_type": "stream",
     "text": [
      "1\r\n",
      "{@ (0 : 1 : 0) @}\r\n"
     ]
    }
   ],
   "source": [
    "#TorsionSubgroupScheme(E,5);\n",
    "Points(TorsionSubgroupScheme(E,5));"
   ]
  },
  {
   "cell_type": "code",
   "execution_count": 21,
   "metadata": {},
   "outputs": [
    {
     "name": "stdout",
     "output_type": "stream",
     "text": []
    }
   ],
   "source": [
    "E5 := ChangeRing(E, GF(5));"
   ]
  },
  {
   "cell_type": "code",
   "execution_count": 22,
   "metadata": {},
   "outputs": [
    {
     "name": "stdout",
     "output_type": "stream",
     "text": [
      "5\r\n",
      "{@ (3 : 1 : 1), (3 : 3 : 1), (4 : 1 : 1), (4 : 3 : 1), (0 : 1 : 0) @}\r\n"
     ]
    }
   ],
   "source": [
    "#TorsionSubgroupScheme(E5,5);\n",
    "Points(TorsionSubgroupScheme(E5,5));"
   ]
  },
  {
   "cell_type": "code",
   "execution_count": 23,
   "metadata": {},
   "outputs": [
    {
     "name": "stdout",
     "output_type": "stream",
     "text": [
      "[]\r\n"
     ]
    }
   ],
   "source": [
    "Points(E,3);"
   ]
  },
  {
   "cell_type": "code",
   "execution_count": 25,
   "metadata": {},
   "outputs": [
    {
     "name": "stdout",
     "output_type": "stream",
     "text": []
    }
   ],
   "source": [
    "K:=QuadraticField(-11);"
   ]
  },
  {
   "cell_type": "code",
   "execution_count": 39,
   "metadata": {},
   "outputs": [
    {
     "name": "stdout",
     "output_type": "stream",
     "text": [
      "{@ (0 : 1 : 0), (4 : 1/2*(-11*K.1 - 1) : 1), (4 : 1/2*(11*K.1 - 1) : 1), (-7 : 1/2*(-11*K.1 - 1) : 1), (-7 : 1/2*(11*K.1 - 1) : 1) @}\r\n"
     ]
    }
   ],
   "source": [
    "RationalPoints(ChangeRing(E,K) : Bound:=10);"
   ]
  },
  {
   "cell_type": "code",
   "execution_count": 41,
   "metadata": {},
   "outputs": [
    {
     "name": "stdout",
     "output_type": "stream",
     "text": [
      "[ (-7 : 1/2*(-11*K.1 - 1) : 1), (-7 : 1/2*(11*K.1 - 1) : 1) ]\r\n",
      "[ (4 : 1/2*(-11*K.1 - 1) : 1), (4 : 1/2*(11*K.1 - 1) : 1) ]\r\n"
     ]
    }
   ],
   "source": [
    "Points(E(K),-7);\n",
    "Points(E(K),4);"
   ]
  },
  {
   "cell_type": "code",
   "execution_count": 42,
   "metadata": {},
   "outputs": [
    {
     "name": "stdout",
     "output_type": "stream",
     "text": [
      "Intrinsic 'WeilPairing'\r\n",
      "\r\n",
      "Signatures:\r\n",
      "\r\n",
      "(P::JacHypPt, Q::JacHypPt, m::RngIntElt) -> RngElt\r\n",
      "\r\n",
      "The Weil Pairing e_m(P, Q) where P and Q are in J[m].\r\n",
      "\r\n",
      "(P::PtEll, Q::PtEll, m::RngIntElt) -> RngElt\r\n",
      "\r\n",
      "The Weil Pairing e_m(P, Q) where P and Q are in E[m].\r\n",
      "\r\n",
      "\r\n"
     ]
    }
   ],
   "source": [
    "WeilPairing;"
   ]
  },
  {
   "cell_type": "code",
   "execution_count": null,
   "metadata": {},
   "outputs": [],
   "source": []
  }
 ],
 "metadata": {
  "kernelspec": {
   "display_name": "Magma",
   "language": "magma",
   "name": "magma"
  },
  "language_info": {
   "codemirror_mode": "magma",
   "file_extension": ".mgm",
   "mimetype": "text/x-sh",
   "name": "magma"
  }
 },
 "nbformat": 4,
 "nbformat_minor": 2
}
