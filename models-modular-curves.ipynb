{
 "cells": [
  {
   "cell_type": "markdown",
   "metadata": {},
   "source": [
    "## Computing models of modular curves\n",
    "\n",
    "In this notebook we compute explicit models of modular curves via modular forms.\n",
    "\n",
    "Lets start with $X_0(11)$ as this is the first modular curve of genus 1.\n",
    "\n",
    "To construct an explicit embedding of this  curve into projective space we use modualar forms, those for $\\Gamma_0(11)$ can be computed via:"
   ]
  },
  {
   "cell_type": "code",
   "execution_count": 3,
   "metadata": {},
   "outputs": [
    {
     "data": {
      "text/plain": [
       "Modular Forms space of dimension 2 for Congruence Subgroup Gamma0(11) of weight 2 over Rational Field"
      ]
     },
     "execution_count": 3,
     "metadata": {},
     "output_type": "execute_result"
    }
   ],
   "source": [
    "M = ModularForms(11); M"
   ]
  },
  {
   "cell_type": "markdown",
   "metadata": {},
   "source": [
    "there is a 2-dimensional space of such forms, lets call basis elements $f$ and $g$"
   ]
  },
  {
   "cell_type": "code",
   "execution_count": 7,
   "metadata": {},
   "outputs": [
    {
     "data": {
      "text/html": [
       "<html><script type=\"math/tex; mode=display\">\\newcommand{\\Bold}[1]{\\mathbf{#1}}q - 2q^{2} - q^{3} + 2q^{4} + q^{5} + O(q^{6})</script></html>"
      ],
      "text/plain": [
       "q - 2*q^2 - q^3 + 2*q^4 + q^5 + O(q^6)"
      ]
     },
     "metadata": {},
     "output_type": "display_data"
    },
    {
     "data": {
      "text/html": [
       "<html><script type=\"math/tex; mode=display\">\\newcommand{\\Bold}[1]{\\mathbf{#1}}1 + \\frac{12}{5}q + \\frac{36}{5}q^{2} + \\frac{48}{5}q^{3} + \\frac{84}{5}q^{4} + \\frac{72}{5}q^{5} + O(q^{6})</script></html>"
      ],
      "text/plain": [
       "1 + 12/5*q + 36/5*q^2 + 48/5*q^3 + 84/5*q^4 + 72/5*q^5 + O(q^6)"
      ]
     },
     "metadata": {},
     "output_type": "display_data"
    }
   ],
   "source": [
    "f,g = M.basis()\n",
    "show(f)\n",
    "show(g)"
   ]
  },
  {
   "cell_type": "markdown",
   "metadata": {},
   "source": [
    "Note that $f$ is a cusp form but $g$ is not."
   ]
  },
  {
   "cell_type": "code",
   "execution_count": 10,
   "metadata": {},
   "outputs": [
    {
     "data": {
      "text/plain": [
       "(True, False)"
      ]
     },
     "execution_count": 10,
     "metadata": {},
     "output_type": "execute_result"
    }
   ],
   "source": [
    "f.is_cuspidal(),g.is_cuspidal()"
   ]
  },
  {
   "cell_type": "markdown",
   "metadata": {},
   "source": [
    "As differentials on the curve we have\n",
    "$$\\omega_1 = f(q) \\frac{\\mathrm{d} q}{q},\\,\\omega_2 = g(q) \\frac{\\mathrm{d} q}{q}$$\n",
    "where $\\omega_1$ is regular at the cusp $\\infty$ and $\\omega_2$ has a pole at $\\infty$.\n",
    "\n",
    "So in order to construct a model of this genus $1$ curve we will assume we have functions $x,y$ on the curve which as in a genus $1$ curve satisfy $y^2 = h(x)$ for a quartic polynomial $h(x)$.\n",
    "\n",
    "Then $\\mathrm d x/y$ and $x\\mathrm d x/y$ are differentials on the curve which we can equate with $\\omega_1, \\omega_2$ to solve for $x,y$.\n",
    "\n",
    "If\n",
    "$$\\omega_1 = \\frac{\\mathrm{d} x}{y},\\,\\omega_2 = \\frac{x\\mathrm{d} x}{y}$$\n",
    "then\n",
    "$$x = \\omega_2/\\omega_1 = g(q)\\mathrm d q/f (q) \\mathrm d q = g(q)/f(q)$$\n",
    "and \n",
    "$$y = \\mathrm d x /\\omega_1 = q \\mathrm d x /f (q)$$"
   ]
  },
  {
   "cell_type": "code",
   "execution_count": 13,
   "metadata": {},
   "outputs": [
    {
     "data": {
      "text/html": [
       "<html><script type=\"math/tex; mode=display\">\\newcommand{\\Bold}[1]{\\mathbf{#1}}\\frac{1}{q} + \\frac{22}{5} + 17q + 46q^{2} + 116q^{3} + 252q^{4} + 533q^{5} + 1034q^{6} + 1961q^{7} + 3540q^{8} + 6253q^{9} + 10654q^{10} + 17897q^{11} + 29284q^{12} + 47265q^{13} + 74868q^{14} + 117158q^{15} + 180608q^{16} + 275562q^{17} + O(q^{18})</script></html>"
      ],
      "text/plain": [
       "q^-1 + 22/5 + 17*q + 46*q^2 + 116*q^3 + 252*q^4 + 533*q^5 + 1034*q^6 + 1961*q^7 + 3540*q^8 + 6253*q^9 + 10654*q^10 + 17897*q^11 + 29284*q^12 + 47265*q^13 + 74868*q^14 + 117158*q^15 + 180608*q^16 + 275562*q^17 + O(q^18)"
      ]
     },
     "metadata": {},
     "output_type": "display_data"
    }
   ],
   "source": [
    "x = g.qexp(20)/f.qexp(20)\n",
    "show(x)"
   ]
  },
  {
   "cell_type": "code",
   "execution_count": 16,
   "metadata": {},
   "outputs": [
    {
     "data": {
      "text/html": [
       "<html><script type=\"math/tex; mode=display\">\\newcommand{\\Bold}[1]{\\mathbf{#1}}\\frac{-1}{q^{2}} + \\frac{-2}{q} + 12 + 116q + 597q^{2} + 2298q^{3} + 7616q^{4} + 22396q^{5} + 60732q^{6} + 153682q^{7} + 368584q^{8} + 843150q^{9} + 1855509q^{10} + 3943764q^{11} + 8136120q^{12} + 16338586q^{13} + 32038879q^{14} + 61475598q^{15} + 115674856q^{16} + O(q^{17})</script></html>"
      ],
      "text/plain": [
       "-q^-2 - 2*q^-1 + 12 + 116*q + 597*q^2 + 2298*q^3 + 7616*q^4 + 22396*q^5 + 60732*q^6 + 153682*q^7 + 368584*q^8 + 843150*q^9 + 1855509*q^10 + 3943764*q^11 + 8136120*q^12 + 16338586*q^13 + 32038879*q^14 + 61475598*q^15 + 115674856*q^16 + O(q^17)"
      ]
     },
     "metadata": {},
     "output_type": "display_data"
    }
   ],
   "source": [
    "q = x.parent().gen()\n",
    "y = q*x.derivative()/f.qexp(20)\n",
    "show(y)"
   ]
  },
  {
   "cell_type": "markdown",
   "metadata": {},
   "source": [
    "Now if we assume that we have an equation of the form\n",
    "$$y^2 = h(x)$$\n",
    "for a quartic $h(x)$ we have to solve for the coefficients of $h$, given $y^2, x^4, x^3, x^2, x, 1$.\n",
    "\n",
    "To do this we construct the relevant linear system, including terms up to degree $q^{-6}$."
   ]
  },
  {
   "cell_type": "code",
   "execution_count": 24,
   "metadata": {},
   "outputs": [
    {
     "data": {
      "text/html": [
       "<html><script type=\"math/tex; mode=display\">\\newcommand{\\Bold}[1]{\\mathbf{#1}}\\mathrm{RowSpan}_{\\Bold{Q}}\\left(\\begin{array}{rrrrrr}\n",
       "1 & -1 & \\frac{68}{5} & \\frac{616}{25} & \\frac{252}{125} & \\frac{1504}{625}\n",
       "\\end{array}\\right)</script></html>"
      ],
      "text/plain": [
       "Vector space of degree 6 and dimension 1 over Rational Field\n",
       "Basis matrix:\n",
       "[       1       -1     68/5   616/25  252/125 1504/625]"
      ]
     },
     "metadata": {},
     "output_type": "display_data"
    }
   ],
   "source": [
    "def coeffs(G):                                                     \n",
    "    return ([0]*(6+G.valuation()) +G.coefficients())[:16]\n",
    "M = Matrix(list(map(coeffs, [y^2, x^4, x^3, x^2, x])) + [6*[0] + [1] + 9*[0]])\n",
    "show(M.kernel())"
   ]
  },
  {
   "cell_type": "markdown",
   "metadata": {},
   "source": [
    "Hence the equation of our curve is\n",
    "$$\n",
    "y^2 = x^4 - \\frac{68}5 x^3 - \\frac{616}{25}x^2 - \\frac{252}{125}x - \\frac{1504}{625}\n",
    "$$\n",
    "or after a change of variables ($y \\mapsto y/25,x \\mapsto x/5$)\n",
    "$$\n",
    "y^2 = x^4 - 68 x^3 - 616x^2 - 252x - 1504\n",
    "$$\n",
    "we should do a little more cleanup to get to a nicer model with an odd degree polynomial in $x$. This amounts to moving a Weierstrass point to infinity.\n",
    "\n",
    "Do we have any Weierstrass points here?:"
   ]
  },
  {
   "cell_type": "code",
   "execution_count": 25,
   "metadata": {},
   "outputs": [
    {
     "data": {
      "text/plain": [
       "(x + 8) * (x^3 - 76*x^2 - 8*x - 188)"
      ]
     },
     "execution_count": 25,
     "metadata": {},
     "output_type": "execute_result"
    }
   ],
   "source": [
    "X = polygen(QQ)\n",
    "(X^4 - 68*X^3 - 616*X^2 - 252*X - 1504).factor()"
   ]
  },
  {
   "cell_type": "markdown",
   "metadata": {},
   "source": [
    "Yes $x = -8$ is a rational Weierstrass point, to get the equation of the new curve we shift this point to $0$ and then take $x\\mapsto1/x$, this has the effect of reversing the polynomial $h$."
   ]
  },
  {
   "cell_type": "code",
   "execution_count": 29,
   "metadata": {},
   "outputs": [
    {
     "data": {
      "text/plain": [
       "-5500*x^3 + 1400*x^2 - 100*x + 1"
      ]
     },
     "execution_count": 29,
     "metadata": {},
     "output_type": "execute_result"
    }
   ],
   "source": [
    "(X^4 - 68*X^3 - 616*X^2 - 252*X - 1504).subs({X:X-8}).reverse()"
   ]
  },
  {
   "cell_type": "markdown",
   "metadata": {},
   "source": [
    "$$ y^2 = -5500x^3 + 1400x^2 - 100x + 1$$\n",
    "is now our model, one last change of variables gives."
   ]
  },
  {
   "cell_type": "code",
   "execution_count": 58,
   "metadata": {},
   "outputs": [
    {
     "data": {
      "text/plain": [
       "x^3 + 1400*x^2 + 550000*x + 30250000"
      ]
     },
     "execution_count": 58,
     "metadata": {},
     "output_type": "execute_result"
    }
   ],
   "source": [
    "(X^4 - 68*X^3 - 616*X^2 - 252*X - 1504).subs({X:X-8}).reverse().subs({X:X/(-5500)})*(-5500)^2"
   ]
  },
  {
   "cell_type": "markdown",
   "metadata": {},
   "source": [
    "$$y^2 =x^3 + 1400x^2 + 550000x + 30250000$$\n",
    "Which, while the coefficients are a little excessive is in short weierstrass form, so we can use the standard Sage elliptic curve constructor now:"
   ]
  },
  {
   "cell_type": "code",
   "execution_count": 38,
   "metadata": {},
   "outputs": [
    {
     "data": {
      "text/html": [
       "<html><script type=\"math/tex; mode=display\">\\newcommand{\\Bold}[1]{\\mathbf{#1}}y^2 = x^{3} + 1400 x^{2} + 550000 x + 30250000 </script></html>"
      ],
      "text/plain": [
       "Elliptic Curve defined by y^2 = x^3 + 1400*x^2 + 550000*x + 30250000 over Rational Field"
      ]
     },
     "metadata": {},
     "output_type": "display_data"
    }
   ],
   "source": [
    "E = EllipticCurve([0, 1400, 0, 550000, 30250000]); show(E)"
   ]
  },
  {
   "cell_type": "markdown",
   "metadata": {},
   "source": [
    "We can check that the conductor is $11$, and ask for a minimal model at this point:"
   ]
  },
  {
   "cell_type": "code",
   "execution_count": 37,
   "metadata": {},
   "outputs": [
    {
     "data": {
      "text/plain": [
       "11"
      ]
     },
     "execution_count": 37,
     "metadata": {},
     "output_type": "execute_result"
    }
   ],
   "source": [
    "E.conductor()"
   ]
  },
  {
   "cell_type": "code",
   "execution_count": 43,
   "metadata": {},
   "outputs": [
    {
     "data": {
      "text/plain": [
       "Elliptic Curve defined by y^2 + y = x^3 - x^2 - 10*x - 20 over Rational Field"
      ]
     },
     "execution_count": 43,
     "metadata": {},
     "output_type": "execute_result"
    }
   ],
   "source": [
    "E.minimal_model()"
   ]
  },
  {
   "cell_type": "code",
   "execution_count": 45,
   "metadata": {},
   "outputs": [
    {
     "data": {
      "image/png": "[encoded data removed]",
      "text/plain": [
       "Graphics object consisting of 1 graphics primitive"
      ]
     },
     "execution_count": 45,
     "metadata": {},
     "output_type": "execute_result"
    }
   ],
   "source": [
    "E.minimal_model().plot()"
   ]
  },
  {
   "cell_type": "code",
   "execution_count": 49,
   "metadata": {},
   "outputs": [
    {
     "data": {
      "text/plain": [
       "[(0 : -5500 : 1),\n",
       " (0 : 1 : 0),\n",
       " (0 : 5500 : 1),\n",
       " (1100 : -60500 : 1),\n",
       " (1100 : 60500 : 1)]"
      ]
     },
     "execution_count": 49,
     "metadata": {},
     "output_type": "execute_result"
    }
   ],
   "source": [
    "E.torsion_points()"
   ]
  }
 ],
 "metadata": {
  "kernelspec": {
   "display_name": "SageMath 9.1.beta4",
   "language": "sage",
   "name": "sagemath"
  },
  "language_info": {
   "codemirror_mode": {
    "name": "ipython",
    "version": 3
   },
   "file_extension": ".py",
   "mimetype": "text/x-python",
   "name": "python",
   "nbconvert_exporter": "python",
   "pygments_lexer": "ipython3",
   "version": "3.7.3"
  }
 },
 "nbformat": 4,
 "nbformat_minor": 2
}
