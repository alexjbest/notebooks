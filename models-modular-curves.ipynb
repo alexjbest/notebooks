{
 "cells": [
  {
   "cell_type": "markdown",
   "metadata": {},
   "source": [
    "## Computing models of modular curves\n",
    "\n",
    "In this notebook we compute explicit models of modular curves via modular forms.\n",
    "\n",
    "Lets start with $X_0(11)$ as this is the first modular curve of genus 1.\n",
    "\n",
    "To construct an explicit embedding of this  curve into projective space we use modular forms, those for $\\Gamma_0(11)$ can be computed via:"
   ]
  },
  {
   "cell_type": "code",
   "execution_count": 2,
   "metadata": {},
   "outputs": [
    {
     "data": {
      "text/plain": [
       "Modular Forms space of dimension 2 for Congruence Subgroup Gamma0(11) of weight 2 over Rational Field"
      ]
     },
     "execution_count": 2,
     "metadata": {},
     "output_type": "execute_result"
    }
   ],
   "source": [
    "M = ModularForms(11); M"
   ]
  },
  {
   "cell_type": "markdown",
   "metadata": {},
   "source": [
    "there is a 2-dimensional space of such forms, lets call basis elements $f$ and $g$"
   ]
  },
  {
   "cell_type": "code",
   "execution_count": 3,
   "metadata": {},
   "outputs": [
    {
     "data": {
      "text/html": [
       "<html><script type=\"math/tex; mode=display\">\\newcommand{\\Bold}[1]{\\mathbf{#1}}q - 2q^{2} - q^{3} + 2q^{4} + q^{5} + O(q^{6})</script></html>"
      ],
      "text/plain": [
       "q - 2*q^2 - q^3 + 2*q^4 + q^5 + O(q^6)"
      ]
     },
     "metadata": {},
     "output_type": "display_data"
    },
    {
     "data": {
      "text/html": [
       "<html><script type=\"math/tex; mode=display\">\\newcommand{\\Bold}[1]{\\mathbf{#1}}1 + \\frac{12}{5}q + \\frac{36}{5}q^{2} + \\frac{48}{5}q^{3} + \\frac{84}{5}q^{4} + \\frac{72}{5}q^{5} + O(q^{6})</script></html>"
      ],
      "text/plain": [
       "1 + 12/5*q + 36/5*q^2 + 48/5*q^3 + 84/5*q^4 + 72/5*q^5 + O(q^6)"
      ]
     },
     "metadata": {},
     "output_type": "display_data"
    }
   ],
   "source": [
    "f,g = M.basis()\n",
    "show(f)\n",
    "show(g)"
   ]
  },
  {
   "cell_type": "markdown",
   "metadata": {},
   "source": [
    "Note that $f$ is a cusp form but $g$ is not."
   ]
  },
  {
   "cell_type": "code",
   "execution_count": 4,
   "metadata": {},
   "outputs": [
    {
     "data": {
      "text/plain": [
       "(True, False)"
      ]
     },
     "execution_count": 4,
     "metadata": {},
     "output_type": "execute_result"
    }
   ],
   "source": [
    "f.is_cuspidal(),g.is_cuspidal()"
   ]
  },
  {
   "cell_type": "markdown",
   "metadata": {},
   "source": [
    "As differentials on the curve we have\n",
    "$$\\omega_1 = f(q) \\frac{\\mathrm{d} q}{q},\\,\\omega_2 = g(q) \\frac{\\mathrm{d} q}{q}$$\n",
    "where $\\omega_1$ is regular at the cusp $\\infty$ and $\\omega_2$ has a pole at $\\infty$.\n",
    "\n",
    "So in order to construct a model of this genus $1$ curve we will assume we have functions $x,y$ on the curve which as in a genus $1$ curve satisfy $y^2 = h(x)$ for a quartic polynomial $h(x)$.\n",
    "\n",
    "Then $\\mathrm d x/y$ and $x\\mathrm d x/y$ are differentials on the curve which we can equate with $\\omega_1, \\omega_2$ to solve for $x,y$.\n",
    "\n",
    "If\n",
    "$$\\omega_1 = \\frac{\\mathrm{d} x}{y},\\,\\omega_2 = \\frac{x\\mathrm{d} x}{y}$$\n",
    "then\n",
    "$$x = \\omega_2/\\omega_1 = g(q)\\mathrm d q/f (q) \\mathrm d q = g(q)/f(q)$$\n",
    "and \n",
    "$$y = \\mathrm d x /\\omega_1 = q \\mathrm d x /f (q)$$"
   ]
  },
  {
   "cell_type": "code",
   "execution_count": 5,
   "metadata": {},
   "outputs": [
    {
     "data": {
      "text/html": [
       "<html><script type=\"math/tex; mode=display\">\\newcommand{\\Bold}[1]{\\mathbf{#1}}\\frac{1}{q} + \\frac{22}{5} + 17q + 46q^{2} + 116q^{3} + 252q^{4} + 533q^{5} + 1034q^{6} + 1961q^{7} + 3540q^{8} + 6253q^{9} + 10654q^{10} + 17897q^{11} + 29284q^{12} + 47265q^{13} + 74868q^{14} + 117158q^{15} + 180608q^{16} + 275562q^{17} + O(q^{18})</script></html>"
      ],
      "text/plain": [
       "q^-1 + 22/5 + 17*q + 46*q^2 + 116*q^3 + 252*q^4 + 533*q^5 + 1034*q^6 + 1961*q^7 + 3540*q^8 + 6253*q^9 + 10654*q^10 + 17897*q^11 + 29284*q^12 + 47265*q^13 + 74868*q^14 + 117158*q^15 + 180608*q^16 + 275562*q^17 + O(q^18)"
      ]
     },
     "metadata": {},
     "output_type": "display_data"
    }
   ],
   "source": [
    "x = g.qexp(20)/f.qexp(20)\n",
    "show(x)"
   ]
  },
  {
   "cell_type": "code",
   "execution_count": 6,
   "metadata": {},
   "outputs": [
    {
     "data": {
      "text/html": [
       "<html><script type=\"math/tex; mode=display\">\\newcommand{\\Bold}[1]{\\mathbf{#1}}\\frac{-1}{q^{2}} + \\frac{-2}{q} + 12 + 116q + 597q^{2} + 2298q^{3} + 7616q^{4} + 22396q^{5} + 60732q^{6} + 153682q^{7} + 368584q^{8} + 843150q^{9} + 1855509q^{10} + 3943764q^{11} + 8136120q^{12} + 16338586q^{13} + 32038879q^{14} + 61475598q^{15} + 115674856q^{16} + O(q^{17})</script></html>"
      ],
      "text/plain": [
       "-q^-2 - 2*q^-1 + 12 + 116*q + 597*q^2 + 2298*q^3 + 7616*q^4 + 22396*q^5 + 60732*q^6 + 153682*q^7 + 368584*q^8 + 843150*q^9 + 1855509*q^10 + 3943764*q^11 + 8136120*q^12 + 16338586*q^13 + 32038879*q^14 + 61475598*q^15 + 115674856*q^16 + O(q^17)"
      ]
     },
     "metadata": {},
     "output_type": "display_data"
    }
   ],
   "source": [
    "q = x.parent().gen()\n",
    "y = q*x.derivative()/f.qexp(20)\n",
    "show(y)"
   ]
  },
  {
   "cell_type": "markdown",
   "metadata": {},
   "source": [
    "Now if we assume that we have an equation of the form\n",
    "$$y^2 = h(x)$$\n",
    "for a quartic $h(x)$ we have to solve for the coefficients of $h$, given $y^2, x^4, x^3, x^2, x, 1$.\n",
    "\n",
    "To do this we construct the relevant linear system, including terms up to degree $q^{-6}$."
   ]
  },
  {
   "cell_type": "code",
   "execution_count": 7,
   "metadata": {},
   "outputs": [
    {
     "data": {
      "text/html": [
       "<html><script type=\"math/tex; mode=display\">\\newcommand{\\Bold}[1]{\\mathbf{#1}}\\mathrm{RowSpan}_{\\Bold{Q}}\\left(\\begin{array}{rrrrrr}\n",
       "1 & -1 & \\frac{68}{5} & \\frac{616}{25} & \\frac{252}{125} & \\frac{1504}{625}\n",
       "\\end{array}\\right)</script></html>"
      ],
      "text/plain": [
       "Vector space of degree 6 and dimension 1 over Rational Field\n",
       "Basis matrix:\n",
       "[       1       -1     68/5   616/25  252/125 1504/625]"
      ]
     },
     "metadata": {},
     "output_type": "display_data"
    }
   ],
   "source": [
    "def coeffs(G):                                                     \n",
    "    return ([0]*(6+G.valuation()) +G.coefficients())[:16]\n",
    "M = Matrix(list(map(coeffs, [y^2, x^4, x^3, x^2, x])) + [6*[0] + [1] + 9*[0]])\n",
    "show(M.kernel())"
   ]
  },
  {
   "cell_type": "markdown",
   "metadata": {},
   "source": [
    "Hence the equation of our curve is\n",
    "$$\n",
    "y^2 = x^4 - \\frac{68}5 x^3 - \\frac{616}{25}x^2 - \\frac{252}{125}x - \\frac{1504}{625}\n",
    "$$\n",
    "or after a change of variables ($y \\mapsto y/25,x \\mapsto x/5$)\n",
    "$$\n",
    "y^2 = x^4 - 68 x^3 - 616x^2 - 252x - 1504\n",
    "$$\n",
    "we should do a little more cleanup to get to a nicer model with an odd degree polynomial in $x$. This amounts to moving a Weierstrass point to infinity.\n",
    "\n",
    "Do we have any Weierstrass points here?:"
   ]
  },
  {
   "cell_type": "code",
   "execution_count": 8,
   "metadata": {},
   "outputs": [
    {
     "data": {
      "text/plain": [
       "(x + 8) * (x^3 - 76*x^2 - 8*x - 188)"
      ]
     },
     "execution_count": 8,
     "metadata": {},
     "output_type": "execute_result"
    }
   ],
   "source": [
    "X = polygen(QQ)\n",
    "(X^4 - 68*X^3 - 616*X^2 - 252*X - 1504).factor()"
   ]
  },
  {
   "cell_type": "markdown",
   "metadata": {},
   "source": [
    "Yes $x = -8$ is a rational Weierstrass point, to get the equation of the new curve we shift this point to $0$ and then take $x\\mapsto1/x$, this has the effect of reversing the polynomial $h$."
   ]
  },
  {
   "cell_type": "code",
   "execution_count": 9,
   "metadata": {},
   "outputs": [
    {
     "data": {
      "text/plain": [
       "-5500*x^3 + 1400*x^2 - 100*x + 1"
      ]
     },
     "execution_count": 9,
     "metadata": {},
     "output_type": "execute_result"
    }
   ],
   "source": [
    "(X^4 - 68*X^3 - 616*X^2 - 252*X - 1504).subs({X:X-8}).reverse()"
   ]
  },
  {
   "cell_type": "markdown",
   "metadata": {},
   "source": [
    "$$ y^2 = -5500x^3 + 1400x^2 - 100x + 1$$\n",
    "is now our model, one last change of variables gives."
   ]
  },
  {
   "cell_type": "code",
   "execution_count": 10,
   "metadata": {},
   "outputs": [
    {
     "data": {
      "text/plain": [
       "x^3 + 1400*x^2 + 550000*x + 30250000"
      ]
     },
     "execution_count": 10,
     "metadata": {},
     "output_type": "execute_result"
    }
   ],
   "source": [
    "(X^4 - 68*X^3 - 616*X^2 - 252*X - 1504).subs({X:X-8}).reverse().subs({X:X/(-5500)})*(-5500)^2"
   ]
  },
  {
   "cell_type": "markdown",
   "metadata": {},
   "source": [
    "$$y^2 =x^3 + 1400x^2 + 550000x + 30250000$$\n",
    "Which, while the coefficients are a little excessive is in short weierstrass form, so we can use the standard Sage elliptic curve constructor now:"
   ]
  },
  {
   "cell_type": "code",
   "execution_count": 11,
   "metadata": {},
   "outputs": [
    {
     "data": {
      "text/html": [
       "<html><script type=\"math/tex; mode=display\">\\newcommand{\\Bold}[1]{\\mathbf{#1}}y^2 = x^{3} + 1400 x^{2} + 550000 x + 30250000 </script></html>"
      ],
      "text/plain": [
       "Elliptic Curve defined by y^2 = x^3 + 1400*x^2 + 550000*x + 30250000 over Rational Field"
      ]
     },
     "metadata": {},
     "output_type": "display_data"
    }
   ],
   "source": [
    "E = EllipticCurve([0, 1400, 0, 550000, 30250000]); show(E)"
   ]
  },
  {
   "cell_type": "markdown",
   "metadata": {},
   "source": [
    "Lets minimise some more by hand."
   ]
  },
  {
   "cell_type": "code",
   "execution_count": 32,
   "metadata": {},
   "outputs": [
    {
     "data": {
      "text/plain": [
       "Generic morphism:\n",
       "  From: Abelian group of points on Elliptic Curve defined by y^2 = x^3 + 1400*x^2 + 550000*x + 30250000 over Rational Field\n",
       "  To:   Abelian group of points on Elliptic Curve defined by y^2 = x^3 + 223/20*x^2 + 12443/400*x - 81779/8000 over Rational Field\n",
       "  Via:  (u,r,s,t) = (10, -95, 0, 0)"
      ]
     },
     "execution_count": 32,
     "metadata": {},
     "output_type": "execute_result"
    }
   ],
   "source": [
    "from sage.schemes.elliptic_curves.weierstrass_morphism import WeierstrassIsomorphism\n",
    "WeierstrassIsomorphism(E, [10,-95,0,0])"
   ]
  },
  {
   "cell_type": "markdown",
   "metadata": {},
   "source": [
    "We can check that the conductor is $11$, and ask for a minimal model at this point:"
   ]
  },
  {
   "cell_type": "code",
   "execution_count": 12,
   "metadata": {},
   "outputs": [
    {
     "data": {
      "text/plain": [
       "11"
      ]
     },
     "execution_count": 12,
     "metadata": {},
     "output_type": "execute_result"
    }
   ],
   "source": [
    "E.conductor()"
   ]
  },
  {
   "cell_type": "code",
   "execution_count": 13,
   "metadata": {},
   "outputs": [
    {
     "data": {
      "text/plain": [
       "Elliptic Curve defined by y^2 + y = x^3 - x^2 - 10*x - 20 over Rational Field"
      ]
     },
     "execution_count": 13,
     "metadata": {},
     "output_type": "execute_result"
    }
   ],
   "source": [
    "E.minimal_model()"
   ]
  },
  {
   "cell_type": "code",
   "execution_count": 14,
   "metadata": {},
   "outputs": [
    {
     "data": {
      "image/png": "[encoded data removed]",
      "text/plain": [
       "Graphics object consisting of 1 graphics primitive"
      ]
     },
     "execution_count": 14,
     "metadata": {},
     "output_type": "execute_result"
    }
   ],
   "source": [
    "E.minimal_model().plot()"
   ]
  },
  {
   "cell_type": "code",
   "execution_count": 15,
   "metadata": {},
   "outputs": [
    {
     "data": {
      "text/plain": [
       "[(0 : -5500 : 1),\n",
       " (0 : 1 : 0),\n",
       " (0 : 5500 : 1),\n",
       " (1100 : -60500 : 1),\n",
       " (1100 : 60500 : 1)]"
      ]
     },
     "execution_count": 15,
     "metadata": {},
     "output_type": "execute_result"
    }
   ],
   "source": [
    "E.torsion_points()"
   ]
  },
  {
   "cell_type": "code",
   "execution_count": null,
   "metadata": {},
   "outputs": [],
   "source": []
  },
  {
   "cell_type": "code",
   "execution_count": 133,
   "metadata": {},
   "outputs": [
    {
     "data": {
      "text/plain": [
       "q^-1 + 22/5 + 17*q + 46*q^2 + 116*q^3 + 252*q^4 + 533*q^5 + 1034*q^6 + 1961*q^7 + 3540*q^8 + 6253*q^9 + 10654*q^10 + 17897*q^11 + 29284*q^12 + 47265*q^13 + 74868*q^14 + 117158*q^15 + 180608*q^16 + 275562*q^17 + O(q^18)"
      ]
     },
     "execution_count": 133,
     "metadata": {},
     "output_type": "execute_result"
    }
   ],
   "source": [
    "x"
   ]
  },
  {
   "cell_type": "code",
   "execution_count": 234,
   "metadata": {},
   "outputs": [],
   "source": [
    "R = X.parent()\n",
    "Y = polygen(R)\n",
    "X = polygen(QQ)"
   ]
  },
  {
   "cell_type": "code",
   "execution_count": null,
   "metadata": {},
   "outputs": [],
   "source": []
  },
  {
   "cell_type": "code",
   "execution_count": null,
   "metadata": {},
   "outputs": [],
   "source": [
    "while True:\n",
    "    a,b,c = [R.random_element(4).change_ring(x.parent()) for i in range(3)]\n",
    "    t = ((a*y + b)(x)/(c)(x))\n",
    "    if t==j_invariant_qexp():\n",
    "        print(a,b,c)\n",
    "        break"
   ]
  },
  {
   "cell_type": "code",
   "execution_count": 184,
   "metadata": {},
   "outputs": [
    {
     "data": {
      "text/plain": [
       "1 + 3698/5*q + 4840319/25*q^2 + 2578655582/125*q^3 + 481378586871/625*q^4 + 51553942539738/3125*q^5 + 3852337510853464/15625*q^6 + 222568747468231892/78125*q^7 + 10576976004236569551/390625*q^8 + 430587141861419674028/1953125*q^9 + 15447907677553178433834/9765625*q^10 + O(q^11)"
      ]
     },
     "execution_count": 184,
     "metadata": {},
     "output_type": "execute_result"
    }
   ],
   "source": [
    "j_invariant_qexp()/x"
   ]
  },
  {
   "cell_type": "code",
   "execution_count": 157,
   "metadata": {},
   "outputs": [
    {
     "data": {
      "text/plain": [
       "-x^3 - x^2 + 2"
      ]
     },
     "execution_count": 157,
     "metadata": {},
     "output_type": "execute_result"
    }
   ],
   "source": [
    "a.change_ring(x.parent())"
   ]
  },
  {
   "cell_type": "code",
   "execution_count": 191,
   "metadata": {},
   "outputs": [
    {
     "data": {
      "text/plain": [
       "-q^-4 - 59/5*q^-3 - 1634/25*q^-2 - 3513/25*q^-1 + 23448/25 + 320089/25*q + 2256828/25*q^2 + 12240332/25*q^3 + 56489109/25*q^4 + 232082159/25*q^5 + 870949178/25*q^6 + 3035635158/25*q^7 + 9942681736/25*q^8 + 6173979969/5*q^9 + 91468270636/25*q^10 + 260038607301/25*q^11 + 142484130636/5*q^12 + 1887740154444/25*q^13 + 4852702195186/25*q^14 + O(q^15)"
      ]
     },
     "execution_count": 191,
     "metadata": {},
     "output_type": "execute_result"
    }
   ],
   "source": [
    "(x+x^2)*y"
   ]
  },
  {
   "cell_type": "code",
   "execution_count": 189,
   "metadata": {},
   "outputs": [
    {
     "data": {
      "text/plain": [
       "q^-1 + 744 + 196884*q + 21493760*q^2 + 864299970*q^3 + 20245856256*q^4 + 333202640600*q^5 + 4252023300096*q^6 + 44656994071935*q^7 + 401490886656000*q^8 + 3176440229784420*q^9 + O(q^10)"
      ]
     },
     "execution_count": 189,
     "metadata": {},
     "output_type": "execute_result"
    }
   ],
   "source": [
    "j_invariant_qexp()\n"
   ]
  },
  {
   "cell_type": "code",
   "execution_count": 199,
   "metadata": {},
   "outputs": [
    {
     "data": {
      "text/plain": [
       "17*q^-1 + 817/5 + 894*q + 3807*q^2 + 13467*q^3 + 42399*q^4 + 120986*q^5 + 321288*q^6 + 801687*q^7 + 1903010*q^8 + 4321941*q^9 + 9458793*q^10 + 20023014*q^11 + 41178633*q^12 + 82496655*q^13 + 161467076*q^14 + 309369801*q^15 + 581444286*q^16 + O(q^17)"
      ]
     },
     "execution_count": 199,
     "metadata": {},
     "output_type": "execute_result"
    }
   ],
   "source": [
    "(y + x^2)*5/2"
   ]
  },
  {
   "cell_type": "code",
   "execution_count": 200,
   "metadata": {},
   "outputs": [
    {
     "data": {
      "text/plain": [
       "2^2 * 3^3 * 1823"
      ]
     },
     "execution_count": 200,
     "metadata": {},
     "output_type": "execute_result"
    }
   ],
   "source": [
    "196884.factor()"
   ]
  },
  {
   "cell_type": "code",
   "execution_count": 210,
   "metadata": {},
   "outputs": [
    {
     "data": {
      "text/plain": [
       "q^-1 - 12/5 - 2766/125*q - 30572/625*q^2 - 25261/125*q^3 - 2409232/3125*q^4 - 66241466/15625*q^5 - 1953300148/78125*q^6 - 63520612569/390625*q^7 - 2088245819832/1953125*q^8 - 69319260960871/9765625*q^9 - 2301907107267988/48828125*q^10 - 76527821040163214/244140625*q^11 - 2543840016876692392/1220703125*q^12 - 84569975016363232301/6103515625*q^13 - 2811451661646683193528/30517578125*q^14 - 93465642522048828570459/152587890625*q^15 - 3107213950795010704899752/762939453125*q^16 - 103297855016948728850561256/3814697265625*q^17 + O(q^18)"
      ]
     },
     "execution_count": 210,
     "metadata": {},
     "output_type": "execute_result"
    }
   ],
   "source": [
    "-y/x +461/125*x/y"
   ]
  },
  {
   "cell_type": "code",
   "execution_count": 204,
   "metadata": {},
   "outputs": [
    {
     "data": {
      "text/plain": [
       "q^2 + 24/5*q^3 + 1354/25*q^4 + 10024/25*q^5 + 81579/25*q^6 + 617184/25*q^7 + 934622/5*q^8 + 34643256/25*q^9 + 254717217/25*q^10 + 1853893888/25*q^11 + 13397187174/25*q^12 + 3847300960*q^13 + 686793551622/25*q^14 + 4880711423544/25*q^15 + 34541340707856/25*q^16 + 243557171856496/25*q^17 + 1711777679458878/25*q^18 + 11995727368858032/25*q^19 + 16768550891329602/5*q^20 + O(q^21)"
      ]
     },
     "execution_count": 204,
     "metadata": {},
     "output_type": "execute_result"
    }
   ],
   "source": [
    "x^2/y^2"
   ]
  },
  {
   "cell_type": "code",
   "execution_count": 205,
   "metadata": {},
   "outputs": [
    {
     "data": {
      "text/plain": [
       "-q - 12/5*q^2 - 121/5*q^3 - 712/5*q^4 - 997*q^5 - 32524/5*q^6 - 217922/5*q^7 - 1444368/5*q^8 - 9615086/5*q^9 - 63900956/5*q^10 - 424944047/5*q^11 - 2825221384/5*q^12 - 18785116252/5*q^13 - 24979819272*q^14 - 830445101493/5*q^15 - 1104307833056*q^16 - 36712191805566/5*q^17 - 244095690004424/5*q^18 - 1622968340675832/5*q^19 + O(q^20)"
      ]
     },
     "execution_count": 205,
     "metadata": {},
     "output_type": "execute_result"
    }
   ],
   "source": []
  },
  {
   "cell_type": "code",
   "execution_count": 219,
   "metadata": {},
   "outputs": [
    {
     "data": {
      "text/plain": [
       "(q^2 - 4*q^3 + 2*q^4 + 8*q^5 + O(q^6),\n",
       " q + 2/5*q^2 + 7/5*q^3 - 26/5*q^4 - 19/5*q^5 + O(q^6),\n",
       " 1 + 24/5*q + 504/25*q^2 + 1344/25*q^3 + 3288/25*q^4 + 6192/25*q^5 + O(q^6))"
      ]
     },
     "execution_count": 219,
     "metadata": {},
     "output_type": "execute_result"
    }
   ],
   "source": [
    "f*f, f*g, g*g"
   ]
  },
  {
   "cell_type": "code",
   "execution_count": 214,
   "metadata": {},
   "outputs": [
    {
     "data": {
      "text/plain": [
       "Modular Forms space of dimension 1 for Modular Group SL(2,Z) of weight 4 over Rational Field"
      ]
     },
     "execution_count": 214,
     "metadata": {},
     "output_type": "execute_result"
    }
   ],
   "source": [
    "ModularForms(1, 4)"
   ]
  },
  {
   "cell_type": "code",
   "execution_count": 220,
   "metadata": {},
   "outputs": [],
   "source": [
    "E4 = EisensteinForms(1,4).basis()[0].qexp(20)"
   ]
  },
  {
   "cell_type": "code",
   "execution_count": 237,
   "metadata": {},
   "outputs": [
    {
     "data": {
      "text/plain": [
       "-q - 12/5*q^2 - 121/5*q^3 - 712/5*q^4 - 997*q^5 - 32524/5*q^6 - 217922/5*q^7 - 1444368/5*q^8 - 9615086/5*q^9 - 63900956/5*q^10 - 424944047/5*q^11 - 2825221384/5*q^12 - 18785116252/5*q^13 - 24979819272*q^14 - 830445101493/5*q^15 - 1104307833056*q^16 - 36712191805566/5*q^17 - 244095690004424/5*q^18 - 1622968340675832/5*q^19 + O(q^20)"
      ]
     },
     "execution_count": 237,
     "metadata": {},
     "output_type": "execute_result"
    }
   ],
   "source": [
    "x/y "
   ]
  },
  {
   "cell_type": "code",
   "execution_count": 238,
   "metadata": {},
   "outputs": [
    {
     "data": {
      "text/plain": [
       "q^-11 + 744 + 196884*q^11 + 21493760*q^22 + 864299970*q^33 + 20245856256*q^44 + 333202640600*q^55 + 4252023300096*q^66 + 44656994071935*q^77 + 401490886656000*q^88 + 3176440229784420*q^99 + O(q^110)"
      ]
     },
     "execution_count": 238,
     "metadata": {},
     "output_type": "execute_result"
    }
   ],
   "source": [
    "1 + j_invariant_qexp().subs({q:q^11})"
   ]
  },
  {
   "cell_type": "code",
   "execution_count": 242,
   "metadata": {},
   "outputs": [
    {
     "data": {
      "text/plain": [
       "q^-11 + 744 + 196884*q^11 + 21493760*q^22 + 864299970*q^33 + 20245856256*q^44 + 333202640600*q^55 + 4252023300096*q^66 + 44656994071935*q^77 + 401490886656000*q^88 + 3176440229784420*q^99 + O(q^110)"
      ]
     },
     "execution_count": 242,
     "metadata": {},
     "output_type": "execute_result"
    }
   ],
   "source": [
    "j = j_invariant_qexp();j\n",
    "j11 = j_invariant_qexp().subs({q:q^11});j11"
   ]
  },
  {
   "cell_type": "code",
   "execution_count": 243,
   "metadata": {},
   "outputs": [
    {
     "data": {
      "text/plain": [
       "q^10 + 744*q^11 + 196884*q^12 + 21493760*q^13 + 864299970*q^14 + 20245856256*q^15 + 333202640600*q^16 + 4252023300096*q^17 + 44656994071935*q^18 + 401490886656000*q^19 + 3176440229784420*q^20 + O(q^21)"
      ]
     },
     "execution_count": 243,
     "metadata": {},
     "output_type": "execute_result"
    }
   ],
   "source": [
    "j/(1 + j11)"
   ]
  },
  {
   "cell_type": "code",
   "execution_count": 245,
   "metadata": {},
   "outputs": [
    {
     "data": {
      "text/plain": [
       "q + 7440*q^2 + 26877960*q^3 + 62817984320*q^4 + 106770313243620*q^5 + 140660772823411488*q^6 + 149490892875283472000*q^7 + 131713591850984107693440*q^8 + 98125437737029184633852010*q^9 + 62733460509022292428593705840*q^10 + 34814223673373739517987732202304*q^11 + O(q^12)"
      ]
     },
     "execution_count": 245,
     "metadata": {},
     "output_type": "execute_result"
    }
   ],
   "source": [
    "j^10/j11"
   ]
  },
  {
   "cell_type": "code",
   "execution_count": 257,
   "metadata": {},
   "outputs": [
    {
     "data": {
      "text/plain": [
       "[-1,\n",
       " 12/5,\n",
       " 461/25,\n",
       " 5008/125,\n",
       " 70524/625,\n",
       " 768072/3125,\n",
       " 8789341/15625,\n",
       " 79104648/78125,\n",
       " 731836319/390625,\n",
       " 7453169832/1953125,\n",
       " 60594617121/9765625,\n",
       " 474238830488/48828125,\n",
       " 4693826491339/244140625,\n",
       " 37169173567392/1220703125,\n",
       " 262202183544801/6103515625,\n",
       " 2275808792568528/30517578125,\n",
       " 19526864990679834/152587890625,\n",
       " 138302237267399752/762939453125,\n",
       " 876531700041967506/3814697265625]"
      ]
     },
     "execution_count": 257,
     "metadata": {},
     "output_type": "execute_result"
    }
   ],
   "source": [
    "list(y/x) #+ j^10/j11"
   ]
  },
  {
   "cell_type": "code",
   "execution_count": null,
   "metadata": {},
   "outputs": [],
   "source": []
  }
 ],
 "metadata": {
  "kernelspec": {
   "display_name": "SageMath 9.2.beta8",
   "language": "sage",
   "name": "sagemath"
  },
  "language_info": {
   "codemirror_mode": {
    "name": "ipython",
    "version": 3
   },
   "file_extension": ".py",
   "mimetype": "text/x-python",
   "name": "python",
   "nbconvert_exporter": "python",
   "pygments_lexer": "ipython3",
   "version": "3.7.3"
  },
  "varInspector": {
   "cols": {
    "lenName": 16,
    "lenType": 16,
    "lenVar": 40
   },
   "kernels_config": {
    "python": {
     "delete_cmd_postfix": "",
     "delete_cmd_prefix": "del ",
     "library": "var_list.py",
     "varRefreshCmd": "print(var_dic_list())"
    },
    "r": {
     "delete_cmd_postfix": ") ",
     "delete_cmd_prefix": "rm(",
     "library": "var_list.r",
     "varRefreshCmd": "cat(var_dic_list()) "
    }
   },
   "types_to_exclude": [
    "module",
    "function",
    "builtin_function_or_method",
    "instance",
    "_Feature"
   ],
   "window_display": false
  }
 },
 "nbformat": 4,
 "nbformat_minor": 2
}
