{
 "cells": [
  {
   "cell_type": "code",
   "execution_count": 179,
   "metadata": {},
   "outputs": [],
   "source": [
    "load(\"twistedlseries.sage\")"
   ]
  },
  {
   "cell_type": "code",
   "execution_count": 101,
   "metadata": {},
   "outputs": [
    {
     "data": {
      "text/plain": [
       "Elliptic Curve defined by y^2 + x*y + a*y = x^3 + (a+1)*x^2 + a*x over Number Field in a with defining polynomial x^2 - x - 1"
      ]
     },
     "execution_count": 101,
     "metadata": {},
     "output_type": "execute_result"
    }
   ],
   "source": [
    "E = EllipticCurve(F, [1, a + 1, a, a, 0])\n",
    "E"
   ]
  },
  {
   "cell_type": "code",
   "execution_count": 102,
   "metadata": {},
   "outputs": [],
   "source": [
    "L = LSeriesEllipticCurveSqrt5(E)"
   ]
  },
  {
   "cell_type": "code",
   "execution_count": 161,
   "metadata": {},
   "outputs": [],
   "source": [
    "chi = NFChar([p for p,e in F.ideal(3*a-20).factor()], [1], 3)\n",
    "Lchi = L.twist(chi, epsilon='solve')"
   ]
  },
  {
   "cell_type": "code",
   "execution_count": 178,
   "metadata": {},
   "outputs": [
    {
     "name": "stdout",
     "output_type": "stream",
     "text": [
      "159.999999999995 - 5819.69071343139*I\n",
      "160.0 - 5819.69071343*I\n"
     ]
    }
   ],
   "source": [
    "n = chi.gauss_sum()*(chi.gauss_sum(preconj=True))*Lchi(1)/L(1)\n",
    "print n\n",
    "K = CyclotomicField(3)\n",
    "print sum(a*b for a,b in  zip(list(recognise(n,K)),list(K.ring_of_integers().gens())))"
   ]
  },
  {
   "cell_type": "code",
   "execution_count": 164,
   "metadata": {},
   "outputs": [
    {
     "data": {
      "text/plain": [
       "(1, zeta3)"
      ]
     },
     "execution_count": 164,
     "metadata": {},
     "output_type": "execute_result"
    }
   ],
   "source": [
    "vector(list(K.ring_of_integers().gens()))"
   ]
  },
  {
   "cell_type": "code",
   "execution_count": 109,
   "metadata": {},
   "outputs": [],
   "source": [
    "K = CyclotomicField(3)"
   ]
  },
  {
   "cell_type": "code",
   "execution_count": 155,
   "metadata": {},
   "outputs": [
    {
     "data": {
      "text/plain": [
       "(-3200.0, -6720.0)"
      ]
     },
     "execution_count": 155,
     "metadata": {},
     "output_type": "execute_result"
    }
   ],
   "source": [
    "tuple(round(t) for t in vector(list(normalise(L.twist(chi, epsilon='solve')(1), chi, L(1))))*Matrix(CC,[list(CC(x)) for x in K.ring_of_integers().gens()])^(-1))"
   ]
  },
  {
   "cell_type": "code",
   "execution_count": 139,
   "metadata": {},
   "outputs": [],
   "source": []
  },
  {
   "cell_type": "code",
   "execution_count": 180,
   "metadata": {},
   "outputs": [
    {
     "name": "stdout",
     "output_type": "stream",
     "text": [
      "12 characters to be evaluated\n",
      "0.536519186543817 - 0.843888122010472*I\n",
      "character Hecke character of modulus Fractional ideal (14*a - 6) and order 3\n",
      "raw value 1.29257528533167 - 0.709909085189666*I\n",
      "normalisd -895.999999999998 + 443.405006737633*I\n",
      "algdeprts [(-896.000000000000 - 443.405006737633*I, 1), (-896.000000000000 + 443.405006737633*I, 1)]\n",
      "-0.701214516145907 - 0.712950350547822*I\n",
      "character Hecke character of modulus Fractional ideal (7) and order 3\n",
      "raw value -3.64293847745685e-16 + 4.51324216881630e-16*I\n",
      "normalisd -4.59817354850423e-14 - 6.41905882319899e-14*I\n",
      "algdeprts [(0.000000000000000, 1)]\n",
      "-0.0977360376476309 + 0.995212372785297*I\n",
      "character Hecke character of modulus Fractional ideal (-8*a + 2) and order 3\n",
      "raw value 1.77476876452316 + 1.95759988981642*I\n",
      "normalisd -64.0000000000007 - 554.256258422040*I\n",
      "algdeprts [(-64.0000000000000 - 554.256258422041*I, 1), (-64.0000000000000 + 554.256258422041*I, 1)]\n",
      "-0.813011178168840 + 0.582248077860730*I\n",
      "character Hecke character of modulus Fractional ideal (8*a - 6) and order 3\n",
      "raw value 3.60450091952430e-16 + 7.85460562254218e-16*I\n",
      "normalisd -1.58445425387175e-13 - 9.05247529493513e-14*I\n",
      "algdeprts [(0.000000000000000, 1)]\n",
      "0.989049327076647 - 0.147585326537678*I\n",
      "character Hecke character of modulus Fractional ideal (2*a + 11) and order 3\n",
      "raw value 1.94848534487254 - 0.144575522568633*I\n",
      "normalisd -511.999999999995 - 554.256258422037*I\n",
      "algdeprts [(-512.000000000000 - 554.256258422041*I, 1), (-512.000000000000 + 554.256258422041*I, 1)]\n",
      "-0.366712021530872 + 0.930334506113119*I\n",
      "character Hecke character of modulus Fractional ideal (-2*a + 13) and order 3\n",
      "raw value -1.09944874774612 - 1.61515004627698*I\n",
      "normalisd -223.999999999999 + 720.533135948647*I\n",
      "algdeprts [(-224.000000000000 - 720.533135948653*I, 1), (-224.000000000000 + 720.533135948653*I, 1)]\n",
      "-0.0654960264509273 - 0.997852830090259*I\n",
      "character Hecke character of modulus Fractional ideal (11*a - 6) and order 3\n",
      "raw value 1.28139749191622 - 1.36826182656356*I\n",
      "normalisd -607.999999999994 - 498.830632579833*I\n",
      "algdeprts [(-608.000000000000 - 498.830632579837*I, 1), (-608.000000000000 + 498.830632579837*I, 1)]\n",
      "-0.0654960264509268 - 0.997852830090259*I\n",
      "character Hecke character of modulus Fractional ideal (11*a - 5) and order 3\n",
      "raw value 3.84419247574867 - 4.10478547969069*I\n",
      "normalisd -1823.99999999998 - 1496.49189773950*I\n",
      "algdeprts [(-1824.00000000000 - 1496.49189773951*I, 1), (-1824.00000000000 + 1496.49189773951*I, 1)]\n",
      "0.522044385417846 + 0.852918319450171*I\n",
      "character Hecke character of modulus Fractional ideal (13) and order 3\n",
      "raw value 1.54579562381928 + 0.866227961755149*I\n",
      "normalisd 32.0000000000003 + 831.384387633062*I\n",
      "algdeprts [(32.0000000000000 - 831.384387633061*I, 1), (32.0000000000000 + 831.384387633061*I, 1)]\n",
      "0.253788073523739 + 0.967259848095179*I\n",
      "character Hecke character of modulus Fractional ideal (3*a + 13) and order 3\n",
      "raw value 1.29290702755217 + 0.997438946405499*I\n",
      "normalisd -352.000000000001 + 831.384387633080*I\n",
      "algdeprts [(-352.000000000000 - 831.384387633061*I, 1), (-352.000000000000 + 831.384387633061*I, 1)]\n",
      "0.710777563749233 - 0.703416842896661*I\n",
      "character Hecke character of modulus Fractional ideal (-3*a + 16) and order 3\n",
      "raw value 1.51026098008723 - 0.620970857388854*I\n",
      "normalisd 544.000000000016 + 720.533135948663*I\n",
      "algdeprts [(544.000000000000 - 720.533135948653*I, 1), (544.000000000000 + 720.533135948653*I, 1)]\n",
      "-0.999088144884919 + 0.0426951841594737*I\n",
      "character Hecke character of modulus Fractional ideal (14*a - 8) and order 3\n",
      "raw value 0.0314883405142133 + 1.47435757599598*I\n",
      "normalisd -64.0000000000002 - 997.661265159672*I\n",
      "algdeprts [(-64.0000000000000 - 997.661265159673*I, 1), (-64.0000000000000 + 997.661265159673*I, 1)]\n",
      "0.536519186543817 - 0.843888122010472*I\n",
      "character Hecke character of modulus Fractional ideal (14*a - 6) and order 3\n",
      "raw value 1.29257528533167 - 0.709909085189666*I\n",
      "normalisd -895.999999999998 + 443.405006737633*I\n",
      "algdeprts [(-896.000000000000 - 443.405006737633*I, 1), (-896.000000000000 + 443.405006737633*I, 1)]\n",
      "[(Hecke character of modulus Fractional ideal (7) and order 3, (-3.64293847745685e-16 + 4.51324216881630e-16*I, -4.59817354850423e-14 - 6.41905882319899e-14*I, (-0.0, -0.0))), (Hecke character of modulus Fractional ideal (-8*a + 2) and order 3, (1.77476876452316 + 1.95759988981642*I, -64.0000000000007 - 554.256258422040*I, (-384.0, -640.0))), (Hecke character of modulus Fractional ideal (8*a - 6) and order 3, (3.60450091952430e-16 + 7.85460562254218e-16*I, -1.58445425387175e-13 - 9.05247529493513e-14*I, (-0.0, -0.0))), (Hecke character of modulus Fractional ideal (2*a + 11) and order 3, (1.94848534487254 - 0.144575522568633*I, -511.999999999995 - 554.256258422037*I, (-832.0, -640.0))), (Hecke character of modulus Fractional ideal (-2*a + 13) and order 3, (-1.09944874774612 - 1.61515004627698*I, -223.999999999999 + 720.533135948647*I, (192.0, 832.0))), (Hecke character of modulus Fractional ideal (11*a - 6) and order 3, (1.28139749191622 - 1.36826182656356*I, -607.999999999994 - 498.830632579833*I, (-896.0, -576.0))), (Hecke character of modulus Fractional ideal (11*a - 5) and order 3, (3.84419247574867 - 4.10478547969069*I, -1823.99999999998 - 1496.49189773950*I, (-2688.0, -1728.0))), (Hecke character of modulus Fractional ideal (13) and order 3, (1.54579562381928 + 0.866227961755149*I, 32.0000000000003 + 831.384387633062*I, (512.0, 960.0))), (Hecke character of modulus Fractional ideal (3*a + 13) and order 3, (1.29290702755217 + 0.997438946405499*I, -352.000000000001 + 831.384387633080*I, (128.0, 960.0))), (Hecke character of modulus Fractional ideal (-3*a + 16) and order 3, (1.51026098008723 - 0.620970857388854*I, 544.000000000016 + 720.533135948663*I, (960.0, 832.0))), (Hecke character of modulus Fractional ideal (14*a - 8) and order 3, (0.0314883405142133 + 1.47435757599598*I, -64.0000000000002 - 997.661265159672*I, (-640.0, -1152.0))), (Hecke character of modulus Fractional ideal (14*a - 6) and order 3, (1.29257528533167 - 0.709909085189666*I, -895.999999999998 + 443.405006737633*I, (-640.0, 512.0)))]\n",
      "12 values found  2  of which were 0\n"
     ]
    }
   ],
   "source": [
    "out = value_search(E, 3, 3000, lower=20)"
   ]
  },
  {
   "cell_type": "code",
   "execution_count": 193,
   "metadata": {},
   "outputs": [
    {
     "data": {
      "text/plain": [
       "[(-0.0, -0.0),\n",
       " (-6.0, -10.0),\n",
       " (-0.0, -0.0),\n",
       " (-13.0, -10.0),\n",
       " (3.0, 13.0),\n",
       " (-14.0, -9.0),\n",
       " (-42.0, -27.0),\n",
       " (8.0, 15.0),\n",
       " (2.0, 15.0),\n",
       " (15.0, 13.0),\n",
       " (-10.0, -18.0),\n",
       " (-10.0, 8.0)]"
      ]
     },
     "execution_count": 193,
     "metadata": {},
     "output_type": "execute_result"
    }
   ],
   "source": [
    "[vector(o[1][2])/64 for o in out]"
   ]
  },
  {
   "cell_type": "code",
   "execution_count": 10,
   "metadata": {},
   "outputs": [
    {
     "name": "stdout",
     "output_type": "stream",
     "text": [
      "36 characters to be evaluated\n",
      "-0.116497364888400 + 0.993191000751647*I\n",
      "character Hecke character of modulus Fractional ideal (a + 54) and order 7\n",
      "raw value 3.25219561115329 + 3.65596126747652*I\n",
      "normalisd -14.4329602827830 + 18.0983597496716*I\n",
      "algdeprts [(-14.4329602827808 - 18.0983597496729*I, 1), (-14.4329602827808 + 18.0983597496729*I, 1)]\n",
      "-0.843084710019094 + 0.537780784085877*I\n",
      "character Hecke character of modulus Fractional ideal (-41*a + 14) and order 7\n",
      "raw value -0.717933942086718 - 2.46050641938233*I\n",
      "normalisd -6.29589694323998 - 7.89480505683467*I\n",
      "algdeprts [(-6.29589694323946 - 7.89480505683327*I, 1), (-6.29589694323946 + 7.89480505683327*I, 1)]\n",
      "-0.0800976122217140 - 0.996787024652899*I\n",
      "character Hecke character of modulus Fractional ideal (-41*a + 14) and order 7\n",
      "raw value 0.221414351296529 - 0.239919969092973*I\n",
      "normalisd 1.15883360369709 - 0.558064850961785*I\n",
      "algdeprts [(1.15883360370377 - 0.558064850968198*I, 1), (1.15883360370377 + 0.558064850968198*I, 1)]\n",
      "0.683722524763523 + 0.729742083979671*I\n",
      "character Hecke character of modulus Fractional ideal (-41*a + 14) and order 7\n",
      "raw value 0.143452887423275 + 0.0621739078034038*I\n",
      "normalisd 0.137063339542737 + 0.600513727321020*I\n",
      "algdeprts [(0.137063339541839 - 0.600513727320869*I, 1), (0.137063339541839 + 0.600513727320869*I, 1)]\n",
      "-0.613244060674329 - 0.789893487786583*I\n",
      "character Hecke character of modulus Fractional ideal (-3*a - 44) and order 7\n",
      "raw value 0.0687531386761670 - 0.140418416327041*I\n",
      "normalisd -0.615957056739803 - 2.00496499923975e-14*I\n",
      "algdeprts [(-0.615957056742370, 1), (-0.431446677213289, 1)]\n",
      "-0.0192013934914371 - 0.999815636248998*I\n",
      "character Hecke character of modulus Fractional ideal (-3*a - 44) and order 7\n",
      "raw value -0.228625576650688 + 0.233058473844605*I\n",
      "normalisd -1.28620826421562 + 4.00992999847951e-15*I\n",
      "algdeprts [(-2.48918460661560, 1), (-1.28620826421614, 1)]\n",
      "-0.120623230303526 - 0.992698361190922*I\n",
      "character Hecke character of modulus Fractional ideal (-3*a - 44) and order 7\n",
      "raw value 1.69957114329788 - 1.91858773942997*I\n",
      "normalisd -10.0978346790449 + 1.32636146103553e-13*I\n",
      "algdeprts [(-10.0978346790443, 1), (1.36950745071702, 1)]\n",
      "0.209791867108178 + 0.977746067491588*I\n",
      "character Hecke character of modulus Fractional ideal (3*a - 47) and order 7\n",
      "raw value 1.23860323958125 + 1.00103123488316*I\n",
      "normalisd 1.39612452839038 - 6.11682122400526*I\n",
      "algdeprts [(1.39612452839134 - 6.11682122400599*I, 1), (1.39612452839134 + 6.11682122400599*I, 1)]\n",
      "0.769715468059881 - 0.638387106879014*I\n",
      "character Hecke character of modulus Fractional ideal (3*a - 47) and order 7\n",
      "raw value 1.98598910487224 - 0.716403208218856*I\n",
      "normalisd 7.49395920743521 + 3.60890054867973*I\n",
      "algdeprts [(7.49395920743251 - 3.60890054867929*I, 1), (7.49395920743251 + 3.60890054867929*I, 1)]\n",
      "-0.940968146838215 + 0.338495120549550*I\n",
      "character Hecke character of modulus Fractional ideal (3*a - 47) and order 7\n",
      "raw value 0.287455369832234 + 1.64830061826634*I\n",
      "normalisd 4.10991626417481 - 5.15367198639022*I\n",
      "algdeprts [(4.10991626417366 - 5.15367198638892*I, 1), (4.10991626417366 + 5.15367198638892*I, 1)]\n",
      "-0.336693499962609 - 0.941614298469883*I\n",
      "character Hecke character of modulus Fractional ideal (-41*a + 27) and order 7\n",
      "raw value 0.677581900024886 - 0.961879320362242*I\n",
      "normalisd 1.03145894317852 - 4.51911690327413*I\n",
      "algdeprts [(1.03145894317988 - 4.51911690327322*I, 1), (1.03145894317988 + 4.51911690327322*I, 1)]\n",
      "-0.829259521562747 - 0.558863709590740*I\n",
      "character Hecke character of modulus Fractional ideal (-41*a + 27) and order 7\n",
      "raw value -0.0406605403332963 + 0.133089122231673*I\n",
      "normalisd -0.341830377654370 + 0.428641735786847*I\n",
      "algdeprts [(-0.341830377654027 - 0.428641735787082*I, 1), (-0.341830377654027 + 0.428641735787082*I, 1)]\n",
      "-0.932635933084114 - 0.360818813700622*I\n",
      "character Hecke character of modulus Fractional ideal (-41*a + 27) and order 7\n",
      "raw value -1.17315487387521 + 6.28371132056656*I\n",
      "normalisd -22.6896285655246 + 10.9267492273273*I\n",
      "algdeprts [(-22.6896285655220 - 10.9267492273254*I, 1), (-22.6896285655220 + 10.9267492273254*I, 1)]\n",
      "-0.846696925398281 - 0.532075480097606*I\n",
      "character Hecke character of modulus Fractional ideal (43*a - 28) and order 7\n",
      "raw value 0.773172140933195 - 2.68348132712865*I\n",
      "normalisd -2.57002362232520 - 11.2600092037335*I\n",
      "algdeprts [(-2.57002362232018 - 11.2600092037320*I, 1), (-2.57002362232018 + 11.2600092037320*I, 1)]\n",
      "0.534996986726367 + 0.844853966193985*I\n",
      "character Hecke character of modulus Fractional ideal (43*a - 28) and order 7\n",
      "raw value 0.427765514308084 + 0.235439805087135*I\n",
      "normalisd 1.81939613214862 - 0.876174998799357*I\n",
      "algdeprts [(1.81939613214873 - 0.876174998800353*I, 1), (1.81939613214873 + 0.876174998800353*I, 1)]\n",
      "0.0454284728806101 + 0.998967593994788*I\n",
      "character Hecke character of modulus Fractional ideal (43*a - 28) and order 7\n",
      "raw value 4.97698167119345 + 4.75579490553638*I\n",
      "normalisd 17.7506274901762 + 22.2585828413065*I\n",
      "algdeprts [(17.7506274901998 - 22.2585828412909*I, 1), (17.7506274901998 + 22.2585828412909*I, 1)]\n",
      "0.531988671535029 + 0.846751470833322*I\n",
      "character Hecke character of modulus Fractional ideal (-43*a + 15) and order 7\n",
      "raw value 0.574299999623251 + 0.317423606594499*I\n",
      "normalisd 2.71379173578440 - 4.00992999847951e-15*I\n",
      "algdeprts [(1.51081539338440, 1), (2.71379173578386, 1)]\n",
      "-0.326968263609396 + 0.945035319230057*I\n",
      "character Hecke character of modulus Fractional ideal (-43*a + 15) and order 7\n",
      "raw value -0.855318648634950 - 1.20099289298156*I\n",
      "normalisd -6.09783467904454 - 1.17213338417093e-14*I\n",
      "algdeprts [(-6.09783467904425, 1), (5.36950745071702, 1)]\n",
      "0.963812604537036 - 0.266580688226913*I\n",
      "character Hecke character of modulus Fractional ideal (-43*a + 15) and order 7\n",
      "raw value 0.810812453692542 - 0.110064952953730*I\n",
      "normalisd 3.38404294326015 + 1.34178426872199e-14*I\n",
      "algdeprts [(0.143371335354836, 1), (3.38404294326037, 1)]\n",
      "0.577986827085583 - 0.816046094112053*I\n",
      "character Hecke character of modulus Fractional ideal (8*a - 55) and order 7\n",
      "raw value 3.40066386500155 - 1.75863221212556*I\n",
      "normalisd -10.4058132074155 - 13.0484770432251*I\n",
      "algdeprts [(-10.4058132074216 - 13.0484770432022*I, 1), (-10.4058132074216 + 13.0484770432022*I, 1)]\n",
      "0.987784598431408 - 0.155825502090324*I\n",
      "character Hecke character of modulus Fractional ideal (8*a - 55) and order 7\n",
      "raw value 1.29397525699904 - 0.101436717174207*I\n",
      "normalisd -1.25906118884763 + 5.51630749668437*I\n",
      "algdeprts [(-1.25906118884735 - 5.51630749668441*I, 1), (-1.25906118884735 + 5.51630749668441*I, 1)]\n",
      "-0.999699318620357 - 0.0245208554091027*I\n",
      "character Hecke character of modulus Fractional ideal (8*a - 55) and order 7\n",
      "raw value -0.0197771660985016 + 1.61284689753255*I\n",
      "normalisd -6.33512560373838 + 3.05083569771826*I\n",
      "algdeprts [(-6.33512560374128 - 3.05083569771352*I, 1), (-6.33512560374128 + 3.05083569771352*I, 1)]\n",
      "-0.874817267867427 + 0.484453039871742*I\n",
      "character Hecke character of modulus Fractional ideal (-8*a - 47) and order 7\n",
      "raw value -0.614866400278015 - 2.37951266644523*I\n",
      "normalisd -9.65279281113250 + 4.64854001844948*I\n",
      "algdeprts [(-9.65279281113197 - 4.64854001845111*I, 1), (-9.65279281113197 + 4.64854001845111*I, 1)]\n",
      "0.737702906860710 + 0.675125485527881*I\n",
      "character Hecke character of modulus Fractional ideal (-8*a - 47) and order 7\n",
      "raw value -0.406725472185037 - 0.158019377651585*I\n",
      "normalisd 1.18598067906508 - 1.48717273278191*I\n",
      "algdeprts [(1.18598067906322 - 1.48717273278472*I, 1), (1.18598067906322 + 1.48717273278472*I, 1)]\n",
      "0.198547959685986 + 0.980091173159177*I\n",
      "character Hecke character of modulus Fractional ideal (-8*a - 47) and order 7\n",
      "raw value 2.02157371611063 + 1.65310577606733*I\n",
      "normalisd -2.53318786793306 + 11.0986212188619*I\n",
      "algdeprts [(-2.53318786792730 - 11.0986212188629*I, 1), (-2.53318786792730 + 11.0986212188629*I, 1)]\n",
      "-0.232055717552062 + 0.972702495088502*I\n",
      "character Hecke character of modulus Fractional ideal (-47*a + 29) and order 7\n",
      "raw value 0.735299536428885 + 0.931353628211020*I\n",
      "normalisd 1.19806226419513 + 5.24905374576958*I\n",
      "algdeprts [(1.19806226419438 - 5.24905374576871*I, 1), (1.19806226419438 + 5.24905374576871*I, 1)]\n",
      "-0.498080992549307 + 0.867130512011368*I\n",
      "character Hecke character of modulus Fractional ideal (-47*a + 29) and order 7\n",
      "raw value 0.520448945907685 + 0.899143396128591*I\n",
      "normalisd 4.24697960371721 - 2.04523758374350*I\n",
      "algdeprts [(4.24697960370906 - 2.04523758374746*I, 1), (4.24697960370906 + 2.04523758374746*I, 1)]\n",
      "-0.565915168312489 + 0.824463475403154*I\n",
      "character Hecke character of modulus Fractional ideal (-47*a + 29) and order 7\n",
      "raw value 0.420758269278264 + 0.799152146471453*I\n",
      "normalisd 2.55495813208718 + 3.20381616202611*I\n",
      "algdeprts [(2.55495813208683 - 3.20381616202467*I, 1), (2.55495813208683 + 3.20381616202467*I, 1)]\n",
      "0.615805060378674 + 0.787898551599137*I\n",
      "character Hecke character of modulus Fractional ideal (-47*a + 18) and order 7\n",
      "raw value 0.494054374421384 + 0.240910698674628*I\n",
      "normalisd 1.55495813208729 + 1.94985582436351*I\n",
      "algdeprts [(1.55495813208756 - 1.94985582436369*I, 1), (1.55495813208756 + 1.94985582436369*I, 1)]\n",
      "0.956223187312359 + 0.292638370768759*I\n",
      "character Hecke character of modulus Fractional ideal (-47*a + 18) and order 7\n",
      "raw value 0.194013070027674 + 0.0290231038508175*I\n",
      "normalisd 0.198062264195143 - 0.867767478235065*I\n",
      "algdeprts [(0.198062264195215 - 0.867767478235228*I, 1), (0.198062264195215 + 0.867767478235228*I, 1)]\n",
      "0.867593243997087 - 0.497274534810109*I\n",
      "character Hecke character of modulus Fractional ideal (-47*a + 18) and order 7\n",
      "raw value 0.767541460861500 - 0.204369352975647*I\n",
      "normalisd 3.24697960371723 - 1.56366296493595*I\n",
      "algdeprts [(3.24697960371719 - 1.56366296493628*I, 1), (3.24697960371719 + 1.56366296493628*I, 1)]\n",
      "0.0562504291794685 - 0.998416691175145*I\n",
      "character Hecke character of modulus Fractional ideal (a - 55) and order 7\n",
      "raw value 2.62460678925364 - 2.48089956109944*I\n",
      "normalisd 17.0857530939153 - 2.72675239896606e-13*I\n",
      "algdeprts [(-1.75550975671809, 1), (17.0857530939139, 1)]\n",
      "0.195659263509363 + 0.980671939336990*I\n",
      "character Hecke character of modulus Fractional ideal (a - 55) and order 7\n",
      "raw value 0.136598944673396 + 0.112037564607717*I\n",
      "normalisd 0.835789585089317 - 4.31838615220870e-15*I\n",
      "algdeprts [(-7.41776316706276, 1), (0.835789585089181, 1)]\n",
      "-0.942366526322163 - 0.334582321809595*I\n",
      "character Hecke character of modulus Fractional ideal (a - 55) and order 7\n",
      "raw value -0.140715201387333 + 0.816900592479537*I\n",
      "normalisd -3.92154267900400 + 6.30021693991876e-14*I\n",
      "algdeprts [(-3.92154267900393, 1), (1.27494021779472, 1)]\n",
      "-0.483876652661305 + 0.875136209403594*I\n",
      "character Hecke character of modulus Fractional ideal (a + 54) and order 7\n",
      "raw value 4.35355780183278 + 7.38187119757475*I\n",
      "normalisd -9.02177026415416 + 39.5269581671954*I\n",
      "algdeprts [(-9.02177026413183 - 39.5269581672198*I, 1), (-9.02177026413183 + 39.5269581672198*I, 1)]\n",
      "-0.644728640709357 + 0.764411525193769*I\n",
      "character Hecke character of modulus Fractional ideal (a + 54) and order 7\n",
      "raw value -0.0539173023853931 - 0.116009935146600*I\n",
      "normalisd -0.545269453063199 - 0.262587929006295*I\n",
      "algdeprts [(-0.545269453064005 - 0.262587929005702*I, 1), (-0.545269453064005 + 0.262587929005702*I, 1)]\n",
      "-0.116497364888400 + 0.993191000751647*I\n",
      "character Hecke character of modulus Fractional ideal (a + 54) and order 7\n",
      "raw value 3.25219561115329 + 3.65596126747652*I\n",
      "normalisd -14.4329602827830 + 18.0983597496716*I\n",
      "algdeprts [(-14.4329602827808 - 18.0983597496729*I, 1), (-14.4329602827808 + 18.0983597496729*I, 1)]\n",
      "[(Hecke character of modulus Fractional ideal (-41*a + 14) and order 7, (-0.717933942086718 - 2.46050641938233*I, -6.29589694323998 - 7.89480505683467*I)), (Hecke character of modulus Fractional ideal (-41*a + 14) and order 7, (0.221414351296529 - 0.239919969092973*I, 1.15883360369709 - 0.558064850961785*I)), (Hecke character of modulus Fractional ideal (-41*a + 14) and order 7, (0.143452887423275 + 0.0621739078034038*I, 0.137063339542737 + 0.600513727321020*I)), (Hecke character of modulus Fractional ideal (-3*a - 44) and order 7, (0.0687531386761670 - 0.140418416327041*I, -0.615957056739803 - 2.00496499923975e-14*I)), (Hecke character of modulus Fractional ideal (-3*a - 44) and order 7, (-0.228625576650688 + 0.233058473844605*I, -1.28620826421562 + 4.00992999847951e-15*I)), (Hecke character of modulus Fractional ideal (-3*a - 44) and order 7, (1.69957114329788 - 1.91858773942997*I, -10.0978346790449 + 1.32636146103553e-13*I)), (Hecke character of modulus Fractional ideal (3*a - 47) and order 7, (1.23860323958125 + 1.00103123488316*I, 1.39612452839038 - 6.11682122400526*I)), (Hecke character of modulus Fractional ideal (3*a - 47) and order 7, (1.98598910487224 - 0.716403208218856*I, 7.49395920743521 + 3.60890054867973*I)), (Hecke character of modulus Fractional ideal (3*a - 47) and order 7, (0.287455369832234 + 1.64830061826634*I, 4.10991626417481 - 5.15367198639022*I)), (Hecke character of modulus Fractional ideal (-41*a + 27) and order 7, (0.677581900024886 - 0.961879320362242*I, 1.03145894317852 - 4.51911690327413*I)), (Hecke character of modulus Fractional ideal (-41*a + 27) and order 7, (-0.0406605403332963 + 0.133089122231673*I, -0.341830377654370 + 0.428641735786847*I)), (Hecke character of modulus Fractional ideal (-41*a + 27) and order 7, (-1.17315487387521 + 6.28371132056656*I, -22.6896285655246 + 10.9267492273273*I)), (Hecke character of modulus Fractional ideal (43*a - 28) and order 7, (0.773172140933195 - 2.68348132712865*I, -2.57002362232520 - 11.2600092037335*I)), (Hecke character of modulus Fractional ideal (43*a - 28) and order 7, (0.427765514308084 + 0.235439805087135*I, 1.81939613214862 - 0.876174998799357*I)), (Hecke character of modulus Fractional ideal (43*a - 28) and order 7, (4.97698167119345 + 4.75579490553638*I, 17.7506274901762 + 22.2585828413065*I)), (Hecke character of modulus Fractional ideal (-43*a + 15) and order 7, (0.574299999623251 + 0.317423606594499*I, 2.71379173578440 - 4.00992999847951e-15*I)), (Hecke character of modulus Fractional ideal (-43*a + 15) and order 7, (-0.855318648634950 - 1.20099289298156*I, -6.09783467904454 - 1.17213338417093e-14*I)), (Hecke character of modulus Fractional ideal (-43*a + 15) and order 7, (0.810812453692542 - 0.110064952953730*I, 3.38404294326015 + 1.34178426872199e-14*I)), (Hecke character of modulus Fractional ideal (8*a - 55) and order 7, (3.40066386500155 - 1.75863221212556*I, -10.4058132074155 - 13.0484770432251*I)), (Hecke character of modulus Fractional ideal (8*a - 55) and order 7, (1.29397525699904 - 0.101436717174207*I, -1.25906118884763 + 5.51630749668437*I)), (Hecke character of modulus Fractional ideal (8*a - 55) and order 7, (-0.0197771660985016 + 1.61284689753255*I, -6.33512560373838 + 3.05083569771826*I)), (Hecke character of modulus Fractional ideal (-8*a - 47) and order 7, (-0.614866400278015 - 2.37951266644523*I, -9.65279281113250 + 4.64854001844948*I)), (Hecke character of modulus Fractional ideal (-8*a - 47) and order 7, (-0.406725472185037 - 0.158019377651585*I, 1.18598067906508 - 1.48717273278191*I)), (Hecke character of modulus Fractional ideal (-8*a - 47) and order 7, (2.02157371611063 + 1.65310577606733*I, -2.53318786793306 + 11.0986212188619*I)), (Hecke character of modulus Fractional ideal (-47*a + 29) and order 7, (0.735299536428885 + 0.931353628211020*I, 1.19806226419513 + 5.24905374576958*I)), (Hecke character of modulus Fractional ideal (-47*a + 29) and order 7, (0.520448945907685 + 0.899143396128591*I, 4.24697960371721 - 2.04523758374350*I)), (Hecke character of modulus Fractional ideal (-47*a + 29) and order 7, (0.420758269278264 + 0.799152146471453*I, 2.55495813208718 + 3.20381616202611*I)), (Hecke character of modulus Fractional ideal (-47*a + 18) and order 7, (0.494054374421384 + 0.240910698674628*I, 1.55495813208729 + 1.94985582436351*I)), (Hecke character of modulus Fractional ideal (-47*a + 18) and order 7, (0.194013070027674 + 0.0290231038508175*I, 0.198062264195143 - 0.867767478235065*I)), (Hecke character of modulus Fractional ideal (-47*a + 18) and order 7, (0.767541460861500 - 0.204369352975647*I, 3.24697960371723 - 1.56366296493595*I)), (Hecke character of modulus Fractional ideal (a - 55) and order 7, (2.62460678925364 - 2.48089956109944*I, 17.0857530939153 - 2.72675239896606e-13*I)), (Hecke character of modulus Fractional ideal (a - 55) and order 7, (0.136598944673396 + 0.112037564607717*I, 0.835789585089317 - 4.31838615220870e-15*I)), (Hecke character of modulus Fractional ideal (a - 55) and order 7, (-0.140715201387333 + 0.816900592479537*I, -3.92154267900400 + 6.30021693991876e-14*I)), (Hecke character of modulus Fractional ideal (a + 54) and order 7, (4.35355780183278 + 7.38187119757475*I, -9.02177026415416 + 39.5269581671954*I)), (Hecke character of modulus Fractional ideal (a + 54) and order 7, (-0.0539173023853931 - 0.116009935146600*I, -0.545269453063199 - 0.262587929006295*I)), (Hecke character of modulus Fractional ideal (a + 54) and order 7, (3.25219561115329 + 3.65596126747652*I, -14.4329602827830 + 18.0983597496716*I))]\n",
      "36 values found  0  of which were 0\n"
     ]
    }
   ],
   "source": [
    "out = value_search(E, 7, 3000, lower=2000)"
   ]
  },
  {
   "cell_type": "code",
   "execution_count": 11,
   "metadata": {},
   "outputs": [
    {
     "data": {
      "text/plain": [
       "[(Hecke character of modulus Fractional ideal (-41*a + 14) and order 7,\n",
       "  (-0.717933942086718 - 2.46050641938233*I,\n",
       "   -6.29589694323998 - 7.89480505683467*I)),\n",
       " (Hecke character of modulus Fractional ideal (-41*a + 14) and order 7,\n",
       "  (0.221414351296529 - 0.239919969092973*I,\n",
       "   1.15883360369709 - 0.558064850961785*I)),\n",
       " (Hecke character of modulus Fractional ideal (-41*a + 14) and order 7,\n",
       "  (0.143452887423275 + 0.0621739078034038*I,\n",
       "   0.137063339542737 + 0.600513727321020*I)),\n",
       " (Hecke character of modulus Fractional ideal (-3*a - 44) and order 7,\n",
       "  (0.0687531386761670 - 0.140418416327041*I,\n",
       "   -0.615957056739803 - 2.00496499923975e-14*I)),\n",
       " (Hecke character of modulus Fractional ideal (-3*a - 44) and order 7,\n",
       "  (-0.228625576650688 + 0.233058473844605*I,\n",
       "   -1.28620826421562 + 4.00992999847951e-15*I)),\n",
       " (Hecke character of modulus Fractional ideal (-3*a - 44) and order 7,\n",
       "  (1.69957114329788 - 1.91858773942997*I,\n",
       "   -10.0978346790449 + 1.32636146103553e-13*I)),\n",
       " (Hecke character of modulus Fractional ideal (3*a - 47) and order 7,\n",
       "  (1.23860323958125 + 1.00103123488316*I,\n",
       "   1.39612452839038 - 6.11682122400526*I)),\n",
       " (Hecke character of modulus Fractional ideal (3*a - 47) and order 7,\n",
       "  (1.98598910487224 - 0.716403208218856*I,\n",
       "   7.49395920743521 + 3.60890054867973*I)),\n",
       " (Hecke character of modulus Fractional ideal (3*a - 47) and order 7,\n",
       "  (0.287455369832234 + 1.64830061826634*I,\n",
       "   4.10991626417481 - 5.15367198639022*I)),\n",
       " (Hecke character of modulus Fractional ideal (-41*a + 27) and order 7,\n",
       "  (0.677581900024886 - 0.961879320362242*I,\n",
       "   1.03145894317852 - 4.51911690327413*I)),\n",
       " (Hecke character of modulus Fractional ideal (-41*a + 27) and order 7,\n",
       "  (-0.0406605403332963 + 0.133089122231673*I,\n",
       "   -0.341830377654370 + 0.428641735786847*I)),\n",
       " (Hecke character of modulus Fractional ideal (-41*a + 27) and order 7,\n",
       "  (-1.17315487387521 + 6.28371132056656*I,\n",
       "   -22.6896285655246 + 10.9267492273273*I)),\n",
       " (Hecke character of modulus Fractional ideal (43*a - 28) and order 7,\n",
       "  (0.773172140933195 - 2.68348132712865*I,\n",
       "   -2.57002362232520 - 11.2600092037335*I)),\n",
       " (Hecke character of modulus Fractional ideal (43*a - 28) and order 7,\n",
       "  (0.427765514308084 + 0.235439805087135*I,\n",
       "   1.81939613214862 - 0.876174998799357*I)),\n",
       " (Hecke character of modulus Fractional ideal (43*a - 28) and order 7,\n",
       "  (4.97698167119345 + 4.75579490553638*I,\n",
       "   17.7506274901762 + 22.2585828413065*I)),\n",
       " (Hecke character of modulus Fractional ideal (-43*a + 15) and order 7,\n",
       "  (0.574299999623251 + 0.317423606594499*I,\n",
       "   2.71379173578440 - 4.00992999847951e-15*I)),\n",
       " (Hecke character of modulus Fractional ideal (-43*a + 15) and order 7,\n",
       "  (-0.855318648634950 - 1.20099289298156*I,\n",
       "   -6.09783467904454 - 1.17213338417093e-14*I)),\n",
       " (Hecke character of modulus Fractional ideal (-43*a + 15) and order 7,\n",
       "  (0.810812453692542 - 0.110064952953730*I,\n",
       "   3.38404294326015 + 1.34178426872199e-14*I)),\n",
       " (Hecke character of modulus Fractional ideal (8*a - 55) and order 7,\n",
       "  (3.40066386500155 - 1.75863221212556*I,\n",
       "   -10.4058132074155 - 13.0484770432251*I)),\n",
       " (Hecke character of modulus Fractional ideal (8*a - 55) and order 7,\n",
       "  (1.29397525699904 - 0.101436717174207*I,\n",
       "   -1.25906118884763 + 5.51630749668437*I)),\n",
       " (Hecke character of modulus Fractional ideal (8*a - 55) and order 7,\n",
       "  (-0.0197771660985016 + 1.61284689753255*I,\n",
       "   -6.33512560373838 + 3.05083569771826*I)),\n",
       " (Hecke character of modulus Fractional ideal (-8*a - 47) and order 7,\n",
       "  (-0.614866400278015 - 2.37951266644523*I,\n",
       "   -9.65279281113250 + 4.64854001844948*I)),\n",
       " (Hecke character of modulus Fractional ideal (-8*a - 47) and order 7,\n",
       "  (-0.406725472185037 - 0.158019377651585*I,\n",
       "   1.18598067906508 - 1.48717273278191*I)),\n",
       " (Hecke character of modulus Fractional ideal (-8*a - 47) and order 7,\n",
       "  (2.02157371611063 + 1.65310577606733*I,\n",
       "   -2.53318786793306 + 11.0986212188619*I)),\n",
       " (Hecke character of modulus Fractional ideal (-47*a + 29) and order 7,\n",
       "  (0.735299536428885 + 0.931353628211020*I,\n",
       "   1.19806226419513 + 5.24905374576958*I)),\n",
       " (Hecke character of modulus Fractional ideal (-47*a + 29) and order 7,\n",
       "  (0.520448945907685 + 0.899143396128591*I,\n",
       "   4.24697960371721 - 2.04523758374350*I)),\n",
       " (Hecke character of modulus Fractional ideal (-47*a + 29) and order 7,\n",
       "  (0.420758269278264 + 0.799152146471453*I,\n",
       "   2.55495813208718 + 3.20381616202611*I)),\n",
       " (Hecke character of modulus Fractional ideal (-47*a + 18) and order 7,\n",
       "  (0.494054374421384 + 0.240910698674628*I,\n",
       "   1.55495813208729 + 1.94985582436351*I)),\n",
       " (Hecke character of modulus Fractional ideal (-47*a + 18) and order 7,\n",
       "  (0.194013070027674 + 0.0290231038508175*I,\n",
       "   0.198062264195143 - 0.867767478235065*I)),\n",
       " (Hecke character of modulus Fractional ideal (-47*a + 18) and order 7,\n",
       "  (0.767541460861500 - 0.204369352975647*I,\n",
       "   3.24697960371723 - 1.56366296493595*I)),\n",
       " (Hecke character of modulus Fractional ideal (a - 55) and order 7,\n",
       "  (2.62460678925364 - 2.48089956109944*I,\n",
       "   17.0857530939153 - 2.72675239896606e-13*I)),\n",
       " (Hecke character of modulus Fractional ideal (a - 55) and order 7,\n",
       "  (0.136598944673396 + 0.112037564607717*I,\n",
       "   0.835789585089317 - 4.31838615220870e-15*I)),\n",
       " (Hecke character of modulus Fractional ideal (a - 55) and order 7,\n",
       "  (-0.140715201387333 + 0.816900592479537*I,\n",
       "   -3.92154267900400 + 6.30021693991876e-14*I)),\n",
       " (Hecke character of modulus Fractional ideal (a + 54) and order 7,\n",
       "  (4.35355780183278 + 7.38187119757475*I,\n",
       "   -9.02177026415416 + 39.5269581671954*I)),\n",
       " (Hecke character of modulus Fractional ideal (a + 54) and order 7,\n",
       "  (-0.0539173023853931 - 0.116009935146600*I,\n",
       "   -0.545269453063199 - 0.262587929006295*I)),\n",
       " (Hecke character of modulus Fractional ideal (a + 54) and order 7,\n",
       "  (3.25219561115329 + 3.65596126747652*I,\n",
       "   -14.4329602827830 + 18.0983597496716*I))]"
      ]
     },
     "execution_count": 11,
     "metadata": {},
     "output_type": "execute_result"
    }
   ],
   "source": [
    "out"
   ]
  },
  {
   "cell_type": "code",
   "execution_count": 57,
   "metadata": {},
   "outputs": [
    {
     "name": "stdout",
     "output_type": "stream",
     "text": [
      "49\n",
      "5 * 7^2\n",
      "2.16840434497101e-19\n",
      "7*x^6 - 13*x^3 + 7\n",
      "139\n",
      "5 * 139\n",
      "-8.67361737988404e-19 - 4.33680868994202e-19*I\n",
      "4*x^12 - 7*x^11 - 33*x^10 - 18*x^9 + 35*x^8 - 70*x^7 + 16*x^6 - 70*x^5 + 35*x^4 - 18*x^3 - 33*x^2 - 7*x + 4\n",
      "139\n",
      "5 * 139\n",
      "-8.67361737988404e-19 - 4.33680868994202e-19*I\n",
      "4*x^12 - 7*x^11 - 33*x^10 - 18*x^9 + 35*x^8 - 70*x^7 + 16*x^6 - 70*x^5 + 35*x^4 - 18*x^3 - 33*x^2 - 7*x + 4\n",
      "151\n",
      "5 * 151\n",
      "5.96311194867027e-19*I\n",
      "100*x^10 + 69*x^9 - 29*x^8 - 34*x^7 + 15*x^6 - 90*x^5 + 15*x^4 - 34*x^3 - 29*x^2 + 69*x + 100\n",
      "151\n",
      "5 * 151\n",
      "5.96311194867027e-19*I\n",
      "100*x^10 + 69*x^9 - 29*x^8 - 34*x^7 + 15*x^6 - 90*x^5 + 15*x^4 - 34*x^3 - 29*x^2 + 69*x + 100\n",
      "169\n",
      "5 * 13^2\n",
      "8.67361737988404e-19 + 6.50521303491303e-19*I\n",
      "13*x^6 - x^3 + 13\n",
      "199\n",
      "5 * 199\n",
      "-4.33680868994202e-19 + 2.16840434497101e-19*I\n",
      "23*x^12 - 11*x^11 - 63*x^10 - 30*x^9 - 22*x^8 - 15*x^7 - 88*x^6 - 15*x^5 - 22*x^4 - 30*x^3 - 63*x^2 - 11*x + 23\n",
      "199\n",
      "5 * 199\n",
      "-4.33680868994202e-19 + 2.16840434497101e-19*I\n",
      "23*x^12 - 11*x^11 - 63*x^10 - 30*x^9 - 22*x^8 - 15*x^7 - 88*x^6 - 15*x^5 - 22*x^4 - 30*x^3 - 63*x^2 - 11*x + 23\n",
      "331\n",
      "5 * 331\n",
      "-1.30104260698261e-18 - 2.16840434497101e-19*I\n",
      "3*x^12 + 33*x^11 + 34*x^10 - 12*x^9 + 35*x^8 + 16*x^7 + 12*x^6 + 16*x^5 + 35*x^4 - 12*x^3 + 34*x^2 + 33*x + 3\n",
      "331\n",
      "5 * 331\n",
      "-1.30104260698261e-18 - 2.16840434497101e-19*I\n",
      "3*x^12 + 33*x^11 + 34*x^10 - 12*x^9 + 35*x^8 + 16*x^7 + 12*x^6 + 16*x^5 + 35*x^4 - 12*x^3 + 34*x^2 + 33*x + 3\n",
      "361\n",
      "5 * 19^2\n",
      "1.30104260698261e-18 - 4.33680868994202e-19*I\n",
      "19*x^6 - 11*x^3 + 19\n",
      "541\n",
      "5 * 541\n",
      "-4.33680868994202e-19\n",
      "31*x^12 + 15*x^11 - 41*x^10 - 47*x^9 + 33*x^8 + 13*x^7 + 33*x^6 + 13*x^5 + 33*x^4 - 47*x^3 - 41*x^2 + 15*x + 31\n",
      "541\n",
      "5 * 541\n",
      "-4.33680868994202e-19\n",
      "31*x^12 + 15*x^11 - 41*x^10 - 47*x^9 + 33*x^8 + 13*x^7 + 33*x^6 + 13*x^5 + 33*x^4 - 47*x^3 - 41*x^2 + 15*x + 31\n",
      "589\n",
      "5 * 19 * 31\n",
      "-1.73472347597681e-18 + 1.08420217248550e-19*I\n",
      "4*x^12 - 7*x^11 - 7*x^10 + 20*x^9 + 43*x^8 + 15*x^7 - 14*x^6 - 82*x^5 + 56*x^4 - 10*x^3 - 22*x^2 - 72*x + 106\n",
      "589\n",
      "5 * 19 * 31\n",
      "4.33680868994202e-19 - 4.33680868994202e-19*I\n",
      "51*x^10 - 44*x^9 + 46*x^8 - 44*x^7 + 49*x^6 - 33*x^5 + 49*x^4 - 44*x^3 + 46*x^2 - 44*x + 51\n",
      "589\n",
      "5 * 19 * 31\n",
      "4.33680868994202e-19 - 4.33680868994202e-19*I\n",
      "51*x^10 - 44*x^9 + 46*x^8 - 44*x^7 + 49*x^6 - 33*x^5 + 49*x^4 - 44*x^3 + 46*x^2 - 44*x + 51\n",
      "589\n",
      "5 * 19 * 31\n",
      "-1.73472347597681e-18 + 1.08420217248550e-19*I\n",
      "4*x^12 - 7*x^11 - 7*x^10 + 20*x^9 + 43*x^8 + 15*x^7 - 14*x^6 - 82*x^5 + 56*x^4 - 10*x^3 - 22*x^2 - 72*x + 106\n",
      "619\n",
      "5 * 619\n",
      "-7.58941520739853e-19*I\n",
      "9*x^12 + 5*x^11 - 30*x^10 + 5*x^9 + 24*x^8 - 21*x^7 - 3*x^6 - 21*x^5 + 24*x^4 + 5*x^3 - 30*x^2 + 5*x + 9\n",
      "619\n",
      "5 * 619\n",
      "-7.58941520739853e-19*I\n",
      "9*x^12 + 5*x^11 - 30*x^10 + 5*x^9 + 24*x^8 - 21*x^7 - 3*x^6 - 21*x^5 + 24*x^4 + 5*x^3 - 30*x^2 + 5*x + 9\n",
      "661\n",
      "5 * 661\n",
      "-8.67361737988404e-19 - 8.67361737988404e-19*I\n",
      "27*x^12 + 18*x^11 - 43*x^10 + 41*x^9 + 45*x^8 + 33*x^7 - 14*x^6 + 33*x^5 + 45*x^4 + 41*x^3 - 43*x^2 + 18*x + 27\n",
      "661\n",
      "5 * 661\n",
      "-8.67361737988404e-19 - 8.67361737988404e-19*I\n",
      "27*x^12 + 18*x^11 - 43*x^10 + 41*x^9 + 45*x^8 + 33*x^7 - 14*x^6 + 33*x^5 + 45*x^4 + 41*x^3 - 43*x^2 + 18*x + 27\n",
      "709\n",
      "5 * 709\n",
      "-4.33680868994202e-19\n",
      "5*x^12 - 39*x^11 - 22*x^10 - 76*x^9 + 11*x^8 - 30*x^7 - 88*x^6 - 30*x^5 + 11*x^4 - 76*x^3 - 22*x^2 - 39*x + 5\n",
      "709\n",
      "5 * 709\n",
      "-4.33680868994202e-19\n",
      "5*x^12 - 39*x^11 - 22*x^10 - 76*x^9 + 11*x^8 - 30*x^7 - 88*x^6 - 30*x^5 + 11*x^4 - 76*x^3 - 22*x^2 - 39*x + 5\n",
      "811\n",
      "5 * 811\n",
      "1.73472347597681e-18 - 1.30104260698261e-18*I\n",
      "17*x^12 - 30*x^11 + 8*x^10 + 55*x^9 + 4*x^8 + 6*x^7 + 97*x^6 + 6*x^5 + 4*x^4 + 55*x^3 + 8*x^2 - 30*x + 17\n",
      "811\n",
      "5 * 811\n",
      "1.73472347597681e-18 - 1.30104260698261e-18*I\n",
      "17*x^12 - 30*x^11 + 8*x^10 + 55*x^9 + 4*x^8 + 6*x^7 + 97*x^6 + 6*x^5 + 4*x^4 + 55*x^3 + 8*x^2 - 30*x + 17\n",
      "829\n",
      "5 * 829\n",
      "8.67361737988404e-19 + 1.30104260698261e-18*I\n",
      "5*x^12 + 9*x^11 + 28*x^10 + 26*x^9 + 19*x^8 + 21*x^7 + 41*x^6 + 21*x^5 + 19*x^4 + 26*x^3 + 28*x^2 + 9*x + 5\n",
      "829\n",
      "5 * 829\n",
      "8.67361737988404e-19 + 1.30104260698261e-18*I\n",
      "5*x^12 + 9*x^11 + 28*x^10 + 26*x^9 + 19*x^8 + 21*x^7 + 41*x^6 + 21*x^5 + 19*x^4 + 26*x^3 + 28*x^2 + 9*x + 5\n",
      "919\n",
      "5 * 919\n",
      "-5.20417042793042e-18 + 1.08420217248550e-19*I\n",
      "19*x^12 - 4*x^11 - 64*x^10 + 34*x^9 - 39*x^8 + 32*x^7 + 35*x^6 + 32*x^5 - 39*x^4 + 34*x^3 - 64*x^2 - 4*x + 19\n",
      "919\n",
      "5 * 919\n",
      "-5.20417042793042e-18 + 1.08420217248550e-19*I\n",
      "19*x^12 - 4*x^11 - 64*x^10 + 34*x^9 - 39*x^8 + 32*x^7 + 35*x^6 + 32*x^5 - 39*x^4 + 34*x^3 - 64*x^2 - 4*x + 19\n",
      "961\n",
      "5 * 31^2\n",
      "1.73472347597681e-18 - 1.73472347597681e-18*I\n",
      "31*x^6 + 46*x^3 + 31\n"
     ]
    }
   ],
   "source": [
    "from psage.lseries.eulerprod import LSeriesHeckeCharacter\n",
    "E2 = EllipticCurve(F, [1, a + 1, a, a, 0])\n",
    "E2\n",
    "for chi in get_chis(F, 3, 1000, 0, CC, [2,5]):\n",
    "\n",
    "    Lchi = LSeriesHeckeCharacter(chi)\n",
    "    print chi.conductor()\n",
    "    print Lchi.conductor().factor()\n",
    "    print Lchi.check_functional_equation(1.2)\n",
    "    print algdep(Lchi._epsilon,12)"
   ]
  },
  {
   "cell_type": "code",
   "execution_count": 58,
   "metadata": {},
   "outputs": [
    {
     "data": {
      "text/plain": [
       "-771147"
      ]
     },
     "execution_count": 58,
     "metadata": {},
     "output_type": "execute_result"
    }
   ],
   "source": [
    "F.disc()\n",
    "t = polygen(QQ)\n",
    "K = NumberField(13*t^6 - t^3 + 13,'b')\n",
    "K.disc()"
   ]
  },
  {
   "cell_type": "code",
   "execution_count": 8,
   "metadata": {},
   "outputs": [
    {
     "name": "stdout",
     "output_type": "stream",
     "text": [
      "Hecke character of modulus Fractional ideal (7) and order 3\n",
      "49\n",
      "solve\n",
      "245\n",
      "(0.500000000000000 + 0.866025403784438*I)*T + 1.00000000000000\n",
      "(0.500000000000000 - 0.866025403784439*I)*T + 1.00000000000000\n",
      "(0.500000000000000 - 0.866025403784439*I)*T + 1.00000000000000\n",
      "1\n",
      "(-0.499999999999999 + 0.866025403784439*I)*T^2 + (1.00000000000000 + 1.73205080756888*I)*T + 1.00000000000000\n",
      "[Fractional ideal (-3*a + 2), Fractional ideal (-3*a + 1)]\n",
      "[Fractional ideal (-3*a + 2), Fractional ideal (-3*a + 1)]\n",
      "[(1, 1), (-0.000000000000000, 0), (-0.000000000000000, 0), (-0.500000000000000 - 0.866025403784438*I, -0.50000000000000000000000000000 + 0.86602540378443864676372317075*I), (-0.500000000000000 + 0.866025403784439*I, -0.50000000000000000000000000000 - 0.86602540378443864676372317075*I), (0.000000000000000, 0), (0, 0), (-0.000000000000000, 0), (-0.500000000000000 + 0.866025403784439*I, -0.50000000000000000000000000000 - 0.86602540378443864676372317075*I), (0.000000000000000, 0.000000000000000), (-1.00000000000000 - 1.73205080756888*I, -1.0000000000000000000000000000 + 1.7320508075688772935274463415*I), (0.000000000000000, -0.000000000000000), (0, 0), (0.000000000000000, 0), (0.000000000000000, 0.000000000000000), (-0.499999999999999 + 0.866025403784439*I, -0.50000000000000000000000000000 - 0.86602540378443864676372317075*I), (0, 0), (0.000000000000000, 0.000000000000000), (-1.00000000000000 + 1.73205080756888*I, -1.0000000000000000000000000000 - 1.7320508075688772935274463415*I), (1.00000000000000 - 6.10622663543836e-16*I, 1.0000000000000000000000000000 + 2.8383816571423654068892065499e-30*I)]\n"
     ]
    }
   ],
   "source": [
    "chi = get_chis(F, 3, 100, 0, CC, [2,5])[0]\n",
    "print chi\n",
    "Lchi = LSeriesHeckeCharacter(chi)\n",
    "print chi.conductor()\n",
    "print Lchi.epsilon()\n",
    "print Lchi.conductor()\n",
    "print Lchi.local_factor(2)\n",
    "print Lchi.local_factor(3)\n",
    "print Lchi.local_factor(5)\n",
    "print Lchi.local_factor(7)\n",
    "print Lchi.local_factor(11)\n",
    "print Lchi._primes_above(11)\n",
    "print Lchi._base_field.primes_above(11)\n",
    "i = I\n",
    "print zip(Lchi.anlist(20)[1:],[ 1, 0, 0, -0.500000000000000000000000000001 +\n",
    "0.866025403784438646763723170752*i, -0.499999999999999999999999999998 -\n",
    "0.866025403784438646763723170754*i, 0, 0, 0, -0.499999999999999999999999999998 -\n",
    "0.866025403784438646763723170754*i, 0.000000000000000000000000000000,\n",
    "-1.00000000000000000000000000000 + 1.73205080756887729352744634150*i,\n",
    "-0.000000000000000000000000000000, 0, 0, 0.000000000000000000000000000000,\n",
    "-0.499999999999999999999999999998 - 0.866025403784438646763723170754*i, 0,\n",
    "0.000000000000000000000000000000, -0.999999999999999999999999999997 -\n",
    "1.73205080756887729352744634151*i, 1.00000000000000000000000000000 +\n",
    "2.83838165714236540688920654993E-30*i ])"
   ]
  },
  {
   "cell_type": "code",
   "execution_count": 6,
   "metadata": {},
   "outputs": [
    {
     "data": {
      "text/plain": [
       "(-0.500000000000000 - 0.866025403784438*I)*T^2 + (1.00000000000000 - 1.73205080756888*I)*T + 1.00000000000000"
      ]
     },
     "execution_count": 6,
     "metadata": {},
     "output_type": "execute_result"
    }
   ],
   "source": [
    "prod(1 - Lchi._chi(p)*Lchi._T for p in Lchi._primes_above(F.ideal(11)))\n",
    "Lchi._local_factor(F.ideal(11),53)"
   ]
  },
  {
   "cell_type": "code",
   "execution_count": 34,
   "metadata": {},
   "outputs": [
    {
     "ename": "NotImplementedError",
     "evalue": "must be implemented in the derived class",
     "output_type": "error",
     "traceback": [
      "\u001b[1;31m---------------------------------------------------------------------------\u001b[0m",
      "\u001b[1;31mNotImplementedError\u001b[0m                       Traceback (most recent call last)",
      "\u001b[1;32m<ipython-input-34-60c03c642097>\u001b[0m in \u001b[0;36m<module>\u001b[1;34m()\u001b[0m\n\u001b[0;32m      9\u001b[0m                           is_selfdual = chi.order() <= Integer(2))\n\u001b[0;32m     10\u001b[0m \u001b[0mchi\u001b[0m\u001b[1;33m.\u001b[0m\u001b[0morder\u001b[0m\u001b[1;33m(\u001b[0m\u001b[1;33m)\u001b[0m\u001b[1;33m\u001b[0m\u001b[0m\n\u001b[1;32m---> 11\u001b[1;33m \u001b[0mLs\u001b[0m\u001b[1;33m.\u001b[0m\u001b[0mcheck_functional_equation\u001b[0m\u001b[1;33m(\u001b[0m\u001b[0mRealNumber\u001b[0m\u001b[1;33m(\u001b[0m\u001b[1;34m'1.2'\u001b[0m\u001b[1;33m)\u001b[0m\u001b[1;33m)\u001b[0m\u001b[1;33m\u001b[0m\u001b[0m\n\u001b[0m",
      "\u001b[1;32m/Users/alex/psage/psage/lseries/eulerprod.py\u001b[0m in \u001b[0;36mcheck_functional_equation\u001b[1;34m(self, T, prec)\u001b[0m\n\u001b[0;32m   1508\u001b[0m \u001b[1;33m\u001b[0m\u001b[0m\n\u001b[0;32m   1509\u001b[0m     \u001b[1;32mdef\u001b[0m \u001b[0mcheck_functional_equation\u001b[0m\u001b[1;33m(\u001b[0m\u001b[0mself\u001b[0m\u001b[1;33m,\u001b[0m \u001b[0mT\u001b[0m\u001b[1;33m,\u001b[0m \u001b[0mprec\u001b[0m\u001b[1;33m=\u001b[0m\u001b[1;36m53\u001b[0m\u001b[1;33m)\u001b[0m\u001b[1;33m:\u001b[0m\u001b[1;33m\u001b[0m\u001b[0m\n\u001b[1;32m-> 1510\u001b[1;33m         \u001b[1;32mreturn\u001b[0m \u001b[0mself\u001b[0m\u001b[1;33m.\u001b[0m\u001b[0m_function\u001b[0m\u001b[1;33m(\u001b[0m\u001b[0mprec\u001b[0m\u001b[1;33m=\u001b[0m\u001b[0mprec\u001b[0m\u001b[1;33m,\u001b[0m\u001b[0mT\u001b[0m\u001b[1;33m=\u001b[0m\u001b[0mT\u001b[0m\u001b[1;33m)\u001b[0m\u001b[1;33m.\u001b[0m\u001b[0mcheck_functional_equation\u001b[0m\u001b[1;33m(\u001b[0m\u001b[0mT\u001b[0m\u001b[1;33m)\u001b[0m\u001b[1;33m\u001b[0m\u001b[0m\n\u001b[0m\u001b[0;32m   1511\u001b[0m \u001b[1;33m\u001b[0m\u001b[0m\n\u001b[0;32m   1512\u001b[0m \u001b[1;32mclass\u001b[0m \u001b[0mLSeriesProductEvaluator\u001b[0m\u001b[1;33m(\u001b[0m\u001b[0mobject\u001b[0m\u001b[1;33m)\u001b[0m\u001b[1;33m:\u001b[0m\u001b[1;33m\u001b[0m\u001b[0m\n",
      "\u001b[1;32m/Users/alex/sage/local/lib/python2.7/site-packages/sage/misc/cachefunc.pyx\u001b[0m in \u001b[0;36msage.misc.cachefunc.CachedMethodCaller.__call__ (build/cythonized/sage/misc/cachefunc.c:10787)\u001b[1;34m()\u001b[0m\n\u001b[0;32m   2012\u001b[0m                 \u001b[1;32mreturn\u001b[0m \u001b[0mcache\u001b[0m\u001b[1;33m[\u001b[0m\u001b[0mk\u001b[0m\u001b[1;33m]\u001b[0m\u001b[1;33m\u001b[0m\u001b[0m\n\u001b[0;32m   2013\u001b[0m         \u001b[1;32mexcept\u001b[0m \u001b[0mKeyError\u001b[0m\u001b[1;33m:\u001b[0m\u001b[1;33m\u001b[0m\u001b[0m\n\u001b[1;32m-> 2014\u001b[1;33m             \u001b[0mw\u001b[0m \u001b[1;33m=\u001b[0m \u001b[0mself\u001b[0m\u001b[1;33m.\u001b[0m\u001b[0m_instance_call\u001b[0m\u001b[1;33m(\u001b[0m\u001b[1;33m*\u001b[0m\u001b[0margs\u001b[0m\u001b[1;33m,\u001b[0m \u001b[1;33m**\u001b[0m\u001b[0mkwds\u001b[0m\u001b[1;33m)\u001b[0m\u001b[1;33m\u001b[0m\u001b[0m\n\u001b[0m\u001b[0;32m   2015\u001b[0m             \u001b[0mcache\u001b[0m\u001b[1;33m[\u001b[0m\u001b[0mk\u001b[0m\u001b[1;33m]\u001b[0m \u001b[1;33m=\u001b[0m \u001b[0mw\u001b[0m\u001b[1;33m\u001b[0m\u001b[0m\n\u001b[0;32m   2016\u001b[0m             \u001b[1;32mreturn\u001b[0m \u001b[0mw\u001b[0m\u001b[1;33m\u001b[0m\u001b[0m\n",
      "\u001b[1;32m/Users/alex/sage/local/lib/python2.7/site-packages/sage/misc/cachefunc.pyx\u001b[0m in \u001b[0;36msage.misc.cachefunc.CachedMethodCaller._instance_call (build/cythonized/sage/misc/cachefunc.c:10243)\u001b[1;34m()\u001b[0m\n\u001b[0;32m   1888\u001b[0m             \u001b[0mTrue\u001b[0m\u001b[1;33m\u001b[0m\u001b[0m\n\u001b[0;32m   1889\u001b[0m         \"\"\"\n\u001b[1;32m-> 1890\u001b[1;33m         \u001b[1;32mreturn\u001b[0m \u001b[0mself\u001b[0m\u001b[1;33m.\u001b[0m\u001b[0mf\u001b[0m\u001b[1;33m(\u001b[0m\u001b[0mself\u001b[0m\u001b[1;33m.\u001b[0m\u001b[0m_instance\u001b[0m\u001b[1;33m,\u001b[0m \u001b[1;33m*\u001b[0m\u001b[0margs\u001b[0m\u001b[1;33m,\u001b[0m \u001b[1;33m**\u001b[0m\u001b[0mkwds\u001b[0m\u001b[1;33m)\u001b[0m\u001b[1;33m\u001b[0m\u001b[0m\n\u001b[0m\u001b[0;32m   1891\u001b[0m \u001b[1;33m\u001b[0m\u001b[0m\n\u001b[0;32m   1892\u001b[0m     \u001b[0mcdef\u001b[0m \u001b[0mfix_args_kwds\u001b[0m\u001b[1;33m(\u001b[0m\u001b[0mself\u001b[0m\u001b[1;33m,\u001b[0m \u001b[0mtuple\u001b[0m \u001b[0margs\u001b[0m\u001b[1;33m,\u001b[0m \u001b[0mdict\u001b[0m \u001b[0mkwds\u001b[0m\u001b[1;33m)\u001b[0m\u001b[1;33m:\u001b[0m\u001b[1;33m\u001b[0m\u001b[0m\n",
      "\u001b[1;32m/Users/alex/psage/psage/lseries/eulerprod.py\u001b[0m in \u001b[0;36m_function\u001b[1;34m(self, prec, T)\u001b[0m\n\u001b[0;32m   1407\u001b[0m         \"\"\"\n\u001b[0;32m   1408\u001b[0m         \u001b[0meps\u001b[0m \u001b[1;33m=\u001b[0m \u001b[0mself\u001b[0m\u001b[1;33m.\u001b[0m\u001b[0mepsilon\u001b[0m\u001b[1;33m(\u001b[0m\u001b[0mprec\u001b[0m\u001b[1;33m)\u001b[0m\u001b[1;33m\u001b[0m\u001b[0m\n\u001b[1;32m-> 1409\u001b[1;33m         \u001b[1;32mreturn\u001b[0m \u001b[0mself\u001b[0m\u001b[1;33m.\u001b[0m\u001b[0m_dokchitser\u001b[0m\u001b[1;33m(\u001b[0m\u001b[0mprec\u001b[0m\u001b[1;33m,\u001b[0m \u001b[0meps\u001b[0m\u001b[1;33m,\u001b[0m \u001b[0mT\u001b[0m\u001b[1;33m=\u001b[0m\u001b[0mT\u001b[0m\u001b[1;33m)\u001b[0m\u001b[1;33m\u001b[0m\u001b[0m\n\u001b[0m\u001b[0;32m   1410\u001b[0m \u001b[1;33m\u001b[0m\u001b[0m\n\u001b[0;32m   1411\u001b[0m     \u001b[1;32mdef\u001b[0m \u001b[0m_dokchitser_unitialized\u001b[0m\u001b[1;33m(\u001b[0m\u001b[0mself\u001b[0m\u001b[1;33m,\u001b[0m \u001b[0mprec\u001b[0m\u001b[1;33m,\u001b[0m \u001b[0mepsilon\u001b[0m\u001b[1;33m)\u001b[0m\u001b[1;33m:\u001b[0m\u001b[1;33m\u001b[0m\u001b[0m\n",
      "\u001b[1;32m/Users/alex/psage/psage/lseries/eulerprod.py\u001b[0m in \u001b[0;36m_dokchitser\u001b[1;34m(self, prec, epsilon, T)\u001b[0m\n\u001b[0;32m   1454\u001b[0m \u001b[1;33m\u001b[0m\u001b[0m\n\u001b[0;32m   1455\u001b[0m         \u001b[1;31m# Compute the Dirichlet series coefficients\u001b[0m\u001b[1;33m\u001b[0m\u001b[1;33m\u001b[0m\u001b[0m\n\u001b[1;32m-> 1456\u001b[1;33m         \u001b[0mX\u001b[0m \u001b[1;33m=\u001b[0m \u001b[0mself\u001b[0m\u001b[1;33m.\u001b[0m\u001b[0manlist\u001b[0m\u001b[1;33m(\u001b[0m\u001b[0mn\u001b[0m\u001b[1;33m,\u001b[0m \u001b[0mprec\u001b[0m\u001b[1;33m)\u001b[0m\u001b[1;33m\u001b[0m\u001b[0m\n\u001b[0m\u001b[0;32m   1457\u001b[0m         \u001b[1;32mif\u001b[0m \u001b[0misinstance\u001b[0m\u001b[1;33m(\u001b[0m\u001b[0mX\u001b[0m\u001b[1;33m,\u001b[0m \u001b[0mtypes\u001b[0m\u001b[1;33m.\u001b[0m\u001b[0mGeneratorType\u001b[0m\u001b[1;33m)\u001b[0m\u001b[1;33m:\u001b[0m\u001b[1;33m\u001b[0m\u001b[0m\n\u001b[0;32m   1458\u001b[0m             \u001b[1;31m# Several possible coefficients -- we try them until finding on that works.\u001b[0m\u001b[1;33m\u001b[0m\u001b[1;33m\u001b[0m\u001b[0m\n",
      "\u001b[1;32m/Users/alex/psage/psage/lseries/eulerprod.py\u001b[0m in \u001b[0;36manlist\u001b[1;34m(self, bound, prec)\u001b[0m\n\u001b[0;32m   1180\u001b[0m             \u001b[1;32mfor\u001b[0m \u001b[0mP\u001b[0m \u001b[1;32min\u001b[0m \u001b[0mself\u001b[0m\u001b[1;33m.\u001b[0m\u001b[0m_primes_above\u001b[0m\u001b[1;33m(\u001b[0m\u001b[0mp\u001b[0m\u001b[1;33m)\u001b[0m\u001b[1;33m:\u001b[0m\u001b[1;33m\u001b[0m\u001b[0m\n\u001b[0;32m   1181\u001b[0m                 \u001b[1;32mif\u001b[0m \u001b[0mnorm\u001b[0m\u001b[1;33m(\u001b[0m\u001b[0mP\u001b[0m\u001b[1;33m)\u001b[0m \u001b[1;33m<=\u001b[0m \u001b[0mbound\u001b[0m\u001b[1;33m:\u001b[0m\u001b[1;33m\u001b[0m\u001b[0m\n\u001b[1;32m-> 1182\u001b[1;33m                     \u001b[0mF\u001b[0m \u001b[1;33m=\u001b[0m \u001b[0mself\u001b[0m\u001b[1;33m.\u001b[0m\u001b[0m_local_factor\u001b[0m\u001b[1;33m(\u001b[0m\u001b[0mP\u001b[0m\u001b[1;33m,\u001b[0m \u001b[0mprec\u001b[0m\u001b[1;33m)\u001b[0m\u001b[1;33m\u001b[0m\u001b[0m\n\u001b[0m\u001b[0;32m   1183\u001b[0m                     \u001b[1;32mif\u001b[0m \u001b[0misinstance\u001b[0m\u001b[1;33m(\u001b[0m\u001b[0mF\u001b[0m\u001b[1;33m,\u001b[0m \u001b[0mlist\u001b[0m\u001b[1;33m)\u001b[0m\u001b[1;33m:\u001b[0m\u001b[1;33m\u001b[0m\u001b[0m\n\u001b[0;32m   1184\u001b[0m                         \u001b[0mcompute_anlist_multiple\u001b[0m \u001b[1;33m=\u001b[0m \u001b[0mTrue\u001b[0m\u001b[1;33m\u001b[0m\u001b[0m\n",
      "\u001b[1;32m/Users/alex/psage/psage/lseries/eulerprod.py\u001b[0m in \u001b[0;36m_local_factor\u001b[1;34m(self, P, prec)\u001b[0m\n\u001b[0;32m   1046\u001b[0m             \u001b[0mNotImplementedError\u001b[0m\u001b[1;33m:\u001b[0m \u001b[0mmust\u001b[0m \u001b[0mbe\u001b[0m \u001b[0mimplemented\u001b[0m \u001b[1;32min\u001b[0m \u001b[0mthe\u001b[0m \u001b[0mderived\u001b[0m \u001b[1;32mclass\u001b[0m\u001b[1;33m\u001b[0m\u001b[0m\n\u001b[0;32m   1047\u001b[0m         \"\"\"\n\u001b[1;32m-> 1048\u001b[1;33m         \u001b[1;32mraise\u001b[0m \u001b[0mNotImplementedError\u001b[0m\u001b[1;33m,\u001b[0m \u001b[1;34m\"must be implemented in the derived class\"\u001b[0m\u001b[1;33m\u001b[0m\u001b[0m\n\u001b[0m\u001b[0;32m   1049\u001b[0m \u001b[1;33m\u001b[0m\u001b[0m\n\u001b[0;32m   1050\u001b[0m     \u001b[1;32mdef\u001b[0m \u001b[0m__repr__\u001b[0m\u001b[1;33m(\u001b[0m\u001b[0mself\u001b[0m\u001b[1;33m)\u001b[0m\u001b[1;33m:\u001b[0m\u001b[1;33m\u001b[0m\u001b[0m\n",
      "\u001b[1;31mNotImplementedError\u001b[0m: must be implemented in the derived class"
     ]
    }
   ],
   "source": [
    "from psage.lseries.eulerprod import LSeriesAbstract\n",
    "Ls  =LSeriesAbstract(conductor = chi.conductor()*chi.field().conductor(),\n",
    "                          hodge_numbers = [0,0],\n",
    "                          weight = 1,\n",
    "                          epsilon = None,\n",
    "                          poles = [],  # since primitive\n",
    "                          residues = [],  # since primitive\n",
    "                          base_field = chi.field(),\n",
    "                          is_selfdual = chi.order() <= 2)\n",
    "chi.order()\n",
    "Ls.check_functional_equation(1.2)"
   ]
  },
  {
   "cell_type": "code",
   "execution_count": 74,
   "metadata": {},
   "outputs": [
    {
     "name": "stdout",
     "output_type": "stream",
     "text": [
      "invalid L-series parameters: functional equation not satisfied\n"
     ]
    },
    {
     "data": {
      "text/plain": [
       "0.541364347067403"
      ]
     },
     "execution_count": 74,
     "metadata": {},
     "output_type": "execute_result"
    }
   ],
   "source": [
    "from psage.lseries.eulerprod import LSeriesEllipticCurveQQ\n",
    "EQ = EllipticCurve([1, 1, 1, 1, 0])\n",
    "EQ\n",
    "L2 = LSeriesEllipticCurve(EQ)\n",
    "L2(2)"
   ]
  },
  {
   "cell_type": "code",
   "execution_count": 54,
   "metadata": {},
   "outputs": [
    {
     "data": {
      "text/plain": [
       "0.360092863578881"
      ]
     },
     "execution_count": 54,
     "metadata": {},
     "output_type": "execute_result"
    }
   ],
   "source": [
    "L3 = LSeriesEllipticCurve(EllipticCurve('389a'))\n",
    "L3(2)"
   ]
  },
  {
   "cell_type": "code",
   "execution_count": 55,
   "metadata": {},
   "outputs": [
    {
     "ename": "AttributeError",
     "evalue": "'RationalField_with_category' object has no attribute 'ideals_of_bdd_norm'",
     "output_type": "error",
     "traceback": [
      "\u001b[0;31m---------------------------------------------------------------------------\u001b[0m",
      "\u001b[0;31mAttributeError\u001b[0m                            Traceback (most recent call last)",
      "\u001b[0;32m<ipython-input-55-1a2f36ac44eb>\u001b[0m in \u001b[0;36m<module>\u001b[0;34m()\u001b[0m\n\u001b[0;32m----> 1\u001b[0;31m \u001b[0mvalue_search\u001b[0m\u001b[0;34m(\u001b[0m\u001b[0mEQ\u001b[0m\u001b[0;34m,\u001b[0m \u001b[0mInteger\u001b[0m\u001b[0;34m(\u001b[0m\u001b[0;36m5\u001b[0m\u001b[0;34m)\u001b[0m\u001b[0;34m,\u001b[0m \u001b[0mInteger\u001b[0m\u001b[0;34m(\u001b[0m\u001b[0;36m100\u001b[0m\u001b[0;34m)\u001b[0m\u001b[0;34m)\u001b[0m\u001b[0;34m\u001b[0m\u001b[0m\n\u001b[0m",
      "\u001b[0;32m<string>\u001b[0m in \u001b[0;36mvalue_search\u001b[0;34m(E, D, bound, checkfe, lower, prec)\u001b[0m\n",
      "\u001b[0;32m<string>\u001b[0m in \u001b[0;36mget_chis\u001b[0;34m(F, D, bound, lower, value_field, badprimes)\u001b[0m\n",
      "\u001b[0;32m/Users/alex/sage/local/lib/python2.7/site-packages/sage/structure/category_object.pyx\u001b[0m in \u001b[0;36msage.structure.category_object.CategoryObject.__getattr__ (build/cythonized/sage/structure/category_object.c:7996)\u001b[0;34m()\u001b[0m\n\u001b[1;32m    853\u001b[0m             \u001b[0mAttributeError\u001b[0m\u001b[0;34m:\u001b[0m \u001b[0;34m'PrimeNumbers_with_category'\u001b[0m \u001b[0mobject\u001b[0m \u001b[0mhas\u001b[0m \u001b[0mno\u001b[0m \u001b[0mattribute\u001b[0m \u001b[0;34m'sadfasdf'\u001b[0m\u001b[0;34m\u001b[0m\u001b[0m\n\u001b[1;32m    854\u001b[0m         \"\"\"\n\u001b[0;32m--> 855\u001b[0;31m         \u001b[0;32mreturn\u001b[0m \u001b[0mself\u001b[0m\u001b[0;34m.\u001b[0m\u001b[0mgetattr_from_category\u001b[0m\u001b[0;34m(\u001b[0m\u001b[0mname\u001b[0m\u001b[0;34m)\u001b[0m\u001b[0;34m\u001b[0m\u001b[0m\n\u001b[0m\u001b[1;32m    856\u001b[0m \u001b[0;34m\u001b[0m\u001b[0m\n\u001b[1;32m    857\u001b[0m     \u001b[0mcdef\u001b[0m \u001b[0mgetattr_from_category\u001b[0m\u001b[0;34m(\u001b[0m\u001b[0mself\u001b[0m\u001b[0;34m,\u001b[0m \u001b[0mname\u001b[0m\u001b[0;34m)\u001b[0m\u001b[0;34m:\u001b[0m\u001b[0;34m\u001b[0m\u001b[0m\n",
      "\u001b[0;32m/Users/alex/sage/local/lib/python2.7/site-packages/sage/structure/category_object.pyx\u001b[0m in \u001b[0;36msage.structure.category_object.CategoryObject.getattr_from_category (build/cythonized/sage/structure/category_object.c:8159)\u001b[0;34m()\u001b[0m\n\u001b[1;32m    868\u001b[0m                 \u001b[0mcls\u001b[0m \u001b[0;34m=\u001b[0m \u001b[0mself\u001b[0m\u001b[0;34m.\u001b[0m\u001b[0m_category\u001b[0m\u001b[0;34m.\u001b[0m\u001b[0mparent_class\u001b[0m\u001b[0;34m\u001b[0m\u001b[0m\n\u001b[1;32m    869\u001b[0m \u001b[0;34m\u001b[0m\u001b[0m\n\u001b[0;32m--> 870\u001b[0;31m             \u001b[0mattr\u001b[0m \u001b[0;34m=\u001b[0m \u001b[0mgetattr_from_other_class\u001b[0m\u001b[0;34m(\u001b[0m\u001b[0mself\u001b[0m\u001b[0;34m,\u001b[0m \u001b[0mcls\u001b[0m\u001b[0;34m,\u001b[0m \u001b[0mname\u001b[0m\u001b[0;34m)\u001b[0m\u001b[0;34m\u001b[0m\u001b[0m\n\u001b[0m\u001b[1;32m    871\u001b[0m             \u001b[0mself\u001b[0m\u001b[0;34m.\u001b[0m\u001b[0m__cached_methods\u001b[0m\u001b[0;34m[\u001b[0m\u001b[0mname\u001b[0m\u001b[0;34m]\u001b[0m \u001b[0;34m=\u001b[0m \u001b[0mattr\u001b[0m\u001b[0;34m\u001b[0m\u001b[0m\n\u001b[1;32m    872\u001b[0m             \u001b[0;32mreturn\u001b[0m \u001b[0mattr\u001b[0m\u001b[0;34m\u001b[0m\u001b[0m\n",
      "\u001b[0;32m/Users/alex/sage/local/lib/python2.7/site-packages/sage/cpython/getattr.pyx\u001b[0m in \u001b[0;36msage.cpython.getattr.getattr_from_other_class (build/cythonized/sage/cpython/getattr.c:2469)\u001b[0;34m()\u001b[0m\n\u001b[1;32m    387\u001b[0m         \u001b[0mdummy_error_message\u001b[0m\u001b[0;34m.\u001b[0m\u001b[0mcls\u001b[0m \u001b[0;34m=\u001b[0m \u001b[0mtype\u001b[0m\u001b[0;34m(\u001b[0m\u001b[0mself\u001b[0m\u001b[0;34m)\u001b[0m\u001b[0;34m\u001b[0m\u001b[0m\n\u001b[1;32m    388\u001b[0m         \u001b[0mdummy_error_message\u001b[0m\u001b[0;34m.\u001b[0m\u001b[0mname\u001b[0m \u001b[0;34m=\u001b[0m \u001b[0mname\u001b[0m\u001b[0;34m\u001b[0m\u001b[0m\n\u001b[0;32m--> 389\u001b[0;31m         \u001b[0;32mraise\u001b[0m \u001b[0mAttributeError\u001b[0m\u001b[0;34m(\u001b[0m\u001b[0mdummy_error_message\u001b[0m\u001b[0;34m)\u001b[0m\u001b[0;34m\u001b[0m\u001b[0m\n\u001b[0m\u001b[1;32m    390\u001b[0m     \u001b[0mcdef\u001b[0m \u001b[0mPyObject\u001b[0m\u001b[0;34m*\u001b[0m \u001b[0mattr\u001b[0m \u001b[0;34m=\u001b[0m \u001b[0minstance_getattr\u001b[0m\u001b[0;34m(\u001b[0m\u001b[0mcls\u001b[0m\u001b[0;34m,\u001b[0m \u001b[0mname\u001b[0m\u001b[0;34m)\u001b[0m\u001b[0;34m\u001b[0m\u001b[0m\n\u001b[1;32m    391\u001b[0m     \u001b[0;32mif\u001b[0m \u001b[0mattr\u001b[0m \u001b[0;32mis\u001b[0m \u001b[0mNULL\u001b[0m\u001b[0;34m:\u001b[0m\u001b[0;34m\u001b[0m\u001b[0m\n",
      "\u001b[0;31mAttributeError\u001b[0m: 'RationalField_with_category' object has no attribute 'ideals_of_bdd_norm'"
     ]
    }
   ],
   "source": [
    "value_search(EQ, 5, 100)"
   ]
  },
  {
   "cell_type": "code",
   "execution_count": 61,
   "metadata": {},
   "outputs": [],
   "source": [
    "t=QQ.number_field()"
   ]
  },
  {
   "cell_type": "code",
   "execution_count": 62,
   "metadata": {},
   "outputs": [],
   "source": [
    "QQ.number_field??"
   ]
  },
  {
   "cell_type": "code",
   "execution_count": 65,
   "metadata": {},
   "outputs": [
    {
     "data": {
      "text/plain": [
       "False"
      ]
     },
     "execution_count": 65,
     "metadata": {},
     "output_type": "execute_result"
    }
   ],
   "source": [
    "NumberField(x,'a') is QQ"
   ]
  },
  {
   "cell_type": "code",
   "execution_count": 67,
   "metadata": {},
   "outputs": [
    {
     "name": "stdout",
     "output_type": "stream",
     "text": [
      "[]\n"
     ]
    }
   ],
   "source": [
    "S =[1,2]\n",
    "print [b for b in S if b**Integer(2) == Integer(0)]"
   ]
  },
  {
   "cell_type": "code",
   "execution_count": 90,
   "metadata": {},
   "outputs": [
    {
     "ename": "SyntaxError",
     "evalue": "magma command required",
     "output_type": "error",
     "traceback": [
      "\u001b[1;36m  File \u001b[1;32m\"<string>\"\u001b[1;36m, line \u001b[1;32munknown\u001b[0m\n\u001b[1;31mSyntaxError\u001b[0m\u001b[1;31m:\u001b[0m magma command required\n"
     ]
    }
   ],
   "source": []
  },
  {
   "cell_type": "code",
   "execution_count": null,
   "metadata": {},
   "outputs": [],
   "source": []
  }
 ],
 "metadata": {
  "kernelspec": {
   "display_name": "SageMath 9.1.beta4",
   "language": "sage",
   "name": "sagemath"
  },
  "language_info": {
   "codemirror_mode": {
    "name": "ipython",
    "version": 3
   },
   "file_extension": ".py",
   "mimetype": "text/x-python",
   "name": "python",
   "nbconvert_exporter": "python",
   "pygments_lexer": "ipython3",
   "version": "3.7.3"
  },
  "varInspector": {
   "cols": {
    "lenName": 16,
    "lenType": 16,
    "lenVar": 40
   },
   "kernels_config": {
    "python": {
     "delete_cmd_postfix": "",
     "delete_cmd_prefix": "del ",
     "library": "var_list.py",
     "varRefreshCmd": "print(var_dic_list())"
    },
    "r": {
     "delete_cmd_postfix": ") ",
     "delete_cmd_prefix": "rm(",
     "library": "var_list.r",
     "varRefreshCmd": "cat(var_dic_list()) "
    }
   },
   "types_to_exclude": [
    "module",
    "function",
    "builtin_function_or_method",
    "instance",
    "_Feature"
   ],
   "window_display": false
  }
 },
 "nbformat": 4,
 "nbformat_minor": 2
}
